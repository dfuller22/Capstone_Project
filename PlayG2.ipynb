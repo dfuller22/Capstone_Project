{
 "cells": [
  {
   "cell_type": "markdown",
   "metadata": {},
   "source": [
    "# Capstone"
   ]
  },
  {
   "cell_type": "markdown",
   "metadata": {},
   "source": [
    "## Imports & links"
   ]
  },
  {
   "cell_type": "code",
   "execution_count": 1,
   "metadata": {
    "ExecuteTime": {
     "end_time": "2020-08-04T20:34:18.241721Z",
     "start_time": "2020-08-04T20:34:16.285731Z"
    }
   },
   "outputs": [],
   "source": [
    "import functions as dlf\n",
    "import pandas as pd\n",
    "import numpy as np\n",
    "import requests\n",
    "import re\n",
    "import pickle\n",
    "from importlib import reload\n",
    "from bs4 import BeautifulSoup"
   ]
  },
  {
   "cell_type": "markdown",
   "metadata": {},
   "source": [
    "> [Link to Brookings](https://www.brookings.edu/multi-chapter-report/vital-statistics-on-congress/)\n",
    "\n",
    "> [Link to BallotPedia](https://ballotpedia.org/Legislative_Branch)\n",
    "\n",
    "> [Link to WikiPedia](https://en.wikipedia.org/wiki/List_of_United_States_Senate_elections)\n",
    "\n",
    "> [Link to Wiki-Category (U.S. Senator)](https://commons.wikimedia.org/wiki/Category:Senators_of_the_United_States)"
   ]
  },
  {
   "cell_type": "markdown",
   "metadata": {},
   "source": [
    "Why after the 17th amendment?? [Link](https://en.wikipedia.org/wiki/Seventeenth_Amendment_to_the_United_States_Constitution)\n",
    "\n",
    "For 1920 forward, proceed like 1976. Prior to this, will need to use first table with general info.\n",
    "\n",
    "* **Clean up NaN value table from top of pages** -- Use index 2 to grab  nested table from `'infobox vevent'`.\n",
    "* **Take list of states of top tables** and map to dfs\n",
    "* Get demographic info wikidata\n",
    "* eda time series of state party (heatmap)\n",
    "* NLP on names, etc.\n",
    "* [link for slider viz](https://medium.com/@sjacks/the-journey-to-an-attractive-visualization-bac019506a49)"
   ]
  },
  {
   "cell_type": "markdown",
   "metadata": {
    "heading_collapsed": true
   },
   "source": [
    "## Building code"
   ]
  },
  {
   "cell_type": "code",
   "execution_count": 2,
   "metadata": {
    "ExecuteTime": {
     "end_time": "2020-08-04T20:34:18.256651Z",
     "start_time": "2020-08-04T20:34:18.248549Z"
    },
    "hidden": true
   },
   "outputs": [],
   "source": [
    "# elect_yr_tables, elect_yr_tocs = wiki_senate_scraper()\n",
    "\n",
    "# election_collection_raw = election_collector(elect_yr_tables, elect_yr_tocs)"
   ]
  },
  {
   "cell_type": "code",
   "execution_count": 3,
   "metadata": {
    "ExecuteTime": {
     "end_time": "2020-08-04T20:34:18.272276Z",
     "start_time": "2020-08-04T20:34:18.261732Z"
    },
    "hidden": true
   },
   "outputs": [],
   "source": [
    "## This works for all years up until 2018 (doesnt have these tables)\n",
    "\n",
    "# yr_sum_tables = dlf.yr_summary_collector(election_collection_raw)\n",
    "# yr_sum_dict = dlf.yr_sum_formatter(yr_sum_tables)\n",
    "# name_lookup_df = dlf.master_tabler(yr_sum_dict)"
   ]
  },
  {
   "cell_type": "code",
   "execution_count": 4,
   "metadata": {
    "ExecuteTime": {
     "end_time": "2020-08-04T20:34:18.287877Z",
     "start_time": "2020-08-04T20:34:18.279317Z"
    },
    "hidden": true,
    "scrolled": true
   },
   "outputs": [],
   "source": [
    "# yr_st_elects = dlf.st_election_collector(election_collection_raw)\n",
    "# print(('---'*10)+'Step 1 Complete!'+('---'*10))\n",
    "# print('yr_st_elects length:', len(yr_st_elects))\n",
    "\n",
    "# yr_st_dict = dlf.st_election_cleaner(yr_st_elects)\n",
    "# print(('---'*10)+'Step 2 Complete!'+('---'*10))\n",
    "\n",
    "# yr_st_dict_joined = dlf.st_election_aggregator(yr_st_dict)\n",
    "# print(('---'*10)+'Step 3 Complete!'+('---'*10))\n",
    "\n",
    "# yr_st_dict_mapped = dlf.st_election_state_mapper(yr_st_dict_joined, name_lookup_df)\n",
    "# print(('---'*10)+'Step 4 Complete!'+('---'*10))"
   ]
  },
  {
   "cell_type": "code",
   "execution_count": 5,
   "metadata": {
    "ExecuteTime": {
     "end_time": "2020-08-04T20:34:18.303933Z",
     "start_time": "2020-08-04T20:34:18.292477Z"
    },
    "hidden": true,
    "scrolled": true
   },
   "outputs": [],
   "source": [
    "# yr_st_dict_joined = dlf.st_election_aggregator(yr_st_dict)\n",
    "# print(('---'*10)+'Step 1 Complete!'+('---'*10))\n",
    "# yr_st_dict_mapped = dlf.st_election_state_mapper(yr_st_dict_joined, name_lookup_df)"
   ]
  },
  {
   "cell_type": "markdown",
   "metadata": {},
   "source": [
    "## Pickless...."
   ]
  },
  {
   "cell_type": "markdown",
   "metadata": {
    "heading_collapsed": true
   },
   "source": [
    "### Writing.."
   ]
  },
  {
   "cell_type": "code",
   "execution_count": 6,
   "metadata": {
    "ExecuteTime": {
     "end_time": "2020-08-04T20:34:18.327231Z",
     "start_time": "2020-08-04T20:34:18.310013Z"
    },
    "hidden": true
   },
   "outputs": [],
   "source": [
    "# with open('election_collection_raw.pickle', 'wb') as f:\n",
    "#     pickle.dump(election_collection_raw, f)\n",
    "#     f.close()"
   ]
  },
  {
   "cell_type": "code",
   "execution_count": 7,
   "metadata": {
    "ExecuteTime": {
     "end_time": "2020-08-04T20:34:18.342657Z",
     "start_time": "2020-08-04T20:34:18.332871Z"
    },
    "hidden": true
   },
   "outputs": [],
   "source": [
    "# with open('yr_sum_tables.pickle', 'wb') as f:\n",
    "#     pickle.dump(yr_sum_tables, f)\n",
    "#     f.close()"
   ]
  },
  {
   "cell_type": "code",
   "execution_count": 8,
   "metadata": {
    "ExecuteTime": {
     "end_time": "2020-08-04T20:34:18.358638Z",
     "start_time": "2020-08-04T20:34:18.351238Z"
    },
    "hidden": true
   },
   "outputs": [],
   "source": [
    "# with open('yr_sum_dict.pickle', 'wb') as f:\n",
    "#     pickle.dump(yr_sum_dict, f)\n",
    "#     f.close()"
   ]
  },
  {
   "cell_type": "code",
   "execution_count": 9,
   "metadata": {
    "ExecuteTime": {
     "end_time": "2020-08-04T20:34:18.374860Z",
     "start_time": "2020-08-04T20:34:18.363171Z"
    },
    "hidden": true
   },
   "outputs": [],
   "source": [
    "# with open('name_lookup_df.pickle', 'wb') as f:\n",
    "#     pickle.dump(name_lookup_df, f)\n",
    "#     f.close()"
   ]
  },
  {
   "cell_type": "code",
   "execution_count": 10,
   "metadata": {
    "ExecuteTime": {
     "end_time": "2020-08-04T20:34:18.390690Z",
     "start_time": "2020-08-04T20:34:18.378694Z"
    },
    "hidden": true
   },
   "outputs": [],
   "source": [
    "# with open('yr_st_elects.pickle', 'wb') as f:\n",
    "#     pickle.dump(yr_st_elects, f)\n",
    "#     f.close()"
   ]
  },
  {
   "cell_type": "code",
   "execution_count": 11,
   "metadata": {
    "ExecuteTime": {
     "end_time": "2020-08-04T20:34:18.422288Z",
     "start_time": "2020-08-04T20:34:18.395546Z"
    },
    "hidden": true
   },
   "outputs": [],
   "source": [
    "# with open('yr_st_dict.pickle', 'wb') as f:\n",
    "#     pickle.dump(yr_st_dict, f)\n",
    "#     f.close()"
   ]
  },
  {
   "cell_type": "code",
   "execution_count": 12,
   "metadata": {
    "ExecuteTime": {
     "end_time": "2020-08-04T20:34:18.438790Z",
     "start_time": "2020-08-04T20:34:18.426455Z"
    },
    "hidden": true
   },
   "outputs": [],
   "source": [
    "# with open('yr_st_dict_joined.pickle', 'wb') as f:\n",
    "#     pickle.dump(yr_st_dict_joined, f)\n",
    "#     f.close()"
   ]
  },
  {
   "cell_type": "code",
   "execution_count": 13,
   "metadata": {
    "ExecuteTime": {
     "end_time": "2020-08-04T20:34:18.454828Z",
     "start_time": "2020-08-04T20:34:18.443938Z"
    },
    "hidden": true
   },
   "outputs": [],
   "source": [
    "# with open('yr_st_dict_mapped.pickle', 'wb') as f:\n",
    "#     pickle.dump(yr_st_dict_mapped, f)\n",
    "#     f.close()"
   ]
  },
  {
   "cell_type": "markdown",
   "metadata": {},
   "source": [
    "### Reading.."
   ]
  },
  {
   "cell_type": "code",
   "execution_count": 14,
   "metadata": {
    "ExecuteTime": {
     "end_time": "2020-08-04T20:34:19.488561Z",
     "start_time": "2020-08-04T20:34:18.459193Z"
    }
   },
   "outputs": [],
   "source": [
    "with open('election_collection_raw.pickle', 'rb') as f:\n",
    "    election_collection_raw = pickle.load(f)\n",
    "    f.close()"
   ]
  },
  {
   "cell_type": "code",
   "execution_count": 15,
   "metadata": {
    "ExecuteTime": {
     "end_time": "2020-08-04T20:34:19.537085Z",
     "start_time": "2020-08-04T20:34:19.491716Z"
    }
   },
   "outputs": [],
   "source": [
    "with open('yr_sum_tables.pickle', 'rb') as f:\n",
    "    yr_sum_tables = pickle.load(f)\n",
    "    f.close()"
   ]
  },
  {
   "cell_type": "code",
   "execution_count": 16,
   "metadata": {
    "ExecuteTime": {
     "end_time": "2020-08-04T20:34:19.615514Z",
     "start_time": "2020-08-04T20:34:19.540900Z"
    }
   },
   "outputs": [],
   "source": [
    "with open('yr_sum_dict.pickle', 'rb') as f:\n",
    "    yr_sum_dict = pickle.load(f)\n",
    "    f.close()"
   ]
  },
  {
   "cell_type": "code",
   "execution_count": 17,
   "metadata": {
    "ExecuteTime": {
     "end_time": "2020-08-04T20:34:19.648850Z",
     "start_time": "2020-08-04T20:34:19.620319Z"
    }
   },
   "outputs": [],
   "source": [
    "with open('name_lookup_df.pickle', 'rb') as f:\n",
    "    name_lookup_df = pickle.load(f)\n",
    "    f.close()"
   ]
  },
  {
   "cell_type": "code",
   "execution_count": 18,
   "metadata": {
    "ExecuteTime": {
     "end_time": "2020-08-04T20:34:20.709495Z",
     "start_time": "2020-08-04T20:34:19.655162Z"
    }
   },
   "outputs": [],
   "source": [
    "with open('yr_st_elects.pickle', 'rb') as f:\n",
    "    yr_st_elects = pickle.load(f)\n",
    "    f.close()"
   ]
  },
  {
   "cell_type": "code",
   "execution_count": 19,
   "metadata": {
    "ExecuteTime": {
     "end_time": "2020-08-04T20:34:21.907620Z",
     "start_time": "2020-08-04T20:34:20.713192Z"
    }
   },
   "outputs": [],
   "source": [
    "with open('yr_st_dict.pickle', 'rb') as f:\n",
    "    yr_st_dict = pickle.load(f)\n",
    "    f.close()"
   ]
  },
  {
   "cell_type": "code",
   "execution_count": 20,
   "metadata": {
    "ExecuteTime": {
     "end_time": "2020-08-04T20:34:21.982308Z",
     "start_time": "2020-08-04T20:34:21.907620Z"
    }
   },
   "outputs": [],
   "source": [
    "with open('yr_st_dict_joined.pickle', 'rb') as f:\n",
    "    yr_st_dict_joined = pickle.load(f)\n",
    "    f.close()"
   ]
  },
  {
   "cell_type": "code",
   "execution_count": 21,
   "metadata": {
    "ExecuteTime": {
     "end_time": "2020-08-04T20:34:22.057801Z",
     "start_time": "2020-08-04T20:34:21.984340Z"
    }
   },
   "outputs": [],
   "source": [
    "with open('yr_st_dict_mapped.pickle', 'rb') as f:\n",
    "    yr_st_dict_mapped = pickle.load(f)\n",
    "    f.close()"
   ]
  },
  {
   "cell_type": "code",
   "execution_count": 22,
   "metadata": {
    "ExecuteTime": {
     "end_time": "2020-08-04T20:34:22.074291Z",
     "start_time": "2020-08-04T20:34:22.059831Z"
    }
   },
   "outputs": [],
   "source": [
    "## Must do this befor running code for state elections. Error in code\n",
    "do_not_use = election_collection_raw['2018'][2].pop(0)"
   ]
  },
  {
   "cell_type": "markdown",
   "metadata": {},
   "source": [
    "## Workshop"
   ]
  },
  {
   "cell_type": "markdown",
   "metadata": {},
   "source": [
    "Need to go through and format these tables across all elections. then can finally take info from each of the sections to create final year dataframes"
   ]
  },
  {
   "cell_type": "code",
   "execution_count": 23,
   "metadata": {
    "ExecuteTime": {
     "end_time": "2020-08-04T20:34:22.122716Z",
     "start_time": "2020-08-04T20:34:22.088340Z"
    },
    "scrolled": true
   },
   "outputs": [
    {
     "data": {
      "text/plain": [
       "<module 'functions' from 'C:\\\\Users\\\\d_ful\\\\Documents\\\\GitHub\\\\Capstone_Project\\\\functions.py'>"
      ]
     },
     "execution_count": 23,
     "metadata": {},
     "output_type": "execute_result"
    }
   ],
   "source": [
    "reload(dlf)"
   ]
  },
  {
   "cell_type": "code",
   "execution_count": 24,
   "metadata": {
    "ExecuteTime": {
     "end_time": "2020-08-04T20:34:22.138660Z",
     "start_time": "2020-08-04T20:34:22.128532Z"
    }
   },
   "outputs": [],
   "source": [
    "# pd.DataFrame.set_index()"
   ]
  },
  {
   "cell_type": "code",
   "execution_count": 25,
   "metadata": {
    "ExecuteTime": {
     "end_time": "2020-08-04T20:34:22.163222Z",
     "start_time": "2020-08-04T20:34:22.143806Z"
    },
    "code_folding": [
     0
    ]
   },
   "outputs": [],
   "source": [
    "def sen_leader_collector(dict_of_lists):\n",
    "    import pandas as pd\n",
    "\n",
    "    res_dict = {}\n",
    "    \n",
    "    for year in dict_of_lists:\n",
    "        try:\n",
    "            table = dict_of_lists[year][0].copy()\n",
    "            table.drop(index=0, inplace=True)\n",
    "            res_dict[year] = table\n",
    "        except KeyError as e:\n",
    "            print(f'Error! {year}: {e}.')\n",
    "            res_dict[year] = table\n",
    "            continue\n",
    "                \n",
    "    return res_dict"
   ]
  },
  {
   "cell_type": "code",
   "execution_count": 26,
   "metadata": {
    "ExecuteTime": {
     "end_time": "2020-08-04T20:34:22.265676Z",
     "start_time": "2020-08-04T20:34:22.167478Z"
    },
    "scrolled": true
   },
   "outputs": [],
   "source": [
    "sen_leader_tables = sen_leader_collector(election_collection_raw)"
   ]
  },
  {
   "cell_type": "code",
   "execution_count": 28,
   "metadata": {
    "ExecuteTime": {
     "end_time": "2020-08-04T20:34:40.758697Z",
     "start_time": "2020-08-04T20:34:40.743283Z"
    }
   },
   "outputs": [],
   "source": [
    "def sen_leader_cleaner(dict_of_dfs):\n",
    "    \n",
    "    res_dict = {}\n",
    "    \n",
    "    for year in dict_of_dfs:\n",
    "        table = dict_of_dfs[year].copy()\n",
    "        display(table)\n",
    "        if table.shape[0] > \n",
    "        new_table = table.stack(0)\n",
    "        #table.drop(columns=0, inplace=True)\n",
    "        #table = table.reset_index(drop=True)\n",
    "        display(new_table)\n",
    "        return ''"
   ]
  },
  {
   "cell_type": "code",
   "execution_count": 29,
   "metadata": {
    "ExecuteTime": {
     "end_time": "2020-08-04T20:34:49.188520Z",
     "start_time": "2020-08-04T20:34:49.109852Z"
    }
   },
   "outputs": [
    {
     "data": {
      "text/html": [
       "<div>\n",
       "<style scoped>\n",
       "    .dataframe tbody tr th:only-of-type {\n",
       "        vertical-align: middle;\n",
       "    }\n",
       "\n",
       "    .dataframe tbody tr th {\n",
       "        vertical-align: top;\n",
       "    }\n",
       "\n",
       "    .dataframe thead th {\n",
       "        text-align: right;\n",
       "    }\n",
       "</style>\n",
       "<table border=\"1\" class=\"dataframe\">\n",
       "  <thead>\n",
       "    <tr style=\"text-align: right;\">\n",
       "      <th></th>\n",
       "      <th>0</th>\n",
       "      <th>1</th>\n",
       "      <th>2</th>\n",
       "    </tr>\n",
       "  </thead>\n",
       "  <tbody>\n",
       "    <tr>\n",
       "      <th>1</th>\n",
       "      <td>Leader</td>\n",
       "      <td>John W. Kern[a]</td>\n",
       "      <td>Jacob H. Gallinger[a]</td>\n",
       "    </tr>\n",
       "    <tr>\n",
       "      <th>2</th>\n",
       "      <td>Party</td>\n",
       "      <td>Democratic</td>\n",
       "      <td>Republican</td>\n",
       "    </tr>\n",
       "    <tr>\n",
       "      <th>3</th>\n",
       "      <td>Leader's seat</td>\n",
       "      <td>Indiana</td>\n",
       "      <td>New Hampshire</td>\n",
       "    </tr>\n",
       "    <tr>\n",
       "      <th>4</th>\n",
       "      <td>Seats before</td>\n",
       "      <td>50</td>\n",
       "      <td>44</td>\n",
       "    </tr>\n",
       "    <tr>\n",
       "      <th>5</th>\n",
       "      <td>Seats won</td>\n",
       "      <td>19</td>\n",
       "      <td>15</td>\n",
       "    </tr>\n",
       "    <tr>\n",
       "      <th>6</th>\n",
       "      <td>Seats after</td>\n",
       "      <td>53</td>\n",
       "      <td>41</td>\n",
       "    </tr>\n",
       "    <tr>\n",
       "      <th>7</th>\n",
       "      <td>Seat change</td>\n",
       "      <td>3</td>\n",
       "      <td>3</td>\n",
       "    </tr>\n",
       "    <tr>\n",
       "      <th>8</th>\n",
       "      <td>Seats up</td>\n",
       "      <td>16</td>\n",
       "      <td>18</td>\n",
       "    </tr>\n",
       "    <tr>\n",
       "      <th>9</th>\n",
       "      <td>NaN</td>\n",
       "      <td>NaN</td>\n",
       "      <td>NaN</td>\n",
       "    </tr>\n",
       "    <tr>\n",
       "      <th>10</th>\n",
       "      <td>NaN</td>\n",
       "      <td>NaN</td>\n",
       "      <td>NaN</td>\n",
       "    </tr>\n",
       "    <tr>\n",
       "      <th>11</th>\n",
       "      <td>Party</td>\n",
       "      <td>Progressive</td>\n",
       "      <td>NaN</td>\n",
       "    </tr>\n",
       "    <tr>\n",
       "      <th>12</th>\n",
       "      <td>Seats before</td>\n",
       "      <td>1</td>\n",
       "      <td>NaN</td>\n",
       "    </tr>\n",
       "    <tr>\n",
       "      <th>13</th>\n",
       "      <td>Seats won</td>\n",
       "      <td>0</td>\n",
       "      <td>NaN</td>\n",
       "    </tr>\n",
       "    <tr>\n",
       "      <th>14</th>\n",
       "      <td>Seats after</td>\n",
       "      <td>1</td>\n",
       "      <td>NaN</td>\n",
       "    </tr>\n",
       "    <tr>\n",
       "      <th>15</th>\n",
       "      <td>Seat change</td>\n",
       "      <td>NaN</td>\n",
       "      <td>NaN</td>\n",
       "    </tr>\n",
       "    <tr>\n",
       "      <th>16</th>\n",
       "      <td>Seats up</td>\n",
       "      <td>0</td>\n",
       "      <td>NaN</td>\n",
       "    </tr>\n",
       "  </tbody>\n",
       "</table>\n",
       "</div>"
      ],
      "text/plain": [
       "                0                1                      2\n",
       "1          Leader  John W. Kern[a]  Jacob H. Gallinger[a]\n",
       "2           Party       Democratic             Republican\n",
       "3   Leader's seat          Indiana          New Hampshire\n",
       "4    Seats before               50                     44\n",
       "5       Seats won               19                     15\n",
       "6     Seats after               53                     41\n",
       "7     Seat change                3                      3\n",
       "8        Seats up               16                     18\n",
       "9             NaN              NaN                    NaN\n",
       "10            NaN              NaN                    NaN\n",
       "11          Party      Progressive                    NaN\n",
       "12   Seats before                1                    NaN\n",
       "13      Seats won                0                    NaN\n",
       "14    Seats after                1                    NaN\n",
       "15    Seat change              NaN                    NaN\n",
       "16       Seats up                0                    NaN"
      ]
     },
     "metadata": {},
     "output_type": "display_data"
    },
    {
     "data": {
      "text/plain": [
       "1   0                   Leader\n",
       "    1          John W. Kern[a]\n",
       "    2    Jacob H. Gallinger[a]\n",
       "2   0                    Party\n",
       "    1               Democratic\n",
       "    2               Republican\n",
       "3   0            Leader's seat\n",
       "    1                  Indiana\n",
       "    2            New Hampshire\n",
       "4   0             Seats before\n",
       "    1                       50\n",
       "    2                       44\n",
       "5   0                Seats won\n",
       "    1                       19\n",
       "    2                       15\n",
       "6   0              Seats after\n",
       "    1                       53\n",
       "    2                       41\n",
       "7   0              Seat change\n",
       "    1                        3\n",
       "    2                        3\n",
       "8   0                 Seats up\n",
       "    1                       16\n",
       "    2                       18\n",
       "11  0                    Party\n",
       "    1              Progressive\n",
       "12  0             Seats before\n",
       "    1                        1\n",
       "13  0                Seats won\n",
       "    1                        0\n",
       "14  0              Seats after\n",
       "    1                        1\n",
       "15  0              Seat change\n",
       "16  0                 Seats up\n",
       "    1                        0\n",
       "dtype: object"
      ]
     },
     "metadata": {},
     "output_type": "display_data"
    }
   ],
   "source": [
    "sen_leader_dict = sen_leader_cleaner(sen_leader_tables)"
   ]
  },
  {
   "cell_type": "code",
   "execution_count": 32,
   "metadata": {
    "ExecuteTime": {
     "end_time": "2020-08-04T20:52:03.248156Z",
     "start_time": "2020-08-04T20:52:00.712305Z"
    }
   },
   "outputs": [
    {
     "name": "stdout",
     "output_type": "stream",
     "text": [
      "Key to pull:1980\n",
      "<class 'pandas.core.frame.DataFrame'>\n"
     ]
    },
    {
     "data": {
      "text/html": [
       "<div>\n",
       "<style scoped>\n",
       "    .dataframe tbody tr th:only-of-type {\n",
       "        vertical-align: middle;\n",
       "    }\n",
       "\n",
       "    .dataframe tbody tr th {\n",
       "        vertical-align: top;\n",
       "    }\n",
       "\n",
       "    .dataframe thead th {\n",
       "        text-align: right;\n",
       "    }\n",
       "</style>\n",
       "<table border=\"1\" class=\"dataframe\">\n",
       "  <thead>\n",
       "    <tr style=\"text-align: right;\">\n",
       "      <th></th>\n",
       "      <th>0</th>\n",
       "      <th>1</th>\n",
       "      <th>2</th>\n",
       "    </tr>\n",
       "  </thead>\n",
       "  <tbody>\n",
       "    <tr>\n",
       "      <th>1</th>\n",
       "      <td>Leader</td>\n",
       "      <td>Howard Baker</td>\n",
       "      <td>Robert Byrd</td>\n",
       "    </tr>\n",
       "    <tr>\n",
       "      <th>2</th>\n",
       "      <td>Party</td>\n",
       "      <td>Republican</td>\n",
       "      <td>Democratic</td>\n",
       "    </tr>\n",
       "    <tr>\n",
       "      <th>3</th>\n",
       "      <td>Leader since</td>\n",
       "      <td>March 5, 1980</td>\n",
       "      <td>January 3, 1977</td>\n",
       "    </tr>\n",
       "    <tr>\n",
       "      <th>4</th>\n",
       "      <td>Leader's seat</td>\n",
       "      <td>Tennessee</td>\n",
       "      <td>West Virginia</td>\n",
       "    </tr>\n",
       "    <tr>\n",
       "      <th>5</th>\n",
       "      <td>Seats before</td>\n",
       "      <td>41</td>\n",
       "      <td>58</td>\n",
       "    </tr>\n",
       "    <tr>\n",
       "      <th>6</th>\n",
       "      <td>Seats after</td>\n",
       "      <td>53</td>\n",
       "      <td>46</td>\n",
       "    </tr>\n",
       "    <tr>\n",
       "      <th>7</th>\n",
       "      <td>Seat change</td>\n",
       "      <td>12</td>\n",
       "      <td>12</td>\n",
       "    </tr>\n",
       "    <tr>\n",
       "      <th>8</th>\n",
       "      <td>Popular vote</td>\n",
       "      <td>26597169</td>\n",
       "      <td>30699463</td>\n",
       "    </tr>\n",
       "    <tr>\n",
       "      <th>9</th>\n",
       "      <td>Percentage</td>\n",
       "      <td>44.7%</td>\n",
       "      <td>51.6%</td>\n",
       "    </tr>\n",
       "    <tr>\n",
       "      <th>10</th>\n",
       "      <td>Swing</td>\n",
       "      <td>2.9%</td>\n",
       "      <td>1.0%</td>\n",
       "    </tr>\n",
       "    <tr>\n",
       "      <th>11</th>\n",
       "      <td>Seats up</td>\n",
       "      <td>10</td>\n",
       "      <td>24</td>\n",
       "    </tr>\n",
       "    <tr>\n",
       "      <th>12</th>\n",
       "      <td>Races won</td>\n",
       "      <td>22</td>\n",
       "      <td>12</td>\n",
       "    </tr>\n",
       "    <tr>\n",
       "      <th>13</th>\n",
       "      <td>NaN</td>\n",
       "      <td>NaN</td>\n",
       "      <td>NaN</td>\n",
       "    </tr>\n",
       "    <tr>\n",
       "      <th>14</th>\n",
       "      <td>NaN</td>\n",
       "      <td>NaN</td>\n",
       "      <td>NaN</td>\n",
       "    </tr>\n",
       "    <tr>\n",
       "      <th>15</th>\n",
       "      <td>Party</td>\n",
       "      <td>Independent</td>\n",
       "      <td>NaN</td>\n",
       "    </tr>\n",
       "    <tr>\n",
       "      <th>16</th>\n",
       "      <td>Seats before</td>\n",
       "      <td>1[a]</td>\n",
       "      <td>NaN</td>\n",
       "    </tr>\n",
       "    <tr>\n",
       "      <th>17</th>\n",
       "      <td>Seats after</td>\n",
       "      <td>1[a]</td>\n",
       "      <td>NaN</td>\n",
       "    </tr>\n",
       "    <tr>\n",
       "      <th>18</th>\n",
       "      <td>Seat change</td>\n",
       "      <td>NaN</td>\n",
       "      <td>NaN</td>\n",
       "    </tr>\n",
       "    <tr>\n",
       "      <th>19</th>\n",
       "      <td>Seats up</td>\n",
       "      <td>0</td>\n",
       "      <td>NaN</td>\n",
       "    </tr>\n",
       "    <tr>\n",
       "      <th>20</th>\n",
       "      <td>Races won</td>\n",
       "      <td>0</td>\n",
       "      <td>NaN</td>\n",
       "    </tr>\n",
       "  </tbody>\n",
       "</table>\n",
       "</div>"
      ],
      "text/plain": [
       "                0              1                2\n",
       "1          Leader   Howard Baker      Robert Byrd\n",
       "2           Party     Republican       Democratic\n",
       "3    Leader since  March 5, 1980  January 3, 1977\n",
       "4   Leader's seat      Tennessee    West Virginia\n",
       "5    Seats before             41               58\n",
       "6     Seats after             53               46\n",
       "7     Seat change             12               12\n",
       "8    Popular vote       26597169         30699463\n",
       "9      Percentage          44.7%            51.6%\n",
       "10          Swing           2.9%             1.0%\n",
       "11       Seats up             10               24\n",
       "12      Races won             22               12\n",
       "13            NaN            NaN              NaN\n",
       "14            NaN            NaN              NaN\n",
       "15          Party    Independent              NaN\n",
       "16   Seats before           1[a]              NaN\n",
       "17    Seats after           1[a]              NaN\n",
       "18    Seat change            NaN              NaN\n",
       "19       Seats up              0              NaN\n",
       "20      Races won              0              NaN"
      ]
     },
     "execution_count": 32,
     "metadata": {},
     "output_type": "execute_result"
    }
   ],
   "source": [
    "test = dlf.table_checker(dict_=sen_leader_tables)\n",
    "print(type(test))\n",
    "test"
   ]
  },
  {
   "cell_type": "code",
   "execution_count": 63,
   "metadata": {
    "ExecuteTime": {
     "end_time": "2020-08-04T22:31:09.346250Z",
     "start_time": "2020-08-04T22:31:09.294497Z"
    }
   },
   "outputs": [
    {
     "name": "stdout",
     "output_type": "stream",
     "text": [
      "Leader\n",
      "Party\n",
      "Leader since\n",
      "Leader's seat\n",
      "Seats before\n",
      "Seats after\n",
      "Seat change\n",
      "Popular vote\n",
      "Percentage\n",
      "Swing\n",
      "Seats up\n",
      "Races won\n",
      "nan\n"
     ]
    },
    {
     "data": {
      "text/html": [
       "<div>\n",
       "<style scoped>\n",
       "    .dataframe tbody tr th:only-of-type {\n",
       "        vertical-align: middle;\n",
       "    }\n",
       "\n",
       "    .dataframe tbody tr th {\n",
       "        vertical-align: top;\n",
       "    }\n",
       "\n",
       "    .dataframe thead th {\n",
       "        text-align: right;\n",
       "    }\n",
       "</style>\n",
       "<table border=\"1\" class=\"dataframe\">\n",
       "  <thead>\n",
       "    <tr style=\"text-align: right;\">\n",
       "      <th></th>\n",
       "      <th>0</th>\n",
       "      <th>1</th>\n",
       "    </tr>\n",
       "  </thead>\n",
       "  <tbody>\n",
       "    <tr>\n",
       "      <th>15</th>\n",
       "      <td>Party</td>\n",
       "      <td>Independent</td>\n",
       "    </tr>\n",
       "    <tr>\n",
       "      <th>16</th>\n",
       "      <td>Seats before</td>\n",
       "      <td>1[a]</td>\n",
       "    </tr>\n",
       "    <tr>\n",
       "      <th>17</th>\n",
       "      <td>Seats after</td>\n",
       "      <td>1[a]</td>\n",
       "    </tr>\n",
       "    <tr>\n",
       "      <th>18</th>\n",
       "      <td>Seat change</td>\n",
       "      <td>NaN</td>\n",
       "    </tr>\n",
       "    <tr>\n",
       "      <th>19</th>\n",
       "      <td>Seats up</td>\n",
       "      <td>0</td>\n",
       "    </tr>\n",
       "    <tr>\n",
       "      <th>20</th>\n",
       "      <td>Races won</td>\n",
       "      <td>0</td>\n",
       "    </tr>\n",
       "  </tbody>\n",
       "</table>\n",
       "</div>"
      ],
      "text/plain": [
       "               0            1\n",
       "15         Party  Independent\n",
       "16  Seats before         1[a]\n",
       "17   Seats after         1[a]\n",
       "18   Seat change          NaN\n",
       "19      Seats up            0\n",
       "20     Races won            0"
      ]
     },
     "metadata": {},
     "output_type": "display_data"
    },
    {
     "data": {
      "text/html": [
       "<div>\n",
       "<style scoped>\n",
       "    .dataframe tbody tr th:only-of-type {\n",
       "        vertical-align: middle;\n",
       "    }\n",
       "\n",
       "    .dataframe tbody tr th {\n",
       "        vertical-align: top;\n",
       "    }\n",
       "\n",
       "    .dataframe thead th {\n",
       "        text-align: right;\n",
       "    }\n",
       "</style>\n",
       "<table border=\"1\" class=\"dataframe\">\n",
       "  <thead>\n",
       "    <tr style=\"text-align: right;\">\n",
       "      <th></th>\n",
       "      <th>0</th>\n",
       "      <th>1</th>\n",
       "      <th>2</th>\n",
       "    </tr>\n",
       "  </thead>\n",
       "  <tbody>\n",
       "    <tr>\n",
       "      <th>1</th>\n",
       "      <td>Leader</td>\n",
       "      <td>Howard Baker</td>\n",
       "      <td>Robert Byrd</td>\n",
       "    </tr>\n",
       "    <tr>\n",
       "      <th>2</th>\n",
       "      <td>Party</td>\n",
       "      <td>Republican</td>\n",
       "      <td>Democratic</td>\n",
       "    </tr>\n",
       "    <tr>\n",
       "      <th>3</th>\n",
       "      <td>Leader since</td>\n",
       "      <td>March 5, 1980</td>\n",
       "      <td>January 3, 1977</td>\n",
       "    </tr>\n",
       "    <tr>\n",
       "      <th>4</th>\n",
       "      <td>Leader's seat</td>\n",
       "      <td>Tennessee</td>\n",
       "      <td>West Virginia</td>\n",
       "    </tr>\n",
       "    <tr>\n",
       "      <th>5</th>\n",
       "      <td>Seats before</td>\n",
       "      <td>41</td>\n",
       "      <td>58</td>\n",
       "    </tr>\n",
       "    <tr>\n",
       "      <th>6</th>\n",
       "      <td>Seats after</td>\n",
       "      <td>53</td>\n",
       "      <td>46</td>\n",
       "    </tr>\n",
       "    <tr>\n",
       "      <th>7</th>\n",
       "      <td>Seat change</td>\n",
       "      <td>12</td>\n",
       "      <td>12</td>\n",
       "    </tr>\n",
       "    <tr>\n",
       "      <th>8</th>\n",
       "      <td>Popular vote</td>\n",
       "      <td>26597169</td>\n",
       "      <td>30699463</td>\n",
       "    </tr>\n",
       "    <tr>\n",
       "      <th>9</th>\n",
       "      <td>Percentage</td>\n",
       "      <td>44.7%</td>\n",
       "      <td>51.6%</td>\n",
       "    </tr>\n",
       "    <tr>\n",
       "      <th>10</th>\n",
       "      <td>Swing</td>\n",
       "      <td>2.9%</td>\n",
       "      <td>1.0%</td>\n",
       "    </tr>\n",
       "    <tr>\n",
       "      <th>11</th>\n",
       "      <td>Seats up</td>\n",
       "      <td>10</td>\n",
       "      <td>24</td>\n",
       "    </tr>\n",
       "    <tr>\n",
       "      <th>12</th>\n",
       "      <td>Races won</td>\n",
       "      <td>22</td>\n",
       "      <td>12</td>\n",
       "    </tr>\n",
       "  </tbody>\n",
       "</table>\n",
       "</div>"
      ],
      "text/plain": [
       "                0              1                2\n",
       "1          Leader   Howard Baker      Robert Byrd\n",
       "2           Party     Republican       Democratic\n",
       "3    Leader since  March 5, 1980  January 3, 1977\n",
       "4   Leader's seat      Tennessee    West Virginia\n",
       "5    Seats before             41               58\n",
       "6     Seats after             53               46\n",
       "7     Seat change             12               12\n",
       "8    Popular vote       26597169         30699463\n",
       "9      Percentage          44.7%            51.6%\n",
       "10          Swing           2.9%             1.0%\n",
       "11       Seats up             10               24\n",
       "12      Races won             22               12"
      ]
     },
     "metadata": {},
     "output_type": "display_data"
    },
    {
     "name": "stdout",
     "output_type": "stream",
     "text": [
      "Idx:12!!!!!!!!!!!!!!!!!!!!!!!!!\n"
     ]
    }
   ],
   "source": [
    "# row1 = list(test.iloc[:,1])\n",
    "# row2 = list(test.iloc[:,2])\n",
    "# rows = [row1, row2]\n",
    "# cols = list(set(test.iloc[:,0]))\n",
    "# exts = ['a', 'b', 'c', 'd', 'e', 'f', 'g', 'h', 'i']\n",
    "\n",
    "# for it in exts:\n",
    "#     if len(row1) != len(cols):\n",
    "#         cols.extend(it)\n",
    "\n",
    "# cols\n",
    "#display(rows)\n",
    "# new_df = pd.DataFrame(rows)\n",
    "# new_df.columns = \n",
    "# display(new_df)\n",
    "\n",
    "\n",
    "# for i, col in enumerate(new_df):\n",
    "#     try:\n",
    "#         if new_df[col].shape[1] == 2:\n",
    "#             display(new_df[col])\n",
    "#     except (IndexError, TypeError) as e:\n",
    "#         continue\n",
    "        \n",
    "    \n",
    "# is_nan = False\n",
    "# for i, v in enumerate(new_df.columns.isna()):\n",
    "#     if v and is_nan:\n",
    "#         print(i)\n",
    "#         display(new_df[list(new_df.columns[i+1:])])\n",
    "#         continue\n",
    "#     if v:\n",
    "#         is_nan = True\n",
    "#         print(i)\n",
    "\n",
    "for col in test.iteritems():\n",
    "    headers = col[1]\n",
    "    #print(ghgh[12:])\n",
    "    for i, hdr in enumerate(headers):\n",
    "        print(hdr)\n",
    "        if isinstance(hdr, float):\n",
    "            third_df = test.iloc[i:].copy()\n",
    "            ldr_df = test.iloc[:i].copy()\n",
    "            \n",
    "            third_df.dropna(axis=1, how='all', inplace=True)\n",
    "            third_df.dropna(axis=0, how='all', inplace=True)\n",
    "            display(third_df)\n",
    "            display(ldr_df)\n",
    "            print(f'Idx:{i}!!!!!!!!!!!!!!!!!!!!!!!!!')\n",
    "            break\n",
    "            \n",
    "    \n",
    "    break"
   ]
  },
  {
   "cell_type": "code",
   "execution_count": null,
   "metadata": {
    "ExecuteTime": {
     "end_time": "2020-08-04T02:28:14.500257Z",
     "start_time": "2020-08-04T02:28:14.315Z"
    }
   },
   "outputs": [],
   "source": [
    "election_collection_raw['1976'][0]"
   ]
  }
 ],
 "metadata": {
  "kernelspec": {
   "display_name": "Python 3",
   "language": "python",
   "name": "python3"
  },
  "language_info": {
   "codemirror_mode": {
    "name": "ipython",
    "version": 3
   },
   "file_extension": ".py",
   "mimetype": "text/x-python",
   "name": "python",
   "nbconvert_exporter": "python",
   "pygments_lexer": "ipython3",
   "version": "3.6.6"
  },
  "toc": {
   "base_numbering": 1,
   "nav_menu": {},
   "number_sections": true,
   "sideBar": true,
   "skip_h1_title": false,
   "title_cell": "Table of Contents",
   "title_sidebar": "Contents",
   "toc_cell": false,
   "toc_position": {},
   "toc_section_display": true,
   "toc_window_display": false
  },
  "varInspector": {
   "cols": {
    "lenName": 16,
    "lenType": 16,
    "lenVar": 40
   },
   "kernels_config": {
    "python": {
     "delete_cmd_postfix": "",
     "delete_cmd_prefix": "del ",
     "library": "var_list.py",
     "varRefreshCmd": "print(var_dic_list())"
    },
    "r": {
     "delete_cmd_postfix": ") ",
     "delete_cmd_prefix": "rm(",
     "library": "var_list.r",
     "varRefreshCmd": "cat(var_dic_list()) "
    }
   },
   "types_to_exclude": [
    "module",
    "function",
    "builtin_function_or_method",
    "instance",
    "_Feature"
   ],
   "window_display": false
  }
 },
 "nbformat": 4,
 "nbformat_minor": 2
}
