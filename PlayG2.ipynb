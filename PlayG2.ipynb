{
 "cells": [
  {
   "cell_type": "markdown",
   "metadata": {},
   "source": [
    "# Capstone"
   ]
  },
  {
   "cell_type": "markdown",
   "metadata": {},
   "source": [
    "## Imports & links"
   ]
  },
  {
   "cell_type": "code",
   "execution_count": 58,
   "metadata": {
    "ExecuteTime": {
     "end_time": "2020-08-11T23:22:20.067620Z",
     "start_time": "2020-08-11T23:22:20.018705Z"
    }
   },
   "outputs": [],
   "source": [
    "import functions as dlf\n",
    "import pandas as pd\n",
    "import numpy as np\n",
    "import requests\n",
    "import regex\n",
    "import pickle\n",
    "from importlib import reload\n",
    "from bs4 import BeautifulSoup"
   ]
  },
  {
   "cell_type": "markdown",
   "metadata": {},
   "source": [
    "> [Link to Brookings](https://www.brookings.edu/multi-chapter-report/vital-statistics-on-congress/)\n",
    "\n",
    "> [Link to BallotPedia](https://ballotpedia.org/Legislative_Branch)\n",
    "\n",
    "> [Link to WikiPedia](https://en.wikipedia.org/wiki/List_of_United_States_Senate_elections)\n",
    "\n",
    "> [Link to Wiki-Category (U.S. Senator)](https://commons.wikimedia.org/wiki/Category:Senators_of_the_United_States)"
   ]
  },
  {
   "cell_type": "markdown",
   "metadata": {},
   "source": [
    "Why after the 17th amendment?? [Link](https://en.wikipedia.org/wiki/Seventeenth_Amendment_to_the_United_States_Constitution)\n",
    "\n",
    "For 1920 forward, proceed like 1976. Prior to this, will need to use first table with general info.\n",
    "\n",
    "* **Clean up NaN value table from top of pages** -- Use index 2 to grab  nested table from `'infobox vevent'`.\n",
    "* **Take list of states of top tables** and map to dfs\n",
    "* Get demographic info wikidata\n",
    "* eda time series of state party (heatmap)\n",
    "* NLP on names, etc.\n",
    "* [link for slider viz](https://medium.com/@sjacks/the-journey-to-an-attractive-visualization-bac019506a49)"
   ]
  },
  {
   "cell_type": "markdown",
   "metadata": {},
   "source": [
    "## Building code"
   ]
  },
  {
   "cell_type": "code",
   "execution_count": 113,
   "metadata": {
    "ExecuteTime": {
     "end_time": "2020-08-12T03:48:01.051315Z",
     "start_time": "2020-08-12T03:48:00.967024Z"
    }
   },
   "outputs": [
    {
     "data": {
      "text/plain": [
       "<module 'functions' from 'C:\\\\Users\\\\d_ful\\\\Documents\\\\GitHub\\\\Capstone_Project\\\\functions.py'>"
      ]
     },
     "execution_count": 113,
     "metadata": {},
     "output_type": "execute_result"
    }
   ],
   "source": [
    "reload(dlf)"
   ]
  },
  {
   "cell_type": "code",
   "execution_count": 3,
   "metadata": {
    "ExecuteTime": {
     "end_time": "2020-08-11T19:48:57.126795Z",
     "start_time": "2020-08-11T19:48:57.118222Z"
    }
   },
   "outputs": [],
   "source": [
    "# elect_yr_tables, elect_yr_tocs = wiki_senate_scraper()\n",
    "\n",
    "# election_collection_raw = election_collector(elect_yr_tables, elect_yr_tocs)"
   ]
  },
  {
   "cell_type": "code",
   "execution_count": 4,
   "metadata": {
    "ExecuteTime": {
     "end_time": "2020-08-11T19:48:57.142314Z",
     "start_time": "2020-08-11T19:48:57.132605Z"
    }
   },
   "outputs": [],
   "source": [
    "## This works for all years up until 2018 (doesnt have these tables)\n",
    "\n",
    "# yr_sum_tables = dlf.yr_summary_collector(election_collection_raw)\n",
    "# yr_sum_dict = dlf.yr_sum_formatter(yr_sum_tables)\n",
    "# name_lookup_df = dlf.master_tabler(yr_sum_dict)"
   ]
  },
  {
   "cell_type": "markdown",
   "metadata": {},
   "source": [
    "*NEEDS TO BE RE-PICKED*\n",
    "* yr_st_dict joined **and** mapped\n",
    "* "
   ]
  },
  {
   "cell_type": "code",
   "execution_count": 114,
   "metadata": {
    "ExecuteTime": {
     "end_time": "2020-08-12T03:48:18.391715Z",
     "start_time": "2020-08-12T03:48:07.347159Z"
    },
    "scrolled": true
   },
   "outputs": [
    {
     "name": "stdout",
     "output_type": "stream",
     "text": [
      "No objects to concatenate! Year 1914\n",
      "No objects to concatenate! Year 1916\n",
      "No objects to concatenate! Year 1918\n",
      "No objects to concatenate! Year 2018\n",
      "------------------------------Step 3 Complete!------------------------------\n",
      "Year:1932, argument of type 'float' is not iterable, (\"argument of type 'float' is not iterable\",)\n"
     ]
    },
    {
     "data": {
      "text/html": [
       "<div>\n",
       "<style scoped>\n",
       "    .dataframe tbody tr th:only-of-type {\n",
       "        vertical-align: middle;\n",
       "    }\n",
       "\n",
       "    .dataframe tbody tr th {\n",
       "        vertical-align: top;\n",
       "    }\n",
       "\n",
       "    .dataframe thead th {\n",
       "        text-align: right;\n",
       "    }\n",
       "</style>\n",
       "<table border=\"1\" class=\"dataframe\">\n",
       "  <thead>\n",
       "    <tr style=\"text-align: right;\">\n",
       "      <th></th>\n",
       "      <th>Party</th>\n",
       "      <th>Candidate</th>\n",
       "      <th>%</th>\n",
       "      <th>Turnout</th>\n",
       "      <th>Total votes</th>\n",
       "      <th>Incumb_Y</th>\n",
       "      <th>State</th>\n",
       "    </tr>\n",
       "  </thead>\n",
       "  <tbody>\n",
       "    <tr>\n",
       "      <th>0</th>\n",
       "      <td>Democratic</td>\n",
       "      <td>Hugo Black (Incumbent)</td>\n",
       "      <td>86.25%</td>\n",
       "      <td>243039</td>\n",
       "      <td>NaN</td>\n",
       "      <td>1</td>\n",
       "      <td>Alabama</td>\n",
       "    </tr>\n",
       "    <tr>\n",
       "      <th>1</th>\n",
       "      <td>Republican</td>\n",
       "      <td>J. Theodore Johnson</td>\n",
       "      <td>13.75%</td>\n",
       "      <td>243039</td>\n",
       "      <td>NaN</td>\n",
       "      <td>0</td>\n",
       "      <td>None</td>\n",
       "    </tr>\n",
       "    <tr>\n",
       "      <th>2</th>\n",
       "      <td>Democratic</td>\n",
       "      <td>Carl T. Hayden</td>\n",
       "      <td>66.67%</td>\n",
       "      <td>111463</td>\n",
       "      <td>NaN</td>\n",
       "      <td>0</td>\n",
       "      <td>None</td>\n",
       "    </tr>\n",
       "    <tr>\n",
       "      <th>3</th>\n",
       "      <td>Republican</td>\n",
       "      <td>Ralph H. Cameron</td>\n",
       "      <td>32.06%</td>\n",
       "      <td>111463</td>\n",
       "      <td>NaN</td>\n",
       "      <td>0</td>\n",
       "      <td>Arizona</td>\n",
       "    </tr>\n",
       "    <tr>\n",
       "      <th>4</th>\n",
       "      <td>Socialist</td>\n",
       "      <td>Lester B. Woolever</td>\n",
       "      <td>1.00%</td>\n",
       "      <td>111463</td>\n",
       "      <td>NaN</td>\n",
       "      <td>0</td>\n",
       "      <td>None</td>\n",
       "    </tr>\n",
       "    <tr>\n",
       "      <th>5</th>\n",
       "      <td>Communist</td>\n",
       "      <td>Edward Haustgen</td>\n",
       "      <td>0.28%</td>\n",
       "      <td>111463</td>\n",
       "      <td>NaN</td>\n",
       "      <td>0</td>\n",
       "      <td>None</td>\n",
       "    </tr>\n",
       "    <tr>\n",
       "      <th>6</th>\n",
       "      <td>Democratic</td>\n",
       "      <td>Hattie Wyatt Caraway (Incumbent)</td>\n",
       "      <td>91.62%</td>\n",
       "      <td>NaN</td>\n",
       "      <td>NaN</td>\n",
       "      <td>1</td>\n",
       "      <td>Arkansas</td>\n",
       "    </tr>\n",
       "    <tr>\n",
       "      <th>7</th>\n",
       "      <td>Independent</td>\n",
       "      <td>Rex Floyd</td>\n",
       "      <td>5.16%</td>\n",
       "      <td>NaN</td>\n",
       "      <td>NaN</td>\n",
       "      <td>0</td>\n",
       "      <td>None</td>\n",
       "    </tr>\n",
       "    <tr>\n",
       "      <th>8</th>\n",
       "      <td>Independent</td>\n",
       "      <td>Sam D. Carson</td>\n",
       "      <td>3.22%</td>\n",
       "      <td>NaN</td>\n",
       "      <td>NaN</td>\n",
       "      <td>0</td>\n",
       "      <td>None</td>\n",
       "    </tr>\n",
       "    <tr>\n",
       "      <th>9</th>\n",
       "      <td>Democratic</td>\n",
       "      <td>Hattie Wyatt Caraway (Incumbent)</td>\n",
       "      <td>89.71%</td>\n",
       "      <td>209552</td>\n",
       "      <td>NaN</td>\n",
       "      <td>1</td>\n",
       "      <td>Arkansas</td>\n",
       "    </tr>\n",
       "    <tr>\n",
       "      <th>10</th>\n",
       "      <td>Republican</td>\n",
       "      <td>John W. White</td>\n",
       "      <td>10.29%</td>\n",
       "      <td>209552</td>\n",
       "      <td>NaN</td>\n",
       "      <td>0</td>\n",
       "      <td>None</td>\n",
       "    </tr>\n",
       "    <tr>\n",
       "      <th>11</th>\n",
       "      <td>Democratic</td>\n",
       "      <td>William Gibbs McAdoo</td>\n",
       "      <td>43.39%</td>\n",
       "      <td>2173834</td>\n",
       "      <td>NaN</td>\n",
       "      <td>0</td>\n",
       "      <td>California</td>\n",
       "    </tr>\n",
       "    <tr>\n",
       "      <th>12</th>\n",
       "      <td>Republican</td>\n",
       "      <td>Tallant Tubbs</td>\n",
       "      <td>30.81%</td>\n",
       "      <td>2173834</td>\n",
       "      <td>NaN</td>\n",
       "      <td>0</td>\n",
       "      <td>None</td>\n",
       "    </tr>\n",
       "    <tr>\n",
       "      <th>13</th>\n",
       "      <td>Prohibition</td>\n",
       "      <td>Robert P. Shuler</td>\n",
       "      <td>25.76%</td>\n",
       "      <td>2173834</td>\n",
       "      <td>NaN</td>\n",
       "      <td>0</td>\n",
       "      <td>None</td>\n",
       "    </tr>\n",
       "    <tr>\n",
       "      <th>14</th>\n",
       "      <td>Write-In</td>\n",
       "      <td>George Ross Kirkpatrick</td>\n",
       "      <td>0.02%</td>\n",
       "      <td>2173834</td>\n",
       "      <td>NaN</td>\n",
       "      <td>0</td>\n",
       "      <td>None</td>\n",
       "    </tr>\n",
       "    <tr>\n",
       "      <th>15</th>\n",
       "      <td>None</td>\n",
       "      <td>Scattering</td>\n",
       "      <td>0.02%</td>\n",
       "      <td>2173834</td>\n",
       "      <td>NaN</td>\n",
       "      <td>0</td>\n",
       "      <td>None</td>\n",
       "    </tr>\n",
       "    <tr>\n",
       "      <th>16</th>\n",
       "      <td>Republican</td>\n",
       "      <td>Karl C. Schuyler</td>\n",
       "      <td>48.76%</td>\n",
       "      <td>NaN</td>\n",
       "      <td>NaN</td>\n",
       "      <td>0</td>\n",
       "      <td>None</td>\n",
       "    </tr>\n",
       "    <tr>\n",
       "      <th>17</th>\n",
       "      <td>Democratic</td>\n",
       "      <td>Walter Walker (Incumbent)</td>\n",
       "      <td>48.51%</td>\n",
       "      <td>NaN</td>\n",
       "      <td>NaN</td>\n",
       "      <td>1</td>\n",
       "      <td>Colorado</td>\n",
       "    </tr>\n",
       "    <tr>\n",
       "      <th>18</th>\n",
       "      <td>Socialist</td>\n",
       "      <td>Carle Whitehead</td>\n",
       "      <td>2.73%</td>\n",
       "      <td>NaN</td>\n",
       "      <td>NaN</td>\n",
       "      <td>0</td>\n",
       "      <td>None</td>\n",
       "    </tr>\n",
       "    <tr>\n",
       "      <th>19</th>\n",
       "      <td>Democratic</td>\n",
       "      <td>Alva B. Adams</td>\n",
       "      <td>52.23%</td>\n",
       "      <td>433671</td>\n",
       "      <td>NaN</td>\n",
       "      <td>0</td>\n",
       "      <td>Colorado</td>\n",
       "    </tr>\n",
       "    <tr>\n",
       "      <th>20</th>\n",
       "      <td>Republican</td>\n",
       "      <td>Karl C. Schuyler</td>\n",
       "      <td>45.78%</td>\n",
       "      <td>433671</td>\n",
       "      <td>NaN</td>\n",
       "      <td>0</td>\n",
       "      <td>None</td>\n",
       "    </tr>\n",
       "    <tr>\n",
       "      <th>21</th>\n",
       "      <td>Socialist</td>\n",
       "      <td>Carle Whitehead</td>\n",
       "      <td>1.99%</td>\n",
       "      <td>433671</td>\n",
       "      <td>NaN</td>\n",
       "      <td>0</td>\n",
       "      <td>None</td>\n",
       "    </tr>\n",
       "    <tr>\n",
       "      <th>22</th>\n",
       "      <td>Farmer–Labor</td>\n",
       "      <td>Huston Hugh Marrs</td>\n",
       "      <td>0.42%</td>\n",
       "      <td>433671</td>\n",
       "      <td>NaN</td>\n",
       "      <td>0</td>\n",
       "      <td>None</td>\n",
       "    </tr>\n",
       "    <tr>\n",
       "      <th>23</th>\n",
       "      <td>Communist</td>\n",
       "      <td>Raymond D. D. Richardson</td>\n",
       "      <td>0.20%</td>\n",
       "      <td>433671</td>\n",
       "      <td>NaN</td>\n",
       "      <td>0</td>\n",
       "      <td>None</td>\n",
       "    </tr>\n",
       "    <tr>\n",
       "      <th>24</th>\n",
       "      <td>Democratic</td>\n",
       "      <td>Augustine Lonergan</td>\n",
       "      <td>47.50%</td>\n",
       "      <td>594402</td>\n",
       "      <td>NaN</td>\n",
       "      <td>0</td>\n",
       "      <td>Connecticut</td>\n",
       "    </tr>\n",
       "    <tr>\n",
       "      <th>25</th>\n",
       "      <td>Republican</td>\n",
       "      <td>Hiram Bingham III (Incumbent)</td>\n",
       "      <td>46.78%</td>\n",
       "      <td>594402</td>\n",
       "      <td>NaN</td>\n",
       "      <td>1</td>\n",
       "      <td>Connecticut</td>\n",
       "    </tr>\n",
       "    <tr>\n",
       "      <th>26</th>\n",
       "      <td>Socialist</td>\n",
       "      <td>Devere Allen</td>\n",
       "      <td>3.33%</td>\n",
       "      <td>594402</td>\n",
       "      <td>NaN</td>\n",
       "      <td>0</td>\n",
       "      <td>None</td>\n",
       "    </tr>\n",
       "    <tr>\n",
       "      <th>27</th>\n",
       "      <td>Independent Republican</td>\n",
       "      <td>Milton Conover</td>\n",
       "      <td>1.79%</td>\n",
       "      <td>594402</td>\n",
       "      <td>NaN</td>\n",
       "      <td>0</td>\n",
       "      <td>None</td>\n",
       "    </tr>\n",
       "    <tr>\n",
       "      <th>28</th>\n",
       "      <td>Socialist Labor</td>\n",
       "      <td>John L. Grennan</td>\n",
       "      <td>0.38%</td>\n",
       "      <td>594402</td>\n",
       "      <td>NaN</td>\n",
       "      <td>0</td>\n",
       "      <td>None</td>\n",
       "    </tr>\n",
       "    <tr>\n",
       "      <th>29</th>\n",
       "      <td>Communist</td>\n",
       "      <td>William Secker</td>\n",
       "      <td>0.23%</td>\n",
       "      <td>594402</td>\n",
       "      <td>NaN</td>\n",
       "      <td>0</td>\n",
       "      <td>None</td>\n",
       "    </tr>\n",
       "    <tr>\n",
       "      <th>...</th>\n",
       "      <td>...</td>\n",
       "      <td>...</td>\n",
       "      <td>...</td>\n",
       "      <td>...</td>\n",
       "      <td>...</td>\n",
       "      <td>...</td>\n",
       "      <td>...</td>\n",
       "    </tr>\n",
       "    <tr>\n",
       "      <th>109</th>\n",
       "      <td>Communist</td>\n",
       "      <td>A. G. Krueger</td>\n",
       "      <td>0.72%</td>\n",
       "      <td>353194</td>\n",
       "      <td>NaN</td>\n",
       "      <td>0</td>\n",
       "      <td>None</td>\n",
       "    </tr>\n",
       "    <tr>\n",
       "      <th>110</th>\n",
       "      <td>Republican</td>\n",
       "      <td>James J. Davis (Incumbent)</td>\n",
       "      <td>49.46%</td>\n",
       "      <td>2780878</td>\n",
       "      <td>NaN</td>\n",
       "      <td>0</td>\n",
       "      <td>None</td>\n",
       "    </tr>\n",
       "    <tr>\n",
       "      <th>111</th>\n",
       "      <td>Democratic</td>\n",
       "      <td>Lawrence H. Rupp</td>\n",
       "      <td>43.18%</td>\n",
       "      <td>2780878</td>\n",
       "      <td>NaN</td>\n",
       "      <td>0</td>\n",
       "      <td>None</td>\n",
       "    </tr>\n",
       "    <tr>\n",
       "      <th>112</th>\n",
       "      <td>Prohibition</td>\n",
       "      <td>Edwin J. Fithian</td>\n",
       "      <td>3.83%</td>\n",
       "      <td>2780878</td>\n",
       "      <td>NaN</td>\n",
       "      <td>0</td>\n",
       "      <td>None</td>\n",
       "    </tr>\n",
       "    <tr>\n",
       "      <th>113</th>\n",
       "      <td>Socialist</td>\n",
       "      <td>William J. Van Essen</td>\n",
       "      <td>3.29%</td>\n",
       "      <td>2780878</td>\n",
       "      <td>NaN</td>\n",
       "      <td>0</td>\n",
       "      <td>None</td>\n",
       "    </tr>\n",
       "    <tr>\n",
       "      <th>114</th>\n",
       "      <td>Communist</td>\n",
       "      <td>Harry M. Wicks</td>\n",
       "      <td>0.23%</td>\n",
       "      <td>2780878</td>\n",
       "      <td>NaN</td>\n",
       "      <td>0</td>\n",
       "      <td>None</td>\n",
       "    </tr>\n",
       "    <tr>\n",
       "      <th>115</th>\n",
       "      <td>Democratic</td>\n",
       "      <td>Ellison D. Smith (Incumbent)</td>\n",
       "      <td>98.1%</td>\n",
       "      <td>106448</td>\n",
       "      <td>NaN</td>\n",
       "      <td>0</td>\n",
       "      <td>None</td>\n",
       "    </tr>\n",
       "    <tr>\n",
       "      <th>116</th>\n",
       "      <td>Republican</td>\n",
       "      <td>Clara Harrigal</td>\n",
       "      <td>1.9%</td>\n",
       "      <td>106448</td>\n",
       "      <td>NaN</td>\n",
       "      <td>0</td>\n",
       "      <td>None</td>\n",
       "    </tr>\n",
       "    <tr>\n",
       "      <th>117</th>\n",
       "      <td>Republican</td>\n",
       "      <td>Peter Norbeck (Incumbent)</td>\n",
       "      <td>53.83%</td>\n",
       "      <td>282092</td>\n",
       "      <td>NaN</td>\n",
       "      <td>0</td>\n",
       "      <td>None</td>\n",
       "    </tr>\n",
       "    <tr>\n",
       "      <th>118</th>\n",
       "      <td>Democratic</td>\n",
       "      <td>U. S. G. Cherry</td>\n",
       "      <td>44.57%</td>\n",
       "      <td>282092</td>\n",
       "      <td>NaN</td>\n",
       "      <td>0</td>\n",
       "      <td>None</td>\n",
       "    </tr>\n",
       "    <tr>\n",
       "      <th>119</th>\n",
       "      <td>Liberty</td>\n",
       "      <td>Howard Platt</td>\n",
       "      <td>1.37%</td>\n",
       "      <td>282092</td>\n",
       "      <td>NaN</td>\n",
       "      <td>0</td>\n",
       "      <td>None</td>\n",
       "    </tr>\n",
       "    <tr>\n",
       "      <th>120</th>\n",
       "      <td>Independent</td>\n",
       "      <td>Oscar Luttio</td>\n",
       "      <td>0.14%</td>\n",
       "      <td>282092</td>\n",
       "      <td>NaN</td>\n",
       "      <td>0</td>\n",
       "      <td>None</td>\n",
       "    </tr>\n",
       "    <tr>\n",
       "      <th>121</th>\n",
       "      <td>Independent</td>\n",
       "      <td>L. J. Manbeck</td>\n",
       "      <td>0.08%</td>\n",
       "      <td>282092</td>\n",
       "      <td>NaN</td>\n",
       "      <td>0</td>\n",
       "      <td>None</td>\n",
       "    </tr>\n",
       "    <tr>\n",
       "      <th>122</th>\n",
       "      <td>Democratic</td>\n",
       "      <td>Elbert D. Thomas</td>\n",
       "      <td>56.66%</td>\n",
       "      <td>206282</td>\n",
       "      <td>NaN</td>\n",
       "      <td>0</td>\n",
       "      <td>None</td>\n",
       "    </tr>\n",
       "    <tr>\n",
       "      <th>123</th>\n",
       "      <td>Republican</td>\n",
       "      <td>Reed Smoot (Incumbent)</td>\n",
       "      <td>41.71%</td>\n",
       "      <td>206282</td>\n",
       "      <td>NaN</td>\n",
       "      <td>0</td>\n",
       "      <td>None</td>\n",
       "    </tr>\n",
       "    <tr>\n",
       "      <th>124</th>\n",
       "      <td>Socialist</td>\n",
       "      <td>?</td>\n",
       "      <td>1.19%</td>\n",
       "      <td>206282</td>\n",
       "      <td>NaN</td>\n",
       "      <td>0</td>\n",
       "      <td>None</td>\n",
       "    </tr>\n",
       "    <tr>\n",
       "      <th>125</th>\n",
       "      <td>Communist</td>\n",
       "      <td>?</td>\n",
       "      <td>0.43%</td>\n",
       "      <td>206282</td>\n",
       "      <td>NaN</td>\n",
       "      <td>0</td>\n",
       "      <td>None</td>\n",
       "    </tr>\n",
       "    <tr>\n",
       "      <th>126</th>\n",
       "      <td>Republican</td>\n",
       "      <td>Porter H. Dale (Incumbent)</td>\n",
       "      <td>55.1%</td>\n",
       "      <td>NaN</td>\n",
       "      <td>134774</td>\n",
       "      <td>0</td>\n",
       "      <td>None</td>\n",
       "    </tr>\n",
       "    <tr>\n",
       "      <th>127</th>\n",
       "      <td>Democratic</td>\n",
       "      <td>Fred C. Martin</td>\n",
       "      <td>44.9%</td>\n",
       "      <td>NaN</td>\n",
       "      <td>134774</td>\n",
       "      <td>0</td>\n",
       "      <td>None</td>\n",
       "    </tr>\n",
       "    <tr>\n",
       "      <th>128</th>\n",
       "      <td>Democratic</td>\n",
       "      <td>Homer Bone</td>\n",
       "      <td>60.61%</td>\n",
       "      <td>603795</td>\n",
       "      <td>NaN</td>\n",
       "      <td>0</td>\n",
       "      <td>None</td>\n",
       "    </tr>\n",
       "    <tr>\n",
       "      <th>129</th>\n",
       "      <td>Republican</td>\n",
       "      <td>Wesley Livsey Jones (Incumbent)</td>\n",
       "      <td>32.70%</td>\n",
       "      <td>603795</td>\n",
       "      <td>NaN</td>\n",
       "      <td>0</td>\n",
       "      <td>None</td>\n",
       "    </tr>\n",
       "    <tr>\n",
       "      <th>130</th>\n",
       "      <td>Liberty</td>\n",
       "      <td>Frederick R. Burch</td>\n",
       "      <td>4.78%</td>\n",
       "      <td>603795</td>\n",
       "      <td>NaN</td>\n",
       "      <td>0</td>\n",
       "      <td>None</td>\n",
       "    </tr>\n",
       "    <tr>\n",
       "      <th>131</th>\n",
       "      <td>Socialist</td>\n",
       "      <td>Andrew T. Hunter</td>\n",
       "      <td>1.55%</td>\n",
       "      <td>603795</td>\n",
       "      <td>NaN</td>\n",
       "      <td>0</td>\n",
       "      <td>None</td>\n",
       "    </tr>\n",
       "    <tr>\n",
       "      <th>132</th>\n",
       "      <td>Communist</td>\n",
       "      <td>Alex Noral</td>\n",
       "      <td>0.36%</td>\n",
       "      <td>603795</td>\n",
       "      <td>NaN</td>\n",
       "      <td>0</td>\n",
       "      <td>None</td>\n",
       "    </tr>\n",
       "    <tr>\n",
       "      <th>133</th>\n",
       "      <td>Democratic</td>\n",
       "      <td>F. Ryan Duffy</td>\n",
       "      <td>56.97%</td>\n",
       "      <td>1071065</td>\n",
       "      <td>NaN</td>\n",
       "      <td>0</td>\n",
       "      <td>None</td>\n",
       "    </tr>\n",
       "    <tr>\n",
       "      <th>134</th>\n",
       "      <td>Republican</td>\n",
       "      <td>John B. Chapple</td>\n",
       "      <td>36.19%</td>\n",
       "      <td>1071065</td>\n",
       "      <td>NaN</td>\n",
       "      <td>0</td>\n",
       "      <td>None</td>\n",
       "    </tr>\n",
       "    <tr>\n",
       "      <th>135</th>\n",
       "      <td>Socialist</td>\n",
       "      <td>Emil Seidel</td>\n",
       "      <td>6.14%</td>\n",
       "      <td>1071065</td>\n",
       "      <td>NaN</td>\n",
       "      <td>0</td>\n",
       "      <td>None</td>\n",
       "    </tr>\n",
       "    <tr>\n",
       "      <th>136</th>\n",
       "      <td>Prohibition</td>\n",
       "      <td>Harvey A. Knapp</td>\n",
       "      <td>0.41%</td>\n",
       "      <td>1071065</td>\n",
       "      <td>NaN</td>\n",
       "      <td>0</td>\n",
       "      <td>None</td>\n",
       "    </tr>\n",
       "    <tr>\n",
       "      <th>137</th>\n",
       "      <td>Communist</td>\n",
       "      <td>Ray Hansborough</td>\n",
       "      <td>0.27%</td>\n",
       "      <td>1071065</td>\n",
       "      <td>NaN</td>\n",
       "      <td>0</td>\n",
       "      <td>None</td>\n",
       "    </tr>\n",
       "    <tr>\n",
       "      <th>138</th>\n",
       "      <td>None</td>\n",
       "      <td>Scattering</td>\n",
       "      <td>0.00%</td>\n",
       "      <td>1071065</td>\n",
       "      <td>NaN</td>\n",
       "      <td>0</td>\n",
       "      <td>None</td>\n",
       "    </tr>\n",
       "  </tbody>\n",
       "</table>\n",
       "<p>139 rows × 7 columns</p>\n",
       "</div>"
      ],
      "text/plain": [
       "                      Party                         Candidate       %  \\\n",
       "0                Democratic            Hugo Black (Incumbent)  86.25%   \n",
       "1                Republican               J. Theodore Johnson  13.75%   \n",
       "2                Democratic                    Carl T. Hayden  66.67%   \n",
       "3                Republican                  Ralph H. Cameron  32.06%   \n",
       "4                 Socialist                Lester B. Woolever   1.00%   \n",
       "5                 Communist                   Edward Haustgen   0.28%   \n",
       "6                Democratic  Hattie Wyatt Caraway (Incumbent)  91.62%   \n",
       "7               Independent                         Rex Floyd   5.16%   \n",
       "8               Independent                     Sam D. Carson   3.22%   \n",
       "9                Democratic  Hattie Wyatt Caraway (Incumbent)  89.71%   \n",
       "10               Republican                     John W. White  10.29%   \n",
       "11               Democratic              William Gibbs McAdoo  43.39%   \n",
       "12               Republican                     Tallant Tubbs  30.81%   \n",
       "13              Prohibition                  Robert P. Shuler  25.76%   \n",
       "14                 Write-In           George Ross Kirkpatrick   0.02%   \n",
       "15                     None                        Scattering   0.02%   \n",
       "16               Republican                  Karl C. Schuyler  48.76%   \n",
       "17               Democratic         Walter Walker (Incumbent)  48.51%   \n",
       "18                Socialist                   Carle Whitehead   2.73%   \n",
       "19               Democratic                     Alva B. Adams  52.23%   \n",
       "20               Republican                  Karl C. Schuyler  45.78%   \n",
       "21                Socialist                   Carle Whitehead   1.99%   \n",
       "22             Farmer–Labor                 Huston Hugh Marrs   0.42%   \n",
       "23                Communist          Raymond D. D. Richardson   0.20%   \n",
       "24               Democratic                Augustine Lonergan  47.50%   \n",
       "25               Republican     Hiram Bingham III (Incumbent)  46.78%   \n",
       "26                Socialist                      Devere Allen   3.33%   \n",
       "27   Independent Republican                    Milton Conover   1.79%   \n",
       "28          Socialist Labor                   John L. Grennan   0.38%   \n",
       "29                Communist                    William Secker   0.23%   \n",
       "..                      ...                               ...     ...   \n",
       "109               Communist                     A. G. Krueger   0.72%   \n",
       "110              Republican        James J. Davis (Incumbent)  49.46%   \n",
       "111              Democratic                  Lawrence H. Rupp  43.18%   \n",
       "112             Prohibition                  Edwin J. Fithian   3.83%   \n",
       "113               Socialist              William J. Van Essen   3.29%   \n",
       "114               Communist                    Harry M. Wicks   0.23%   \n",
       "115              Democratic      Ellison D. Smith (Incumbent)   98.1%   \n",
       "116              Republican                    Clara Harrigal    1.9%   \n",
       "117              Republican         Peter Norbeck (Incumbent)  53.83%   \n",
       "118              Democratic                   U. S. G. Cherry  44.57%   \n",
       "119                 Liberty                      Howard Platt   1.37%   \n",
       "120             Independent                      Oscar Luttio   0.14%   \n",
       "121             Independent                     L. J. Manbeck   0.08%   \n",
       "122              Democratic                  Elbert D. Thomas  56.66%   \n",
       "123              Republican            Reed Smoot (Incumbent)  41.71%   \n",
       "124               Socialist                                 ?   1.19%   \n",
       "125               Communist                                 ?   0.43%   \n",
       "126              Republican        Porter H. Dale (Incumbent)   55.1%   \n",
       "127              Democratic                    Fred C. Martin   44.9%   \n",
       "128              Democratic                        Homer Bone  60.61%   \n",
       "129              Republican   Wesley Livsey Jones (Incumbent)  32.70%   \n",
       "130                 Liberty                Frederick R. Burch   4.78%   \n",
       "131               Socialist                  Andrew T. Hunter   1.55%   \n",
       "132               Communist                        Alex Noral   0.36%   \n",
       "133              Democratic                     F. Ryan Duffy  56.97%   \n",
       "134              Republican                   John B. Chapple  36.19%   \n",
       "135               Socialist                       Emil Seidel   6.14%   \n",
       "136             Prohibition                   Harvey A. Knapp   0.41%   \n",
       "137               Communist                   Ray Hansborough   0.27%   \n",
       "138                    None                        Scattering   0.00%   \n",
       "\n",
       "     Turnout Total votes  Incumb_Y        State  \n",
       "0     243039         NaN         1      Alabama  \n",
       "1     243039         NaN         0         None  \n",
       "2     111463         NaN         0         None  \n",
       "3     111463         NaN         0      Arizona  \n",
       "4     111463         NaN         0         None  \n",
       "5     111463         NaN         0         None  \n",
       "6        NaN         NaN         1     Arkansas  \n",
       "7        NaN         NaN         0         None  \n",
       "8        NaN         NaN         0         None  \n",
       "9     209552         NaN         1     Arkansas  \n",
       "10    209552         NaN         0         None  \n",
       "11   2173834         NaN         0   California  \n",
       "12   2173834         NaN         0         None  \n",
       "13   2173834         NaN         0         None  \n",
       "14   2173834         NaN         0         None  \n",
       "15   2173834         NaN         0         None  \n",
       "16       NaN         NaN         0         None  \n",
       "17       NaN         NaN         1     Colorado  \n",
       "18       NaN         NaN         0         None  \n",
       "19    433671         NaN         0     Colorado  \n",
       "20    433671         NaN         0         None  \n",
       "21    433671         NaN         0         None  \n",
       "22    433671         NaN         0         None  \n",
       "23    433671         NaN         0         None  \n",
       "24    594402         NaN         0  Connecticut  \n",
       "25    594402         NaN         1  Connecticut  \n",
       "26    594402         NaN         0         None  \n",
       "27    594402         NaN         0         None  \n",
       "28    594402         NaN         0         None  \n",
       "29    594402         NaN         0         None  \n",
       "..       ...         ...       ...          ...  \n",
       "109   353194         NaN         0         None  \n",
       "110  2780878         NaN         0         None  \n",
       "111  2780878         NaN         0         None  \n",
       "112  2780878         NaN         0         None  \n",
       "113  2780878         NaN         0         None  \n",
       "114  2780878         NaN         0         None  \n",
       "115   106448         NaN         0         None  \n",
       "116   106448         NaN         0         None  \n",
       "117   282092         NaN         0         None  \n",
       "118   282092         NaN         0         None  \n",
       "119   282092         NaN         0         None  \n",
       "120   282092         NaN         0         None  \n",
       "121   282092         NaN         0         None  \n",
       "122   206282         NaN         0         None  \n",
       "123   206282         NaN         0         None  \n",
       "124   206282         NaN         0         None  \n",
       "125   206282         NaN         0         None  \n",
       "126      NaN      134774         0         None  \n",
       "127      NaN      134774         0         None  \n",
       "128   603795         NaN         0         None  \n",
       "129   603795         NaN         0         None  \n",
       "130   603795         NaN         0         None  \n",
       "131   603795         NaN         0         None  \n",
       "132   603795         NaN         0         None  \n",
       "133  1071065         NaN         0         None  \n",
       "134  1071065         NaN         0         None  \n",
       "135  1071065         NaN         0         None  \n",
       "136  1071065         NaN         0         None  \n",
       "137  1071065         NaN         0         None  \n",
       "138  1071065         NaN         0         None  \n",
       "\n",
       "[139 rows x 7 columns]"
      ]
     },
     "metadata": {},
     "output_type": "display_data"
    },
    {
     "name": "stdout",
     "output_type": "stream",
     "text": [
      "Error with build, keep table? (Y/N):Y\n",
      "Table 1932 saved!\n",
      "------------------------------Step 4 Complete!------------------------------\n"
     ]
    }
   ],
   "source": [
    "# yr_st_elects = dlf.st_election_collector(election_collection_raw)\n",
    "# print(('---'*10)+'Step 1 Complete!'+('---'*10))\n",
    "# print('yr_st_elects length:', len(yr_st_elects))\n",
    "\n",
    "# yr_st_dict = dlf.st_election_cleaner(yr_st_elects)\n",
    "# print(('---'*10)+'Step 2 Complete!'+('---'*10))\n",
    "\n",
    "yr_st_dict_joined = dlf.st_election_aggregator(yr_st_dict)\n",
    "print(('---'*10)+'Step 3 Complete!'+('---'*10))\n",
    "\n",
    "yr_st_dict_mapped = dlf.st_election_state_mapper(yr_st_dict_joined, name_lookup_df)\n",
    "print(('---'*10)+'Step 4 Complete!'+('---'*10))"
   ]
  },
  {
   "cell_type": "code",
   "execution_count": 7,
   "metadata": {
    "ExecuteTime": {
     "end_time": "2020-08-11T19:48:57.190799Z",
     "start_time": "2020-08-11T19:48:57.181940Z"
    },
    "scrolled": true
   },
   "outputs": [],
   "source": [
    "# sen_leader_tables = dlf.sen_leader_collector(election_collection_raw)\n",
    "\n",
    "# sen_leader_dict = dlf.sen_leader_cleaner(sen_leader_tables)\n",
    "\n",
    "# test = dlf.table_checker(dict_=sen_leader_dict)\n",
    "# print(type(test))\n",
    "# test"
   ]
  },
  {
   "cell_type": "code",
   "execution_count": 73,
   "metadata": {
    "ExecuteTime": {
     "end_time": "2020-08-12T02:02:50.205397Z",
     "start_time": "2020-08-12T02:02:50.151581Z"
    },
    "scrolled": false
   },
   "outputs": [],
   "source": [
    "# ldr_master_df = dlf.master_leader_tabler(sen_leader_dict)\n",
    "# ldr_master_df\n",
    "\n",
    "# ldr_master_df_model = dlf.master_leader_cleaner(ldr_master_df, rd_stand=True, fillna_stand=True)\n",
    "# ldr_master_df_model = dlf.regex_subber_bycol(ldr_master_df_model, 'Leader', \n",
    "#                                          [r'\\(([^\\)]+)\\)', r'\\[([^\\)]+)\\]'],\n",
    "#                                          multi_patt=True)\n",
    "# ldr_master_df_model"
   ]
  },
  {
   "cell_type": "markdown",
   "metadata": {},
   "source": [
    "## Pickless...."
   ]
  },
  {
   "cell_type": "markdown",
   "metadata": {
    "heading_collapsed": true
   },
   "source": [
    "### Writing.."
   ]
  },
  {
   "cell_type": "code",
   "execution_count": 9,
   "metadata": {
    "ExecuteTime": {
     "end_time": "2020-08-11T19:48:57.230235Z",
     "start_time": "2020-08-11T19:48:57.224654Z"
    },
    "hidden": true
   },
   "outputs": [],
   "source": [
    "# with open('election_collection_raw.pickle', 'wb') as f:\n",
    "#     pickle.dump(election_collection_raw, f)\n",
    "#     f.close()"
   ]
  },
  {
   "cell_type": "code",
   "execution_count": 10,
   "metadata": {
    "ExecuteTime": {
     "end_time": "2020-08-11T19:48:57.245427Z",
     "start_time": "2020-08-11T19:48:57.236720Z"
    },
    "hidden": true
   },
   "outputs": [],
   "source": [
    "# with open('yr_sum_tables.pickle', 'wb') as f:\n",
    "#     pickle.dump(yr_sum_tables, f)\n",
    "#     f.close()"
   ]
  },
  {
   "cell_type": "code",
   "execution_count": 11,
   "metadata": {
    "ExecuteTime": {
     "end_time": "2020-08-11T19:48:57.260834Z",
     "start_time": "2020-08-11T19:48:57.251150Z"
    },
    "hidden": true
   },
   "outputs": [],
   "source": [
    "# with open('yr_sum_dict.pickle', 'wb') as f:\n",
    "#     pickle.dump(yr_sum_dict, f)\n",
    "#     f.close()"
   ]
  },
  {
   "cell_type": "code",
   "execution_count": 12,
   "metadata": {
    "ExecuteTime": {
     "end_time": "2020-08-11T19:48:57.277119Z",
     "start_time": "2020-08-11T19:48:57.266541Z"
    },
    "hidden": true
   },
   "outputs": [],
   "source": [
    "# with open('name_lookup_df.pickle', 'wb') as f:\n",
    "#     pickle.dump(name_lookup_df, f)\n",
    "#     f.close()"
   ]
  },
  {
   "cell_type": "code",
   "execution_count": 13,
   "metadata": {
    "ExecuteTime": {
     "end_time": "2020-08-11T19:48:57.300235Z",
     "start_time": "2020-08-11T19:48:57.285830Z"
    },
    "hidden": true
   },
   "outputs": [],
   "source": [
    "# with open('yr_st_elects.pickle', 'wb') as f:\n",
    "#     pickle.dump(yr_st_elects, f)\n",
    "#     f.close()"
   ]
  },
  {
   "cell_type": "code",
   "execution_count": 14,
   "metadata": {
    "ExecuteTime": {
     "end_time": "2020-08-11T19:48:57.316136Z",
     "start_time": "2020-08-11T19:48:57.307651Z"
    },
    "hidden": true
   },
   "outputs": [],
   "source": [
    "# with open('yr_st_dict.pickle', 'wb') as f:\n",
    "#     pickle.dump(yr_st_dict, f)\n",
    "#     f.close()"
   ]
  },
  {
   "cell_type": "code",
   "execution_count": 15,
   "metadata": {
    "ExecuteTime": {
     "end_time": "2020-08-11T19:48:57.332412Z",
     "start_time": "2020-08-11T19:48:57.321070Z"
    },
    "hidden": true
   },
   "outputs": [],
   "source": [
    "# with open('yr_st_dict_joined.pickle', 'wb') as f:\n",
    "#     pickle.dump(yr_st_dict_joined, f)\n",
    "#     f.close()"
   ]
  },
  {
   "cell_type": "code",
   "execution_count": 16,
   "metadata": {
    "ExecuteTime": {
     "end_time": "2020-08-11T19:48:57.349027Z",
     "start_time": "2020-08-11T19:48:57.339885Z"
    },
    "hidden": true
   },
   "outputs": [],
   "source": [
    "# with open('yr_st_dict_mapped.pickle', 'wb') as f:\n",
    "#     pickle.dump(yr_st_dict_mapped, f)\n",
    "#     f.close()"
   ]
  },
  {
   "cell_type": "code",
   "execution_count": 17,
   "metadata": {
    "ExecuteTime": {
     "end_time": "2020-08-11T19:48:57.364614Z",
     "start_time": "2020-08-11T19:48:57.357080Z"
    },
    "hidden": true
   },
   "outputs": [],
   "source": [
    "# with open('sen_leader_tables.pickle', 'wb') as f:\n",
    "#     pickle.dump(sen_leader_tables, f)\n",
    "#     f.close()"
   ]
  },
  {
   "cell_type": "code",
   "execution_count": 18,
   "metadata": {
    "ExecuteTime": {
     "end_time": "2020-08-11T19:48:57.380408Z",
     "start_time": "2020-08-11T19:48:57.369590Z"
    },
    "hidden": true
   },
   "outputs": [],
   "source": [
    "# with open('sen_leader_dict.pickle', 'wb') as f:\n",
    "#     pickle.dump(sen_leader_dict, f)\n",
    "#     f.close()"
   ]
  },
  {
   "cell_type": "code",
   "execution_count": 35,
   "metadata": {
    "ExecuteTime": {
     "end_time": "2020-08-11T19:54:37.053529Z",
     "start_time": "2020-08-11T19:54:37.045889Z"
    },
    "hidden": true
   },
   "outputs": [],
   "source": [
    "# with open('ldr_master_df.pickle', 'wb') as f:\n",
    "#     pickle.dump(ldr_master_df, f)\n",
    "#     f.close()"
   ]
  },
  {
   "cell_type": "code",
   "execution_count": 75,
   "metadata": {
    "ExecuteTime": {
     "end_time": "2020-08-12T02:04:18.498244Z",
     "start_time": "2020-08-12T02:04:18.467033Z"
    },
    "hidden": true
   },
   "outputs": [],
   "source": [
    "# with open('ldr_master_df_model.pickle', 'wb') as f:\n",
    "#     pickle.dump(ldr_master_df_model, f)\n",
    "#     f.close()"
   ]
  },
  {
   "cell_type": "markdown",
   "metadata": {},
   "source": [
    "### Reading.."
   ]
  },
  {
   "cell_type": "code",
   "execution_count": 20,
   "metadata": {
    "ExecuteTime": {
     "end_time": "2020-08-11T19:48:58.600240Z",
     "start_time": "2020-08-11T19:48:57.400276Z"
    }
   },
   "outputs": [],
   "source": [
    "# with open('election_collection_raw.pickle', 'rb') as f:\n",
    "#     election_collection_raw = pickle.load(f)\n",
    "#     f.close()"
   ]
  },
  {
   "cell_type": "code",
   "execution_count": 21,
   "metadata": {
    "ExecuteTime": {
     "end_time": "2020-08-11T19:48:58.656162Z",
     "start_time": "2020-08-11T19:48:58.606918Z"
    }
   },
   "outputs": [],
   "source": [
    "# with open('yr_sum_tables.pickle', 'rb') as f:\n",
    "#     yr_sum_tables = pickle.load(f)\n",
    "#     f.close()"
   ]
  },
  {
   "cell_type": "code",
   "execution_count": 22,
   "metadata": {
    "ExecuteTime": {
     "end_time": "2020-08-11T19:48:58.747843Z",
     "start_time": "2020-08-11T19:48:58.660718Z"
    }
   },
   "outputs": [],
   "source": [
    "with open('yr_sum_dict.pickle', 'rb') as f:\n",
    "    yr_sum_dict = pickle.load(f)\n",
    "    f.close()"
   ]
  },
  {
   "cell_type": "code",
   "execution_count": 23,
   "metadata": {
    "ExecuteTime": {
     "end_time": "2020-08-11T19:48:58.782418Z",
     "start_time": "2020-08-11T19:48:58.758268Z"
    }
   },
   "outputs": [],
   "source": [
    "with open('name_lookup_df.pickle', 'rb') as f:\n",
    "    name_lookup_df = pickle.load(f)\n",
    "    f.close()"
   ]
  },
  {
   "cell_type": "code",
   "execution_count": 24,
   "metadata": {
    "ExecuteTime": {
     "end_time": "2020-08-11T19:48:59.946665Z",
     "start_time": "2020-08-11T19:48:58.789084Z"
    }
   },
   "outputs": [],
   "source": [
    "# with open('yr_st_elects.pickle', 'rb') as f:\n",
    "#     yr_st_elects = pickle.load(f)\n",
    "#     f.close()"
   ]
  },
  {
   "cell_type": "code",
   "execution_count": 25,
   "metadata": {
    "ExecuteTime": {
     "end_time": "2020-08-11T19:49:01.448230Z",
     "start_time": "2020-08-11T19:48:59.950468Z"
    }
   },
   "outputs": [],
   "source": [
    "# with open('yr_st_dict.pickle', 'rb') as f:\n",
    "#     yr_st_dict = pickle.load(f)\n",
    "#     f.close()"
   ]
  },
  {
   "cell_type": "code",
   "execution_count": 26,
   "metadata": {
    "ExecuteTime": {
     "end_time": "2020-08-11T19:49:01.563045Z",
     "start_time": "2020-08-11T19:49:01.448230Z"
    }
   },
   "outputs": [],
   "source": [
    "# with open('yr_st_dict_joined.pickle', 'rb') as f:\n",
    "#     yr_st_dict_joined = pickle.load(f)\n",
    "#     f.close()"
   ]
  },
  {
   "cell_type": "code",
   "execution_count": 27,
   "metadata": {
    "ExecuteTime": {
     "end_time": "2020-08-11T19:49:01.665024Z",
     "start_time": "2020-08-11T19:49:01.569999Z"
    }
   },
   "outputs": [],
   "source": [
    "with open('yr_st_dict_mapped.pickle', 'rb') as f:\n",
    "    yr_st_dict_mapped = pickle.load(f)\n",
    "    f.close()"
   ]
  },
  {
   "cell_type": "code",
   "execution_count": 28,
   "metadata": {
    "ExecuteTime": {
     "end_time": "2020-08-11T19:49:01.727540Z",
     "start_time": "2020-08-11T19:49:01.672898Z"
    }
   },
   "outputs": [],
   "source": [
    "# with open('sen_leader_tables.pickle', 'rb') as f:\n",
    "#     sen_leader_tables = pickle.load(f)\n",
    "#     f.close()"
   ]
  },
  {
   "cell_type": "code",
   "execution_count": 29,
   "metadata": {
    "ExecuteTime": {
     "end_time": "2020-08-11T19:49:01.801116Z",
     "start_time": "2020-08-11T19:49:01.734130Z"
    }
   },
   "outputs": [],
   "source": [
    "with open('sen_leader_dict.pickle', 'rb') as f:\n",
    "    sen_leader_dict = pickle.load(f)\n",
    "    f.close()"
   ]
  },
  {
   "cell_type": "code",
   "execution_count": 30,
   "metadata": {
    "ExecuteTime": {
     "end_time": "2020-08-11T19:49:01.842240Z",
     "start_time": "2020-08-11T19:49:01.803643Z"
    }
   },
   "outputs": [],
   "source": [
    "# with open('ldr_master_df.pickle', 'rb') as f:\n",
    "#     ldr_master_df = pickle.load(f)\n",
    "#     f.close()"
   ]
  },
  {
   "cell_type": "code",
   "execution_count": null,
   "metadata": {},
   "outputs": [],
   "source": [
    "with open('ldr_master_df_model.pickle', 'rb') as f:\n",
    "    ldr_master_df_model = pickle.load(f)\n",
    "    f.close()"
   ]
  },
  {
   "cell_type": "code",
   "execution_count": 31,
   "metadata": {
    "ExecuteTime": {
     "end_time": "2020-08-11T19:49:01.859634Z",
     "start_time": "2020-08-11T19:49:01.849502Z"
    }
   },
   "outputs": [],
   "source": [
    "## Must do this befor running code for state elections. Error in code\n",
    "# do_not_use = election_collection_raw['2018'][2].pop(0)"
   ]
  },
  {
   "cell_type": "markdown",
   "metadata": {},
   "source": [
    "## Workshop"
   ]
  },
  {
   "cell_type": "markdown",
   "metadata": {},
   "source": [
    "Need to go through and format these tables across all elections. then can finally take info from each of the sections to create final year dataframes"
   ]
  },
  {
   "cell_type": "code",
   "execution_count": 54,
   "metadata": {
    "ExecuteTime": {
     "end_time": "2020-08-11T23:09:25.836273Z",
     "start_time": "2020-08-11T23:09:25.795384Z"
    },
    "scrolled": true
   },
   "outputs": [
    {
     "data": {
      "text/plain": [
       "<module 'functions' from 'C:\\\\Users\\\\d_ful\\\\Documents\\\\GitHub\\\\Capstone_Project\\\\functions.py'>"
      ]
     },
     "execution_count": 54,
     "metadata": {},
     "output_type": "execute_result"
    }
   ],
   "source": [
    "# reload(dlf)"
   ]
  },
  {
   "cell_type": "code",
   "execution_count": null,
   "metadata": {
    "ExecuteTime": {
     "end_time": "2020-08-11T23:00:27.469901Z",
     "start_time": "2020-08-11T23:00:25.481Z"
    },
    "scrolled": false
   },
   "outputs": [],
   "source": [
    "## Display year's summary with incumbent and results\n",
    "# test2 = dlf.table_checker(dict_=yr_sum_dict)\n",
    "# print(type(test2))\n",
    "# for table in test2:\n",
    "#     display(table.head(10))"
   ]
  },
  {
   "cell_type": "code",
   "execution_count": 76,
   "metadata": {
    "ExecuteTime": {
     "end_time": "2020-08-12T02:08:56.644145Z",
     "start_time": "2020-08-12T02:08:54.173233Z"
    },
    "scrolled": true
   },
   "outputs": [
    {
     "name": "stdout",
     "output_type": "stream",
     "text": [
      "Key to pull:2008\n",
      "<class 'pandas.core.frame.DataFrame'>\n"
     ]
    },
    {
     "data": {
      "text/html": [
       "<div>\n",
       "<style scoped>\n",
       "    .dataframe tbody tr th:only-of-type {\n",
       "        vertical-align: middle;\n",
       "    }\n",
       "\n",
       "    .dataframe tbody tr th {\n",
       "        vertical-align: top;\n",
       "    }\n",
       "\n",
       "    .dataframe thead th {\n",
       "        text-align: right;\n",
       "    }\n",
       "</style>\n",
       "<table border=\"1\" class=\"dataframe\">\n",
       "  <thead>\n",
       "    <tr style=\"text-align: right;\">\n",
       "      <th></th>\n",
       "      <th>Party</th>\n",
       "      <th>Candidate</th>\n",
       "      <th>%</th>\n",
       "      <th>Turnout</th>\n",
       "      <th>Incumb_Y</th>\n",
       "      <th>State</th>\n",
       "    </tr>\n",
       "  </thead>\n",
       "  <tbody>\n",
       "    <tr>\n",
       "      <th>0</th>\n",
       "      <td>Republican</td>\n",
       "      <td>Jeff Sessions (Incumbent)</td>\n",
       "      <td>63.36%</td>\n",
       "      <td>NaN</td>\n",
       "      <td>1</td>\n",
       "      <td>Alabama</td>\n",
       "    </tr>\n",
       "    <tr>\n",
       "      <th>1</th>\n",
       "      <td>Democratic</td>\n",
       "      <td>Vivian Figures</td>\n",
       "      <td>36.52%</td>\n",
       "      <td>NaN</td>\n",
       "      <td>0</td>\n",
       "      <td>None</td>\n",
       "    </tr>\n",
       "    <tr>\n",
       "      <th>2</th>\n",
       "      <td>Write-in</td>\n",
       "      <td>Write-ins</td>\n",
       "      <td>0.12%</td>\n",
       "      <td>NaN</td>\n",
       "      <td>0</td>\n",
       "      <td>None</td>\n",
       "    </tr>\n",
       "    <tr>\n",
       "      <th>3</th>\n",
       "      <td>Democratic</td>\n",
       "      <td>Mark Begich</td>\n",
       "      <td>84.12%</td>\n",
       "      <td>NaN</td>\n",
       "      <td>0</td>\n",
       "      <td>Alaska</td>\n",
       "    </tr>\n",
       "    <tr>\n",
       "      <th>4</th>\n",
       "      <td>Democratic</td>\n",
       "      <td>Ray Metcalfe</td>\n",
       "      <td>7.23%</td>\n",
       "      <td>NaN</td>\n",
       "      <td>0</td>\n",
       "      <td>None</td>\n",
       "    </tr>\n",
       "    <tr>\n",
       "      <th>5</th>\n",
       "      <td>Alaskan Independence</td>\n",
       "      <td>Bob Bird</td>\n",
       "      <td>5.56%</td>\n",
       "      <td>NaN</td>\n",
       "      <td>0</td>\n",
       "      <td>None</td>\n",
       "    </tr>\n",
       "    <tr>\n",
       "      <th>6</th>\n",
       "      <td>Libertarian</td>\n",
       "      <td>Fredrick Haase</td>\n",
       "      <td>1.81%</td>\n",
       "      <td>NaN</td>\n",
       "      <td>0</td>\n",
       "      <td>None</td>\n",
       "    </tr>\n",
       "    <tr>\n",
       "      <th>7</th>\n",
       "      <td>Democratic</td>\n",
       "      <td>Frank Vondersaar</td>\n",
       "      <td>1.27%</td>\n",
       "      <td>NaN</td>\n",
       "      <td>0</td>\n",
       "      <td>None</td>\n",
       "    </tr>\n",
       "    <tr>\n",
       "      <th>8</th>\n",
       "      <td>Democratic</td>\n",
       "      <td>Mark Begich</td>\n",
       "      <td>47.77%</td>\n",
       "      <td>317723</td>\n",
       "      <td>0</td>\n",
       "      <td>Alaska</td>\n",
       "    </tr>\n",
       "    <tr>\n",
       "      <th>9</th>\n",
       "      <td>Republican</td>\n",
       "      <td>Ted Stevens (Incumbent)</td>\n",
       "      <td>46.52%</td>\n",
       "      <td>317723</td>\n",
       "      <td>1</td>\n",
       "      <td>Alaska</td>\n",
       "    </tr>\n",
       "    <tr>\n",
       "      <th>10</th>\n",
       "      <td>Alaskan Independence</td>\n",
       "      <td>Bob Bird</td>\n",
       "      <td>4.15%</td>\n",
       "      <td>317723</td>\n",
       "      <td>0</td>\n",
       "      <td>None</td>\n",
       "    </tr>\n",
       "    <tr>\n",
       "      <th>11</th>\n",
       "      <td>Libertarian</td>\n",
       "      <td>Fredrick Haase</td>\n",
       "      <td>0.78%</td>\n",
       "      <td>317723</td>\n",
       "      <td>0</td>\n",
       "      <td>None</td>\n",
       "    </tr>\n",
       "    <tr>\n",
       "      <th>12</th>\n",
       "      <td>Democratic</td>\n",
       "      <td>Mark Pryor (Incumbent)</td>\n",
       "      <td>79.53%</td>\n",
       "      <td>NaN</td>\n",
       "      <td>1</td>\n",
       "      <td>Arkansas</td>\n",
       "    </tr>\n",
       "    <tr>\n",
       "      <th>13</th>\n",
       "      <td>Green</td>\n",
       "      <td>Rebekah Kennedy</td>\n",
       "      <td>20.47%</td>\n",
       "      <td>NaN</td>\n",
       "      <td>0</td>\n",
       "      <td>None</td>\n",
       "    </tr>\n",
       "    <tr>\n",
       "      <th>14</th>\n",
       "      <td>Democratic</td>\n",
       "      <td>Mark Udall</td>\n",
       "      <td>52.80%</td>\n",
       "      <td>2331621</td>\n",
       "      <td>0</td>\n",
       "      <td>Colorado</td>\n",
       "    </tr>\n",
       "    <tr>\n",
       "      <th>15</th>\n",
       "      <td>Republican</td>\n",
       "      <td>Bob Schaffer</td>\n",
       "      <td>42.49%</td>\n",
       "      <td>2331621</td>\n",
       "      <td>0</td>\n",
       "      <td>None</td>\n",
       "    </tr>\n",
       "    <tr>\n",
       "      <th>16</th>\n",
       "      <td>Constitution</td>\n",
       "      <td>Douglas Campbell</td>\n",
       "      <td>2.56%</td>\n",
       "      <td>2331621</td>\n",
       "      <td>0</td>\n",
       "      <td>None</td>\n",
       "    </tr>\n",
       "    <tr>\n",
       "      <th>17</th>\n",
       "      <td>Democratic</td>\n",
       "      <td>Joe Biden (Incumbent)</td>\n",
       "      <td>64.69%</td>\n",
       "      <td>398134</td>\n",
       "      <td>1</td>\n",
       "      <td>Delaware</td>\n",
       "    </tr>\n",
       "    <tr>\n",
       "      <th>18</th>\n",
       "      <td>Republican</td>\n",
       "      <td>Christine O'Donnell</td>\n",
       "      <td>35.31%</td>\n",
       "      <td>398134</td>\n",
       "      <td>0</td>\n",
       "      <td>None</td>\n",
       "    </tr>\n",
       "    <tr>\n",
       "      <th>19</th>\n",
       "      <td>Republican</td>\n",
       "      <td>Saxby Chambliss (Incumbent)</td>\n",
       "      <td>49.8%</td>\n",
       "      <td>3752577</td>\n",
       "      <td>1</td>\n",
       "      <td>Georgia</td>\n",
       "    </tr>\n",
       "    <tr>\n",
       "      <th>20</th>\n",
       "      <td>Democratic</td>\n",
       "      <td>Jim Martin</td>\n",
       "      <td>46.8%</td>\n",
       "      <td>3752577</td>\n",
       "      <td>0</td>\n",
       "      <td>None</td>\n",
       "    </tr>\n",
       "    <tr>\n",
       "      <th>21</th>\n",
       "      <td>Libertarian</td>\n",
       "      <td>Allen Buckley</td>\n",
       "      <td>3.4%</td>\n",
       "      <td>3752577</td>\n",
       "      <td>0</td>\n",
       "      <td>None</td>\n",
       "    </tr>\n",
       "    <tr>\n",
       "      <th>22</th>\n",
       "      <td>Republican</td>\n",
       "      <td>Saxby Chambliss (Incumbent)</td>\n",
       "      <td>57.4%</td>\n",
       "      <td>2137956</td>\n",
       "      <td>1</td>\n",
       "      <td>Georgia</td>\n",
       "    </tr>\n",
       "    <tr>\n",
       "      <th>23</th>\n",
       "      <td>Democratic</td>\n",
       "      <td>Jim Martin</td>\n",
       "      <td>42.6%</td>\n",
       "      <td>2137956</td>\n",
       "      <td>0</td>\n",
       "      <td>None</td>\n",
       "    </tr>\n",
       "    <tr>\n",
       "      <th>24</th>\n",
       "      <td>Republican</td>\n",
       "      <td>Jim Risch</td>\n",
       "      <td>57.65%</td>\n",
       "      <td>644780</td>\n",
       "      <td>0</td>\n",
       "      <td>Idaho</td>\n",
       "    </tr>\n",
       "    <tr>\n",
       "      <th>25</th>\n",
       "      <td>Democratic</td>\n",
       "      <td>Larry LaRocco</td>\n",
       "      <td>34.11%</td>\n",
       "      <td>644780</td>\n",
       "      <td>0</td>\n",
       "      <td>None</td>\n",
       "    </tr>\n",
       "    <tr>\n",
       "      <th>26</th>\n",
       "      <td>Libertarian</td>\n",
       "      <td>Kent Marmon</td>\n",
       "      <td>1.54%</td>\n",
       "      <td>644780</td>\n",
       "      <td>0</td>\n",
       "      <td>None</td>\n",
       "    </tr>\n",
       "    <tr>\n",
       "      <th>27</th>\n",
       "      <td>Democratic</td>\n",
       "      <td>Dick Durbin (Incumbent)</td>\n",
       "      <td>67.84%</td>\n",
       "      <td>5329884</td>\n",
       "      <td>1</td>\n",
       "      <td>Illinois</td>\n",
       "    </tr>\n",
       "    <tr>\n",
       "      <th>28</th>\n",
       "      <td>Republican</td>\n",
       "      <td>Steve Sauerberg</td>\n",
       "      <td>28.53%</td>\n",
       "      <td>5329884</td>\n",
       "      <td>0</td>\n",
       "      <td>None</td>\n",
       "    </tr>\n",
       "    <tr>\n",
       "      <th>29</th>\n",
       "      <td>Green</td>\n",
       "      <td>Kathy Cummings</td>\n",
       "      <td>2.24%</td>\n",
       "      <td>5329884</td>\n",
       "      <td>0</td>\n",
       "      <td>None</td>\n",
       "    </tr>\n",
       "    <tr>\n",
       "      <th>...</th>\n",
       "      <td>...</td>\n",
       "      <td>...</td>\n",
       "      <td>...</td>\n",
       "      <td>...</td>\n",
       "      <td>...</td>\n",
       "      <td>...</td>\n",
       "    </tr>\n",
       "    <tr>\n",
       "      <th>78</th>\n",
       "      <td>Democratic</td>\n",
       "      <td>Kay Hagan</td>\n",
       "      <td>52.65%</td>\n",
       "      <td>4271970</td>\n",
       "      <td>0</td>\n",
       "      <td>North_Carolina</td>\n",
       "    </tr>\n",
       "    <tr>\n",
       "      <th>79</th>\n",
       "      <td>Republican</td>\n",
       "      <td>Elizabeth Dole (Incumbent)</td>\n",
       "      <td>44.18%</td>\n",
       "      <td>4271970</td>\n",
       "      <td>1</td>\n",
       "      <td>North_Carolina</td>\n",
       "    </tr>\n",
       "    <tr>\n",
       "      <th>80</th>\n",
       "      <td>Libertarian</td>\n",
       "      <td>Chris Cole</td>\n",
       "      <td>3.17%</td>\n",
       "      <td>4271970</td>\n",
       "      <td>0</td>\n",
       "      <td>None</td>\n",
       "    </tr>\n",
       "    <tr>\n",
       "      <th>81</th>\n",
       "      <td>Other</td>\n",
       "      <td>Write-Ins</td>\n",
       "      <td>0.0%</td>\n",
       "      <td>4271970</td>\n",
       "      <td>0</td>\n",
       "      <td>None</td>\n",
       "    </tr>\n",
       "    <tr>\n",
       "      <th>82</th>\n",
       "      <td>Republican</td>\n",
       "      <td>Jim Inhofe (Incumbent)</td>\n",
       "      <td>56.68%</td>\n",
       "      <td>1346819</td>\n",
       "      <td>1</td>\n",
       "      <td>Oklahoma</td>\n",
       "    </tr>\n",
       "    <tr>\n",
       "      <th>83</th>\n",
       "      <td>Democratic</td>\n",
       "      <td>Andrew Rice</td>\n",
       "      <td>39.18%</td>\n",
       "      <td>1346819</td>\n",
       "      <td>0</td>\n",
       "      <td>None</td>\n",
       "    </tr>\n",
       "    <tr>\n",
       "      <th>84</th>\n",
       "      <td>Democratic</td>\n",
       "      <td>Jeff Merkley</td>\n",
       "      <td>48.90%</td>\n",
       "      <td>1767504</td>\n",
       "      <td>0</td>\n",
       "      <td>Oregon</td>\n",
       "    </tr>\n",
       "    <tr>\n",
       "      <th>85</th>\n",
       "      <td>Republican</td>\n",
       "      <td>Gordon H. Smith (Incumbent)</td>\n",
       "      <td>45.55%</td>\n",
       "      <td>1767504</td>\n",
       "      <td>1</td>\n",
       "      <td>Oregon</td>\n",
       "    </tr>\n",
       "    <tr>\n",
       "      <th>86</th>\n",
       "      <td>Constitution</td>\n",
       "      <td>David Brownlow</td>\n",
       "      <td>5.24%</td>\n",
       "      <td>1767504</td>\n",
       "      <td>0</td>\n",
       "      <td>None</td>\n",
       "    </tr>\n",
       "    <tr>\n",
       "      <th>87</th>\n",
       "      <td>Democratic</td>\n",
       "      <td>Jack Reed</td>\n",
       "      <td>73.4%</td>\n",
       "      <td>436818</td>\n",
       "      <td>0</td>\n",
       "      <td>Rhode_Island</td>\n",
       "    </tr>\n",
       "    <tr>\n",
       "      <th>88</th>\n",
       "      <td>Republican</td>\n",
       "      <td>Bob Tingle</td>\n",
       "      <td>26.6%</td>\n",
       "      <td>436818</td>\n",
       "      <td>0</td>\n",
       "      <td>None</td>\n",
       "    </tr>\n",
       "    <tr>\n",
       "      <th>89</th>\n",
       "      <td>Republican</td>\n",
       "      <td>Lindsey Graham</td>\n",
       "      <td>57.52%</td>\n",
       "      <td>1871431</td>\n",
       "      <td>0</td>\n",
       "      <td>South_Carolina</td>\n",
       "    </tr>\n",
       "    <tr>\n",
       "      <th>90</th>\n",
       "      <td>Democratic</td>\n",
       "      <td>Bob Conley</td>\n",
       "      <td>42.25%</td>\n",
       "      <td>1871431</td>\n",
       "      <td>0</td>\n",
       "      <td>None</td>\n",
       "    </tr>\n",
       "    <tr>\n",
       "      <th>91</th>\n",
       "      <td>Democratic</td>\n",
       "      <td>Tim Johnson (Incumbent)</td>\n",
       "      <td>62.49%</td>\n",
       "      <td>380673</td>\n",
       "      <td>1</td>\n",
       "      <td>South_Dakota</td>\n",
       "    </tr>\n",
       "    <tr>\n",
       "      <th>92</th>\n",
       "      <td>Republican</td>\n",
       "      <td>Joel Dykstra</td>\n",
       "      <td>37.51%</td>\n",
       "      <td>380673</td>\n",
       "      <td>0</td>\n",
       "      <td>None</td>\n",
       "    </tr>\n",
       "    <tr>\n",
       "      <th>93</th>\n",
       "      <td>Republican</td>\n",
       "      <td>Lamar Alexander (Incumbent)</td>\n",
       "      <td>65.14%</td>\n",
       "      <td>2424585</td>\n",
       "      <td>1</td>\n",
       "      <td>Tennessee</td>\n",
       "    </tr>\n",
       "    <tr>\n",
       "      <th>94</th>\n",
       "      <td>Democratic</td>\n",
       "      <td>Bob Tuke</td>\n",
       "      <td>31.64%</td>\n",
       "      <td>2424585</td>\n",
       "      <td>0</td>\n",
       "      <td>None</td>\n",
       "    </tr>\n",
       "    <tr>\n",
       "      <th>95</th>\n",
       "      <td>Republican</td>\n",
       "      <td>John Cornyn</td>\n",
       "      <td>54.82%</td>\n",
       "      <td>7912075</td>\n",
       "      <td>0</td>\n",
       "      <td>Texas</td>\n",
       "    </tr>\n",
       "    <tr>\n",
       "      <th>96</th>\n",
       "      <td>Democratic</td>\n",
       "      <td>Rick Noriega</td>\n",
       "      <td>42.83%</td>\n",
       "      <td>7912075</td>\n",
       "      <td>0</td>\n",
       "      <td>None</td>\n",
       "    </tr>\n",
       "    <tr>\n",
       "      <th>97</th>\n",
       "      <td>Libertarian</td>\n",
       "      <td>Yvonne Adams Schick</td>\n",
       "      <td>2.34%</td>\n",
       "      <td>7912075</td>\n",
       "      <td>0</td>\n",
       "      <td>None</td>\n",
       "    </tr>\n",
       "    <tr>\n",
       "      <th>98</th>\n",
       "      <td>Democratic</td>\n",
       "      <td>Mark Warner</td>\n",
       "      <td>65.03%</td>\n",
       "      <td>3643294</td>\n",
       "      <td>0</td>\n",
       "      <td>Virginia</td>\n",
       "    </tr>\n",
       "    <tr>\n",
       "      <th>99</th>\n",
       "      <td>Republican</td>\n",
       "      <td>Jim Gilmore</td>\n",
       "      <td>33.72%</td>\n",
       "      <td>3643294</td>\n",
       "      <td>0</td>\n",
       "      <td>None</td>\n",
       "    </tr>\n",
       "    <tr>\n",
       "      <th>100</th>\n",
       "      <td>Independent Greens</td>\n",
       "      <td>Glenda Parker</td>\n",
       "      <td>0.60%</td>\n",
       "      <td>3643294</td>\n",
       "      <td>0</td>\n",
       "      <td>None</td>\n",
       "    </tr>\n",
       "    <tr>\n",
       "      <th>101</th>\n",
       "      <td>Libertarian</td>\n",
       "      <td>Bill Redpath</td>\n",
       "      <td>0.56%</td>\n",
       "      <td>3643294</td>\n",
       "      <td>0</td>\n",
       "      <td>None</td>\n",
       "    </tr>\n",
       "    <tr>\n",
       "      <th>102</th>\n",
       "      <td>Democratic</td>\n",
       "      <td>Jay Rockefeller (Incumbent)</td>\n",
       "      <td>63.7%</td>\n",
       "      <td>702189</td>\n",
       "      <td>1</td>\n",
       "      <td>West_Virginia</td>\n",
       "    </tr>\n",
       "    <tr>\n",
       "      <th>103</th>\n",
       "      <td>Republican</td>\n",
       "      <td>Jay Wolfe</td>\n",
       "      <td>36.3%</td>\n",
       "      <td>702189</td>\n",
       "      <td>0</td>\n",
       "      <td>None</td>\n",
       "    </tr>\n",
       "    <tr>\n",
       "      <th>104</th>\n",
       "      <td>Republican</td>\n",
       "      <td>Mike Enzi</td>\n",
       "      <td>75.63%</td>\n",
       "      <td>249946</td>\n",
       "      <td>0</td>\n",
       "      <td>Wyoming</td>\n",
       "    </tr>\n",
       "    <tr>\n",
       "      <th>105</th>\n",
       "      <td>Democratic</td>\n",
       "      <td>Chris Rothfuss</td>\n",
       "      <td>24.26%</td>\n",
       "      <td>249946</td>\n",
       "      <td>0</td>\n",
       "      <td>None</td>\n",
       "    </tr>\n",
       "    <tr>\n",
       "      <th>106</th>\n",
       "      <td>Republican</td>\n",
       "      <td>John Barrasso</td>\n",
       "      <td>73.35%</td>\n",
       "      <td>249558</td>\n",
       "      <td>0</td>\n",
       "      <td>Wyoming</td>\n",
       "    </tr>\n",
       "    <tr>\n",
       "      <th>107</th>\n",
       "      <td>Democratic</td>\n",
       "      <td>Nick Carter</td>\n",
       "      <td>26.53%</td>\n",
       "      <td>249558</td>\n",
       "      <td>0</td>\n",
       "      <td>None</td>\n",
       "    </tr>\n",
       "  </tbody>\n",
       "</table>\n",
       "<p>108 rows × 6 columns</p>\n",
       "</div>"
      ],
      "text/plain": [
       "                    Party                    Candidate       %  Turnout  \\\n",
       "0              Republican    Jeff Sessions (Incumbent)  63.36%      NaN   \n",
       "1              Democratic               Vivian Figures  36.52%      NaN   \n",
       "2                Write-in                    Write-ins   0.12%      NaN   \n",
       "3              Democratic                  Mark Begich  84.12%      NaN   \n",
       "4              Democratic                 Ray Metcalfe   7.23%      NaN   \n",
       "5    Alaskan Independence                     Bob Bird   5.56%      NaN   \n",
       "6             Libertarian               Fredrick Haase   1.81%      NaN   \n",
       "7              Democratic             Frank Vondersaar   1.27%      NaN   \n",
       "8              Democratic                  Mark Begich  47.77%   317723   \n",
       "9              Republican      Ted Stevens (Incumbent)  46.52%   317723   \n",
       "10   Alaskan Independence                     Bob Bird   4.15%   317723   \n",
       "11            Libertarian               Fredrick Haase   0.78%   317723   \n",
       "12             Democratic       Mark Pryor (Incumbent)  79.53%      NaN   \n",
       "13                  Green              Rebekah Kennedy  20.47%      NaN   \n",
       "14             Democratic                   Mark Udall  52.80%  2331621   \n",
       "15             Republican                 Bob Schaffer  42.49%  2331621   \n",
       "16           Constitution             Douglas Campbell   2.56%  2331621   \n",
       "17             Democratic        Joe Biden (Incumbent)  64.69%   398134   \n",
       "18             Republican          Christine O'Donnell  35.31%   398134   \n",
       "19             Republican  Saxby Chambliss (Incumbent)   49.8%  3752577   \n",
       "20             Democratic                   Jim Martin   46.8%  3752577   \n",
       "21            Libertarian                Allen Buckley    3.4%  3752577   \n",
       "22             Republican  Saxby Chambliss (Incumbent)   57.4%  2137956   \n",
       "23             Democratic                   Jim Martin   42.6%  2137956   \n",
       "24             Republican                    Jim Risch  57.65%   644780   \n",
       "25             Democratic                Larry LaRocco  34.11%   644780   \n",
       "26            Libertarian                  Kent Marmon   1.54%   644780   \n",
       "27             Democratic      Dick Durbin (Incumbent)  67.84%  5329884   \n",
       "28             Republican              Steve Sauerberg  28.53%  5329884   \n",
       "29                  Green               Kathy Cummings   2.24%  5329884   \n",
       "..                    ...                          ...     ...      ...   \n",
       "78             Democratic                    Kay Hagan  52.65%  4271970   \n",
       "79             Republican   Elizabeth Dole (Incumbent)  44.18%  4271970   \n",
       "80            Libertarian                   Chris Cole   3.17%  4271970   \n",
       "81                  Other                    Write-Ins    0.0%  4271970   \n",
       "82             Republican       Jim Inhofe (Incumbent)  56.68%  1346819   \n",
       "83             Democratic                  Andrew Rice  39.18%  1346819   \n",
       "84             Democratic                 Jeff Merkley  48.90%  1767504   \n",
       "85             Republican  Gordon H. Smith (Incumbent)  45.55%  1767504   \n",
       "86           Constitution               David Brownlow   5.24%  1767504   \n",
       "87             Democratic                    Jack Reed   73.4%   436818   \n",
       "88             Republican                   Bob Tingle   26.6%   436818   \n",
       "89             Republican               Lindsey Graham  57.52%  1871431   \n",
       "90             Democratic                   Bob Conley  42.25%  1871431   \n",
       "91             Democratic      Tim Johnson (Incumbent)  62.49%   380673   \n",
       "92             Republican                 Joel Dykstra  37.51%   380673   \n",
       "93             Republican  Lamar Alexander (Incumbent)  65.14%  2424585   \n",
       "94             Democratic                     Bob Tuke  31.64%  2424585   \n",
       "95             Republican                  John Cornyn  54.82%  7912075   \n",
       "96             Democratic                 Rick Noriega  42.83%  7912075   \n",
       "97            Libertarian          Yvonne Adams Schick   2.34%  7912075   \n",
       "98             Democratic                  Mark Warner  65.03%  3643294   \n",
       "99             Republican                  Jim Gilmore  33.72%  3643294   \n",
       "100    Independent Greens                Glenda Parker   0.60%  3643294   \n",
       "101           Libertarian                 Bill Redpath   0.56%  3643294   \n",
       "102            Democratic  Jay Rockefeller (Incumbent)   63.7%   702189   \n",
       "103            Republican                    Jay Wolfe   36.3%   702189   \n",
       "104            Republican                    Mike Enzi  75.63%   249946   \n",
       "105            Democratic               Chris Rothfuss  24.26%   249946   \n",
       "106            Republican                John Barrasso  73.35%   249558   \n",
       "107            Democratic                  Nick Carter  26.53%   249558   \n",
       "\n",
       "     Incumb_Y           State  \n",
       "0           1         Alabama  \n",
       "1           0            None  \n",
       "2           0            None  \n",
       "3           0          Alaska  \n",
       "4           0            None  \n",
       "5           0            None  \n",
       "6           0            None  \n",
       "7           0            None  \n",
       "8           0          Alaska  \n",
       "9           1          Alaska  \n",
       "10          0            None  \n",
       "11          0            None  \n",
       "12          1        Arkansas  \n",
       "13          0            None  \n",
       "14          0        Colorado  \n",
       "15          0            None  \n",
       "16          0            None  \n",
       "17          1        Delaware  \n",
       "18          0            None  \n",
       "19          1         Georgia  \n",
       "20          0            None  \n",
       "21          0            None  \n",
       "22          1         Georgia  \n",
       "23          0            None  \n",
       "24          0           Idaho  \n",
       "25          0            None  \n",
       "26          0            None  \n",
       "27          1        Illinois  \n",
       "28          0            None  \n",
       "29          0            None  \n",
       "..        ...             ...  \n",
       "78          0  North_Carolina  \n",
       "79          1  North_Carolina  \n",
       "80          0            None  \n",
       "81          0            None  \n",
       "82          1        Oklahoma  \n",
       "83          0            None  \n",
       "84          0          Oregon  \n",
       "85          1          Oregon  \n",
       "86          0            None  \n",
       "87          0    Rhode_Island  \n",
       "88          0            None  \n",
       "89          0  South_Carolina  \n",
       "90          0            None  \n",
       "91          1    South_Dakota  \n",
       "92          0            None  \n",
       "93          1       Tennessee  \n",
       "94          0            None  \n",
       "95          0           Texas  \n",
       "96          0            None  \n",
       "97          0            None  \n",
       "98          0        Virginia  \n",
       "99          0            None  \n",
       "100         0            None  \n",
       "101         0            None  \n",
       "102         1   West_Virginia  \n",
       "103         0            None  \n",
       "104         0         Wyoming  \n",
       "105         0            None  \n",
       "106         0         Wyoming  \n",
       "107         0            None  \n",
       "\n",
       "[108 rows x 6 columns]"
      ]
     },
     "execution_count": 76,
     "metadata": {},
     "output_type": "execute_result"
    }
   ],
   "source": [
    "## Display year's state elections\n",
    "test3 = dlf.table_checker(dict_=yr_st_dict_mapped)\n",
    "print(type(test3))\n",
    "test3"
   ]
  },
  {
   "cell_type": "code",
   "execution_count": 137,
   "metadata": {
    "ExecuteTime": {
     "end_time": "2020-08-09T23:29:41.864517Z",
     "start_time": "2020-08-09T23:29:41.817854Z"
    }
   },
   "outputs": [
    {
     "data": {
      "text/html": [
       "<div>\n",
       "<style scoped>\n",
       "    .dataframe tbody tr th:only-of-type {\n",
       "        vertical-align: middle;\n",
       "    }\n",
       "\n",
       "    .dataframe tbody tr th {\n",
       "        vertical-align: top;\n",
       "    }\n",
       "\n",
       "    .dataframe thead th {\n",
       "        text-align: right;\n",
       "    }\n",
       "</style>\n",
       "<table border=\"1\" class=\"dataframe\">\n",
       "  <thead>\n",
       "    <tr style=\"text-align: right;\">\n",
       "      <th></th>\n",
       "      <th>State_id</th>\n",
       "      <th>Incumbent</th>\n",
       "      <th>Year</th>\n",
       "      <th>Terms_in_office</th>\n",
       "    </tr>\n",
       "  </thead>\n",
       "  <tbody>\n",
       "    <tr>\n",
       "      <th>0</th>\n",
       "      <td>Alabama</td>\n",
       "      <td>Francis S. White</td>\n",
       "      <td>1914</td>\n",
       "      <td>1</td>\n",
       "    </tr>\n",
       "    <tr>\n",
       "      <th>1</th>\n",
       "      <td>Arizona</td>\n",
       "      <td>Marcus A. Smith</td>\n",
       "      <td>1914</td>\n",
       "      <td>1</td>\n",
       "    </tr>\n",
       "    <tr>\n",
       "      <th>2</th>\n",
       "      <td>Arkansas</td>\n",
       "      <td>James Paul Clarke</td>\n",
       "      <td>1914</td>\n",
       "      <td>1</td>\n",
       "    </tr>\n",
       "    <tr>\n",
       "      <th>3</th>\n",
       "      <td>California</td>\n",
       "      <td>George Clement Perkins</td>\n",
       "      <td>1914</td>\n",
       "      <td>1</td>\n",
       "    </tr>\n",
       "    <tr>\n",
       "      <th>4</th>\n",
       "      <td>Colorado</td>\n",
       "      <td>Charles S. Thomas</td>\n",
       "      <td>1914</td>\n",
       "      <td>1</td>\n",
       "    </tr>\n",
       "    <tr>\n",
       "      <th>5</th>\n",
       "      <td>Connecticut</td>\n",
       "      <td>Frank B. Brandegee</td>\n",
       "      <td>1914</td>\n",
       "      <td>1</td>\n",
       "    </tr>\n",
       "    <tr>\n",
       "      <th>6</th>\n",
       "      <td>Florida</td>\n",
       "      <td>Duncan U. Fletcher</td>\n",
       "      <td>1914</td>\n",
       "      <td>1</td>\n",
       "    </tr>\n",
       "    <tr>\n",
       "      <th>7</th>\n",
       "      <td>Georgia</td>\n",
       "      <td>M. Hoke Smith</td>\n",
       "      <td>1914</td>\n",
       "      <td>1</td>\n",
       "    </tr>\n",
       "    <tr>\n",
       "      <th>8</th>\n",
       "      <td>Idaho</td>\n",
       "      <td>James H. Brady</td>\n",
       "      <td>1914</td>\n",
       "      <td>1</td>\n",
       "    </tr>\n",
       "    <tr>\n",
       "      <th>9</th>\n",
       "      <td>Illinois</td>\n",
       "      <td>Lawrence Y. Sherman</td>\n",
       "      <td>1914</td>\n",
       "      <td>1</td>\n",
       "    </tr>\n",
       "    <tr>\n",
       "      <th>10</th>\n",
       "      <td>Indiana</td>\n",
       "      <td>Benjamin F. Shively</td>\n",
       "      <td>1914</td>\n",
       "      <td>1</td>\n",
       "    </tr>\n",
       "    <tr>\n",
       "      <th>11</th>\n",
       "      <td>Iowa</td>\n",
       "      <td>Albert B. Cummins</td>\n",
       "      <td>1914</td>\n",
       "      <td>1</td>\n",
       "    </tr>\n",
       "    <tr>\n",
       "      <th>12</th>\n",
       "      <td>Kansas</td>\n",
       "      <td>Joseph L. Bristow</td>\n",
       "      <td>1914</td>\n",
       "      <td>1</td>\n",
       "    </tr>\n",
       "    <tr>\n",
       "      <th>13</th>\n",
       "      <td>Kentucky</td>\n",
       "      <td>Johnson N. Camden Jr.</td>\n",
       "      <td>1914</td>\n",
       "      <td>1</td>\n",
       "    </tr>\n",
       "    <tr>\n",
       "      <th>14</th>\n",
       "      <td>Louisiana</td>\n",
       "      <td>John Thornton</td>\n",
       "      <td>1914</td>\n",
       "      <td>1</td>\n",
       "    </tr>\n",
       "  </tbody>\n",
       "</table>\n",
       "</div>"
      ],
      "text/plain": [
       "       State_id               Incumbent  Year  Terms_in_office\n",
       "0       Alabama        Francis S. White  1914                1\n",
       "1       Arizona         Marcus A. Smith  1914                1\n",
       "2      Arkansas       James Paul Clarke  1914                1\n",
       "3    California  George Clement Perkins  1914                1\n",
       "4      Colorado       Charles S. Thomas  1914                1\n",
       "5   Connecticut      Frank B. Brandegee  1914                1\n",
       "6       Florida      Duncan U. Fletcher  1914                1\n",
       "7       Georgia           M. Hoke Smith  1914                1\n",
       "8         Idaho          James H. Brady  1914                1\n",
       "9      Illinois     Lawrence Y. Sherman  1914                1\n",
       "10      Indiana     Benjamin F. Shively  1914                1\n",
       "11         Iowa       Albert B. Cummins  1914                1\n",
       "12       Kansas       Joseph L. Bristow  1914                1\n",
       "13     Kentucky   Johnson N. Camden Jr.  1914                1\n",
       "14    Louisiana           John Thornton  1914                1"
      ]
     },
     "metadata": {},
     "output_type": "display_data"
    }
   ],
   "source": [
    "display(name_lookup_df.head(15))"
   ]
  },
  {
   "cell_type": "code",
   "execution_count": 74,
   "metadata": {
    "ExecuteTime": {
     "end_time": "2020-08-12T02:03:32.489844Z",
     "start_time": "2020-08-12T02:03:32.401551Z"
    }
   },
   "outputs": [
    {
     "data": {
      "text/html": [
       "<div>\n",
       "<style scoped>\n",
       "    .dataframe tbody tr th:only-of-type {\n",
       "        vertical-align: middle;\n",
       "    }\n",
       "\n",
       "    .dataframe tbody tr th {\n",
       "        vertical-align: top;\n",
       "    }\n",
       "\n",
       "    .dataframe thead th {\n",
       "        text-align: right;\n",
       "    }\n",
       "</style>\n",
       "<table border=\"1\" class=\"dataframe\">\n",
       "  <thead>\n",
       "    <tr style=\"text-align: right;\">\n",
       "      <th></th>\n",
       "      <th>Leader</th>\n",
       "      <th>Leaders_seat</th>\n",
       "      <th>Leader_since</th>\n",
       "      <th>Party</th>\n",
       "      <th>Seats_up</th>\n",
       "      <th>Seats_before</th>\n",
       "      <th>Year</th>\n",
       "    </tr>\n",
       "  </thead>\n",
       "  <tbody>\n",
       "    <tr>\n",
       "      <th>0</th>\n",
       "      <td>Mitch McConnell</td>\n",
       "      <td>Kentucky</td>\n",
       "      <td>January 3, 2007</td>\n",
       "      <td>Republican</td>\n",
       "      <td>9</td>\n",
       "      <td>51</td>\n",
       "      <td>2018</td>\n",
       "    </tr>\n",
       "    <tr>\n",
       "      <th>1</th>\n",
       "      <td>Chuck Schumer</td>\n",
       "      <td>New York</td>\n",
       "      <td>January 3, 2017</td>\n",
       "      <td>Democratic</td>\n",
       "      <td>24</td>\n",
       "      <td>47</td>\n",
       "      <td>2018</td>\n",
       "    </tr>\n",
       "    <tr>\n",
       "      <th>2</th>\n",
       "      <td>3rd Party</td>\n",
       "      <td>3rd Party</td>\n",
       "      <td>January 3, 2017</td>\n",
       "      <td>Independent</td>\n",
       "      <td>2</td>\n",
       "      <td>2</td>\n",
       "      <td>2018</td>\n",
       "    </tr>\n",
       "    <tr>\n",
       "      <th>3</th>\n",
       "      <td>John W. Kern</td>\n",
       "      <td>Indiana</td>\n",
       "      <td>March 4, 1913</td>\n",
       "      <td>Democratic</td>\n",
       "      <td>16</td>\n",
       "      <td>50</td>\n",
       "      <td>1914</td>\n",
       "    </tr>\n",
       "    <tr>\n",
       "      <th>4</th>\n",
       "      <td>Jacob H. Gallinger</td>\n",
       "      <td>New Hampshire</td>\n",
       "      <td>March 4, 1913</td>\n",
       "      <td>Republican</td>\n",
       "      <td>18</td>\n",
       "      <td>44</td>\n",
       "      <td>1914</td>\n",
       "    </tr>\n",
       "    <tr>\n",
       "      <th>5</th>\n",
       "      <td>3rd Party</td>\n",
       "      <td>3rd Party</td>\n",
       "      <td>March 4, 1913</td>\n",
       "      <td>Progressive</td>\n",
       "      <td>0</td>\n",
       "      <td>1</td>\n",
       "      <td>1914</td>\n",
       "    </tr>\n",
       "    <tr>\n",
       "      <th>6</th>\n",
       "      <td>John W. Kern</td>\n",
       "      <td>Indiana</td>\n",
       "      <td>March 4, 1913</td>\n",
       "      <td>Democratic</td>\n",
       "      <td>17</td>\n",
       "      <td>56</td>\n",
       "      <td>1916</td>\n",
       "    </tr>\n",
       "    <tr>\n",
       "      <th>7</th>\n",
       "      <td>Jacob H. Gallinger</td>\n",
       "      <td>New Hampshire</td>\n",
       "      <td>March 4, 1913</td>\n",
       "      <td>Republican</td>\n",
       "      <td>15</td>\n",
       "      <td>40</td>\n",
       "      <td>1916</td>\n",
       "    </tr>\n",
       "    <tr>\n",
       "      <th>8</th>\n",
       "      <td>Henry Cabot Lodge</td>\n",
       "      <td>Massachusetts</td>\n",
       "      <td>March 4, 1919</td>\n",
       "      <td>Republican</td>\n",
       "      <td>17</td>\n",
       "      <td>43</td>\n",
       "      <td>1918</td>\n",
       "    </tr>\n",
       "    <tr>\n",
       "      <th>9</th>\n",
       "      <td>Oscar Underwood</td>\n",
       "      <td>Alabama</td>\n",
       "      <td>April 27, 1920</td>\n",
       "      <td>Democratic</td>\n",
       "      <td>24</td>\n",
       "      <td>53</td>\n",
       "      <td>1918</td>\n",
       "    </tr>\n",
       "    <tr>\n",
       "      <th>10</th>\n",
       "      <td>Henry Cabot Lodge</td>\n",
       "      <td>Massachusetts</td>\n",
       "      <td>March 4, 1919</td>\n",
       "      <td>Republican</td>\n",
       "      <td>15</td>\n",
       "      <td>49</td>\n",
       "      <td>1920</td>\n",
       "    </tr>\n",
       "    <tr>\n",
       "      <th>11</th>\n",
       "      <td>Oscar Underwood</td>\n",
       "      <td>Alabama</td>\n",
       "      <td>April 27, 1920</td>\n",
       "      <td>Democratic</td>\n",
       "      <td>17</td>\n",
       "      <td>47</td>\n",
       "      <td>1920</td>\n",
       "    </tr>\n",
       "    <tr>\n",
       "      <th>12</th>\n",
       "      <td>Henry Cabot Lodge</td>\n",
       "      <td>Massachusetts</td>\n",
       "      <td>March 4, 1919</td>\n",
       "      <td>Republican</td>\n",
       "      <td>17</td>\n",
       "      <td>60</td>\n",
       "      <td>1922</td>\n",
       "    </tr>\n",
       "    <tr>\n",
       "      <th>13</th>\n",
       "      <td>Oscar Underwood</td>\n",
       "      <td>Alabama</td>\n",
       "      <td>April 27, 1920</td>\n",
       "      <td>Democratic</td>\n",
       "      <td>15</td>\n",
       "      <td>36</td>\n",
       "      <td>1922</td>\n",
       "    </tr>\n",
       "    <tr>\n",
       "      <th>14</th>\n",
       "      <td>3rd Party</td>\n",
       "      <td>3rd Party</td>\n",
       "      <td>April 27, 1920</td>\n",
       "      <td>Farmer–Labor</td>\n",
       "      <td>0</td>\n",
       "      <td>0</td>\n",
       "      <td>1922</td>\n",
       "    </tr>\n",
       "  </tbody>\n",
       "</table>\n",
       "</div>"
      ],
      "text/plain": [
       "                Leader   Leaders_seat     Leader_since         Party Seats_up  \\\n",
       "0      Mitch McConnell       Kentucky  January 3, 2007    Republican        9   \n",
       "1        Chuck Schumer       New York  January 3, 2017    Democratic       24   \n",
       "2            3rd Party      3rd Party  January 3, 2017   Independent        2   \n",
       "3         John W. Kern        Indiana    March 4, 1913    Democratic       16   \n",
       "4   Jacob H. Gallinger  New Hampshire    March 4, 1913    Republican       18   \n",
       "5            3rd Party      3rd Party    March 4, 1913   Progressive        0   \n",
       "6         John W. Kern        Indiana    March 4, 1913    Democratic       17   \n",
       "7   Jacob H. Gallinger  New Hampshire    March 4, 1913    Republican       15   \n",
       "8    Henry Cabot Lodge  Massachusetts    March 4, 1919    Republican       17   \n",
       "9      Oscar Underwood        Alabama   April 27, 1920    Democratic       24   \n",
       "10   Henry Cabot Lodge  Massachusetts    March 4, 1919    Republican       15   \n",
       "11     Oscar Underwood        Alabama   April 27, 1920    Democratic       17   \n",
       "12   Henry Cabot Lodge  Massachusetts    March 4, 1919    Republican       17   \n",
       "13     Oscar Underwood        Alabama   April 27, 1920    Democratic       15   \n",
       "14           3rd Party      3rd Party   April 27, 1920  Farmer–Labor        0   \n",
       "\n",
       "   Seats_before  Year  \n",
       "0            51  2018  \n",
       "1            47  2018  \n",
       "2             2  2018  \n",
       "3            50  1914  \n",
       "4            44  1914  \n",
       "5             1  1914  \n",
       "6            56  1916  \n",
       "7            40  1916  \n",
       "8            43  1918  \n",
       "9            53  1918  \n",
       "10           49  1920  \n",
       "11           47  1920  \n",
       "12           60  1922  \n",
       "13           36  1922  \n",
       "14            0  1922  "
      ]
     },
     "metadata": {},
     "output_type": "display_data"
    },
    {
     "name": "stdout",
     "output_type": "stream",
     "text": [
      "<class 'pandas.core.frame.DataFrame'>\n",
      "RangeIndex: 148 entries, 0 to 147\n",
      "Data columns (total 7 columns):\n",
      "Leader          148 non-null object\n",
      "Leaders_seat    148 non-null object\n",
      "Leader_since    148 non-null object\n",
      "Party           148 non-null object\n",
      "Seats_up        148 non-null object\n",
      "Seats_before    148 non-null object\n",
      "Year            148 non-null object\n",
      "dtypes: object(7)\n",
      "memory usage: 8.2+ KB\n"
     ]
    }
   ],
   "source": [
    "display(ldr_master_df_model.head(15))\n",
    "ldr_master_df_model.info()"
   ]
  },
  {
   "cell_type": "code",
   "execution_count": 57,
   "metadata": {
    "ExecuteTime": {
     "end_time": "2020-08-11T23:15:17.747157Z",
     "start_time": "2020-08-11T23:15:17.736550Z"
    }
   },
   "outputs": [
    {
     "data": {
      "text/plain": [
       "<module 'functions' from 'C:\\\\Users\\\\d_ful\\\\Documents\\\\GitHub\\\\Capstone_Project\\\\functions.py'>"
      ]
     },
     "execution_count": 57,
     "metadata": {},
     "output_type": "execute_result"
    }
   ],
   "source": [
    "reload(dlf)"
   ]
  },
  {
   "cell_type": "code",
   "execution_count": 77,
   "metadata": {
    "ExecuteTime": {
     "end_time": "2020-08-12T02:09:25.126032Z",
     "start_time": "2020-08-12T02:09:25.083284Z"
    }
   },
   "outputs": [
    {
     "name": "stdout",
     "output_type": "stream",
     "text": [
      "<class 'pandas.core.frame.DataFrame'>\n",
      "RangeIndex: 108 entries, 0 to 107\n",
      "Data columns (total 6 columns):\n",
      "Party        108 non-null object\n",
      "Candidate    108 non-null object\n",
      "%            108 non-null object\n",
      "Turnout      98 non-null object\n",
      "Incumb_Y     108 non-null int64\n",
      "State        47 non-null object\n",
      "dtypes: int64(1), object(5)\n",
      "memory usage: 5.1+ KB\n"
     ]
    }
   ],
   "source": [
    "display(test3.info())"
   ]
  },
  {
   "cell_type": "code",
   "execution_count": 89,
   "metadata": {
    "ExecuteTime": {
     "end_time": "2020-08-12T03:17:55.300672Z",
     "start_time": "2020-08-12T03:17:54.450873Z"
    },
    "scrolled": true
   },
   "outputs": [
    {
     "name": "stdout",
     "output_type": "stream",
     "text": [
      "Year 1920\n",
      "<class 'pandas.core.frame.DataFrame'>\n",
      "RangeIndex: 123 entries, 0 to 122\n",
      "Data columns (total 6 columns):\n",
      "Party        123 non-null object\n",
      "Candidate    123 non-null object\n",
      "%            123 non-null object\n",
      "Turnout      118 non-null object\n",
      "Incumb_Y     123 non-null int64\n",
      "State        31 non-null object\n",
      "dtypes: int64(1), object(5)\n",
      "memory usage: 5.8+ KB\n"
     ]
    },
    {
     "data": {
      "text/plain": [
       "None"
      ]
     },
     "metadata": {},
     "output_type": "display_data"
    },
    {
     "name": "stdout",
     "output_type": "stream",
     "text": [
      "Year 1922\n",
      "<class 'pandas.core.frame.DataFrame'>\n",
      "RangeIndex: 118 entries, 0 to 117\n",
      "Data columns (total 6 columns):\n",
      "Party        118 non-null object\n",
      "Candidate    118 non-null object\n",
      "%            118 non-null object\n",
      "Turnout      118 non-null object\n",
      "Incumb_Y     118 non-null int64\n",
      "State        42 non-null object\n",
      "dtypes: int64(1), object(5)\n",
      "memory usage: 5.6+ KB\n"
     ]
    },
    {
     "data": {
      "text/plain": [
       "None"
      ]
     },
     "metadata": {},
     "output_type": "display_data"
    },
    {
     "name": "stdout",
     "output_type": "stream",
     "text": [
      "Year 1924\n",
      "<class 'pandas.core.frame.DataFrame'>\n",
      "RangeIndex: 120 entries, 0 to 119\n",
      "Data columns (total 6 columns):\n",
      "Party        120 non-null object\n",
      "Candidate    120 non-null object\n",
      "%            120 non-null object\n",
      "Turnout      120 non-null object\n",
      "Incumb_Y     120 non-null int64\n",
      "State        35 non-null object\n",
      "dtypes: int64(1), object(5)\n",
      "memory usage: 5.7+ KB\n"
     ]
    },
    {
     "data": {
      "text/plain": [
       "None"
      ]
     },
     "metadata": {},
     "output_type": "display_data"
    },
    {
     "name": "stdout",
     "output_type": "stream",
     "text": [
      "Year 1926\n",
      "<class 'pandas.core.frame.DataFrame'>\n",
      "RangeIndex: 115 entries, 0 to 114\n",
      "Data columns (total 6 columns):\n",
      "Party        115 non-null object\n",
      "Candidate    115 non-null object\n",
      "%            115 non-null object\n",
      "Turnout      112 non-null object\n",
      "Incumb_Y     115 non-null int64\n",
      "State        36 non-null object\n",
      "dtypes: int64(1), object(5)\n",
      "memory usage: 5.5+ KB\n"
     ]
    },
    {
     "data": {
      "text/plain": [
       "None"
      ]
     },
     "metadata": {},
     "output_type": "display_data"
    },
    {
     "name": "stdout",
     "output_type": "stream",
     "text": [
      "Year 1928\n",
      "<class 'pandas.core.frame.DataFrame'>\n",
      "RangeIndex: 127 entries, 0 to 126\n",
      "Data columns (total 6 columns):\n",
      "Party        127 non-null object\n",
      "Candidate    127 non-null object\n",
      "%            127 non-null object\n",
      "Turnout      116 non-null object\n",
      "Incumb_Y     127 non-null int64\n",
      "State        37 non-null object\n",
      "dtypes: int64(1), object(5)\n",
      "memory usage: 6.0+ KB\n"
     ]
    },
    {
     "data": {
      "text/plain": [
       "None"
      ]
     },
     "metadata": {},
     "output_type": "display_data"
    },
    {
     "name": "stdout",
     "output_type": "stream",
     "text": [
      "Year 1930\n",
      "<class 'pandas.core.frame.DataFrame'>\n",
      "RangeIndex: 126 entries, 0 to 125\n",
      "Data columns (total 6 columns):\n",
      "Party        126 non-null object\n",
      "Candidate    126 non-null object\n",
      "%            126 non-null object\n",
      "Turnout      121 non-null object\n",
      "Incumb_Y     126 non-null int64\n",
      "State        28 non-null object\n",
      "dtypes: int64(1), object(5)\n",
      "memory usage: 6.0+ KB\n"
     ]
    },
    {
     "data": {
      "text/plain": [
       "None"
      ]
     },
     "metadata": {},
     "output_type": "display_data"
    },
    {
     "name": "stdout",
     "output_type": "stream",
     "text": [
      "Year 1932\n",
      "<class 'pandas.core.frame.DataFrame'>\n",
      "RangeIndex: 139 entries, 0 to 138\n",
      "Data columns (total 6 columns):\n",
      "Party        139 non-null object\n",
      "Candidate    136 non-null object\n",
      "%            136 non-null object\n",
      "Turnout      129 non-null object\n",
      "Incumb_Y     139 non-null int64\n",
      "State        9 non-null object\n",
      "dtypes: int64(1), object(5)\n",
      "memory usage: 6.6+ KB\n"
     ]
    },
    {
     "data": {
      "text/plain": [
       "None"
      ]
     },
     "metadata": {},
     "output_type": "display_data"
    },
    {
     "name": "stdout",
     "output_type": "stream",
     "text": [
      "Year 1934\n",
      "<class 'pandas.core.frame.DataFrame'>\n",
      "RangeIndex: 144 entries, 0 to 143\n",
      "Data columns (total 6 columns):\n",
      "Party        144 non-null object\n",
      "Candidate    144 non-null object\n",
      "%            144 non-null object\n",
      "Turnout      136 non-null object\n",
      "Incumb_Y     144 non-null int64\n",
      "State        41 non-null object\n",
      "dtypes: int64(1), object(5)\n",
      "memory usage: 6.8+ KB\n"
     ]
    },
    {
     "data": {
      "text/plain": [
       "None"
      ]
     },
     "metadata": {},
     "output_type": "display_data"
    },
    {
     "name": "stdout",
     "output_type": "stream",
     "text": [
      "Year 1936\n",
      "<class 'pandas.core.frame.DataFrame'>\n",
      "RangeIndex: 128 entries, 0 to 127\n",
      "Data columns (total 6 columns):\n",
      "Party        128 non-null object\n",
      "Candidate    128 non-null object\n",
      "%            128 non-null object\n",
      "Turnout      114 non-null object\n",
      "Incumb_Y     128 non-null int64\n",
      "State        34 non-null object\n",
      "dtypes: int64(1), object(5)\n",
      "memory usage: 6.1+ KB\n"
     ]
    },
    {
     "data": {
      "text/plain": [
       "None"
      ]
     },
     "metadata": {},
     "output_type": "display_data"
    },
    {
     "name": "stdout",
     "output_type": "stream",
     "text": [
      "Year 1938\n",
      "<class 'pandas.core.frame.DataFrame'>\n",
      "RangeIndex: 122 entries, 0 to 121\n",
      "Data columns (total 6 columns):\n",
      "Party        122 non-null object\n",
      "Candidate    122 non-null object\n",
      "%            122 non-null object\n",
      "Turnout      122 non-null object\n",
      "Incumb_Y     122 non-null int64\n",
      "State        39 non-null object\n",
      "dtypes: int64(1), object(5)\n",
      "memory usage: 5.8+ KB\n"
     ]
    },
    {
     "data": {
      "text/plain": [
       "None"
      ]
     },
     "metadata": {},
     "output_type": "display_data"
    },
    {
     "name": "stdout",
     "output_type": "stream",
     "text": [
      "Year 1940\n",
      "<class 'pandas.core.frame.DataFrame'>\n",
      "RangeIndex: 112 entries, 0 to 111\n",
      "Data columns (total 6 columns):\n",
      "Party        112 non-null object\n",
      "Candidate    112 non-null object\n",
      "%            112 non-null object\n",
      "Turnout      108 non-null object\n",
      "Incumb_Y     112 non-null int64\n",
      "State        27 non-null object\n",
      "dtypes: int64(1), object(5)\n",
      "memory usage: 5.3+ KB\n"
     ]
    },
    {
     "data": {
      "text/plain": [
       "None"
      ]
     },
     "metadata": {},
     "output_type": "display_data"
    },
    {
     "name": "stdout",
     "output_type": "stream",
     "text": [
      "Year 1942\n",
      "<class 'pandas.core.frame.DataFrame'>\n",
      "RangeIndex: 94 entries, 0 to 93\n",
      "Data columns (total 6 columns):\n",
      "Party        94 non-null object\n",
      "Candidate    94 non-null object\n",
      "%            94 non-null object\n",
      "Turnout      90 non-null object\n",
      "Incumb_Y     94 non-null int64\n",
      "State        14 non-null object\n",
      "dtypes: int64(1), object(5)\n",
      "memory usage: 4.5+ KB\n"
     ]
    },
    {
     "data": {
      "text/plain": [
       "None"
      ]
     },
     "metadata": {},
     "output_type": "display_data"
    },
    {
     "name": "stdout",
     "output_type": "stream",
     "text": [
      "Year 1944\n",
      "<class 'pandas.core.frame.DataFrame'>\n",
      "RangeIndex: 109 entries, 0 to 108\n",
      "Data columns (total 6 columns):\n",
      "Party        109 non-null object\n",
      "Candidate    109 non-null object\n",
      "%            109 non-null object\n",
      "Turnout      109 non-null object\n",
      "Incumb_Y     109 non-null int64\n",
      "State        32 non-null object\n",
      "dtypes: int64(1), object(5)\n",
      "memory usage: 5.2+ KB\n"
     ]
    },
    {
     "data": {
      "text/plain": [
       "None"
      ]
     },
     "metadata": {},
     "output_type": "display_data"
    },
    {
     "name": "stdout",
     "output_type": "stream",
     "text": [
      "Year 1946\n",
      "<class 'pandas.core.frame.DataFrame'>\n",
      "RangeIndex: 115 entries, 0 to 114\n",
      "Data columns (total 6 columns):\n",
      "Party        115 non-null object\n",
      "Candidate    115 non-null object\n",
      "%            115 non-null object\n",
      "Turnout      112 non-null object\n",
      "Incumb_Y     115 non-null int64\n",
      "State        32 non-null object\n",
      "dtypes: int64(1), object(5)\n",
      "memory usage: 5.5+ KB\n"
     ]
    },
    {
     "data": {
      "text/plain": [
       "None"
      ]
     },
     "metadata": {},
     "output_type": "display_data"
    },
    {
     "name": "stdout",
     "output_type": "stream",
     "text": [
      "Year 1948\n",
      "<class 'pandas.core.frame.DataFrame'>\n",
      "RangeIndex: 105 entries, 0 to 104\n",
      "Data columns (total 6 columns):\n",
      "Party        105 non-null object\n",
      "Candidate    105 non-null object\n",
      "%            105 non-null object\n",
      "Turnout      105 non-null object\n",
      "Incumb_Y     105 non-null int64\n",
      "State        33 non-null object\n",
      "dtypes: int64(1), object(5)\n",
      "memory usage: 5.0+ KB\n"
     ]
    },
    {
     "data": {
      "text/plain": [
       "None"
      ]
     },
     "metadata": {},
     "output_type": "display_data"
    },
    {
     "name": "stdout",
     "output_type": "stream",
     "text": [
      "Year 1950\n",
      "<class 'pandas.core.frame.DataFrame'>\n",
      "RangeIndex: 103 entries, 0 to 102\n",
      "Data columns (total 6 columns):\n",
      "Party        103 non-null object\n",
      "Candidate    103 non-null object\n",
      "%            103 non-null object\n",
      "Turnout      103 non-null object\n",
      "Incumb_Y     103 non-null int64\n",
      "State        30 non-null object\n",
      "dtypes: int64(1), object(5)\n",
      "memory usage: 4.9+ KB\n"
     ]
    },
    {
     "data": {
      "text/plain": [
       "None"
      ]
     },
     "metadata": {},
     "output_type": "display_data"
    },
    {
     "name": "stdout",
     "output_type": "stream",
     "text": [
      "Year 1952\n",
      "<class 'pandas.core.frame.DataFrame'>\n",
      "RangeIndex: 118 entries, 0 to 117\n",
      "Data columns (total 6 columns):\n",
      "Party        118 non-null object\n",
      "Candidate    118 non-null object\n",
      "%            118 non-null object\n",
      "Turnout      109 non-null object\n",
      "Incumb_Y     118 non-null int64\n",
      "State        34 non-null object\n",
      "dtypes: int64(1), object(5)\n",
      "memory usage: 5.6+ KB\n"
     ]
    },
    {
     "data": {
      "text/plain": [
       "None"
      ]
     },
     "metadata": {},
     "output_type": "display_data"
    },
    {
     "name": "stdout",
     "output_type": "stream",
     "text": [
      "Year 1954\n",
      "<class 'pandas.core.frame.DataFrame'>\n",
      "RangeIndex: 99 entries, 0 to 98\n",
      "Data columns (total 6 columns):\n",
      "Party        99 non-null object\n",
      "Candidate    99 non-null object\n",
      "%            99 non-null object\n",
      "Turnout      99 non-null object\n",
      "Incumb_Y     99 non-null int64\n",
      "State        30 non-null object\n",
      "dtypes: int64(1), object(5)\n",
      "memory usage: 4.7+ KB\n"
     ]
    },
    {
     "data": {
      "text/plain": [
       "None"
      ]
     },
     "metadata": {},
     "output_type": "display_data"
    },
    {
     "name": "stdout",
     "output_type": "stream",
     "text": [
      "Year 1956\n",
      "<class 'pandas.core.frame.DataFrame'>\n",
      "RangeIndex: 86 entries, 0 to 85\n",
      "Data columns (total 6 columns):\n",
      "Party        86 non-null object\n",
      "Candidate    86 non-null object\n",
      "%            83 non-null object\n",
      "Turnout      86 non-null object\n",
      "Incumb_Y     86 non-null int64\n",
      "State        26 non-null object\n",
      "dtypes: int64(1), object(5)\n",
      "memory usage: 4.1+ KB\n"
     ]
    },
    {
     "data": {
      "text/plain": [
       "None"
      ]
     },
     "metadata": {},
     "output_type": "display_data"
    },
    {
     "name": "stdout",
     "output_type": "stream",
     "text": [
      "Year 1958\n",
      "<class 'pandas.core.frame.DataFrame'>\n",
      "RangeIndex: 104 entries, 0 to 103\n",
      "Data columns (total 6 columns):\n",
      "Party        104 non-null object\n",
      "Candidate    104 non-null object\n",
      "%            104 non-null object\n",
      "Turnout      89 non-null object\n",
      "Incumb_Y     104 non-null int64\n",
      "State        35 non-null object\n",
      "dtypes: int64(1), object(5)\n",
      "memory usage: 5.0+ KB\n"
     ]
    },
    {
     "data": {
      "text/plain": [
       "None"
      ]
     },
     "metadata": {},
     "output_type": "display_data"
    },
    {
     "name": "stdout",
     "output_type": "stream",
     "text": [
      "Year 1960\n",
      "<class 'pandas.core.frame.DataFrame'>\n",
      "RangeIndex: 98 entries, 0 to 97\n",
      "Data columns (total 6 columns):\n",
      "Party        98 non-null object\n",
      "Candidate    98 non-null object\n",
      "%            98 non-null object\n",
      "Turnout      98 non-null object\n",
      "Incumb_Y     98 non-null int64\n",
      "State        25 non-null object\n",
      "dtypes: int64(1), object(5)\n",
      "memory usage: 4.7+ KB\n"
     ]
    },
    {
     "data": {
      "text/plain": [
       "None"
      ]
     },
     "metadata": {},
     "output_type": "display_data"
    },
    {
     "name": "stdout",
     "output_type": "stream",
     "text": [
      "Year 1962\n",
      "<class 'pandas.core.frame.DataFrame'>\n",
      "RangeIndex: 100 entries, 0 to 99\n",
      "Data columns (total 6 columns):\n",
      "Party        100 non-null object\n",
      "Candidate    100 non-null object\n",
      "%            100 non-null object\n",
      "Turnout      97 non-null object\n",
      "Incumb_Y     100 non-null int64\n",
      "State        27 non-null object\n",
      "dtypes: int64(1), object(5)\n",
      "memory usage: 4.8+ KB\n"
     ]
    },
    {
     "data": {
      "text/plain": [
       "None"
      ]
     },
     "metadata": {},
     "output_type": "display_data"
    },
    {
     "name": "stdout",
     "output_type": "stream",
     "text": [
      "Year 1964\n",
      "<class 'pandas.core.frame.DataFrame'>\n",
      "RangeIndex: 94 entries, 0 to 93\n",
      "Data columns (total 6 columns):\n",
      "Party        94 non-null object\n",
      "Candidate    94 non-null object\n",
      "%            94 non-null object\n",
      "Turnout      88 non-null object\n",
      "Incumb_Y     94 non-null int64\n",
      "State        29 non-null object\n",
      "dtypes: int64(1), object(5)\n",
      "memory usage: 4.5+ KB\n"
     ]
    },
    {
     "data": {
      "text/plain": [
       "None"
      ]
     },
     "metadata": {},
     "output_type": "display_data"
    },
    {
     "name": "stdout",
     "output_type": "stream",
     "text": [
      "Year 1966\n",
      "<class 'pandas.core.frame.DataFrame'>\n",
      "RangeIndex: 94 entries, 0 to 93\n",
      "Data columns (total 6 columns):\n",
      "Party        94 non-null object\n",
      "Candidate    94 non-null object\n",
      "%            94 non-null object\n",
      "Turnout      92 non-null object\n",
      "Incumb_Y     94 non-null int64\n",
      "State        25 non-null object\n",
      "dtypes: int64(1), object(5)\n",
      "memory usage: 4.5+ KB\n"
     ]
    },
    {
     "data": {
      "text/plain": [
       "None"
      ]
     },
     "metadata": {},
     "output_type": "display_data"
    },
    {
     "name": "stdout",
     "output_type": "stream",
     "text": [
      "Year 1968\n",
      "<class 'pandas.core.frame.DataFrame'>\n",
      "RangeIndex: 103 entries, 0 to 102\n",
      "Data columns (total 6 columns):\n",
      "Party        103 non-null object\n",
      "Candidate    103 non-null object\n",
      "%            103 non-null object\n",
      "Turnout      90 non-null object\n",
      "Incumb_Y     103 non-null int64\n",
      "State        35 non-null object\n",
      "dtypes: int64(1), object(5)\n",
      "memory usage: 4.9+ KB\n"
     ]
    },
    {
     "data": {
      "text/plain": [
       "None"
      ]
     },
     "metadata": {},
     "output_type": "display_data"
    },
    {
     "name": "stdout",
     "output_type": "stream",
     "text": [
      "Year 1970\n",
      "<class 'pandas.core.frame.DataFrame'>\n",
      "RangeIndex: 119 entries, 0 to 118\n",
      "Data columns (total 6 columns):\n",
      "Party        119 non-null object\n",
      "Candidate    119 non-null object\n",
      "%            119 non-null object\n",
      "Turnout      116 non-null object\n",
      "Incumb_Y     119 non-null int64\n",
      "State        24 non-null object\n",
      "dtypes: int64(1), object(5)\n",
      "memory usage: 5.7+ KB\n"
     ]
    },
    {
     "data": {
      "text/plain": [
       "None"
      ]
     },
     "metadata": {},
     "output_type": "display_data"
    },
    {
     "name": "stdout",
     "output_type": "stream",
     "text": [
      "Year 1972\n",
      "<class 'pandas.core.frame.DataFrame'>\n",
      "RangeIndex: 111 entries, 0 to 110\n",
      "Data columns (total 6 columns):\n",
      "Party        111 non-null object\n",
      "Candidate    111 non-null object\n",
      "%            111 non-null object\n",
      "Turnout      111 non-null object\n",
      "Incumb_Y     111 non-null int64\n",
      "State        39 non-null object\n",
      "dtypes: int64(1), object(5)\n",
      "memory usage: 5.3+ KB\n"
     ]
    },
    {
     "data": {
      "text/plain": [
       "None"
      ]
     },
     "metadata": {},
     "output_type": "display_data"
    },
    {
     "name": "stdout",
     "output_type": "stream",
     "text": [
      "Year 1974\n",
      "<class 'pandas.core.frame.DataFrame'>\n",
      "RangeIndex: 115 entries, 0 to 114\n",
      "Data columns (total 6 columns):\n",
      "Party        115 non-null object\n",
      "Candidate    115 non-null object\n",
      "%            115 non-null object\n",
      "Turnout      103 non-null object\n",
      "Incumb_Y     115 non-null int64\n",
      "State        36 non-null object\n",
      "dtypes: int64(1), object(5)\n",
      "memory usage: 5.5+ KB\n"
     ]
    },
    {
     "data": {
      "text/plain": [
       "None"
      ]
     },
     "metadata": {},
     "output_type": "display_data"
    },
    {
     "name": "stdout",
     "output_type": "stream",
     "text": [
      "Year 1976\n",
      "<class 'pandas.core.frame.DataFrame'>\n",
      "RangeIndex: 126 entries, 0 to 125\n",
      "Data columns (total 6 columns):\n",
      "Party        126 non-null object\n",
      "Candidate    126 non-null object\n",
      "%            126 non-null object\n",
      "Turnout      113 non-null object\n",
      "Incumb_Y     126 non-null int64\n",
      "State        31 non-null object\n",
      "dtypes: int64(1), object(5)\n",
      "memory usage: 6.0+ KB\n"
     ]
    },
    {
     "data": {
      "text/plain": [
       "None"
      ]
     },
     "metadata": {},
     "output_type": "display_data"
    },
    {
     "name": "stdout",
     "output_type": "stream",
     "text": [
      "Year 1978\n",
      "<class 'pandas.core.frame.DataFrame'>\n",
      "RangeIndex: 116 entries, 0 to 115\n",
      "Data columns (total 6 columns):\n",
      "Party        116 non-null object\n",
      "Candidate    116 non-null object\n",
      "%            116 non-null object\n",
      "Turnout      110 non-null object\n",
      "Incumb_Y     116 non-null int64\n",
      "State        38 non-null object\n",
      "dtypes: int64(1), object(5)\n",
      "memory usage: 5.5+ KB\n"
     ]
    },
    {
     "data": {
      "text/plain": [
       "None"
      ]
     },
     "metadata": {},
     "output_type": "display_data"
    },
    {
     "name": "stdout",
     "output_type": "stream",
     "text": [
      "Year 1980\n",
      "<class 'pandas.core.frame.DataFrame'>\n",
      "RangeIndex: 117 entries, 0 to 116\n",
      "Data columns (total 6 columns):\n",
      "Party        117 non-null object\n",
      "Candidate    117 non-null object\n",
      "%            117 non-null object\n",
      "Turnout      103 non-null object\n",
      "Incumb_Y     117 non-null int64\n",
      "State        38 non-null object\n",
      "dtypes: int64(1), object(5)\n",
      "memory usage: 5.6+ KB\n"
     ]
    },
    {
     "data": {
      "text/plain": [
       "None"
      ]
     },
     "metadata": {},
     "output_type": "display_data"
    },
    {
     "name": "stdout",
     "output_type": "stream",
     "text": [
      "Year 1982\n",
      "<class 'pandas.core.frame.DataFrame'>\n",
      "RangeIndex: 118 entries, 0 to 117\n",
      "Data columns (total 6 columns):\n",
      "Party        118 non-null object\n",
      "Candidate    118 non-null object\n",
      "%            118 non-null object\n",
      "Turnout      106 non-null object\n",
      "Incumb_Y     118 non-null int64\n",
      "State        31 non-null object\n",
      "dtypes: int64(1), object(5)\n",
      "memory usage: 5.6+ KB\n"
     ]
    },
    {
     "data": {
      "text/plain": [
       "None"
      ]
     },
     "metadata": {},
     "output_type": "display_data"
    },
    {
     "name": "stdout",
     "output_type": "stream",
     "text": [
      "Year 1984\n",
      "<class 'pandas.core.frame.DataFrame'>\n",
      "RangeIndex: 107 entries, 0 to 106\n",
      "Data columns (total 6 columns):\n",
      "Party        107 non-null object\n",
      "Candidate    107 non-null object\n",
      "%            107 non-null object\n",
      "Turnout      57 non-null object\n",
      "Incumb_Y     107 non-null int64\n",
      "State        35 non-null object\n",
      "dtypes: int64(1), object(5)\n",
      "memory usage: 5.1+ KB\n"
     ]
    },
    {
     "data": {
      "text/plain": [
       "None"
      ]
     },
     "metadata": {},
     "output_type": "display_data"
    },
    {
     "name": "stdout",
     "output_type": "stream",
     "text": [
      "Year 1986\n",
      "<class 'pandas.core.frame.DataFrame'>\n",
      "RangeIndex: 102 entries, 0 to 101\n",
      "Data columns (total 6 columns):\n",
      "Party        102 non-null object\n",
      "Candidate    102 non-null object\n",
      "%            102 non-null object\n",
      "Turnout      88 non-null object\n",
      "Incumb_Y     102 non-null int64\n",
      "State        41 non-null object\n",
      "dtypes: int64(1), object(5)\n",
      "memory usage: 4.9+ KB\n"
     ]
    },
    {
     "data": {
      "text/plain": [
       "None"
      ]
     },
     "metadata": {},
     "output_type": "display_data"
    },
    {
     "name": "stdout",
     "output_type": "stream",
     "text": [
      "Year 1988\n",
      "<class 'pandas.core.frame.DataFrame'>\n",
      "RangeIndex: 110 entries, 0 to 109\n",
      "Data columns (total 6 columns):\n",
      "Party        110 non-null object\n",
      "Candidate    110 non-null object\n",
      "%            110 non-null object\n",
      "Turnout      45 non-null object\n",
      "Incumb_Y     110 non-null int64\n",
      "State        27 non-null object\n",
      "dtypes: int64(1), object(5)\n",
      "memory usage: 5.2+ KB\n"
     ]
    },
    {
     "data": {
      "text/plain": [
       "None"
      ]
     },
     "metadata": {},
     "output_type": "display_data"
    },
    {
     "name": "stdout",
     "output_type": "stream",
     "text": [
      "Year 1990\n",
      "<class 'pandas.core.frame.DataFrame'>\n",
      "RangeIndex: 91 entries, 0 to 90\n",
      "Data columns (total 6 columns):\n",
      "Party        91 non-null object\n",
      "Candidate    91 non-null object\n",
      "%            91 non-null object\n",
      "Turnout      49 non-null object\n",
      "Incumb_Y     91 non-null int64\n",
      "State        34 non-null object\n",
      "dtypes: int64(1), object(5)\n",
      "memory usage: 4.3+ KB\n"
     ]
    },
    {
     "data": {
      "text/plain": [
       "None"
      ]
     },
     "metadata": {},
     "output_type": "display_data"
    },
    {
     "name": "stdout",
     "output_type": "stream",
     "text": [
      "Year 1992\n",
      "<class 'pandas.core.frame.DataFrame'>\n",
      "RangeIndex: 134 entries, 0 to 133\n",
      "Data columns (total 6 columns):\n",
      "Party        134 non-null object\n",
      "Candidate    134 non-null object\n",
      "%            134 non-null object\n",
      "Turnout      59 non-null object\n",
      "Incumb_Y     134 non-null int64\n",
      "State        37 non-null object\n",
      "dtypes: int64(1), object(5)\n",
      "memory usage: 6.4+ KB\n"
     ]
    },
    {
     "data": {
      "text/plain": [
       "None"
      ]
     },
     "metadata": {},
     "output_type": "display_data"
    },
    {
     "name": "stdout",
     "output_type": "stream",
     "text": [
      "Year 1994\n",
      "<class 'pandas.core.frame.DataFrame'>\n",
      "RangeIndex: 126 entries, 0 to 125\n",
      "Data columns (total 6 columns):\n",
      "Party        126 non-null object\n",
      "Candidate    126 non-null object\n",
      "%            126 non-null object\n",
      "Turnout      57 non-null object\n",
      "Incumb_Y     126 non-null int64\n",
      "State        37 non-null object\n",
      "dtypes: int64(1), object(5)\n",
      "memory usage: 6.0+ KB\n"
     ]
    },
    {
     "data": {
      "text/plain": [
       "None"
      ]
     },
     "metadata": {},
     "output_type": "display_data"
    },
    {
     "name": "stdout",
     "output_type": "stream",
     "text": [
      "Year 1996\n",
      "<class 'pandas.core.frame.DataFrame'>\n",
      "RangeIndex: 122 entries, 0 to 121\n",
      "Data columns (total 6 columns):\n",
      "Party        122 non-null object\n",
      "Candidate    122 non-null object\n",
      "%            122 non-null object\n",
      "Turnout      90 non-null object\n",
      "Incumb_Y     122 non-null int64\n",
      "State        40 non-null object\n",
      "dtypes: int64(1), object(5)\n",
      "memory usage: 5.8+ KB\n"
     ]
    },
    {
     "data": {
      "text/plain": [
       "None"
      ]
     },
     "metadata": {},
     "output_type": "display_data"
    },
    {
     "name": "stdout",
     "output_type": "stream",
     "text": [
      "Year 1998\n",
      "<class 'pandas.core.frame.DataFrame'>\n",
      "RangeIndex: 130 entries, 0 to 129\n",
      "Data columns (total 6 columns):\n",
      "Party        130 non-null object\n",
      "Candidate    130 non-null object\n",
      "%            130 non-null object\n",
      "Turnout      106 non-null object\n",
      "Incumb_Y     130 non-null int64\n",
      "State        34 non-null object\n",
      "dtypes: int64(1), object(5)\n",
      "memory usage: 6.2+ KB\n"
     ]
    },
    {
     "data": {
      "text/plain": [
       "None"
      ]
     },
     "metadata": {},
     "output_type": "display_data"
    },
    {
     "name": "stdout",
     "output_type": "stream",
     "text": [
      "Year 2000\n",
      "<class 'pandas.core.frame.DataFrame'>\n",
      "RangeIndex: 139 entries, 0 to 138\n",
      "Data columns (total 6 columns):\n",
      "Party        139 non-null object\n",
      "Candidate    139 non-null object\n",
      "%            139 non-null object\n",
      "Turnout      82 non-null object\n",
      "Incumb_Y     139 non-null int64\n",
      "State        34 non-null object\n",
      "dtypes: int64(1), object(5)\n",
      "memory usage: 6.6+ KB\n"
     ]
    },
    {
     "data": {
      "text/plain": [
       "None"
      ]
     },
     "metadata": {},
     "output_type": "display_data"
    },
    {
     "name": "stdout",
     "output_type": "stream",
     "text": [
      "Year 2002\n",
      "<class 'pandas.core.frame.DataFrame'>\n",
      "RangeIndex: 108 entries, 0 to 107\n",
      "Data columns (total 6 columns):\n",
      "Party        108 non-null object\n",
      "Candidate    108 non-null object\n",
      "%            108 non-null object\n",
      "Turnout      94 non-null object\n",
      "Incumb_Y     108 non-null int64\n",
      "State        37 non-null object\n",
      "dtypes: int64(1), object(5)\n",
      "memory usage: 5.1+ KB\n"
     ]
    },
    {
     "data": {
      "text/plain": [
       "None"
      ]
     },
     "metadata": {},
     "output_type": "display_data"
    },
    {
     "name": "stdout",
     "output_type": "stream",
     "text": [
      "Year 2004\n",
      "<class 'pandas.core.frame.DataFrame'>\n",
      "RangeIndex: 115 entries, 0 to 114\n",
      "Data columns (total 6 columns):\n",
      "Party        115 non-null object\n",
      "Candidate    115 non-null object\n",
      "%            115 non-null object\n",
      "Turnout      74 non-null object\n",
      "Incumb_Y     115 non-null int64\n",
      "State        30 non-null object\n",
      "dtypes: int64(1), object(5)\n",
      "memory usage: 5.5+ KB\n"
     ]
    },
    {
     "data": {
      "text/plain": [
       "None"
      ]
     },
     "metadata": {},
     "output_type": "display_data"
    },
    {
     "name": "stdout",
     "output_type": "stream",
     "text": [
      "Year 2006\n",
      "<class 'pandas.core.frame.DataFrame'>\n",
      "RangeIndex: 112 entries, 0 to 111\n",
      "Data columns (total 6 columns):\n",
      "Party        112 non-null object\n",
      "Candidate    112 non-null object\n",
      "%            112 non-null object\n",
      "Turnout      93 non-null object\n",
      "Incumb_Y     112 non-null int64\n",
      "State        29 non-null object\n",
      "dtypes: int64(1), object(5)\n",
      "memory usage: 5.3+ KB\n"
     ]
    },
    {
     "data": {
      "text/plain": [
       "None"
      ]
     },
     "metadata": {},
     "output_type": "display_data"
    },
    {
     "name": "stdout",
     "output_type": "stream",
     "text": [
      "Year 2008\n",
      "<class 'pandas.core.frame.DataFrame'>\n",
      "RangeIndex: 108 entries, 0 to 107\n",
      "Data columns (total 6 columns):\n",
      "Party        108 non-null object\n",
      "Candidate    108 non-null object\n",
      "%            108 non-null object\n",
      "Turnout      98 non-null object\n",
      "Incumb_Y     108 non-null int64\n",
      "State        47 non-null object\n",
      "dtypes: int64(1), object(5)\n",
      "memory usage: 5.1+ KB\n"
     ]
    },
    {
     "data": {
      "text/plain": [
       "None"
      ]
     },
     "metadata": {},
     "output_type": "display_data"
    },
    {
     "name": "stdout",
     "output_type": "stream",
     "text": [
      "Year 2010\n",
      "<class 'pandas.core.frame.DataFrame'>\n",
      "RangeIndex: 122 entries, 0 to 121\n",
      "Data columns (total 6 columns):\n",
      "Party        122 non-null object\n",
      "Candidate    122 non-null object\n",
      "%            122 non-null object\n",
      "Turnout      9 non-null object\n",
      "Incumb_Y     122 non-null int64\n",
      "State        38 non-null object\n",
      "dtypes: int64(1), object(5)\n",
      "memory usage: 5.8+ KB\n"
     ]
    },
    {
     "data": {
      "text/plain": [
       "None"
      ]
     },
     "metadata": {},
     "output_type": "display_data"
    },
    {
     "name": "stdout",
     "output_type": "stream",
     "text": [
      "Year 2012\n",
      "<class 'pandas.core.frame.DataFrame'>\n",
      "RangeIndex: 117 entries, 0 to 116\n",
      "Data columns (total 6 columns):\n",
      "Party        117 non-null object\n",
      "Candidate    117 non-null object\n",
      "%            112 non-null object\n",
      "Turnout      98 non-null object\n",
      "Incumb_Y     117 non-null int64\n",
      "State        32 non-null object\n",
      "dtypes: int64(1), object(5)\n",
      "memory usage: 5.6+ KB\n"
     ]
    },
    {
     "data": {
      "text/plain": [
       "None"
      ]
     },
     "metadata": {},
     "output_type": "display_data"
    },
    {
     "name": "stdout",
     "output_type": "stream",
     "text": [
      "Year 2014\n",
      "<class 'pandas.core.frame.DataFrame'>\n",
      "RangeIndex: 145 entries, 0 to 144\n",
      "Data columns (total 6 columns):\n",
      "Party        145 non-null object\n",
      "Candidate    145 non-null object\n",
      "%            141 non-null object\n",
      "Turnout      35 non-null object\n",
      "Incumb_Y     145 non-null int64\n",
      "State        28 non-null object\n",
      "dtypes: int64(1), object(5)\n",
      "memory usage: 6.9+ KB\n"
     ]
    },
    {
     "data": {
      "text/plain": [
       "None"
      ]
     },
     "metadata": {},
     "output_type": "display_data"
    },
    {
     "name": "stdout",
     "output_type": "stream",
     "text": [
      "Year 2016\n",
      "<class 'pandas.core.frame.DataFrame'>\n",
      "RangeIndex: 118 entries, 0 to 117\n",
      "Data columns (total 6 columns):\n",
      "Party        118 non-null object\n",
      "Candidate    118 non-null object\n",
      "%            118 non-null object\n",
      "Turnout      21 non-null object\n",
      "Incumb_Y     118 non-null int64\n",
      "State        31 non-null object\n",
      "dtypes: int64(1), object(5)\n",
      "memory usage: 5.6+ KB\n"
     ]
    },
    {
     "data": {
      "text/plain": [
       "None"
      ]
     },
     "metadata": {},
     "output_type": "display_data"
    }
   ],
   "source": [
    "for year in yr_st_dict_mapped:\n",
    "    table = yr_st_dict_mapped[year]\n",
    "    print(f'Year {year}')\n",
    "    display(table.info())"
   ]
  },
  {
   "cell_type": "markdown",
   "metadata": {},
   "source": [
    "combine yearly tables, add state/year column"
   ]
  },
  {
   "cell_type": "markdown",
   "metadata": {},
   "source": [
    "**8.9 Need to try and merge `yr_st_dict_mapped`, `ldr_master_df` and use parts of `name_lookup_df`**"
   ]
  },
  {
   "cell_type": "code",
   "execution_count": 115,
   "metadata": {
    "ExecuteTime": {
     "end_time": "2020-08-12T03:48:43.054137Z",
     "start_time": "2020-08-12T03:48:41.131504Z"
    }
   },
   "outputs": [
    {
     "name": "stdout",
     "output_type": "stream",
     "text": [
      "Key to pull:2010\n"
     ]
    },
    {
     "data": {
      "text/html": [
       "<div>\n",
       "<style scoped>\n",
       "    .dataframe tbody tr th:only-of-type {\n",
       "        vertical-align: middle;\n",
       "    }\n",
       "\n",
       "    .dataframe tbody tr th {\n",
       "        vertical-align: top;\n",
       "    }\n",
       "\n",
       "    .dataframe thead th {\n",
       "        text-align: right;\n",
       "    }\n",
       "</style>\n",
       "<table border=\"1\" class=\"dataframe\">\n",
       "  <thead>\n",
       "    <tr style=\"text-align: right;\">\n",
       "      <th></th>\n",
       "      <th>Party</th>\n",
       "      <th>Candidate</th>\n",
       "      <th>%</th>\n",
       "      <th>Turnout</th>\n",
       "      <th>Incumb_Y</th>\n",
       "      <th>State</th>\n",
       "    </tr>\n",
       "  </thead>\n",
       "  <tbody>\n",
       "    <tr>\n",
       "      <th>0</th>\n",
       "      <td>Republican</td>\n",
       "      <td>Richard Shelby (Incumbent)</td>\n",
       "      <td>65.3%</td>\n",
       "      <td>1482910</td>\n",
       "      <td>1</td>\n",
       "      <td>Alabama</td>\n",
       "    </tr>\n",
       "    <tr>\n",
       "      <th>1</th>\n",
       "      <td>Democratic</td>\n",
       "      <td>William G. Barnes</td>\n",
       "      <td>34.7%</td>\n",
       "      <td>1482910</td>\n",
       "      <td>0</td>\n",
       "      <td>None</td>\n",
       "    </tr>\n",
       "    <tr>\n",
       "      <th>2</th>\n",
       "      <td>Democratic</td>\n",
       "      <td>Scott McAdams</td>\n",
       "      <td>49.99%</td>\n",
       "      <td>36080</td>\n",
       "      <td>0</td>\n",
       "      <td>None</td>\n",
       "    </tr>\n",
       "    <tr>\n",
       "      <th>3</th>\n",
       "      <td>Democratic</td>\n",
       "      <td>Jacob Seth Kern</td>\n",
       "      <td>19.16%</td>\n",
       "      <td>36080</td>\n",
       "      <td>0</td>\n",
       "      <td>None</td>\n",
       "    </tr>\n",
       "    <tr>\n",
       "      <th>4</th>\n",
       "      <td>Libertarian</td>\n",
       "      <td>David Haase</td>\n",
       "      <td>16.06%</td>\n",
       "      <td>36080</td>\n",
       "      <td>0</td>\n",
       "      <td>None</td>\n",
       "    </tr>\n",
       "    <tr>\n",
       "      <th>5</th>\n",
       "      <td>Democratic</td>\n",
       "      <td>Frank Vondersaar</td>\n",
       "      <td>14.80%</td>\n",
       "      <td>36080</td>\n",
       "      <td>0</td>\n",
       "      <td>None</td>\n",
       "    </tr>\n",
       "    <tr>\n",
       "      <th>6</th>\n",
       "      <td>Write-in</td>\n",
       "      <td>Lisa Murkowski (Incumbent)</td>\n",
       "      <td>39.49%</td>\n",
       "      <td>258746</td>\n",
       "      <td>1</td>\n",
       "      <td>Alaska</td>\n",
       "    </tr>\n",
       "    <tr>\n",
       "      <th>7</th>\n",
       "      <td>Republican</td>\n",
       "      <td>Joe Miller</td>\n",
       "      <td>35.49%</td>\n",
       "      <td>258746</td>\n",
       "      <td>0</td>\n",
       "      <td>None</td>\n",
       "    </tr>\n",
       "    <tr>\n",
       "      <th>8</th>\n",
       "      <td>Democratic</td>\n",
       "      <td>Scott McAdams</td>\n",
       "      <td>23.46%</td>\n",
       "      <td>258746</td>\n",
       "      <td>0</td>\n",
       "      <td>None</td>\n",
       "    </tr>\n",
       "    <tr>\n",
       "      <th>9</th>\n",
       "      <td>Libertarian</td>\n",
       "      <td>David Haase</td>\n",
       "      <td>0.57%</td>\n",
       "      <td>258746</td>\n",
       "      <td>0</td>\n",
       "      <td>None</td>\n",
       "    </tr>\n",
       "  </tbody>\n",
       "</table>\n",
       "</div>"
      ],
      "text/plain": [
       "         Party                   Candidate       %  Turnout  Incumb_Y    State\n",
       "0   Republican  Richard Shelby (Incumbent)   65.3%  1482910         1  Alabama\n",
       "1   Democratic           William G. Barnes   34.7%  1482910         0     None\n",
       "2   Democratic               Scott McAdams  49.99%    36080         0     None\n",
       "3   Democratic             Jacob Seth Kern  19.16%    36080         0     None\n",
       "4  Libertarian                 David Haase  16.06%    36080         0     None\n",
       "5   Democratic            Frank Vondersaar  14.80%    36080         0     None\n",
       "6     Write-in  Lisa Murkowski (Incumbent)  39.49%   258746         1   Alaska\n",
       "7   Republican                  Joe Miller  35.49%   258746         0     None\n",
       "8   Democratic               Scott McAdams  23.46%   258746         0     None\n",
       "9  Libertarian                 David Haase   0.57%   258746         0     None"
      ]
     },
     "metadata": {},
     "output_type": "display_data"
    },
    {
     "name": "stdout",
     "output_type": "stream",
     "text": [
      "<class 'pandas.core.frame.DataFrame'>\n",
      "RangeIndex: 122 entries, 0 to 121\n",
      "Data columns (total 6 columns):\n",
      "Party        122 non-null object\n",
      "Candidate    122 non-null object\n",
      "%            122 non-null object\n",
      "Turnout      122 non-null object\n",
      "Incumb_Y     122 non-null int64\n",
      "State        38 non-null object\n",
      "dtypes: int64(1), object(5)\n",
      "memory usage: 5.8+ KB\n"
     ]
    }
   ],
   "source": [
    "test1 = dlf.table_checker(dict_=yr_st_dict_mapped)\n",
    "display(test1.head(10))\n",
    "# print(test1[0]['Total votes'])\n",
    "test1.info()"
   ]
  },
  {
   "cell_type": "code",
   "execution_count": 103,
   "metadata": {
    "ExecuteTime": {
     "end_time": "2020-08-12T03:30:58.294031Z",
     "start_time": "2020-08-12T03:30:56.703588Z"
    }
   },
   "outputs": [
    {
     "name": "stdout",
     "output_type": "stream",
     "text": [
      "Key to pull:2010\n"
     ]
    },
    {
     "data": {
      "text/html": [
       "<div>\n",
       "<style scoped>\n",
       "    .dataframe tbody tr th:only-of-type {\n",
       "        vertical-align: middle;\n",
       "    }\n",
       "\n",
       "    .dataframe tbody tr th {\n",
       "        vertical-align: top;\n",
       "    }\n",
       "\n",
       "    .dataframe thead th {\n",
       "        text-align: right;\n",
       "    }\n",
       "</style>\n",
       "<table border=\"1\" class=\"dataframe\">\n",
       "  <thead>\n",
       "    <tr style=\"text-align: right;\">\n",
       "      <th></th>\n",
       "      <th>Party</th>\n",
       "      <th>Candidate</th>\n",
       "      <th>%</th>\n",
       "      <th>Total votes</th>\n",
       "      <th>Turnout</th>\n",
       "    </tr>\n",
       "  </thead>\n",
       "  <tbody>\n",
       "    <tr>\n",
       "      <th>0</th>\n",
       "      <td>Republican</td>\n",
       "      <td>Richard Shelby (Incumbent)</td>\n",
       "      <td>65.3%</td>\n",
       "      <td>1482910</td>\n",
       "      <td>NaN</td>\n",
       "    </tr>\n",
       "    <tr>\n",
       "      <th>1</th>\n",
       "      <td>Democratic</td>\n",
       "      <td>William G. Barnes</td>\n",
       "      <td>34.7%</td>\n",
       "      <td>1482910</td>\n",
       "      <td>NaN</td>\n",
       "    </tr>\n",
       "    <tr>\n",
       "      <th>2</th>\n",
       "      <td>Democratic</td>\n",
       "      <td>Scott McAdams</td>\n",
       "      <td>49.99%</td>\n",
       "      <td>36080</td>\n",
       "      <td>NaN</td>\n",
       "    </tr>\n",
       "    <tr>\n",
       "      <th>3</th>\n",
       "      <td>Democratic</td>\n",
       "      <td>Jacob Seth Kern</td>\n",
       "      <td>19.16%</td>\n",
       "      <td>36080</td>\n",
       "      <td>NaN</td>\n",
       "    </tr>\n",
       "    <tr>\n",
       "      <th>4</th>\n",
       "      <td>Libertarian</td>\n",
       "      <td>David Haase</td>\n",
       "      <td>16.06%</td>\n",
       "      <td>36080</td>\n",
       "      <td>NaN</td>\n",
       "    </tr>\n",
       "    <tr>\n",
       "      <th>5</th>\n",
       "      <td>Democratic</td>\n",
       "      <td>Frank Vondersaar</td>\n",
       "      <td>14.80%</td>\n",
       "      <td>36080</td>\n",
       "      <td>NaN</td>\n",
       "    </tr>\n",
       "    <tr>\n",
       "      <th>6</th>\n",
       "      <td>Write-in</td>\n",
       "      <td>Lisa Murkowski (Incumbent)</td>\n",
       "      <td>39.49%</td>\n",
       "      <td>258746</td>\n",
       "      <td>NaN</td>\n",
       "    </tr>\n",
       "    <tr>\n",
       "      <th>7</th>\n",
       "      <td>Republican</td>\n",
       "      <td>Joe Miller</td>\n",
       "      <td>35.49%</td>\n",
       "      <td>258746</td>\n",
       "      <td>NaN</td>\n",
       "    </tr>\n",
       "    <tr>\n",
       "      <th>8</th>\n",
       "      <td>Democratic</td>\n",
       "      <td>Scott McAdams</td>\n",
       "      <td>23.46%</td>\n",
       "      <td>258746</td>\n",
       "      <td>NaN</td>\n",
       "    </tr>\n",
       "    <tr>\n",
       "      <th>9</th>\n",
       "      <td>Libertarian</td>\n",
       "      <td>David Haase</td>\n",
       "      <td>0.57%</td>\n",
       "      <td>258746</td>\n",
       "      <td>NaN</td>\n",
       "    </tr>\n",
       "  </tbody>\n",
       "</table>\n",
       "</div>"
      ],
      "text/plain": [
       "         Party                   Candidate       % Total votes Turnout\n",
       "0   Republican  Richard Shelby (Incumbent)   65.3%     1482910     NaN\n",
       "1   Democratic           William G. Barnes   34.7%     1482910     NaN\n",
       "2   Democratic               Scott McAdams  49.99%       36080     NaN\n",
       "3   Democratic             Jacob Seth Kern  19.16%       36080     NaN\n",
       "4  Libertarian                 David Haase  16.06%       36080     NaN\n",
       "5   Democratic            Frank Vondersaar  14.80%       36080     NaN\n",
       "6     Write-in  Lisa Murkowski (Incumbent)  39.49%      258746     NaN\n",
       "7   Republican                  Joe Miller  35.49%      258746     NaN\n",
       "8   Democratic               Scott McAdams  23.46%      258746     NaN\n",
       "9  Libertarian                 David Haase   0.57%      258746     NaN"
      ]
     },
     "metadata": {},
     "output_type": "display_data"
    },
    {
     "name": "stdout",
     "output_type": "stream",
     "text": [
      "<class 'pandas.core.frame.DataFrame'>\n",
      "RangeIndex: 122 entries, 0 to 121\n",
      "Data columns (total 5 columns):\n",
      "Party          122 non-null object\n",
      "Candidate      122 non-null object\n",
      "%              122 non-null object\n",
      "Total votes    113 non-null object\n",
      "Turnout        9 non-null object\n",
      "dtypes: object(5)\n",
      "memory usage: 4.8+ KB\n"
     ]
    }
   ],
   "source": [
    "test = dlf.table_checker(dict_=yr_st_dict_joined)\n",
    "display(test.head(10))\n",
    "# print(test[0]['Total votes'])\n",
    "test.info()"
   ]
  },
  {
   "cell_type": "code",
   "execution_count": 117,
   "metadata": {
    "ExecuteTime": {
     "end_time": "2020-08-12T03:52:56.226675Z",
     "start_time": "2020-08-12T03:52:56.099186Z"
    }
   },
   "outputs": [
    {
     "data": {
      "text/html": [
       "<div>\n",
       "<style scoped>\n",
       "    .dataframe tbody tr th:only-of-type {\n",
       "        vertical-align: middle;\n",
       "    }\n",
       "\n",
       "    .dataframe tbody tr th {\n",
       "        vertical-align: top;\n",
       "    }\n",
       "\n",
       "    .dataframe thead th {\n",
       "        text-align: right;\n",
       "    }\n",
       "</style>\n",
       "<table border=\"1\" class=\"dataframe\">\n",
       "  <thead>\n",
       "    <tr style=\"text-align: right;\">\n",
       "      <th></th>\n",
       "      <th>Party</th>\n",
       "      <th>Candidate</th>\n",
       "      <th>%</th>\n",
       "      <th>Turnout</th>\n",
       "      <th>Incumb_Y</th>\n",
       "      <th>State</th>\n",
       "    </tr>\n",
       "  </thead>\n",
       "  <tbody>\n",
       "    <tr>\n",
       "      <th>0</th>\n",
       "      <td>Republican</td>\n",
       "      <td>Richard Shelby (Incumbent)</td>\n",
       "      <td>65.3%</td>\n",
       "      <td>1482910</td>\n",
       "      <td>1</td>\n",
       "      <td>Alabama</td>\n",
       "    </tr>\n",
       "    <tr>\n",
       "      <th>1</th>\n",
       "      <td>Democratic</td>\n",
       "      <td>William G. Barnes</td>\n",
       "      <td>34.7%</td>\n",
       "      <td>1482910</td>\n",
       "      <td>0</td>\n",
       "      <td>Alabama</td>\n",
       "    </tr>\n",
       "    <tr>\n",
       "      <th>2</th>\n",
       "      <td>Democratic</td>\n",
       "      <td>Scott McAdams</td>\n",
       "      <td>49.99%</td>\n",
       "      <td>36080</td>\n",
       "      <td>0</td>\n",
       "      <td>Alabama</td>\n",
       "    </tr>\n",
       "    <tr>\n",
       "      <th>3</th>\n",
       "      <td>Democratic</td>\n",
       "      <td>Jacob Seth Kern</td>\n",
       "      <td>19.16%</td>\n",
       "      <td>36080</td>\n",
       "      <td>0</td>\n",
       "      <td>Alabama</td>\n",
       "    </tr>\n",
       "    <tr>\n",
       "      <th>4</th>\n",
       "      <td>Libertarian</td>\n",
       "      <td>David Haase</td>\n",
       "      <td>16.06%</td>\n",
       "      <td>36080</td>\n",
       "      <td>0</td>\n",
       "      <td>Alabama</td>\n",
       "    </tr>\n",
       "    <tr>\n",
       "      <th>5</th>\n",
       "      <td>Democratic</td>\n",
       "      <td>Frank Vondersaar</td>\n",
       "      <td>14.80%</td>\n",
       "      <td>36080</td>\n",
       "      <td>0</td>\n",
       "      <td>Alabama</td>\n",
       "    </tr>\n",
       "    <tr>\n",
       "      <th>6</th>\n",
       "      <td>Write-in</td>\n",
       "      <td>Lisa Murkowski (Incumbent)</td>\n",
       "      <td>39.49%</td>\n",
       "      <td>258746</td>\n",
       "      <td>1</td>\n",
       "      <td>Alaska</td>\n",
       "    </tr>\n",
       "    <tr>\n",
       "      <th>7</th>\n",
       "      <td>Republican</td>\n",
       "      <td>Joe Miller</td>\n",
       "      <td>35.49%</td>\n",
       "      <td>258746</td>\n",
       "      <td>0</td>\n",
       "      <td>Alaska</td>\n",
       "    </tr>\n",
       "    <tr>\n",
       "      <th>8</th>\n",
       "      <td>Democratic</td>\n",
       "      <td>Scott McAdams</td>\n",
       "      <td>23.46%</td>\n",
       "      <td>258746</td>\n",
       "      <td>0</td>\n",
       "      <td>Alaska</td>\n",
       "    </tr>\n",
       "    <tr>\n",
       "      <th>9</th>\n",
       "      <td>Libertarian</td>\n",
       "      <td>David Haase</td>\n",
       "      <td>0.57%</td>\n",
       "      <td>258746</td>\n",
       "      <td>0</td>\n",
       "      <td>Alaska</td>\n",
       "    </tr>\n",
       "    <tr>\n",
       "      <th>10</th>\n",
       "      <td>Independent</td>\n",
       "      <td>Timothy Carter</td>\n",
       "      <td>0.36%</td>\n",
       "      <td>258746</td>\n",
       "      <td>0</td>\n",
       "      <td>Alaska</td>\n",
       "    </tr>\n",
       "    <tr>\n",
       "      <th>11</th>\n",
       "      <td>Independent</td>\n",
       "      <td>Ted Gianoutsos</td>\n",
       "      <td>0.18%</td>\n",
       "      <td>258746</td>\n",
       "      <td>0</td>\n",
       "      <td>Alaska</td>\n",
       "    </tr>\n",
       "    <tr>\n",
       "      <th>12</th>\n",
       "      <td>Write-in</td>\n",
       "      <td>Other write-in votes</td>\n",
       "      <td>0.44%</td>\n",
       "      <td>258746</td>\n",
       "      <td>0</td>\n",
       "      <td>Alaska</td>\n",
       "    </tr>\n",
       "    <tr>\n",
       "      <th>13</th>\n",
       "      <td>Republican</td>\n",
       "      <td>John McCain (Incumbent)</td>\n",
       "      <td>59.07%</td>\n",
       "      <td>1702326</td>\n",
       "      <td>1</td>\n",
       "      <td>Arizona</td>\n",
       "    </tr>\n",
       "    <tr>\n",
       "      <th>14</th>\n",
       "      <td>Democratic</td>\n",
       "      <td>Rodney Glassman</td>\n",
       "      <td>34.78%</td>\n",
       "      <td>1702326</td>\n",
       "      <td>0</td>\n",
       "      <td>Arizona</td>\n",
       "    </tr>\n",
       "  </tbody>\n",
       "</table>\n",
       "</div>"
      ],
      "text/plain": [
       "          Party                   Candidate       %  Turnout  Incumb_Y  \\\n",
       "0    Republican  Richard Shelby (Incumbent)   65.3%  1482910         1   \n",
       "1    Democratic           William G. Barnes   34.7%  1482910         0   \n",
       "2    Democratic               Scott McAdams  49.99%    36080         0   \n",
       "3    Democratic             Jacob Seth Kern  19.16%    36080         0   \n",
       "4   Libertarian                 David Haase  16.06%    36080         0   \n",
       "5    Democratic            Frank Vondersaar  14.80%    36080         0   \n",
       "6      Write-in  Lisa Murkowski (Incumbent)  39.49%   258746         1   \n",
       "7    Republican                  Joe Miller  35.49%   258746         0   \n",
       "8    Democratic               Scott McAdams  23.46%   258746         0   \n",
       "9   Libertarian                 David Haase   0.57%   258746         0   \n",
       "10  Independent              Timothy Carter   0.36%   258746         0   \n",
       "11  Independent              Ted Gianoutsos   0.18%   258746         0   \n",
       "12     Write-in        Other write-in votes   0.44%   258746         0   \n",
       "13   Republican     John McCain (Incumbent)  59.07%  1702326         1   \n",
       "14   Democratic             Rodney Glassman  34.78%  1702326         0   \n",
       "\n",
       "      State  \n",
       "0   Alabama  \n",
       "1   Alabama  \n",
       "2   Alabama  \n",
       "3   Alabama  \n",
       "4   Alabama  \n",
       "5   Alabama  \n",
       "6    Alaska  \n",
       "7    Alaska  \n",
       "8    Alaska  \n",
       "9    Alaska  \n",
       "10   Alaska  \n",
       "11   Alaska  \n",
       "12   Alaska  \n",
       "13  Arizona  \n",
       "14  Arizona  "
      ]
     },
     "metadata": {},
     "output_type": "display_data"
    },
    {
     "data": {
      "text/html": [
       "<div>\n",
       "<style scoped>\n",
       "    .dataframe tbody tr th:only-of-type {\n",
       "        vertical-align: middle;\n",
       "    }\n",
       "\n",
       "    .dataframe tbody tr th {\n",
       "        vertical-align: top;\n",
       "    }\n",
       "\n",
       "    .dataframe thead th {\n",
       "        text-align: right;\n",
       "    }\n",
       "</style>\n",
       "<table border=\"1\" class=\"dataframe\">\n",
       "  <thead>\n",
       "    <tr style=\"text-align: right;\">\n",
       "      <th></th>\n",
       "      <th>Party</th>\n",
       "      <th>Candidate</th>\n",
       "      <th>%</th>\n",
       "      <th>Turnout</th>\n",
       "      <th>Incumb_Y</th>\n",
       "      <th>State</th>\n",
       "    </tr>\n",
       "  </thead>\n",
       "  <tbody>\n",
       "    <tr>\n",
       "      <th>107</th>\n",
       "      <td>Republican</td>\n",
       "      <td>Jim DeMint (Incumbent)</td>\n",
       "      <td>61.48%</td>\n",
       "      <td>1318794</td>\n",
       "      <td>1</td>\n",
       "      <td>South_Carolina</td>\n",
       "    </tr>\n",
       "    <tr>\n",
       "      <th>108</th>\n",
       "      <td>Democratic</td>\n",
       "      <td>Alvin Greene</td>\n",
       "      <td>27.65%</td>\n",
       "      <td>1318794</td>\n",
       "      <td>0</td>\n",
       "      <td>South_Carolina</td>\n",
       "    </tr>\n",
       "    <tr>\n",
       "      <th>109</th>\n",
       "      <td>Green</td>\n",
       "      <td>Tom Clements</td>\n",
       "      <td>9.21%</td>\n",
       "      <td>1318794</td>\n",
       "      <td>0</td>\n",
       "      <td>South_Carolina</td>\n",
       "    </tr>\n",
       "    <tr>\n",
       "      <th>110</th>\n",
       "      <td>Republican</td>\n",
       "      <td>Mike Lee</td>\n",
       "      <td>61.56%</td>\n",
       "      <td>633801</td>\n",
       "      <td>0</td>\n",
       "      <td>Utah</td>\n",
       "    </tr>\n",
       "    <tr>\n",
       "      <th>111</th>\n",
       "      <td>Democratic</td>\n",
       "      <td>Sam Granato</td>\n",
       "      <td>32.77%</td>\n",
       "      <td>633801</td>\n",
       "      <td>0</td>\n",
       "      <td>Utah</td>\n",
       "    </tr>\n",
       "    <tr>\n",
       "      <th>112</th>\n",
       "      <td>Constitution</td>\n",
       "      <td>Scott Bradley</td>\n",
       "      <td>5.67%</td>\n",
       "      <td>633801</td>\n",
       "      <td>0</td>\n",
       "      <td>Utah</td>\n",
       "    </tr>\n",
       "    <tr>\n",
       "      <th>113</th>\n",
       "      <td>Democratic</td>\n",
       "      <td>Patrick Leahy (Incumbent)</td>\n",
       "      <td>64.36%</td>\n",
       "      <td>235065</td>\n",
       "      <td>1</td>\n",
       "      <td>Vermont</td>\n",
       "    </tr>\n",
       "    <tr>\n",
       "      <th>114</th>\n",
       "      <td>Republican</td>\n",
       "      <td>Len Britton</td>\n",
       "      <td>30.93%</td>\n",
       "      <td>235065</td>\n",
       "      <td>0</td>\n",
       "      <td>Vermont</td>\n",
       "    </tr>\n",
       "    <tr>\n",
       "      <th>115</th>\n",
       "      <td>Democratic</td>\n",
       "      <td>Patty Murray (Incumbent)</td>\n",
       "      <td>52.36%</td>\n",
       "      <td>2511094</td>\n",
       "      <td>1</td>\n",
       "      <td>Washington</td>\n",
       "    </tr>\n",
       "    <tr>\n",
       "      <th>116</th>\n",
       "      <td>Republican</td>\n",
       "      <td>Dino Rossi</td>\n",
       "      <td>47.64%</td>\n",
       "      <td>2511094</td>\n",
       "      <td>0</td>\n",
       "      <td>Washington</td>\n",
       "    </tr>\n",
       "    <tr>\n",
       "      <th>117</th>\n",
       "      <td>Democratic</td>\n",
       "      <td>Joe Manchin</td>\n",
       "      <td>53.47%</td>\n",
       "      <td>529948</td>\n",
       "      <td>0</td>\n",
       "      <td>West_Virginia</td>\n",
       "    </tr>\n",
       "    <tr>\n",
       "      <th>118</th>\n",
       "      <td>Republican</td>\n",
       "      <td>John Raese</td>\n",
       "      <td>43.40%</td>\n",
       "      <td>529948</td>\n",
       "      <td>0</td>\n",
       "      <td>West_Virginia</td>\n",
       "    </tr>\n",
       "    <tr>\n",
       "      <th>119</th>\n",
       "      <td>Mountain</td>\n",
       "      <td>Jesse Johnson</td>\n",
       "      <td>1.92%</td>\n",
       "      <td>529948</td>\n",
       "      <td>0</td>\n",
       "      <td>West_Virginia</td>\n",
       "    </tr>\n",
       "    <tr>\n",
       "      <th>120</th>\n",
       "      <td>Republican</td>\n",
       "      <td>Ron Johnson</td>\n",
       "      <td>51.86%</td>\n",
       "      <td>2170430</td>\n",
       "      <td>0</td>\n",
       "      <td>Wisconsin</td>\n",
       "    </tr>\n",
       "    <tr>\n",
       "      <th>121</th>\n",
       "      <td>Democratic</td>\n",
       "      <td>Russ Feingold (Incumbent)</td>\n",
       "      <td>47.02%</td>\n",
       "      <td>2170430</td>\n",
       "      <td>1</td>\n",
       "      <td>Wisconsin</td>\n",
       "    </tr>\n",
       "  </tbody>\n",
       "</table>\n",
       "</div>"
      ],
      "text/plain": [
       "            Party                  Candidate       %  Turnout  Incumb_Y  \\\n",
       "107    Republican     Jim DeMint (Incumbent)  61.48%  1318794         1   \n",
       "108    Democratic               Alvin Greene  27.65%  1318794         0   \n",
       "109         Green               Tom Clements   9.21%  1318794         0   \n",
       "110    Republican                   Mike Lee  61.56%   633801         0   \n",
       "111    Democratic                Sam Granato  32.77%   633801         0   \n",
       "112  Constitution              Scott Bradley   5.67%   633801         0   \n",
       "113    Democratic  Patrick Leahy (Incumbent)  64.36%   235065         1   \n",
       "114    Republican                Len Britton  30.93%   235065         0   \n",
       "115    Democratic   Patty Murray (Incumbent)  52.36%  2511094         1   \n",
       "116    Republican                 Dino Rossi  47.64%  2511094         0   \n",
       "117    Democratic                Joe Manchin  53.47%   529948         0   \n",
       "118    Republican                 John Raese  43.40%   529948         0   \n",
       "119      Mountain              Jesse Johnson   1.92%   529948         0   \n",
       "120    Republican                Ron Johnson  51.86%  2170430         0   \n",
       "121    Democratic  Russ Feingold (Incumbent)  47.02%  2170430         1   \n",
       "\n",
       "              State  \n",
       "107  South_Carolina  \n",
       "108  South_Carolina  \n",
       "109  South_Carolina  \n",
       "110            Utah  \n",
       "111            Utah  \n",
       "112            Utah  \n",
       "113         Vermont  \n",
       "114         Vermont  \n",
       "115      Washington  \n",
       "116      Washington  \n",
       "117   West_Virginia  \n",
       "118   West_Virginia  \n",
       "119   West_Virginia  \n",
       "120       Wisconsin  \n",
       "121       Wisconsin  "
      ]
     },
     "metadata": {},
     "output_type": "display_data"
    },
    {
     "name": "stdout",
     "output_type": "stream",
     "text": [
      "<class 'pandas.core.frame.DataFrame'>\n",
      "RangeIndex: 122 entries, 0 to 121\n",
      "Data columns (total 6 columns):\n",
      "Party        122 non-null object\n",
      "Candidate    122 non-null object\n",
      "%            122 non-null object\n",
      "Turnout      122 non-null object\n",
      "Incumb_Y     122 non-null int64\n",
      "State        122 non-null object\n",
      "dtypes: int64(1), object(5)\n",
      "memory usage: 5.8+ KB\n"
     ]
    }
   ],
   "source": [
    "test1['State'].fillna(method='ffill', inplace=True)\n",
    "display(test1.head(15))\n",
    "display(test1.tail(15))\n",
    "test1.info()"
   ]
  },
  {
   "cell_type": "markdown",
   "metadata": {},
   "source": [
    "To help with repeat due to edge cases, remove first instance of name from each table."
   ]
  },
  {
   "cell_type": "code",
   "execution_count": null,
   "metadata": {},
   "outputs": [],
   "source": []
  }
 ],
 "metadata": {
  "kernelspec": {
   "display_name": "Python 3",
   "language": "python",
   "name": "python3"
  },
  "language_info": {
   "codemirror_mode": {
    "name": "ipython",
    "version": 3
   },
   "file_extension": ".py",
   "mimetype": "text/x-python",
   "name": "python",
   "nbconvert_exporter": "python",
   "pygments_lexer": "ipython3",
   "version": "3.6.6"
  },
  "toc": {
   "base_numbering": 1,
   "nav_menu": {},
   "number_sections": true,
   "sideBar": true,
   "skip_h1_title": false,
   "title_cell": "Table of Contents",
   "title_sidebar": "Contents",
   "toc_cell": false,
   "toc_position": {},
   "toc_section_display": true,
   "toc_window_display": false
  },
  "varInspector": {
   "cols": {
    "lenName": 16,
    "lenType": 16,
    "lenVar": 40
   },
   "kernels_config": {
    "python": {
     "delete_cmd_postfix": "",
     "delete_cmd_prefix": "del ",
     "library": "var_list.py",
     "varRefreshCmd": "print(var_dic_list())"
    },
    "r": {
     "delete_cmd_postfix": ") ",
     "delete_cmd_prefix": "rm(",
     "library": "var_list.r",
     "varRefreshCmd": "cat(var_dic_list()) "
    }
   },
   "types_to_exclude": [
    "module",
    "function",
    "builtin_function_or_method",
    "instance",
    "_Feature"
   ],
   "window_display": false
  }
 },
 "nbformat": 4,
 "nbformat_minor": 2
}
