{
 "cells": [
  {
   "cell_type": "markdown",
   "metadata": {},
   "source": [
    "# Capstone"
   ]
  },
  {
   "cell_type": "markdown",
   "metadata": {},
   "source": [
    "## Imports & links"
   ]
  },
  {
   "cell_type": "code",
   "execution_count": 1,
   "metadata": {
    "ExecuteTime": {
     "end_time": "2020-08-19T23:56:14.049274Z",
     "start_time": "2020-08-19T23:56:12.768211Z"
    }
   },
   "outputs": [],
   "source": [
    "import functions as dlf\n",
    "import pandas as pd\n",
    "import numpy as np\n",
    "import requests\n",
    "import regex\n",
    "import pickle\n",
    "from importlib import reload\n",
    "from bs4 import BeautifulSoup\n",
    "from genderize import Genderize"
   ]
  },
  {
   "cell_type": "markdown",
   "metadata": {},
   "source": [
    "> [Link to Brookings](https://www.brookings.edu/multi-chapter-report/vital-statistics-on-congress/)\n",
    "\n",
    "> [Link to BallotPedia](https://ballotpedia.org/Legislative_Branch)\n",
    "\n",
    "> [Link to WikiPedia](https://en.wikipedia.org/wiki/List_of_United_States_Senate_elections)\n",
    "\n",
    "> [Link to Wiki-Category (U.S. Senator)](https://commons.wikimedia.org/wiki/Category:Senators_of_the_United_States)"
   ]
  },
  {
   "cell_type": "markdown",
   "metadata": {},
   "source": [
    "Why after the 17th amendment?? [Link](https://en.wikipedia.org/wiki/Seventeenth_Amendment_to_the_United_States_Constitution)\n",
    "\n",
    "For 1920 forward, proceed like 1976. Prior to this, will need to use first table with general info.\n",
    "\n",
    "* **Clean up NaN value table from top of pages** -- Use index 2 to grab  nested table from `'infobox vevent'`.\n",
    "* **Take list of states of top tables** and map to dfs\n",
    "* Get demographic info wikidata\n",
    "* eda time series of state party (heatmap)\n",
    "* NLP on names, etc.\n",
    "* [link for slider viz](https://medium.com/@sjacks/the-journey-to-an-attractive-visualization-bac019506a49)"
   ]
  },
  {
   "cell_type": "markdown",
   "metadata": {},
   "source": [
    "## Building code"
   ]
  },
  {
   "cell_type": "code",
   "execution_count": 7,
   "metadata": {
    "ExecuteTime": {
     "end_time": "2020-08-19T23:58:12.122764Z",
     "start_time": "2020-08-19T23:58:12.066793Z"
    }
   },
   "outputs": [
    {
     "data": {
      "text/plain": [
       "<module 'functions' from 'C:\\\\Users\\\\d_ful\\\\Documents\\\\GitHub\\\\Capstone_Project\\\\functions.py'>"
      ]
     },
     "execution_count": 7,
     "metadata": {},
     "output_type": "execute_result"
    }
   ],
   "source": [
    "reload(dlf)"
   ]
  },
  {
   "cell_type": "code",
   "execution_count": 3,
   "metadata": {
    "ExecuteTime": {
     "end_time": "2020-08-19T23:42:56.535012Z",
     "start_time": "2020-08-19T23:42:56.523954Z"
    }
   },
   "outputs": [],
   "source": [
    "# elect_yr_tables, elect_yr_tocs = wiki_senate_scraper()\n",
    "\n",
    "# election_collection_raw = election_collector(elect_yr_tables, elect_yr_tocs)"
   ]
  },
  {
   "cell_type": "code",
   "execution_count": 4,
   "metadata": {
    "ExecuteTime": {
     "end_time": "2020-08-19T23:42:56.558155Z",
     "start_time": "2020-08-19T23:42:56.545002Z"
    }
   },
   "outputs": [],
   "source": [
    "## This works for all years up until 2018 (doesnt have these tables)\n",
    "\n",
    "# yr_sum_tables = dlf.yr_summary_collector(election_collection_raw)\n",
    "# yr_sum_dict = dlf.yr_sum_formatter(yr_sum_tables)\n",
    "# name_lookup_df = dlf.master_tabler(yr_sum_dict)"
   ]
  },
  {
   "cell_type": "code",
   "execution_count": 8,
   "metadata": {
    "ExecuteTime": {
     "end_time": "2020-08-19T23:58:21.617484Z",
     "start_time": "2020-08-19T23:58:18.008414Z"
    },
    "scrolled": false
   },
   "outputs": [
    {
     "name": "stdout",
     "output_type": "stream",
     "text": [
      "4 NA operations completed.\n",
      "------------------------------Step 5 Complete!------------------------------\n",
      "20 loops done! Just finished 1958.\n",
      "20 loops done! Just finished 1998.\n",
      "Finished 49 years! Latest year collected 2016.\n",
      "------------------------------Step 6 Complete!------------------------------\n"
     ]
    }
   ],
   "source": [
    "# yr_st_elects = dlf.st_election_collector(election_collection_raw)\n",
    "# print(('---'*10)+'Step 1 Complete!'+('---'*10))\n",
    "# print('yr_st_elects length:', len(yr_st_elects))\n",
    "\n",
    "# yr_st_dict = dlf.st_election_cleaner(yr_st_elects)\n",
    "# print(('---'*10)+'Step 2 Complete!'+('---'*10))\n",
    "\n",
    "# yr_st_dict_joined = dlf.st_election_aggregator(yr_st_dict)\n",
    "# print(('---'*10)+'Step 3 Complete!'+('---'*10))\n",
    "\n",
    "# yr_st_dict_mapped = dlf.st_election_state_mapper(yr_st_dict_joined, name_lookup_df)\n",
    "# print(('---'*10)+'Step 4 Complete!'+('---'*10))\n",
    "\n",
    "yr_st_mapped_full = dlf.yr_st_mapped_NA_handler(yr_st_dict_mapped)\n",
    "print(('---'*10)+'Step 5 Complete!'+('---'*10))\n",
    "\n",
    "yr_st_mapped_cln = dlf.st_mapped_cleaner(yr_st_mapped_full, name_lookup_df, ldr_master_df_model)\n",
    "print(('---'*10)+'Step 6 Complete!'+('---'*10))\n",
    "\n",
    "# 5355 rows total i.e. 6 days until all gender info is filled (found with for loop-list into array sum)"
   ]
  },
  {
   "cell_type": "code",
   "execution_count": 9,
   "metadata": {
    "ExecuteTime": {
     "end_time": "2020-08-19T23:58:21.753249Z",
     "start_time": "2020-08-19T23:58:21.623976Z"
    }
   },
   "outputs": [],
   "source": [
    "fin_df = dlf.cln_st_combiner(yr_st_mapped_cln)\n",
    "# # print('Length:', len(fin_df))\n",
    "# # display(fin_df.head(10))\n",
    "# # display(fin_df.tail(10))"
   ]
  },
  {
   "cell_type": "code",
   "execution_count": 7,
   "metadata": {
    "ExecuteTime": {
     "end_time": "2020-08-19T23:42:56.619571Z",
     "start_time": "2020-08-19T23:42:56.609658Z"
    },
    "scrolled": true
   },
   "outputs": [],
   "source": [
    "# sen_leader_tables = dlf.sen_leader_collector(election_collection_raw)\n",
    "\n",
    "# sen_leader_dict = dlf.sen_leader_cleaner(sen_leader_tables)\n",
    "\n",
    "# test = dlf.table_checker(dict_=sen_leader_dict)\n",
    "# print(type(test))\n",
    "# test"
   ]
  },
  {
   "cell_type": "code",
   "execution_count": 8,
   "metadata": {
    "ExecuteTime": {
     "end_time": "2020-08-19T23:42:56.647525Z",
     "start_time": "2020-08-19T23:42:56.635921Z"
    },
    "scrolled": false
   },
   "outputs": [],
   "source": [
    "# ldr_master_df = dlf.master_leader_tabler(sen_leader_dict)\n",
    "# ldr_master_df\n",
    "\n",
    "# ldr_master_df_model = dlf.master_leader_cleaner(ldr_master_df, rd_stand=True, fillna_stand=True)\n",
    "# ldr_master_df_model = dlf.regex_subber_bycol(ldr_master_df_model, 'Leader', \n",
    "#                                          [r'\\(([^\\)]+)\\)', r'\\[([^\\)]+)\\]'],\n",
    "#                                          multi_patt=True)\n",
    "# ldr_master_df_model"
   ]
  },
  {
   "cell_type": "markdown",
   "metadata": {},
   "source": [
    "## Pickless...."
   ]
  },
  {
   "cell_type": "markdown",
   "metadata": {},
   "source": [
    "### Writing.."
   ]
  },
  {
   "cell_type": "code",
   "execution_count": 9,
   "metadata": {
    "ExecuteTime": {
     "end_time": "2020-08-19T23:42:56.670565Z",
     "start_time": "2020-08-19T23:42:56.657695Z"
    }
   },
   "outputs": [],
   "source": [
    "# with open('election_collection_raw.pickle', 'wb') as f:\n",
    "#     pickle.dump(election_collection_raw, f)\n",
    "#     f.close()"
   ]
  },
  {
   "cell_type": "code",
   "execution_count": 10,
   "metadata": {
    "ExecuteTime": {
     "end_time": "2020-08-19T23:42:56.694210Z",
     "start_time": "2020-08-19T23:42:56.681333Z"
    }
   },
   "outputs": [],
   "source": [
    "# with open('yr_sum_tables.pickle', 'wb') as f:\n",
    "#     pickle.dump(yr_sum_tables, f)\n",
    "#     f.close()"
   ]
  },
  {
   "cell_type": "code",
   "execution_count": 11,
   "metadata": {
    "ExecuteTime": {
     "end_time": "2020-08-19T23:42:56.718851Z",
     "start_time": "2020-08-19T23:42:56.705430Z"
    }
   },
   "outputs": [],
   "source": [
    "# with open('yr_sum_dict.pickle', 'wb') as f:\n",
    "#     pickle.dump(yr_sum_dict, f)\n",
    "#     f.close()"
   ]
  },
  {
   "cell_type": "code",
   "execution_count": 12,
   "metadata": {
    "ExecuteTime": {
     "end_time": "2020-08-19T23:42:56.741983Z",
     "start_time": "2020-08-19T23:42:56.729197Z"
    }
   },
   "outputs": [],
   "source": [
    "# with open('name_lookup_df.pickle', 'wb') as f:\n",
    "#     pickle.dump(name_lookup_df, f)\n",
    "#     f.close()"
   ]
  },
  {
   "cell_type": "code",
   "execution_count": 13,
   "metadata": {
    "ExecuteTime": {
     "end_time": "2020-08-19T23:42:56.766475Z",
     "start_time": "2020-08-19T23:42:56.752438Z"
    }
   },
   "outputs": [],
   "source": [
    "# with open('yr_st_elects.pickle', 'wb') as f:\n",
    "#     pickle.dump(yr_st_elects, f)\n",
    "#     f.close()"
   ]
  },
  {
   "cell_type": "code",
   "execution_count": 14,
   "metadata": {
    "ExecuteTime": {
     "end_time": "2020-08-19T23:42:56.784028Z",
     "start_time": "2020-08-19T23:42:56.774580Z"
    }
   },
   "outputs": [],
   "source": [
    "# with open('yr_st_dict.pickle', 'wb') as f:\n",
    "#     pickle.dump(yr_st_dict, f)\n",
    "#     f.close()"
   ]
  },
  {
   "cell_type": "code",
   "execution_count": 15,
   "metadata": {
    "ExecuteTime": {
     "end_time": "2020-08-19T23:42:56.804191Z",
     "start_time": "2020-08-19T23:42:56.791998Z"
    }
   },
   "outputs": [],
   "source": [
    "# with open('yr_st_dict_joined.pickle', 'wb') as f:\n",
    "#     pickle.dump(yr_st_dict_joined, f)\n",
    "#     f.close()"
   ]
  },
  {
   "cell_type": "code",
   "execution_count": 16,
   "metadata": {
    "ExecuteTime": {
     "end_time": "2020-08-19T23:42:56.820426Z",
     "start_time": "2020-08-19T23:42:56.810546Z"
    }
   },
   "outputs": [],
   "source": [
    "# with open('yr_st_dict_mapped.pickle', 'wb') as f:\n",
    "#     pickle.dump(yr_st_dict_mapped, f)\n",
    "#     f.close()"
   ]
  },
  {
   "cell_type": "code",
   "execution_count": 11,
   "metadata": {
    "ExecuteTime": {
     "end_time": "2020-08-19T23:59:19.631728Z",
     "start_time": "2020-08-19T23:59:19.597962Z"
    }
   },
   "outputs": [],
   "source": [
    "with open('yr_st_mapped_full.pickle', 'wb') as f:\n",
    "    pickle.dump(yr_st_mapped_full, f)\n",
    "    f.close()"
   ]
  },
  {
   "cell_type": "code",
   "execution_count": 12,
   "metadata": {
    "ExecuteTime": {
     "end_time": "2020-08-19T23:59:25.480723Z",
     "start_time": "2020-08-19T23:59:25.448395Z"
    }
   },
   "outputs": [],
   "source": [
    "with open('yr_st_mapped_cln.pickle', 'wb') as f:\n",
    "    pickle.dump(yr_st_mapped_cln, f)\n",
    "    f.close()"
   ]
  },
  {
   "cell_type": "code",
   "execution_count": 19,
   "metadata": {
    "ExecuteTime": {
     "end_time": "2020-08-19T23:42:56.863672Z",
     "start_time": "2020-08-19T23:42:56.856250Z"
    }
   },
   "outputs": [],
   "source": [
    "# with open('sen_leader_tables.pickle', 'wb') as f:\n",
    "#     pickle.dump(sen_leader_tables, f)\n",
    "#     f.close()"
   ]
  },
  {
   "cell_type": "code",
   "execution_count": 20,
   "metadata": {
    "ExecuteTime": {
     "end_time": "2020-08-19T23:42:56.878909Z",
     "start_time": "2020-08-19T23:42:56.868652Z"
    }
   },
   "outputs": [],
   "source": [
    "# with open('sen_leader_dict.pickle', 'wb') as f:\n",
    "#     pickle.dump(sen_leader_dict, f)\n",
    "#     f.close()"
   ]
  },
  {
   "cell_type": "code",
   "execution_count": 21,
   "metadata": {
    "ExecuteTime": {
     "end_time": "2020-08-19T23:42:56.890570Z",
     "start_time": "2020-08-19T23:42:56.883962Z"
    }
   },
   "outputs": [],
   "source": [
    "# with open('ldr_master_df.pickle', 'wb') as f:\n",
    "#     pickle.dump(ldr_master_df, f)\n",
    "#     f.close()"
   ]
  },
  {
   "cell_type": "code",
   "execution_count": 22,
   "metadata": {
    "ExecuteTime": {
     "end_time": "2020-08-19T23:42:56.907765Z",
     "start_time": "2020-08-19T23:42:56.896885Z"
    }
   },
   "outputs": [],
   "source": [
    "# with open('ldr_master_df_model.pickle', 'wb') as f:\n",
    "#     pickle.dump(ldr_master_df_model, f)\n",
    "#     f.close()"
   ]
  },
  {
   "cell_type": "code",
   "execution_count": 13,
   "metadata": {
    "ExecuteTime": {
     "end_time": "2020-08-19T23:59:32.309545Z",
     "start_time": "2020-08-19T23:59:32.197699Z"
    }
   },
   "outputs": [],
   "source": [
    "fin_df.to_csv(r'C:\\Users\\d_ful\\Documents\\GitHub\\Capstone_Project\\Senate_generals_thru_2016', index=False)"
   ]
  },
  {
   "cell_type": "markdown",
   "metadata": {},
   "source": [
    "### Reading.."
   ]
  },
  {
   "cell_type": "code",
   "execution_count": 24,
   "metadata": {
    "ExecuteTime": {
     "end_time": "2020-08-19T23:42:56.948152Z",
     "start_time": "2020-08-19T23:42:56.938895Z"
    }
   },
   "outputs": [],
   "source": [
    "# with open('election_collection_raw.pickle', 'rb') as f:\n",
    "#     election_collection_raw = pickle.load(f)\n",
    "#     f.close()"
   ]
  },
  {
   "cell_type": "code",
   "execution_count": 25,
   "metadata": {
    "ExecuteTime": {
     "end_time": "2020-08-19T23:42:56.963263Z",
     "start_time": "2020-08-19T23:42:56.953655Z"
    }
   },
   "outputs": [],
   "source": [
    "# with open('yr_sum_tables.pickle', 'rb') as f:\n",
    "#     yr_sum_tables = pickle.load(f)\n",
    "#     f.close()"
   ]
  },
  {
   "cell_type": "code",
   "execution_count": 26,
   "metadata": {
    "ExecuteTime": {
     "end_time": "2020-08-19T23:42:56.975858Z",
     "start_time": "2020-08-19T23:42:56.968319Z"
    }
   },
   "outputs": [],
   "source": [
    "# with open('yr_sum_dict.pickle', 'rb') as f:\n",
    "#     yr_sum_dict = pickle.load(f)\n",
    "#     f.close()"
   ]
  },
  {
   "cell_type": "code",
   "execution_count": 2,
   "metadata": {
    "ExecuteTime": {
     "end_time": "2020-08-19T23:56:28.748584Z",
     "start_time": "2020-08-19T23:56:28.731923Z"
    }
   },
   "outputs": [],
   "source": [
    "with open('name_lookup_df.pickle', 'rb') as f:\n",
    "    name_lookup_df = pickle.load(f)\n",
    "    f.close()"
   ]
  },
  {
   "cell_type": "code",
   "execution_count": 28,
   "metadata": {
    "ExecuteTime": {
     "end_time": "2020-08-19T23:42:57.020985Z",
     "start_time": "2020-08-19T23:42:57.010604Z"
    }
   },
   "outputs": [],
   "source": [
    "# with open('yr_st_elects.pickle', 'rb') as f:\n",
    "#     yr_st_elects = pickle.load(f)\n",
    "#     f.close()"
   ]
  },
  {
   "cell_type": "code",
   "execution_count": 29,
   "metadata": {
    "ExecuteTime": {
     "end_time": "2020-08-19T23:42:57.033856Z",
     "start_time": "2020-08-19T23:42:57.026328Z"
    }
   },
   "outputs": [],
   "source": [
    "# with open('yr_st_dict.pickle', 'rb') as f:\n",
    "#     yr_st_dict = pickle.load(f)\n",
    "#     f.close()"
   ]
  },
  {
   "cell_type": "code",
   "execution_count": 30,
   "metadata": {
    "ExecuteTime": {
     "end_time": "2020-08-19T23:42:57.044815Z",
     "start_time": "2020-08-19T23:42:57.039757Z"
    }
   },
   "outputs": [],
   "source": [
    "# with open('yr_st_dict_joined.pickle', 'rb') as f:\n",
    "#     yr_st_dict_joined = pickle.load(f)\n",
    "#     f.close()"
   ]
  },
  {
   "cell_type": "code",
   "execution_count": 3,
   "metadata": {
    "ExecuteTime": {
     "end_time": "2020-08-19T23:56:29.897409Z",
     "start_time": "2020-08-19T23:56:29.841441Z"
    }
   },
   "outputs": [],
   "source": [
    "with open('yr_st_dict_mapped.pickle', 'rb') as f:\n",
    "    yr_st_dict_mapped = pickle.load(f)\n",
    "    f.close()"
   ]
  },
  {
   "cell_type": "code",
   "execution_count": 32,
   "metadata": {
    "ExecuteTime": {
     "end_time": "2020-08-19T23:42:57.132950Z",
     "start_time": "2020-08-19T23:42:57.124936Z"
    }
   },
   "outputs": [],
   "source": [
    "# with open('yr_st_mapped_full.pickle', 'rb') as f:\n",
    "#     yr_st_mapped_full = pickle.load(f)\n",
    "#     f.close()"
   ]
  },
  {
   "cell_type": "code",
   "execution_count": 4,
   "metadata": {
    "ExecuteTime": {
     "end_time": "2020-08-19T23:56:32.414923Z",
     "start_time": "2020-08-19T23:56:32.331485Z"
    }
   },
   "outputs": [],
   "source": [
    "with open('yr_st_mapped_cln.pickle', 'rb') as f:\n",
    "    yr_st_mapped_cln = pickle.load(f)\n",
    "    f.close()"
   ]
  },
  {
   "cell_type": "code",
   "execution_count": 34,
   "metadata": {
    "ExecuteTime": {
     "end_time": "2020-08-19T23:42:57.205799Z",
     "start_time": "2020-08-19T23:42:57.197564Z"
    }
   },
   "outputs": [],
   "source": [
    "# with open('sen_leader_tables.pickle', 'rb') as f:\n",
    "#     sen_leader_tables = pickle.load(f)\n",
    "#     f.close()"
   ]
  },
  {
   "cell_type": "code",
   "execution_count": 35,
   "metadata": {
    "ExecuteTime": {
     "end_time": "2020-08-19T23:42:57.218367Z",
     "start_time": "2020-08-19T23:42:57.208212Z"
    }
   },
   "outputs": [],
   "source": [
    "# with open('sen_leader_dict.pickle', 'rb') as f:\n",
    "#     sen_leader_dict = pickle.load(f)\n",
    "#     f.close()"
   ]
  },
  {
   "cell_type": "code",
   "execution_count": 36,
   "metadata": {
    "ExecuteTime": {
     "end_time": "2020-08-19T23:42:57.226798Z",
     "start_time": "2020-08-19T23:42:57.220571Z"
    }
   },
   "outputs": [],
   "source": [
    "# with open('ldr_master_df.pickle', 'rb') as f:\n",
    "#     ldr_master_df = pickle.load(f)\n",
    "#     f.close()"
   ]
  },
  {
   "cell_type": "code",
   "execution_count": 5,
   "metadata": {
    "ExecuteTime": {
     "end_time": "2020-08-19T23:56:37.343812Z",
     "start_time": "2020-08-19T23:56:37.336794Z"
    }
   },
   "outputs": [],
   "source": [
    "with open('ldr_master_df_model.pickle', 'rb') as f:\n",
    "    ldr_master_df_model = pickle.load(f)\n",
    "    f.close()"
   ]
  },
  {
   "cell_type": "code",
   "execution_count": 38,
   "metadata": {
    "ExecuteTime": {
     "end_time": "2020-08-19T23:42:57.256746Z",
     "start_time": "2020-08-19T23:42:57.250556Z"
    }
   },
   "outputs": [],
   "source": [
    "## Must do this befor running code for state elections. Error in code\n",
    "# do_not_use = election_collection_raw['2018'][2].pop(0)"
   ]
  },
  {
   "cell_type": "markdown",
   "metadata": {},
   "source": [
    "## Workshop"
   ]
  },
  {
   "cell_type": "markdown",
   "metadata": {},
   "source": [
    "### Dfs"
   ]
  },
  {
   "cell_type": "markdown",
   "metadata": {},
   "source": [
    "Need to go through and format these tables across all elections. then can finally take info from each of the sections to create final year dataframes"
   ]
  },
  {
   "cell_type": "code",
   "execution_count": 37,
   "metadata": {
    "ExecuteTime": {
     "end_time": "2020-08-19T20:36:09.982451Z",
     "start_time": "2020-08-19T20:36:09.974472Z"
    },
    "scrolled": true
   },
   "outputs": [],
   "source": [
    "# reload(dlf)"
   ]
  },
  {
   "cell_type": "code",
   "execution_count": 38,
   "metadata": {
    "ExecuteTime": {
     "end_time": "2020-08-19T20:36:10.054258Z",
     "start_time": "2020-08-19T20:36:09.984476Z"
    },
    "scrolled": true
   },
   "outputs": [
    {
     "data": {
      "text/html": [
       "<div>\n",
       "<style scoped>\n",
       "    .dataframe tbody tr th:only-of-type {\n",
       "        vertical-align: middle;\n",
       "    }\n",
       "\n",
       "    .dataframe tbody tr th {\n",
       "        vertical-align: top;\n",
       "    }\n",
       "\n",
       "    .dataframe thead th {\n",
       "        text-align: right;\n",
       "    }\n",
       "</style>\n",
       "<table border=\"1\" class=\"dataframe\">\n",
       "  <thead>\n",
       "    <tr style=\"text-align: right;\">\n",
       "      <th></th>\n",
       "      <th>Leader</th>\n",
       "      <th>Leaders_seat</th>\n",
       "      <th>Leader_since</th>\n",
       "      <th>Party</th>\n",
       "      <th>Seats_up</th>\n",
       "      <th>Seats_before</th>\n",
       "      <th>Year</th>\n",
       "    </tr>\n",
       "  </thead>\n",
       "  <tbody>\n",
       "    <tr>\n",
       "      <th>0</th>\n",
       "      <td>Mitch McConnell</td>\n",
       "      <td>Kentucky</td>\n",
       "      <td>January 3, 2007</td>\n",
       "      <td>Republican</td>\n",
       "      <td>9</td>\n",
       "      <td>51</td>\n",
       "      <td>2018</td>\n",
       "    </tr>\n",
       "    <tr>\n",
       "      <th>1</th>\n",
       "      <td>Chuck Schumer</td>\n",
       "      <td>New York</td>\n",
       "      <td>January 3, 2017</td>\n",
       "      <td>Democratic</td>\n",
       "      <td>24</td>\n",
       "      <td>47</td>\n",
       "      <td>2018</td>\n",
       "    </tr>\n",
       "    <tr>\n",
       "      <th>2</th>\n",
       "      <td>3rd Party</td>\n",
       "      <td>3rd Party</td>\n",
       "      <td>January 3, 2017</td>\n",
       "      <td>Independent</td>\n",
       "      <td>2</td>\n",
       "      <td>2</td>\n",
       "      <td>2018</td>\n",
       "    </tr>\n",
       "    <tr>\n",
       "      <th>3</th>\n",
       "      <td>John W. Kern</td>\n",
       "      <td>Indiana</td>\n",
       "      <td>March 4, 1913</td>\n",
       "      <td>Democratic</td>\n",
       "      <td>16</td>\n",
       "      <td>50</td>\n",
       "      <td>1914</td>\n",
       "    </tr>\n",
       "    <tr>\n",
       "      <th>4</th>\n",
       "      <td>Jacob H. Gallinger</td>\n",
       "      <td>New Hampshire</td>\n",
       "      <td>March 4, 1913</td>\n",
       "      <td>Republican</td>\n",
       "      <td>18</td>\n",
       "      <td>44</td>\n",
       "      <td>1914</td>\n",
       "    </tr>\n",
       "    <tr>\n",
       "      <th>5</th>\n",
       "      <td>3rd Party</td>\n",
       "      <td>3rd Party</td>\n",
       "      <td>March 4, 1913</td>\n",
       "      <td>Progressive</td>\n",
       "      <td>0</td>\n",
       "      <td>1</td>\n",
       "      <td>1914</td>\n",
       "    </tr>\n",
       "    <tr>\n",
       "      <th>6</th>\n",
       "      <td>John W. Kern</td>\n",
       "      <td>Indiana</td>\n",
       "      <td>March 4, 1913</td>\n",
       "      <td>Democratic</td>\n",
       "      <td>17</td>\n",
       "      <td>56</td>\n",
       "      <td>1916</td>\n",
       "    </tr>\n",
       "    <tr>\n",
       "      <th>7</th>\n",
       "      <td>Jacob H. Gallinger</td>\n",
       "      <td>New Hampshire</td>\n",
       "      <td>March 4, 1913</td>\n",
       "      <td>Republican</td>\n",
       "      <td>15</td>\n",
       "      <td>40</td>\n",
       "      <td>1916</td>\n",
       "    </tr>\n",
       "    <tr>\n",
       "      <th>8</th>\n",
       "      <td>Henry Cabot Lodge</td>\n",
       "      <td>Massachusetts</td>\n",
       "      <td>March 4, 1919</td>\n",
       "      <td>Republican</td>\n",
       "      <td>17</td>\n",
       "      <td>43</td>\n",
       "      <td>1918</td>\n",
       "    </tr>\n",
       "    <tr>\n",
       "      <th>9</th>\n",
       "      <td>Oscar Underwood</td>\n",
       "      <td>Alabama</td>\n",
       "      <td>April 27, 1920</td>\n",
       "      <td>Democratic</td>\n",
       "      <td>24</td>\n",
       "      <td>53</td>\n",
       "      <td>1918</td>\n",
       "    </tr>\n",
       "    <tr>\n",
       "      <th>10</th>\n",
       "      <td>Henry Cabot Lodge</td>\n",
       "      <td>Massachusetts</td>\n",
       "      <td>March 4, 1919</td>\n",
       "      <td>Republican</td>\n",
       "      <td>15</td>\n",
       "      <td>49</td>\n",
       "      <td>1920</td>\n",
       "    </tr>\n",
       "    <tr>\n",
       "      <th>11</th>\n",
       "      <td>Oscar Underwood</td>\n",
       "      <td>Alabama</td>\n",
       "      <td>April 27, 1920</td>\n",
       "      <td>Democratic</td>\n",
       "      <td>17</td>\n",
       "      <td>47</td>\n",
       "      <td>1920</td>\n",
       "    </tr>\n",
       "    <tr>\n",
       "      <th>12</th>\n",
       "      <td>Henry Cabot Lodge</td>\n",
       "      <td>Massachusetts</td>\n",
       "      <td>March 4, 1919</td>\n",
       "      <td>Republican</td>\n",
       "      <td>17</td>\n",
       "      <td>60</td>\n",
       "      <td>1922</td>\n",
       "    </tr>\n",
       "    <tr>\n",
       "      <th>13</th>\n",
       "      <td>Oscar Underwood</td>\n",
       "      <td>Alabama</td>\n",
       "      <td>April 27, 1920</td>\n",
       "      <td>Democratic</td>\n",
       "      <td>15</td>\n",
       "      <td>36</td>\n",
       "      <td>1922</td>\n",
       "    </tr>\n",
       "    <tr>\n",
       "      <th>14</th>\n",
       "      <td>3rd Party</td>\n",
       "      <td>3rd Party</td>\n",
       "      <td>April 27, 1920</td>\n",
       "      <td>Farmer–Labor</td>\n",
       "      <td>0</td>\n",
       "      <td>0</td>\n",
       "      <td>1922</td>\n",
       "    </tr>\n",
       "  </tbody>\n",
       "</table>\n",
       "</div>"
      ],
      "text/plain": [
       "                Leader   Leaders_seat     Leader_since         Party Seats_up  \\\n",
       "0      Mitch McConnell       Kentucky  January 3, 2007    Republican        9   \n",
       "1        Chuck Schumer       New York  January 3, 2017    Democratic       24   \n",
       "2            3rd Party      3rd Party  January 3, 2017   Independent        2   \n",
       "3         John W. Kern        Indiana    March 4, 1913    Democratic       16   \n",
       "4   Jacob H. Gallinger  New Hampshire    March 4, 1913    Republican       18   \n",
       "5            3rd Party      3rd Party    March 4, 1913   Progressive        0   \n",
       "6         John W. Kern        Indiana    March 4, 1913    Democratic       17   \n",
       "7   Jacob H. Gallinger  New Hampshire    March 4, 1913    Republican       15   \n",
       "8    Henry Cabot Lodge  Massachusetts    March 4, 1919    Republican       17   \n",
       "9      Oscar Underwood        Alabama   April 27, 1920    Democratic       24   \n",
       "10   Henry Cabot Lodge  Massachusetts    March 4, 1919    Republican       15   \n",
       "11     Oscar Underwood        Alabama   April 27, 1920    Democratic       17   \n",
       "12   Henry Cabot Lodge  Massachusetts    March 4, 1919    Republican       17   \n",
       "13     Oscar Underwood        Alabama   April 27, 1920    Democratic       15   \n",
       "14           3rd Party      3rd Party   April 27, 1920  Farmer–Labor        0   \n",
       "\n",
       "   Seats_before  Year  \n",
       "0            51  2018  \n",
       "1            47  2018  \n",
       "2             2  2018  \n",
       "3            50  1914  \n",
       "4            44  1914  \n",
       "5             1  1914  \n",
       "6            56  1916  \n",
       "7            40  1916  \n",
       "8            43  1918  \n",
       "9            53  1918  \n",
       "10           49  1920  \n",
       "11           47  1920  \n",
       "12           60  1922  \n",
       "13           36  1922  \n",
       "14            0  1922  "
      ]
     },
     "metadata": {},
     "output_type": "display_data"
    },
    {
     "name": "stdout",
     "output_type": "stream",
     "text": [
      "<class 'pandas.core.frame.DataFrame'>\n",
      "RangeIndex: 148 entries, 0 to 147\n",
      "Data columns (total 7 columns):\n",
      "Leader          148 non-null object\n",
      "Leaders_seat    148 non-null object\n",
      "Leader_since    148 non-null object\n",
      "Party           148 non-null object\n",
      "Seats_up        148 non-null object\n",
      "Seats_before    148 non-null object\n",
      "Year            148 non-null object\n",
      "dtypes: object(7)\n",
      "memory usage: 8.2+ KB\n"
     ]
    }
   ],
   "source": [
    "display(ldr_master_df_model.head(15))\n",
    "ldr_master_df_model.info()"
   ]
  },
  {
   "cell_type": "code",
   "execution_count": 39,
   "metadata": {
    "ExecuteTime": {
     "end_time": "2020-08-19T20:36:10.060243Z",
     "start_time": "2020-08-19T20:36:10.056253Z"
    },
    "scrolled": true
   },
   "outputs": [],
   "source": [
    "# test = name_lookup_df[name_lookup_df['Year']=='1986'].copy()\n",
    "# test"
   ]
  },
  {
   "cell_type": "code",
   "execution_count": 10,
   "metadata": {
    "ExecuteTime": {
     "end_time": "2020-08-19T23:58:36.605404Z",
     "start_time": "2020-08-19T23:58:36.514816Z"
    },
    "scrolled": false
   },
   "outputs": [
    {
     "data": {
      "text/html": [
       "<div>\n",
       "<style scoped>\n",
       "    .dataframe tbody tr th:only-of-type {\n",
       "        vertical-align: middle;\n",
       "    }\n",
       "\n",
       "    .dataframe tbody tr th {\n",
       "        vertical-align: top;\n",
       "    }\n",
       "\n",
       "    .dataframe thead th {\n",
       "        text-align: right;\n",
       "    }\n",
       "</style>\n",
       "<table border=\"1\" class=\"dataframe\">\n",
       "  <thead>\n",
       "    <tr style=\"text-align: right;\">\n",
       "      <th></th>\n",
       "      <th>%</th>\n",
       "      <th>Turnout</th>\n",
       "      <th>Incumb_Y</th>\n",
       "      <th>State</th>\n",
       "      <th>Cln_name</th>\n",
       "      <th>Year</th>\n",
       "      <th>Terms_in_office</th>\n",
       "      <th>Party_enc</th>\n",
       "      <th>First_name</th>\n",
       "      <th>Seats_up%</th>\n",
       "      <th>Seats_before%</th>\n",
       "    </tr>\n",
       "  </thead>\n",
       "  <tbody>\n",
       "    <tr>\n",
       "      <th>0</th>\n",
       "      <td>53.34</td>\n",
       "      <td>1526782.0</td>\n",
       "      <td>1</td>\n",
       "      <td>Arizona</td>\n",
       "      <td>Jon Kyl</td>\n",
       "      <td>2006</td>\n",
       "      <td>2</td>\n",
       "      <td>R</td>\n",
       "      <td>Jon</td>\n",
       "      <td>0.272727</td>\n",
       "      <td>0.55</td>\n",
       "    </tr>\n",
       "    <tr>\n",
       "      <th>1</th>\n",
       "      <td>43.5</td>\n",
       "      <td>1526782.0</td>\n",
       "      <td>0</td>\n",
       "      <td>Arizona</td>\n",
       "      <td>Jim Pederson</td>\n",
       "      <td>2006</td>\n",
       "      <td>0</td>\n",
       "      <td>D</td>\n",
       "      <td>Jim</td>\n",
       "      <td>0.340909</td>\n",
       "      <td>0.44</td>\n",
       "    </tr>\n",
       "    <tr>\n",
       "      <th>2</th>\n",
       "      <td>3.16</td>\n",
       "      <td>1526782.0</td>\n",
       "      <td>0</td>\n",
       "      <td>Arizona</td>\n",
       "      <td>Richard Mack</td>\n",
       "      <td>2006</td>\n",
       "      <td>0</td>\n",
       "      <td>T</td>\n",
       "      <td>Richard</td>\n",
       "      <td>0.000000</td>\n",
       "      <td>0.00</td>\n",
       "    </tr>\n",
       "    <tr>\n",
       "      <th>3</th>\n",
       "      <td>59.43</td>\n",
       "      <td>8899059.0</td>\n",
       "      <td>1</td>\n",
       "      <td>California</td>\n",
       "      <td>Dianne Feinstein</td>\n",
       "      <td>2006</td>\n",
       "      <td>3</td>\n",
       "      <td>D</td>\n",
       "      <td>Dianne</td>\n",
       "      <td>0.340909</td>\n",
       "      <td>0.44</td>\n",
       "    </tr>\n",
       "    <tr>\n",
       "      <th>4</th>\n",
       "      <td>35.02</td>\n",
       "      <td>8899059.0</td>\n",
       "      <td>0</td>\n",
       "      <td>California</td>\n",
       "      <td>Dick Mountjoy</td>\n",
       "      <td>2006</td>\n",
       "      <td>0</td>\n",
       "      <td>R</td>\n",
       "      <td>Dick</td>\n",
       "      <td>0.272727</td>\n",
       "      <td>0.55</td>\n",
       "    </tr>\n",
       "    <tr>\n",
       "      <th>5</th>\n",
       "      <td>1.72</td>\n",
       "      <td>8899059.0</td>\n",
       "      <td>0</td>\n",
       "      <td>California</td>\n",
       "      <td>Todd Chretien</td>\n",
       "      <td>2006</td>\n",
       "      <td>0</td>\n",
       "      <td>T</td>\n",
       "      <td>Todd</td>\n",
       "      <td>0.000000</td>\n",
       "      <td>0.00</td>\n",
       "    </tr>\n",
       "    <tr>\n",
       "      <th>6</th>\n",
       "      <td>1.57</td>\n",
       "      <td>8899059.0</td>\n",
       "      <td>0</td>\n",
       "      <td>California</td>\n",
       "      <td>Michael Metti</td>\n",
       "      <td>2006</td>\n",
       "      <td>0</td>\n",
       "      <td>T</td>\n",
       "      <td>Michael</td>\n",
       "      <td>0.000000</td>\n",
       "      <td>0.00</td>\n",
       "    </tr>\n",
       "    <tr>\n",
       "      <th>7</th>\n",
       "      <td>1.38</td>\n",
       "      <td>8899059.0</td>\n",
       "      <td>0</td>\n",
       "      <td>California</td>\n",
       "      <td>Marsha Feinland</td>\n",
       "      <td>2006</td>\n",
       "      <td>0</td>\n",
       "      <td>T</td>\n",
       "      <td>Marsha</td>\n",
       "      <td>0.000000</td>\n",
       "      <td>0.00</td>\n",
       "    </tr>\n",
       "    <tr>\n",
       "      <th>8</th>\n",
       "      <td>0.88</td>\n",
       "      <td>8899059.0</td>\n",
       "      <td>0</td>\n",
       "      <td>California</td>\n",
       "      <td>Don Grundmann</td>\n",
       "      <td>2006</td>\n",
       "      <td>0</td>\n",
       "      <td>T</td>\n",
       "      <td>Don</td>\n",
       "      <td>0.000000</td>\n",
       "      <td>0.00</td>\n",
       "    </tr>\n",
       "    <tr>\n",
       "      <th>9</th>\n",
       "      <td>0</td>\n",
       "      <td>8899059.0</td>\n",
       "      <td>0</td>\n",
       "      <td>California</td>\n",
       "      <td>Kent Mesplay</td>\n",
       "      <td>2006</td>\n",
       "      <td>0</td>\n",
       "      <td>T</td>\n",
       "      <td>Kent</td>\n",
       "      <td>0.000000</td>\n",
       "      <td>0.00</td>\n",
       "    </tr>\n",
       "    <tr>\n",
       "      <th>10</th>\n",
       "      <td>0</td>\n",
       "      <td>8899059.0</td>\n",
       "      <td>0</td>\n",
       "      <td>California</td>\n",
       "      <td>Jeffrey Mackler</td>\n",
       "      <td>2006</td>\n",
       "      <td>0</td>\n",
       "      <td>I</td>\n",
       "      <td>Jeffrey</td>\n",
       "      <td>1.000000</td>\n",
       "      <td>0.01</td>\n",
       "    </tr>\n",
       "    <tr>\n",
       "      <th>11</th>\n",
       "      <td>0</td>\n",
       "      <td>8899059.0</td>\n",
       "      <td>0</td>\n",
       "      <td>California</td>\n",
       "      <td>Lea Sherman</td>\n",
       "      <td>2006</td>\n",
       "      <td>0</td>\n",
       "      <td>I</td>\n",
       "      <td>Lea</td>\n",
       "      <td>1.000000</td>\n",
       "      <td>0.01</td>\n",
       "    </tr>\n",
       "    <tr>\n",
       "      <th>12</th>\n",
       "      <td>0</td>\n",
       "      <td>8899059.0</td>\n",
       "      <td>0</td>\n",
       "      <td>California</td>\n",
       "      <td>Connor Vlakancic</td>\n",
       "      <td>2006</td>\n",
       "      <td>0</td>\n",
       "      <td>I</td>\n",
       "      <td>Connor</td>\n",
       "      <td>1.000000</td>\n",
       "      <td>0.01</td>\n",
       "    </tr>\n",
       "    <tr>\n",
       "      <th>13</th>\n",
       "      <td>49.7</td>\n",
       "      <td>1134777.0</td>\n",
       "      <td>1</td>\n",
       "      <td>Connecticut</td>\n",
       "      <td>Joe Lieberman</td>\n",
       "      <td>2006</td>\n",
       "      <td>3</td>\n",
       "      <td>D</td>\n",
       "      <td>Joe</td>\n",
       "      <td>0.340909</td>\n",
       "      <td>0.44</td>\n",
       "    </tr>\n",
       "    <tr>\n",
       "      <th>14</th>\n",
       "      <td>39.7</td>\n",
       "      <td>1134777.0</td>\n",
       "      <td>0</td>\n",
       "      <td>Connecticut</td>\n",
       "      <td>Ned Lamont</td>\n",
       "      <td>2006</td>\n",
       "      <td>0</td>\n",
       "      <td>D</td>\n",
       "      <td>Ned</td>\n",
       "      <td>0.340909</td>\n",
       "      <td>0.44</td>\n",
       "    </tr>\n",
       "    <tr>\n",
       "      <th>15</th>\n",
       "      <td>9.6</td>\n",
       "      <td>1134777.0</td>\n",
       "      <td>0</td>\n",
       "      <td>Connecticut</td>\n",
       "      <td>Alan Schlesinger</td>\n",
       "      <td>2006</td>\n",
       "      <td>0</td>\n",
       "      <td>R</td>\n",
       "      <td>Alan</td>\n",
       "      <td>0.272727</td>\n",
       "      <td>0.55</td>\n",
       "    </tr>\n",
       "    <tr>\n",
       "      <th>16</th>\n",
       "      <td>0.6</td>\n",
       "      <td>1134777.0</td>\n",
       "      <td>0</td>\n",
       "      <td>Connecticut</td>\n",
       "      <td>Ralph Ferrucci</td>\n",
       "      <td>2006</td>\n",
       "      <td>0</td>\n",
       "      <td>T</td>\n",
       "      <td>Ralph</td>\n",
       "      <td>0.000000</td>\n",
       "      <td>0.00</td>\n",
       "    </tr>\n",
       "    <tr>\n",
       "      <th>17</th>\n",
       "      <td>0.4</td>\n",
       "      <td>1134777.0</td>\n",
       "      <td>0</td>\n",
       "      <td>Connecticut</td>\n",
       "      <td>Timothy Knibbs</td>\n",
       "      <td>2006</td>\n",
       "      <td>0</td>\n",
       "      <td>T</td>\n",
       "      <td>Timothy</td>\n",
       "      <td>0.000000</td>\n",
       "      <td>0.00</td>\n",
       "    </tr>\n",
       "    <tr>\n",
       "      <th>18</th>\n",
       "      <td>0</td>\n",
       "      <td>1134777.0</td>\n",
       "      <td>0</td>\n",
       "      <td>Connecticut</td>\n",
       "      <td>Carl Vassar</td>\n",
       "      <td>2006</td>\n",
       "      <td>0</td>\n",
       "      <td>T</td>\n",
       "      <td>Carl</td>\n",
       "      <td>0.000000</td>\n",
       "      <td>0.00</td>\n",
       "    </tr>\n",
       "    <tr>\n",
       "      <th>19</th>\n",
       "      <td>67.13</td>\n",
       "      <td>254099.0</td>\n",
       "      <td>1</td>\n",
       "      <td>Delaware</td>\n",
       "      <td>Thomas Carper</td>\n",
       "      <td>2006</td>\n",
       "      <td>0</td>\n",
       "      <td>D</td>\n",
       "      <td>Thomas</td>\n",
       "      <td>0.340909</td>\n",
       "      <td>0.44</td>\n",
       "    </tr>\n",
       "    <tr>\n",
       "      <th>20</th>\n",
       "      <td>27.44</td>\n",
       "      <td>254099.0</td>\n",
       "      <td>0</td>\n",
       "      <td>Delaware</td>\n",
       "      <td>Jan Ting</td>\n",
       "      <td>2006</td>\n",
       "      <td>0</td>\n",
       "      <td>R</td>\n",
       "      <td>Jan</td>\n",
       "      <td>0.272727</td>\n",
       "      <td>0.55</td>\n",
       "    </tr>\n",
       "    <tr>\n",
       "      <th>21</th>\n",
       "      <td>1.05</td>\n",
       "      <td>254099.0</td>\n",
       "      <td>0</td>\n",
       "      <td>Delaware</td>\n",
       "      <td>William Morris</td>\n",
       "      <td>2006</td>\n",
       "      <td>0</td>\n",
       "      <td>T</td>\n",
       "      <td>William</td>\n",
       "      <td>0.000000</td>\n",
       "      <td>0.00</td>\n",
       "    </tr>\n",
       "    <tr>\n",
       "      <th>22</th>\n",
       "      <td>60.3</td>\n",
       "      <td>4793534.0</td>\n",
       "      <td>1</td>\n",
       "      <td>Florida</td>\n",
       "      <td>Bill Nelson</td>\n",
       "      <td>2006</td>\n",
       "      <td>1</td>\n",
       "      <td>D</td>\n",
       "      <td>Bill</td>\n",
       "      <td>0.340909</td>\n",
       "      <td>0.44</td>\n",
       "    </tr>\n",
       "    <tr>\n",
       "      <th>23</th>\n",
       "      <td>38.1</td>\n",
       "      <td>4793534.0</td>\n",
       "      <td>0</td>\n",
       "      <td>Florida</td>\n",
       "      <td>Katherine Harris</td>\n",
       "      <td>2006</td>\n",
       "      <td>0</td>\n",
       "      <td>R</td>\n",
       "      <td>Katherine</td>\n",
       "      <td>0.272727</td>\n",
       "      <td>0.55</td>\n",
       "    </tr>\n",
       "    <tr>\n",
       "      <th>24</th>\n",
       "      <td>61.4</td>\n",
       "      <td>342842.0</td>\n",
       "      <td>1</td>\n",
       "      <td>Hawaii</td>\n",
       "      <td>Daniel Akaka</td>\n",
       "      <td>2006</td>\n",
       "      <td>4</td>\n",
       "      <td>D</td>\n",
       "      <td>Daniel</td>\n",
       "      <td>0.340909</td>\n",
       "      <td>0.44</td>\n",
       "    </tr>\n",
       "    <tr>\n",
       "      <th>25</th>\n",
       "      <td>36.8</td>\n",
       "      <td>342842.0</td>\n",
       "      <td>0</td>\n",
       "      <td>Hawaii</td>\n",
       "      <td>Cynthia Thielen</td>\n",
       "      <td>2006</td>\n",
       "      <td>0</td>\n",
       "      <td>R</td>\n",
       "      <td>Cynthia</td>\n",
       "      <td>0.272727</td>\n",
       "      <td>0.55</td>\n",
       "    </tr>\n",
       "    <tr>\n",
       "      <th>26</th>\n",
       "      <td>1.9</td>\n",
       "      <td>342842.0</td>\n",
       "      <td>0</td>\n",
       "      <td>Hawaii</td>\n",
       "      <td>Lloyd Mallan</td>\n",
       "      <td>2006</td>\n",
       "      <td>0</td>\n",
       "      <td>T</td>\n",
       "      <td>Lloyd</td>\n",
       "      <td>0.000000</td>\n",
       "      <td>0.00</td>\n",
       "    </tr>\n",
       "    <tr>\n",
       "      <th>27</th>\n",
       "      <td>87.3</td>\n",
       "      <td>1341111.0</td>\n",
       "      <td>1</td>\n",
       "      <td>Indiana</td>\n",
       "      <td>Richard Lugar</td>\n",
       "      <td>2006</td>\n",
       "      <td>5</td>\n",
       "      <td>R</td>\n",
       "      <td>Richard</td>\n",
       "      <td>0.272727</td>\n",
       "      <td>0.55</td>\n",
       "    </tr>\n",
       "    <tr>\n",
       "      <th>28</th>\n",
       "      <td>12.6</td>\n",
       "      <td>1341111.0</td>\n",
       "      <td>0</td>\n",
       "      <td>Indiana</td>\n",
       "      <td>Steve Osborn</td>\n",
       "      <td>2006</td>\n",
       "      <td>0</td>\n",
       "      <td>T</td>\n",
       "      <td>Steve</td>\n",
       "      <td>0.000000</td>\n",
       "      <td>0.00</td>\n",
       "    </tr>\n",
       "    <tr>\n",
       "      <th>29</th>\n",
       "      <td>0.1</td>\n",
       "      <td>1341111.0</td>\n",
       "      <td>0</td>\n",
       "      <td>Indiana</td>\n",
       "      <td>Write-Ins</td>\n",
       "      <td>2006</td>\n",
       "      <td>0</td>\n",
       "      <td>T</td>\n",
       "      <td>Write-Ins</td>\n",
       "      <td>0.000000</td>\n",
       "      <td>0.00</td>\n",
       "    </tr>\n",
       "    <tr>\n",
       "      <th>...</th>\n",
       "      <td>...</td>\n",
       "      <td>...</td>\n",
       "      <td>...</td>\n",
       "      <td>...</td>\n",
       "      <td>...</td>\n",
       "      <td>...</td>\n",
       "      <td>...</td>\n",
       "      <td>...</td>\n",
       "      <td>...</td>\n",
       "      <td>...</td>\n",
       "      <td>...</td>\n",
       "    </tr>\n",
       "    <tr>\n",
       "      <th>73</th>\n",
       "      <td>29.5</td>\n",
       "      <td>218154.0</td>\n",
       "      <td>0</td>\n",
       "      <td>North_Dakota</td>\n",
       "      <td>Dwight Grotberg</td>\n",
       "      <td>2006</td>\n",
       "      <td>0</td>\n",
       "      <td>R</td>\n",
       "      <td>Dwight</td>\n",
       "      <td>0.272727</td>\n",
       "      <td>0.55</td>\n",
       "    </tr>\n",
       "    <tr>\n",
       "      <th>74</th>\n",
       "      <td>56.16</td>\n",
       "      <td>4019236.0</td>\n",
       "      <td>0</td>\n",
       "      <td>North_Dakota</td>\n",
       "      <td>Sherrod Campbell Brown</td>\n",
       "      <td>2006</td>\n",
       "      <td>0</td>\n",
       "      <td>D</td>\n",
       "      <td>Campbell</td>\n",
       "      <td>0.340909</td>\n",
       "      <td>0.44</td>\n",
       "    </tr>\n",
       "    <tr>\n",
       "      <th>75</th>\n",
       "      <td>43.82</td>\n",
       "      <td>4019236.0</td>\n",
       "      <td>1</td>\n",
       "      <td>North_Dakota</td>\n",
       "      <td>Richard Michael DeWine</td>\n",
       "      <td>2006</td>\n",
       "      <td>0</td>\n",
       "      <td>R</td>\n",
       "      <td>Michael</td>\n",
       "      <td>0.272727</td>\n",
       "      <td>0.55</td>\n",
       "    </tr>\n",
       "    <tr>\n",
       "      <th>76</th>\n",
       "      <td>58.64</td>\n",
       "      <td>4081043.0</td>\n",
       "      <td>0</td>\n",
       "      <td>North_Dakota</td>\n",
       "      <td>Bob Casey,</td>\n",
       "      <td>2006</td>\n",
       "      <td>0</td>\n",
       "      <td>D</td>\n",
       "      <td>Bob</td>\n",
       "      <td>0.340909</td>\n",
       "      <td>0.44</td>\n",
       "    </tr>\n",
       "    <tr>\n",
       "      <th>77</th>\n",
       "      <td>41.28</td>\n",
       "      <td>4081043.0</td>\n",
       "      <td>1</td>\n",
       "      <td>Pennsylvania</td>\n",
       "      <td>Rick Santorum</td>\n",
       "      <td>2006</td>\n",
       "      <td>2</td>\n",
       "      <td>R</td>\n",
       "      <td>Rick</td>\n",
       "      <td>0.272727</td>\n",
       "      <td>0.55</td>\n",
       "    </tr>\n",
       "    <tr>\n",
       "      <th>78</th>\n",
       "      <td>53.52</td>\n",
       "      <td>384993.0</td>\n",
       "      <td>0</td>\n",
       "      <td>Rhode_Island</td>\n",
       "      <td>Sheldon Whitehouse</td>\n",
       "      <td>2006</td>\n",
       "      <td>0</td>\n",
       "      <td>D</td>\n",
       "      <td>Sheldon</td>\n",
       "      <td>0.340909</td>\n",
       "      <td>0.44</td>\n",
       "    </tr>\n",
       "    <tr>\n",
       "      <th>79</th>\n",
       "      <td>46.48</td>\n",
       "      <td>384993.0</td>\n",
       "      <td>1</td>\n",
       "      <td>Rhode_Island</td>\n",
       "      <td>Lincoln Chafee</td>\n",
       "      <td>2006</td>\n",
       "      <td>2</td>\n",
       "      <td>R</td>\n",
       "      <td>Lincoln</td>\n",
       "      <td>0.272727</td>\n",
       "      <td>0.55</td>\n",
       "    </tr>\n",
       "    <tr>\n",
       "      <th>80</th>\n",
       "      <td>50.7</td>\n",
       "      <td>1833693.0</td>\n",
       "      <td>0</td>\n",
       "      <td>Tennessee</td>\n",
       "      <td>Bob Corker</td>\n",
       "      <td>2006</td>\n",
       "      <td>0</td>\n",
       "      <td>R</td>\n",
       "      <td>Bob</td>\n",
       "      <td>0.272727</td>\n",
       "      <td>0.55</td>\n",
       "    </tr>\n",
       "    <tr>\n",
       "      <th>81</th>\n",
       "      <td>48</td>\n",
       "      <td>1833693.0</td>\n",
       "      <td>0</td>\n",
       "      <td>Tennessee</td>\n",
       "      <td>Harold Ford,</td>\n",
       "      <td>2006</td>\n",
       "      <td>0</td>\n",
       "      <td>D</td>\n",
       "      <td>Harold</td>\n",
       "      <td>0.340909</td>\n",
       "      <td>0.44</td>\n",
       "    </tr>\n",
       "    <tr>\n",
       "      <th>82</th>\n",
       "      <td>61.69</td>\n",
       "      <td>4314663.0</td>\n",
       "      <td>1</td>\n",
       "      <td>Texas</td>\n",
       "      <td>Kay Bailey Hutchison</td>\n",
       "      <td>2006</td>\n",
       "      <td>3</td>\n",
       "      <td>R</td>\n",
       "      <td>Bailey</td>\n",
       "      <td>0.272727</td>\n",
       "      <td>0.55</td>\n",
       "    </tr>\n",
       "    <tr>\n",
       "      <th>83</th>\n",
       "      <td>36.04</td>\n",
       "      <td>4314663.0</td>\n",
       "      <td>0</td>\n",
       "      <td>Texas</td>\n",
       "      <td>Barbara Ann Radnofsky</td>\n",
       "      <td>2006</td>\n",
       "      <td>0</td>\n",
       "      <td>D</td>\n",
       "      <td>Ann</td>\n",
       "      <td>0.340909</td>\n",
       "      <td>0.44</td>\n",
       "    </tr>\n",
       "    <tr>\n",
       "      <th>84</th>\n",
       "      <td>2.26</td>\n",
       "      <td>4314663.0</td>\n",
       "      <td>0</td>\n",
       "      <td>Texas</td>\n",
       "      <td>Scott Jameson</td>\n",
       "      <td>2006</td>\n",
       "      <td>0</td>\n",
       "      <td>T</td>\n",
       "      <td>Scott</td>\n",
       "      <td>0.000000</td>\n",
       "      <td>0.00</td>\n",
       "    </tr>\n",
       "    <tr>\n",
       "      <th>85</th>\n",
       "      <td>62.36</td>\n",
       "      <td>571252.0</td>\n",
       "      <td>1</td>\n",
       "      <td>Utah</td>\n",
       "      <td>Orrin Hatch</td>\n",
       "      <td>2006</td>\n",
       "      <td>5</td>\n",
       "      <td>R</td>\n",
       "      <td>Orrin</td>\n",
       "      <td>0.272727</td>\n",
       "      <td>0.55</td>\n",
       "    </tr>\n",
       "    <tr>\n",
       "      <th>86</th>\n",
       "      <td>31.06</td>\n",
       "      <td>571252.0</td>\n",
       "      <td>0</td>\n",
       "      <td>Utah</td>\n",
       "      <td>Pete Ashdown</td>\n",
       "      <td>2006</td>\n",
       "      <td>0</td>\n",
       "      <td>D</td>\n",
       "      <td>Pete</td>\n",
       "      <td>0.340909</td>\n",
       "      <td>0.44</td>\n",
       "    </tr>\n",
       "    <tr>\n",
       "      <th>87</th>\n",
       "      <td>0.78</td>\n",
       "      <td>571252.0</td>\n",
       "      <td>0</td>\n",
       "      <td>Utah</td>\n",
       "      <td>Dave Seely</td>\n",
       "      <td>2006</td>\n",
       "      <td>0</td>\n",
       "      <td>T</td>\n",
       "      <td>Dave</td>\n",
       "      <td>0.000000</td>\n",
       "      <td>0.00</td>\n",
       "    </tr>\n",
       "    <tr>\n",
       "      <th>88</th>\n",
       "      <td>32.3</td>\n",
       "      <td>262419.0</td>\n",
       "      <td>0</td>\n",
       "      <td>Utah</td>\n",
       "      <td>Richard Tarrant</td>\n",
       "      <td>2006</td>\n",
       "      <td>0</td>\n",
       "      <td>R</td>\n",
       "      <td>Richard</td>\n",
       "      <td>0.272727</td>\n",
       "      <td>0.55</td>\n",
       "    </tr>\n",
       "    <tr>\n",
       "      <th>89</th>\n",
       "      <td>0.31</td>\n",
       "      <td>262419.0</td>\n",
       "      <td>0</td>\n",
       "      <td>Utah</td>\n",
       "      <td>Peter Diamondstone</td>\n",
       "      <td>2006</td>\n",
       "      <td>0</td>\n",
       "      <td>T</td>\n",
       "      <td>Peter</td>\n",
       "      <td>0.000000</td>\n",
       "      <td>0.00</td>\n",
       "    </tr>\n",
       "    <tr>\n",
       "      <th>90</th>\n",
       "      <td>49.59</td>\n",
       "      <td>2370445.0</td>\n",
       "      <td>0</td>\n",
       "      <td>Virginia</td>\n",
       "      <td>Jim Webb</td>\n",
       "      <td>2006</td>\n",
       "      <td>0</td>\n",
       "      <td>D</td>\n",
       "      <td>Jim</td>\n",
       "      <td>0.340909</td>\n",
       "      <td>0.44</td>\n",
       "    </tr>\n",
       "    <tr>\n",
       "      <th>91</th>\n",
       "      <td>49.2</td>\n",
       "      <td>2370445.0</td>\n",
       "      <td>1</td>\n",
       "      <td>Virginia</td>\n",
       "      <td>George Allen</td>\n",
       "      <td>2006</td>\n",
       "      <td>1</td>\n",
       "      <td>R</td>\n",
       "      <td>George</td>\n",
       "      <td>0.272727</td>\n",
       "      <td>0.55</td>\n",
       "    </tr>\n",
       "    <tr>\n",
       "      <th>92</th>\n",
       "      <td>1.1</td>\n",
       "      <td>2370445.0</td>\n",
       "      <td>0</td>\n",
       "      <td>Virginia</td>\n",
       "      <td>Gail Parker</td>\n",
       "      <td>2006</td>\n",
       "      <td>0</td>\n",
       "      <td>T</td>\n",
       "      <td>Gail</td>\n",
       "      <td>0.000000</td>\n",
       "      <td>0.00</td>\n",
       "    </tr>\n",
       "    <tr>\n",
       "      <th>93</th>\n",
       "      <td>56.85</td>\n",
       "      <td>2083734.0</td>\n",
       "      <td>1</td>\n",
       "      <td>Washington</td>\n",
       "      <td>Maria Cantwell</td>\n",
       "      <td>2006</td>\n",
       "      <td>1</td>\n",
       "      <td>D</td>\n",
       "      <td>Maria</td>\n",
       "      <td>0.340909</td>\n",
       "      <td>0.44</td>\n",
       "    </tr>\n",
       "    <tr>\n",
       "      <th>94</th>\n",
       "      <td>39.93</td>\n",
       "      <td>2083734.0</td>\n",
       "      <td>0</td>\n",
       "      <td>Washington</td>\n",
       "      <td>Mike McGavick</td>\n",
       "      <td>2006</td>\n",
       "      <td>0</td>\n",
       "      <td>R</td>\n",
       "      <td>Mike</td>\n",
       "      <td>0.272727</td>\n",
       "      <td>0.55</td>\n",
       "    </tr>\n",
       "    <tr>\n",
       "      <th>95</th>\n",
       "      <td>1.41</td>\n",
       "      <td>2083734.0</td>\n",
       "      <td>0</td>\n",
       "      <td>Washington</td>\n",
       "      <td>Bruce Guthrie</td>\n",
       "      <td>2006</td>\n",
       "      <td>0</td>\n",
       "      <td>T</td>\n",
       "      <td>Bruce</td>\n",
       "      <td>0.000000</td>\n",
       "      <td>0.00</td>\n",
       "    </tr>\n",
       "    <tr>\n",
       "      <th>96</th>\n",
       "      <td>1.02</td>\n",
       "      <td>2083734.0</td>\n",
       "      <td>0</td>\n",
       "      <td>Washington</td>\n",
       "      <td>Aaron Dixon</td>\n",
       "      <td>2006</td>\n",
       "      <td>0</td>\n",
       "      <td>T</td>\n",
       "      <td>Aaron</td>\n",
       "      <td>0.000000</td>\n",
       "      <td>0.00</td>\n",
       "    </tr>\n",
       "    <tr>\n",
       "      <th>97</th>\n",
       "      <td>64.4</td>\n",
       "      <td>459884.0</td>\n",
       "      <td>1</td>\n",
       "      <td>West_Virginia</td>\n",
       "      <td>Robert Byrd</td>\n",
       "      <td>2006</td>\n",
       "      <td>8</td>\n",
       "      <td>D</td>\n",
       "      <td>Robert</td>\n",
       "      <td>0.340909</td>\n",
       "      <td>0.44</td>\n",
       "    </tr>\n",
       "    <tr>\n",
       "      <th>98</th>\n",
       "      <td>33.7</td>\n",
       "      <td>459884.0</td>\n",
       "      <td>0</td>\n",
       "      <td>West_Virginia</td>\n",
       "      <td>John Raese</td>\n",
       "      <td>2006</td>\n",
       "      <td>0</td>\n",
       "      <td>R</td>\n",
       "      <td>John</td>\n",
       "      <td>0.272727</td>\n",
       "      <td>0.55</td>\n",
       "    </tr>\n",
       "    <tr>\n",
       "      <th>99</th>\n",
       "      <td>67.31</td>\n",
       "      <td>2138297.0</td>\n",
       "      <td>1</td>\n",
       "      <td>Wisconsin</td>\n",
       "      <td>Herb Kohl</td>\n",
       "      <td>2006</td>\n",
       "      <td>3</td>\n",
       "      <td>D</td>\n",
       "      <td>Herb</td>\n",
       "      <td>0.340909</td>\n",
       "      <td>0.44</td>\n",
       "    </tr>\n",
       "    <tr>\n",
       "      <th>100</th>\n",
       "      <td>29.48</td>\n",
       "      <td>2138297.0</td>\n",
       "      <td>0</td>\n",
       "      <td>Wisconsin</td>\n",
       "      <td>Robert Lorge</td>\n",
       "      <td>2006</td>\n",
       "      <td>0</td>\n",
       "      <td>R</td>\n",
       "      <td>Robert</td>\n",
       "      <td>0.272727</td>\n",
       "      <td>0.55</td>\n",
       "    </tr>\n",
       "    <tr>\n",
       "      <th>101</th>\n",
       "      <td>69.99</td>\n",
       "      <td>193136.0</td>\n",
       "      <td>1</td>\n",
       "      <td>Wyoming</td>\n",
       "      <td>Craig Thomas</td>\n",
       "      <td>2006</td>\n",
       "      <td>2</td>\n",
       "      <td>R</td>\n",
       "      <td>Craig</td>\n",
       "      <td>0.272727</td>\n",
       "      <td>0.55</td>\n",
       "    </tr>\n",
       "    <tr>\n",
       "      <th>102</th>\n",
       "      <td>29.86</td>\n",
       "      <td>193136.0</td>\n",
       "      <td>0</td>\n",
       "      <td>Wyoming</td>\n",
       "      <td>Dale Groutage</td>\n",
       "      <td>2006</td>\n",
       "      <td>0</td>\n",
       "      <td>D</td>\n",
       "      <td>Dale</td>\n",
       "      <td>0.340909</td>\n",
       "      <td>0.44</td>\n",
       "    </tr>\n",
       "  </tbody>\n",
       "</table>\n",
       "<p>103 rows × 11 columns</p>\n",
       "</div>"
      ],
      "text/plain": [
       "         %    Turnout  Incumb_Y          State                Cln_name  Year  \\\n",
       "0    53.34  1526782.0         1        Arizona                 Jon Kyl  2006   \n",
       "1     43.5  1526782.0         0        Arizona            Jim Pederson  2006   \n",
       "2     3.16  1526782.0         0        Arizona            Richard Mack  2006   \n",
       "3    59.43  8899059.0         1     California        Dianne Feinstein  2006   \n",
       "4    35.02  8899059.0         0     California           Dick Mountjoy  2006   \n",
       "5     1.72  8899059.0         0     California           Todd Chretien  2006   \n",
       "6     1.57  8899059.0         0     California           Michael Metti  2006   \n",
       "7     1.38  8899059.0         0     California         Marsha Feinland  2006   \n",
       "8     0.88  8899059.0         0     California           Don Grundmann  2006   \n",
       "9        0  8899059.0         0     California            Kent Mesplay  2006   \n",
       "10       0  8899059.0         0     California         Jeffrey Mackler  2006   \n",
       "11       0  8899059.0         0     California             Lea Sherman  2006   \n",
       "12       0  8899059.0         0     California        Connor Vlakancic  2006   \n",
       "13    49.7  1134777.0         1    Connecticut           Joe Lieberman  2006   \n",
       "14    39.7  1134777.0         0    Connecticut              Ned Lamont  2006   \n",
       "15     9.6  1134777.0         0    Connecticut        Alan Schlesinger  2006   \n",
       "16     0.6  1134777.0         0    Connecticut          Ralph Ferrucci  2006   \n",
       "17     0.4  1134777.0         0    Connecticut          Timothy Knibbs  2006   \n",
       "18       0  1134777.0         0    Connecticut             Carl Vassar  2006   \n",
       "19   67.13   254099.0         1       Delaware           Thomas Carper  2006   \n",
       "20   27.44   254099.0         0       Delaware                Jan Ting  2006   \n",
       "21    1.05   254099.0         0       Delaware          William Morris  2006   \n",
       "22    60.3  4793534.0         1        Florida             Bill Nelson  2006   \n",
       "23    38.1  4793534.0         0        Florida        Katherine Harris  2006   \n",
       "24    61.4   342842.0         1         Hawaii            Daniel Akaka  2006   \n",
       "25    36.8   342842.0         0         Hawaii         Cynthia Thielen  2006   \n",
       "26     1.9   342842.0         0         Hawaii            Lloyd Mallan  2006   \n",
       "27    87.3  1341111.0         1        Indiana           Richard Lugar  2006   \n",
       "28    12.6  1341111.0         0        Indiana            Steve Osborn  2006   \n",
       "29     0.1  1341111.0         0        Indiana               Write-Ins  2006   \n",
       "..     ...        ...       ...            ...                     ...   ...   \n",
       "73    29.5   218154.0         0   North_Dakota         Dwight Grotberg  2006   \n",
       "74   56.16  4019236.0         0   North_Dakota  Sherrod Campbell Brown  2006   \n",
       "75   43.82  4019236.0         1   North_Dakota  Richard Michael DeWine  2006   \n",
       "76   58.64  4081043.0         0   North_Dakota              Bob Casey,  2006   \n",
       "77   41.28  4081043.0         1   Pennsylvania           Rick Santorum  2006   \n",
       "78   53.52   384993.0         0   Rhode_Island      Sheldon Whitehouse  2006   \n",
       "79   46.48   384993.0         1   Rhode_Island          Lincoln Chafee  2006   \n",
       "80    50.7  1833693.0         0      Tennessee              Bob Corker  2006   \n",
       "81      48  1833693.0         0      Tennessee            Harold Ford,  2006   \n",
       "82   61.69  4314663.0         1          Texas    Kay Bailey Hutchison  2006   \n",
       "83   36.04  4314663.0         0          Texas   Barbara Ann Radnofsky  2006   \n",
       "84    2.26  4314663.0         0          Texas           Scott Jameson  2006   \n",
       "85   62.36   571252.0         1           Utah             Orrin Hatch  2006   \n",
       "86   31.06   571252.0         0           Utah            Pete Ashdown  2006   \n",
       "87    0.78   571252.0         0           Utah              Dave Seely  2006   \n",
       "88    32.3   262419.0         0           Utah         Richard Tarrant  2006   \n",
       "89    0.31   262419.0         0           Utah      Peter Diamondstone  2006   \n",
       "90   49.59  2370445.0         0       Virginia                Jim Webb  2006   \n",
       "91    49.2  2370445.0         1       Virginia            George Allen  2006   \n",
       "92     1.1  2370445.0         0       Virginia             Gail Parker  2006   \n",
       "93   56.85  2083734.0         1     Washington          Maria Cantwell  2006   \n",
       "94   39.93  2083734.0         0     Washington           Mike McGavick  2006   \n",
       "95    1.41  2083734.0         0     Washington           Bruce Guthrie  2006   \n",
       "96    1.02  2083734.0         0     Washington             Aaron Dixon  2006   \n",
       "97    64.4   459884.0         1  West_Virginia             Robert Byrd  2006   \n",
       "98    33.7   459884.0         0  West_Virginia              John Raese  2006   \n",
       "99   67.31  2138297.0         1      Wisconsin               Herb Kohl  2006   \n",
       "100  29.48  2138297.0         0      Wisconsin            Robert Lorge  2006   \n",
       "101  69.99   193136.0         1        Wyoming            Craig Thomas  2006   \n",
       "102  29.86   193136.0         0        Wyoming           Dale Groutage  2006   \n",
       "\n",
       "     Terms_in_office Party_enc First_name  Seats_up%  Seats_before%  \n",
       "0                  2         R        Jon   0.272727           0.55  \n",
       "1                  0         D        Jim   0.340909           0.44  \n",
       "2                  0         T    Richard   0.000000           0.00  \n",
       "3                  3         D     Dianne   0.340909           0.44  \n",
       "4                  0         R       Dick   0.272727           0.55  \n",
       "5                  0         T       Todd   0.000000           0.00  \n",
       "6                  0         T    Michael   0.000000           0.00  \n",
       "7                  0         T     Marsha   0.000000           0.00  \n",
       "8                  0         T        Don   0.000000           0.00  \n",
       "9                  0         T       Kent   0.000000           0.00  \n",
       "10                 0         I    Jeffrey   1.000000           0.01  \n",
       "11                 0         I        Lea   1.000000           0.01  \n",
       "12                 0         I     Connor   1.000000           0.01  \n",
       "13                 3         D        Joe   0.340909           0.44  \n",
       "14                 0         D        Ned   0.340909           0.44  \n",
       "15                 0         R       Alan   0.272727           0.55  \n",
       "16                 0         T      Ralph   0.000000           0.00  \n",
       "17                 0         T    Timothy   0.000000           0.00  \n",
       "18                 0         T       Carl   0.000000           0.00  \n",
       "19                 0         D     Thomas   0.340909           0.44  \n",
       "20                 0         R        Jan   0.272727           0.55  \n",
       "21                 0         T    William   0.000000           0.00  \n",
       "22                 1         D       Bill   0.340909           0.44  \n",
       "23                 0         R  Katherine   0.272727           0.55  \n",
       "24                 4         D     Daniel   0.340909           0.44  \n",
       "25                 0         R    Cynthia   0.272727           0.55  \n",
       "26                 0         T      Lloyd   0.000000           0.00  \n",
       "27                 5         R    Richard   0.272727           0.55  \n",
       "28                 0         T      Steve   0.000000           0.00  \n",
       "29                 0         T  Write-Ins   0.000000           0.00  \n",
       "..               ...       ...        ...        ...            ...  \n",
       "73                 0         R     Dwight   0.272727           0.55  \n",
       "74                 0         D   Campbell   0.340909           0.44  \n",
       "75                 0         R    Michael   0.272727           0.55  \n",
       "76                 0         D        Bob   0.340909           0.44  \n",
       "77                 2         R       Rick   0.272727           0.55  \n",
       "78                 0         D    Sheldon   0.340909           0.44  \n",
       "79                 2         R    Lincoln   0.272727           0.55  \n",
       "80                 0         R        Bob   0.272727           0.55  \n",
       "81                 0         D     Harold   0.340909           0.44  \n",
       "82                 3         R     Bailey   0.272727           0.55  \n",
       "83                 0         D        Ann   0.340909           0.44  \n",
       "84                 0         T      Scott   0.000000           0.00  \n",
       "85                 5         R      Orrin   0.272727           0.55  \n",
       "86                 0         D       Pete   0.340909           0.44  \n",
       "87                 0         T       Dave   0.000000           0.00  \n",
       "88                 0         R    Richard   0.272727           0.55  \n",
       "89                 0         T      Peter   0.000000           0.00  \n",
       "90                 0         D        Jim   0.340909           0.44  \n",
       "91                 1         R     George   0.272727           0.55  \n",
       "92                 0         T       Gail   0.000000           0.00  \n",
       "93                 1         D      Maria   0.340909           0.44  \n",
       "94                 0         R       Mike   0.272727           0.55  \n",
       "95                 0         T      Bruce   0.000000           0.00  \n",
       "96                 0         T      Aaron   0.000000           0.00  \n",
       "97                 8         D     Robert   0.340909           0.44  \n",
       "98                 0         R       John   0.272727           0.55  \n",
       "99                 3         D       Herb   0.340909           0.44  \n",
       "100                0         R     Robert   0.272727           0.55  \n",
       "101                2         R      Craig   0.272727           0.55  \n",
       "102                0         D       Dale   0.340909           0.44  \n",
       "\n",
       "[103 rows x 11 columns]"
      ]
     },
     "execution_count": 10,
     "metadata": {},
     "output_type": "execute_result"
    }
   ],
   "source": [
    "# test2 = yr_st_mapped_full['1934'].copy()\n",
    "test2 = yr_st_mapped_cln['2006'].copy()\n",
    "# test2['Terms_in_office'] = 0\n",
    "test2"
   ]
  },
  {
   "cell_type": "code",
   "execution_count": 49,
   "metadata": {
    "ExecuteTime": {
     "end_time": "2020-08-19T23:16:21.380024Z",
     "start_time": "2020-08-19T23:16:21.345360Z"
    }
   },
   "outputs": [
    {
     "data": {
      "text/html": [
       "<div>\n",
       "<style scoped>\n",
       "    .dataframe tbody tr th:only-of-type {\n",
       "        vertical-align: middle;\n",
       "    }\n",
       "\n",
       "    .dataframe tbody tr th {\n",
       "        vertical-align: top;\n",
       "    }\n",
       "\n",
       "    .dataframe thead th {\n",
       "        text-align: right;\n",
       "    }\n",
       "</style>\n",
       "<table border=\"1\" class=\"dataframe\">\n",
       "  <thead>\n",
       "    <tr style=\"text-align: right;\">\n",
       "      <th></th>\n",
       "      <th>%</th>\n",
       "      <th>Turnout</th>\n",
       "      <th>Incumb_Y</th>\n",
       "      <th>State</th>\n",
       "      <th>Cln_name</th>\n",
       "      <th>Year</th>\n",
       "      <th>Terms_in_office</th>\n",
       "      <th>Party_enc</th>\n",
       "      <th>First_name</th>\n",
       "      <th>Seats_up%</th>\n",
       "      <th>Seats_before%</th>\n",
       "    </tr>\n",
       "  </thead>\n",
       "  <tbody>\n",
       "    <tr>\n",
       "      <th>0</th>\n",
       "      <td>66.1</td>\n",
       "      <td>233985.0</td>\n",
       "      <td>1</td>\n",
       "      <td>Alabama</td>\n",
       "      <td>Oscar Underwood</td>\n",
       "      <td>1920</td>\n",
       "      <td>1</td>\n",
       "      <td>D</td>\n",
       "      <td>Oscar</td>\n",
       "      <td>0.361702</td>\n",
       "      <td>0.489583</td>\n",
       "    </tr>\n",
       "    <tr>\n",
       "      <th>1</th>\n",
       "      <td>33.05</td>\n",
       "      <td>233985.0</td>\n",
       "      <td>0</td>\n",
       "      <td>Alabama</td>\n",
       "      <td>Reynolds</td>\n",
       "      <td>1920</td>\n",
       "      <td>0</td>\n",
       "      <td>R</td>\n",
       "      <td>Reynolds</td>\n",
       "      <td>0.306122</td>\n",
       "      <td>0.510417</td>\n",
       "    </tr>\n",
       "    <tr>\n",
       "      <th>2</th>\n",
       "      <td>0.85</td>\n",
       "      <td>233985.0</td>\n",
       "      <td>0</td>\n",
       "      <td>Alabama</td>\n",
       "      <td>Forsman</td>\n",
       "      <td>1920</td>\n",
       "      <td>0</td>\n",
       "      <td>S</td>\n",
       "      <td>Forsman</td>\n",
       "      <td>0.000000</td>\n",
       "      <td>0.000000</td>\n",
       "    </tr>\n",
       "    <tr>\n",
       "      <th>3</th>\n",
       "      <td>69.27</td>\n",
       "      <td>231960.0</td>\n",
       "      <td>0</td>\n",
       "      <td>Alabama</td>\n",
       "      <td>James Thomas Heflin</td>\n",
       "      <td>1920</td>\n",
       "      <td>0</td>\n",
       "      <td>D</td>\n",
       "      <td>Thomas</td>\n",
       "      <td>0.361702</td>\n",
       "      <td>0.489583</td>\n",
       "    </tr>\n",
       "    <tr>\n",
       "      <th>4</th>\n",
       "      <td>29.51</td>\n",
       "      <td>231960.0</td>\n",
       "      <td>0</td>\n",
       "      <td>Alabama</td>\n",
       "      <td>Lunsford</td>\n",
       "      <td>1920</td>\n",
       "      <td>0</td>\n",
       "      <td>R</td>\n",
       "      <td>Lunsford</td>\n",
       "      <td>0.306122</td>\n",
       "      <td>0.510417</td>\n",
       "    </tr>\n",
       "    <tr>\n",
       "      <th>5</th>\n",
       "      <td>1.22</td>\n",
       "      <td>231960.0</td>\n",
       "      <td>0</td>\n",
       "      <td>Alabama</td>\n",
       "      <td>Chichester</td>\n",
       "      <td>1920</td>\n",
       "      <td>0</td>\n",
       "      <td>S</td>\n",
       "      <td>Chichester</td>\n",
       "      <td>0.000000</td>\n",
       "      <td>0.000000</td>\n",
       "    </tr>\n",
       "    <tr>\n",
       "      <th>6</th>\n",
       "      <td>55.17</td>\n",
       "      <td>65062.0</td>\n",
       "      <td>0</td>\n",
       "      <td>Arizona</td>\n",
       "      <td>Ralph Cameron</td>\n",
       "      <td>1920</td>\n",
       "      <td>0</td>\n",
       "      <td>R</td>\n",
       "      <td>Ralph</td>\n",
       "      <td>0.306122</td>\n",
       "      <td>0.510417</td>\n",
       "    </tr>\n",
       "    <tr>\n",
       "      <th>7</th>\n",
       "      <td>44.83</td>\n",
       "      <td>65062.0</td>\n",
       "      <td>1</td>\n",
       "      <td>Arizona</td>\n",
       "      <td>Marcus Smith</td>\n",
       "      <td>1920</td>\n",
       "      <td>2</td>\n",
       "      <td>D</td>\n",
       "      <td>Marcus</td>\n",
       "      <td>0.361702</td>\n",
       "      <td>0.489583</td>\n",
       "    </tr>\n",
       "    <tr>\n",
       "      <th>8</th>\n",
       "      <td>65.92</td>\n",
       "      <td>191858.0</td>\n",
       "      <td>0</td>\n",
       "      <td>Arkansas</td>\n",
       "      <td>Thaddeus Caraway</td>\n",
       "      <td>1920</td>\n",
       "      <td>0</td>\n",
       "      <td>D</td>\n",
       "      <td>Thaddeus</td>\n",
       "      <td>0.361702</td>\n",
       "      <td>0.489583</td>\n",
       "    </tr>\n",
       "    <tr>\n",
       "      <th>9</th>\n",
       "      <td>34.08</td>\n",
       "      <td>191858.0</td>\n",
       "      <td>0</td>\n",
       "      <td>Arkansas</td>\n",
       "      <td>Charles Cole</td>\n",
       "      <td>1920</td>\n",
       "      <td>0</td>\n",
       "      <td>R</td>\n",
       "      <td>Charles</td>\n",
       "      <td>0.306122</td>\n",
       "      <td>0.510417</td>\n",
       "    </tr>\n",
       "  </tbody>\n",
       "</table>\n",
       "</div>"
      ],
      "text/plain": [
       "       %   Turnout  Incumb_Y     State             Cln_name  Year  \\\n",
       "0   66.1  233985.0         1   Alabama      Oscar Underwood  1920   \n",
       "1  33.05  233985.0         0   Alabama             Reynolds  1920   \n",
       "2   0.85  233985.0         0   Alabama              Forsman  1920   \n",
       "3  69.27  231960.0         0   Alabama  James Thomas Heflin  1920   \n",
       "4  29.51  231960.0         0   Alabama             Lunsford  1920   \n",
       "5   1.22  231960.0         0   Alabama           Chichester  1920   \n",
       "6  55.17   65062.0         0   Arizona        Ralph Cameron  1920   \n",
       "7  44.83   65062.0         1   Arizona         Marcus Smith  1920   \n",
       "8  65.92  191858.0         0  Arkansas     Thaddeus Caraway  1920   \n",
       "9  34.08  191858.0         0  Arkansas         Charles Cole  1920   \n",
       "\n",
       "   Terms_in_office Party_enc  First_name  Seats_up%  Seats_before%  \n",
       "0                1         D       Oscar   0.361702       0.489583  \n",
       "1                0         R    Reynolds   0.306122       0.510417  \n",
       "2                0         S     Forsman   0.000000       0.000000  \n",
       "3                0         D      Thomas   0.361702       0.489583  \n",
       "4                0         R    Lunsford   0.306122       0.510417  \n",
       "5                0         S  Chichester   0.000000       0.000000  \n",
       "6                0         R       Ralph   0.306122       0.510417  \n",
       "7                2         D      Marcus   0.361702       0.489583  \n",
       "8                0         D    Thaddeus   0.361702       0.489583  \n",
       "9                0         R     Charles   0.306122       0.510417  "
      ]
     },
     "execution_count": 49,
     "metadata": {},
     "output_type": "execute_result"
    }
   ],
   "source": [
    "fin_df.head(10)"
   ]
  },
  {
   "cell_type": "code",
   "execution_count": null,
   "metadata": {},
   "outputs": [],
   "source": [
    "## OHE States, Party_enc\n",
    "## Split % off as target\n",
    "## RF/Tree Regressors 1st XGBoost?\n",
    "## Keep year? Set_index as year (as datetime)\n",
    "## Make sure Turnout is ok as int. #####################\n",
    "\n",
    "## add first_name columns into df_fin ##################\n",
    "## Make gender collection function\n",
    "## pickle/to_csv funct/df to Yish for help"
   ]
  },
  {
   "cell_type": "markdown",
   "metadata": {
    "heading_collapsed": true
   },
   "source": [
    "### Gender Stuff"
   ]
  },
  {
   "cell_type": "code",
   "execution_count": 34,
   "metadata": {
    "ExecuteTime": {
     "end_time": "2020-08-19T21:34:32.344250Z",
     "start_time": "2020-08-19T21:34:32.337127Z"
    },
    "hidden": true
   },
   "outputs": [],
   "source": [
    "g = Genderize()"
   ]
  },
  {
   "cell_type": "code",
   "execution_count": null,
   "metadata": {
    "hidden": true
   },
   "outputs": [],
   "source": [
    "## If the gender is not 'None' fill it, else continue\n",
    "## Try .get() for name Except \"'Limit Error'\" break"
   ]
  },
  {
   "cell_type": "code",
   "execution_count": 182,
   "metadata": {
    "ExecuteTime": {
     "end_time": "2020-08-17T03:09:27.109957Z",
     "start_time": "2020-08-17T03:08:58.989399Z"
    },
    "hidden": true
   },
   "outputs": [
    {
     "data": {
      "text/html": [
       "<div>\n",
       "<style scoped>\n",
       "    .dataframe tbody tr th:only-of-type {\n",
       "        vertical-align: middle;\n",
       "    }\n",
       "\n",
       "    .dataframe tbody tr th {\n",
       "        vertical-align: top;\n",
       "    }\n",
       "\n",
       "    .dataframe thead th {\n",
       "        text-align: right;\n",
       "    }\n",
       "</style>\n",
       "<table border=\"1\" class=\"dataframe\">\n",
       "  <thead>\n",
       "    <tr style=\"text-align: right;\">\n",
       "      <th></th>\n",
       "      <th>Party</th>\n",
       "      <th>Candidate</th>\n",
       "      <th>%</th>\n",
       "      <th>Turnout</th>\n",
       "      <th>Incumb_Y</th>\n",
       "      <th>State</th>\n",
       "      <th>Cln_name</th>\n",
       "      <th>Year</th>\n",
       "      <th>Terms_in_office</th>\n",
       "      <th>Party_enc</th>\n",
       "      <th>Seats_up%</th>\n",
       "      <th>Seats_before%</th>\n",
       "      <th>First_name</th>\n",
       "      <th>Gender</th>\n",
       "    </tr>\n",
       "  </thead>\n",
       "  <tbody>\n",
       "    <tr>\n",
       "      <th>0</th>\n",
       "      <td>Democratic</td>\n",
       "      <td>Richard Shelby</td>\n",
       "      <td>50.28</td>\n",
       "      <td>1211897</td>\n",
       "      <td>0</td>\n",
       "      <td>Alabama</td>\n",
       "      <td>Richard Shelby</td>\n",
       "      <td>1986</td>\n",
       "      <td>0</td>\n",
       "      <td>D</td>\n",
       "      <td>0.255319</td>\n",
       "      <td>0.47</td>\n",
       "      <td>Richard</td>\n",
       "      <td>male</td>\n",
       "    </tr>\n",
       "    <tr>\n",
       "      <th>1</th>\n",
       "      <td>Republican</td>\n",
       "      <td>Jeremiah Denton</td>\n",
       "      <td>49.72</td>\n",
       "      <td>1211897</td>\n",
       "      <td>1</td>\n",
       "      <td>Alabama</td>\n",
       "      <td>Jeremiah Denton</td>\n",
       "      <td>1986</td>\n",
       "      <td>1</td>\n",
       "      <td>R</td>\n",
       "      <td>0.415094</td>\n",
       "      <td>0.53</td>\n",
       "      <td>Jeremiah</td>\n",
       "      <td>male</td>\n",
       "    </tr>\n",
       "    <tr>\n",
       "      <th>2</th>\n",
       "      <td>Republican</td>\n",
       "      <td>Frank Murkowski</td>\n",
       "      <td>54.02</td>\n",
       "      <td>180801</td>\n",
       "      <td>1</td>\n",
       "      <td>Alaska</td>\n",
       "      <td>Frank Murkowski</td>\n",
       "      <td>1986</td>\n",
       "      <td>1</td>\n",
       "      <td>R</td>\n",
       "      <td>0.415094</td>\n",
       "      <td>0.53</td>\n",
       "      <td>Frank</td>\n",
       "      <td>male</td>\n",
       "    </tr>\n",
       "    <tr>\n",
       "      <th>3</th>\n",
       "      <td>Democratic</td>\n",
       "      <td>Glenn Olds</td>\n",
       "      <td>44.1</td>\n",
       "      <td>180801</td>\n",
       "      <td>0</td>\n",
       "      <td>Alaska</td>\n",
       "      <td>Glenn Olds</td>\n",
       "      <td>1986</td>\n",
       "      <td>0</td>\n",
       "      <td>D</td>\n",
       "      <td>0.255319</td>\n",
       "      <td>0.47</td>\n",
       "      <td>Glenn</td>\n",
       "      <td>male</td>\n",
       "    </tr>\n",
       "    <tr>\n",
       "      <th>4</th>\n",
       "      <td>Republican</td>\n",
       "      <td>John McCain</td>\n",
       "      <td>60.47</td>\n",
       "      <td>862921</td>\n",
       "      <td>1</td>\n",
       "      <td>Arizona</td>\n",
       "      <td>John McCain</td>\n",
       "      <td>1986</td>\n",
       "      <td>0</td>\n",
       "      <td>R</td>\n",
       "      <td>0.415094</td>\n",
       "      <td>0.53</td>\n",
       "      <td>John</td>\n",
       "      <td>male</td>\n",
       "    </tr>\n",
       "  </tbody>\n",
       "</table>\n",
       "</div>"
      ],
      "text/plain": [
       "        Party         Candidate      %  Turnout  Incumb_Y    State  \\\n",
       "0  Democratic    Richard Shelby  50.28  1211897         0  Alabama   \n",
       "1  Republican  Jeremiah Denton   49.72  1211897         1  Alabama   \n",
       "2  Republican  Frank Murkowski   54.02   180801         1   Alaska   \n",
       "3  Democratic        Glenn Olds   44.1   180801         0   Alaska   \n",
       "4  Republican      John McCain   60.47   862921         1  Arizona   \n",
       "\n",
       "          Cln_name  Year  Terms_in_office Party_enc  Seats_up%  Seats_before%  \\\n",
       "0   Richard Shelby  1986                0         D   0.255319           0.47   \n",
       "1  Jeremiah Denton  1986                1         R   0.415094           0.53   \n",
       "2  Frank Murkowski  1986                1         R   0.415094           0.53   \n",
       "3       Glenn Olds  1986                0         D   0.255319           0.47   \n",
       "4      John McCain  1986                0         R   0.415094           0.53   \n",
       "\n",
       "  First_name Gender  \n",
       "0    Richard   male  \n",
       "1   Jeremiah   male  \n",
       "2      Frank   male  \n",
       "3      Glenn   male  \n",
       "4       John   male  "
      ]
     },
     "execution_count": 182,
     "metadata": {},
     "output_type": "execute_result"
    }
   ],
   "source": [
    "test2['Gender'] = 'None'\n",
    "\n",
    "for idx, name in zip(test2.index, test2['First_name']):\n",
    "    \n",
    "    if test2['Gender'].iloc[idx] == 'None':\n",
    "        pred = None\n",
    "        try:\n",
    "            guess = g_izer.get([name])[0]\n",
    "        except:\n",
    "            break\n",
    "\n",
    "        if guess['gender'] == 'male':\n",
    "            if guess['probability'] < .60:\n",
    "                pred = 'female'\n",
    "            else:\n",
    "                pred = guess['gender']\n",
    "\n",
    "        if guess['gender'] == 'female':\n",
    "            if guess['probability'] < .60:\n",
    "                pred = 'male'\n",
    "            else:\n",
    "                pred = guess['gender']\n",
    "\n",
    "        test2.at[idx, 'Gender'] = pred\n",
    "\n",
    "    \n",
    "# test2.head()"
   ]
  },
  {
   "cell_type": "code",
   "execution_count": 186,
   "metadata": {
    "ExecuteTime": {
     "end_time": "2020-08-17T03:10:50.848174Z",
     "start_time": "2020-08-17T03:10:50.819348Z"
    },
    "hidden": true
   },
   "outputs": [
    {
     "data": {
      "text/plain": [
       "male      82\n",
       "female    10\n",
       "Name: Gender, dtype: int64"
      ]
     },
     "metadata": {},
     "output_type": "display_data"
    },
    {
     "data": {
      "text/plain": [
       "John        7\n",
       "Bob         4\n",
       "Richard     3\n",
       "Jim         3\n",
       "Edward      2\n",
       "Alan        2\n",
       "James       2\n",
       "Kent        2\n",
       "Ed          2\n",
       "Tom         2\n",
       "Terry       2\n",
       "Frank       2\n",
       "Mark        2\n",
       "Rick        1\n",
       "Henry       1\n",
       "Ralph       1\n",
       "Wyche       1\n",
       "Steve       1\n",
       "Glenn       1\n",
       "Jackson     1\n",
       "Breck       1\n",
       "Wendell     1\n",
       "Don         1\n",
       "Guy         1\n",
       "Asa         1\n",
       "Ken         1\n",
       "Michael     1\n",
       "Roger       1\n",
       "Ray         1\n",
       "Hugh        1\n",
       "Dan         1\n",
       "Endicott    1\n",
       "Daniel      1\n",
       "Kit         1\n",
       "Robert      1\n",
       "Mack        1\n",
       "Fritz       1\n",
       "Paul        1\n",
       "Henson      1\n",
       "Steven      1\n",
       "Tim         1\n",
       "Brock       1\n",
       "Bradford    1\n",
       "Jeremiah    1\n",
       "Craig       1\n",
       "Warren      1\n",
       "Bruce       1\n",
       "Dale        1\n",
       "Arlen       1\n",
       "Slade       1\n",
       "Al          1\n",
       "Fred        1\n",
       "Jake        1\n",
       "Harry       1\n",
       "Rockland    1\n",
       "William     1\n",
       "Chuck       1\n",
       "Chris       1\n",
       "Patrick     1\n",
       "Lance       1\n",
       "Name: First_name, dtype: int64"
      ]
     },
     "execution_count": 186,
     "metadata": {},
     "output_type": "execute_result"
    }
   ],
   "source": [
    "# display(test2.Gender.value_counts())\n",
    "# test2[test2['Gender'] == 'male']['First_name'].value_counts()"
   ]
  },
  {
   "cell_type": "markdown",
   "metadata": {},
   "source": [
    "### FEATURES"
   ]
  },
  {
   "cell_type": "markdown",
   "metadata": {},
   "source": [
    "* Party_of_candidate **><**\n",
    "* Turnout **><**\n",
    "* Incumb_Y **><**\n",
    "* State **><**\n",
    "* Year **><**\n",
    "* Terms_in_office **><**\n",
    "* Majority_party_Y **><**\n",
    "* Party_leader_Y (test with 1988)\n",
    "* Seats_up (maybe % of seats before) **><**\n",
    "* Seats_before (maybe % of total available) **><**"
   ]
  },
  {
   "cell_type": "markdown",
   "metadata": {},
   "source": [
    "8.9 Need to try and merge `yr_st_dict_mapped`, `ldr_master_df` and use parts of `name_lookup_df`\n",
    "\n",
    "8.12 Need to implement NA strats below then begin merging\n",
    "\n",
    "**8.15 Look for more ways to engineer feats; Implement cleaning code into function. Group parties once all years are together. Make code to put in party of senate leader, majority party, and if third party in senate at all.**"
   ]
  },
  {
   "cell_type": "markdown",
   "metadata": {
    "heading_collapsed": true
   },
   "source": [
    "#### Removal plan for 'Turnout'"
   ]
  },
  {
   "cell_type": "markdown",
   "metadata": {
    "hidden": true
   },
   "source": [
    "**1928:** MA: 36-39 [1,524,914], PA: 91-97 [3,026,864]\n",
    "\n",
    "**1930:** MA: 42-46 [1,207,011]\n",
    "\n",
    "**1932:** AR: 6-8 [33,980], CO: 16-18 [425,634], NC: 87-88 [706,440]\n",
    "\n",
    "**1934:** TN: 98-100 [308,274]\n",
    "\n",
    "**1936:** MA: 41-50 [1,803,674]\n",
    "\n",
    "**1942:** ID: 13-14 [142,342], RI: 73-74 [238,487] \n",
    "\n",
    "**1952:** MI: 34-39 [2,821,133]\n",
    "\n",
    "**1958:** NC: 59-60 [616,469]\n",
    "\n",
    "**1974:** IA: 45-47 [853,521]"
   ]
  },
  {
   "cell_type": "markdown",
   "metadata": {
    "hidden": true
   },
   "source": [
    "**1976**: UT: 102-103 [514,169]\n",
    "\n",
    "**1980**: OK: 83-87 [1,098,294]\n",
    "\n",
    "**1986**: KY: 45-46 [677,105]\n",
    "\n",
    "**1994**: HI: 20-22 [356,902]\n",
    "\n",
    "**1998**: Just drop the other rows\n",
    "\n",
    "**2000**: CT: 12-15 [1,311,261], MS: 61-65 [944,144], NJ: 80-90 [3,015,662], TN: 106-112 [1,928,613], TX: 113-116 [6,267,964], WV: 127-129 [603,477], WI: 130-135 [2,540,083] \n",
    "\n",
    "**2002**: AR: 7-8 [808,256], NH: 64-66 [444,542], NJ: 67-72 [2,112,604] \n",
    "\n",
    "**2004**: AR: 10-12 [1,039,439], CT: 24-27 [1,424,726]\n",
    "\n",
    "**2006**: Just drop the other rows\n",
    "\n",
    "**2012**: ME: 19-21 [693,787], MN: 34-36 [2,839,572]"
   ]
  },
  {
   "cell_type": "markdown",
   "metadata": {
    "hidden": true
   },
   "source": [
    "* **1928**: MA doesn't report here. PA maybe under 'Totals'\n",
    "* **1930**: MA doesn't report here.\n",
    "* **1932**: AR/CO/NC doesn't report here.\n",
    "* **1934**: TN doesn't report here.\n",
    "* **1936**: MA maybe under 'total'\n",
    "* **1942**: ID/RI doesn't report here.\n",
    "* **1952**: MI doesn't report here.\n",
    "* **1958**: NC doesn't report here.\n",
    "* **1974**: IA doesn't report here."
   ]
  },
  {
   "cell_type": "markdown",
   "metadata": {
    "hidden": true
   },
   "source": [
    "* **1976**: UT doesn't report here.\n",
    "* **1980**: OK doesn't report here.\n",
    "* **1986**: KY doesn't report here.\n",
    "* **1994**: Idx [3,4] need to be dropped. HI doesn't report here.\n",
    "* **1998**: Idx [18-22] need to be dropped.\n",
    "* **2000**: Idx [2-4] need to be dropped. CT/MS/NJ/TN/TX/WV/WI doesn't report here.\n",
    "* **2002**: AR/NH/NJ doesn't report here.\n",
    "* **2004**: AR/CT doesn't report here.\n",
    "* **2006**: Idx [3-6] & [103-107] need to be dropped. \n",
    "* **2012**: ME/MN doesn't report here."
   ]
  },
  {
   "cell_type": "markdown",
   "metadata": {
    "heading_collapsed": true
   },
   "source": [
    "#### Removal plan for 'Candidate'"
   ]
  },
  {
   "cell_type": "markdown",
   "metadata": {
    "hidden": true
   },
   "source": [
    "Only in 1932:\n",
    "* **one** of these idx [30, 31, 32] needs to be changed to: \tDuncan U. Fletcher (Incumbent), Democratic, 1, Florida, 100%\n",
    "* The rest need to be dropped."
   ]
  },
  {
   "cell_type": "markdown",
   "metadata": {
    "heading_collapsed": true
   },
   "source": [
    "#### %"
   ]
  },
  {
   "cell_type": "markdown",
   "metadata": {
    "hidden": true
   },
   "source": [
    "* **1932**: Taken care of in 'Candidate'\n",
    "* **1956**: Idx [68] needs to be changed to: 100%. Idx [69, 70] need to be dropped.\n",
    "* **2012**: Idx [25, 26, 52, 53, 54] needs to be (53.74, 46.19, 58.87, 39.37, 0.50) resp.\n",
    "* **2014**: Idx [91, 92, 93, 94] needs to be (48.82, 47.26, 3.74, 0.18) resp."
   ]
  },
  {
   "cell_type": "markdown",
   "metadata": {
    "heading_collapsed": true
   },
   "source": [
    "#### State"
   ]
  },
  {
   "cell_type": "markdown",
   "metadata": {
    "hidden": true
   },
   "source": [
    "Just forward fill states after all other NAs have been filled or dropped."
   ]
  },
  {
   "cell_type": "markdown",
   "metadata": {
    "hidden": true
   },
   "source": [
    "**1924**: Idx [0-1] = 'Alabama'\n",
    "\n",
    "**1950**: Idx [0-1] = 'Alabama'\n",
    "\n",
    "**1960**: Idx [0-1] = 'Alabama'\n",
    "\n",
    "**1962**: Idx [0-1] = 'Alabama'\n",
    "\n",
    "**1966**: Idx [0-3] = 'Alabama'\n",
    "\n",
    "**1992**: Idx [0-3] = 'Alabama'; Idx [4-9] DROP"
   ]
  },
  {
   "cell_type": "markdown",
   "metadata": {
    "heading_collapsed": true
   },
   "source": [
    "#### Next.."
   ]
  },
  {
   "cell_type": "code",
   "execution_count": 4,
   "metadata": {
    "ExecuteTime": {
     "end_time": "2020-08-19T20:33:12.186147Z",
     "start_time": "2020-08-19T20:33:12.179966Z"
    },
    "hidden": true,
    "scrolled": true
   },
   "outputs": [],
   "source": [
    "# tester = {'1986':test2}\n",
    "# test_res = st_mapped_cleaner(tester, name_lookup_df, ldr_master_df_model)\n",
    "# test_res['1986']"
   ]
  },
  {
   "cell_type": "code",
   "execution_count": 5,
   "metadata": {
    "ExecuteTime": {
     "end_time": "2020-08-19T20:33:31.823435Z",
     "start_time": "2020-08-19T20:33:31.818444Z"
    },
    "hidden": true,
    "scrolled": true
   },
   "outputs": [],
   "source": [
    "# test = ldr_master_df_model[ldr_master_df_model['Year'] == '1934'].copy()\n",
    "# test_cleaned = sen_leader_builder(test)\n",
    "# display(test_cleaned)\n",
    "\n",
    "# test_reidx = test_cleaned.set_index('Party_enc')['Seats_before%']\n",
    "# display(test_reidx)\n",
    "\n",
    "# test_done = test_reidx.groupby(level=0).sum()\n",
    "# display(test_done)\n",
    "\n",
    "# for idx, party in zip(test2.index, test2['Party']):\n",
    "#     if party == 'Republican':\n",
    "#         test2.at[idx, 'Party_enc'] = 'R'\n",
    "#     elif party == 'Democratic':\n",
    "#         test2.at[idx, 'Party_enc'] = 'D'\n",
    "#     elif party == 'Independent':\n",
    "#         test2.at[idx, 'Party_enc'] = 'I'\n",
    "#     elif party == 'Socialist':\n",
    "#         test2.at[idx, 'Party_enc'] = 'S'\n",
    "#     elif party == 'Socialist Labor':\n",
    "#         test2.at[idx, 'Party_enc'] = 'S'\n",
    "#     elif party == 'Socialist Workers':\n",
    "#         test2.at[idx, 'Party_enc'] = 'S'\n",
    "#     else:\n",
    "#         test2.at[idx, 'Party_enc'] = 'T'\n",
    "        \n",
    "# test2['Seats_up%'] = test2['Party_enc'].map(test_done)\n",
    "# test2"
   ]
  },
  {
   "cell_type": "code",
   "execution_count": 49,
   "metadata": {
    "ExecuteTime": {
     "end_time": "2020-08-17T20:06:38.434108Z",
     "start_time": "2020-08-17T20:06:38.420835Z"
    },
    "hidden": true
   },
   "outputs": [],
   "source": [
    "## https://stackoverflow.com/questions/46049658/mapping-columns-from-one-dataframe-to-another-to-create-a-new-column\n",
    "## https://stackoverflow.com/questions/35855772/pandas-merge-duplicate-index-into-single-index\n",
    "\n",
    "# tester = test3.set_index('Party_enc')['Majority']\n",
    "# test2['Majority'] = test2['Party_enc'].map(tester)\n",
    "# test2['Majority'].fillna(0, inplace=True)\n",
    "# display(test2['Majority'].value_counts())\n",
    "\n",
    "# tester = test3.set_index('Party_enc')['Seats_up%']\n",
    "# test2['Seats_up%'] = test2['Party_enc'].map(tester)\n",
    "# test2['Seats_up%'].fillna(0, inplace=True)\n",
    "# display(test2['Seats_up%'].value_counts())\n",
    "\n",
    "# tester = test3.set_index('Party_enc')['Seats_before%']\n",
    "# test2['Seats_before%'] = test2['Party_enc'].map(tester)\n",
    "# test2['Seats_before%'].fillna(0, inplace=True)\n",
    "# display(test2['Seats_before%'].value_counts())\n",
    "\n",
    "# test2.head(10)"
   ]
  },
  {
   "cell_type": "code",
   "execution_count": 6,
   "metadata": {
    "ExecuteTime": {
     "end_time": "2020-08-19T20:33:45.443017Z",
     "start_time": "2020-08-19T20:33:45.437029Z"
    },
    "hidden": true,
    "scrolled": true
   },
   "outputs": [],
   "source": [
    "# test2['First_name'] = None\n",
    "# for idx, name in zip(test2.index, test2['Cln_name']):\n",
    "#     first = regex.findall(r'([A-Z]{1}[A-z]+\\s{1})', name)\n",
    "#     try:\n",
    "#         first = first.pop()\n",
    "#         first = first.strip()\n",
    "#         test2.at[idx, 'First_name'] = first\n",
    "#     except IndexError:\n",
    "#         print(idx)\n",
    "#         test2.at[idx, 'First_name'] = name\n",
    "    \n",
    "# test2.head()"
   ]
  },
  {
   "cell_type": "code",
   "execution_count": 33,
   "metadata": {
    "ExecuteTime": {
     "end_time": "2020-08-14T00:44:56.152817Z",
     "start_time": "2020-08-14T00:44:56.142955Z"
    },
    "hidden": true
   },
   "outputs": [],
   "source": [
    "# test = dlf.table_checker(dict_=yr_st_dict_joined)\n",
    "# display(test.head(10))\n",
    "# # print(test[0]['Total votes'])\n",
    "# test.info()"
   ]
  },
  {
   "cell_type": "code",
   "execution_count": 48,
   "metadata": {
    "ExecuteTime": {
     "end_time": "2020-08-15T19:11:25.394094Z",
     "start_time": "2020-08-15T19:11:25.383347Z"
    },
    "hidden": true
   },
   "outputs": [],
   "source": [
    "# test1['State'].fillna(method='ffill', inplace=True)\n",
    "# display(test1.head(15))\n",
    "# display(test1.tail(15))\n",
    "# test1.info()"
   ]
  },
  {
   "cell_type": "code",
   "execution_count": 58,
   "metadata": {
    "ExecuteTime": {
     "end_time": "2020-08-16T22:30:54.237970Z",
     "start_time": "2020-08-16T22:30:54.126517Z"
    },
    "code_folding": [
     0
    ],
    "hidden": true
   },
   "outputs": [],
   "source": [
    "# holder = []\n",
    "\n",
    "# for year in yr_st_mapped_full:\n",
    "#     table = yr_st_mapped_full[year].copy()\n",
    "#     table_ = table[['Year', 'Party','Candidate']].copy()\n",
    "#     holder.append(table_)\n",
    "    \n",
    "# all_party = pd.concat(holder, ignore_index=True)\n",
    "# #all_party\n",
    "\n",
    "# display(all_party['Party'].value_counts(normalize=True))\n",
    "\n",
    "# all_party['Party_enc'] = None\n",
    "\n",
    "# for idx, party in zip(all_party.index, all_party['Party']):\n",
    "#     if party == 'Republican':\n",
    "#         all_party.at[idx, 'Party_enc'] = 'R'\n",
    "#     elif party == 'Democratic':\n",
    "#         all_party.at[idx, 'Party_enc'] = 'D'\n",
    "#     elif party == 'Independent':\n",
    "#         all_party.at[idx, 'Party_enc'] = 'I'\n",
    "#     elif party == 'Socialist':\n",
    "#         all_party.at[idx, 'Party_enc'] = 'S'\n",
    "#     elif party == 'Socialist Labor':\n",
    "#         all_party.at[idx, 'Party_enc'] = 'S'\n",
    "#     elif party == 'Socialist Workers':\n",
    "#         all_party.at[idx, 'Party_enc'] = 'S'\n",
    "#     else:\n",
    "#         all_party.at[idx, 'Party_enc'] = 'T'\n",
    "        \n",
    "# all_party.head(25)\n",
    "\n",
    "# display(all_party['Party_enc'].value_counts(normalize=True))"
   ]
  },
  {
   "cell_type": "code",
   "execution_count": 188,
   "metadata": {
    "ExecuteTime": {
     "end_time": "2020-08-17T03:11:58.817294Z",
     "start_time": "2020-08-17T03:11:58.804735Z"
    },
    "hidden": true
   },
   "outputs": [],
   "source": [
    "# test1 = dlf.table_checker(dict_=yr_st_mapped_full)\n",
    "# display(test1.head(10))#[25:35])\n",
    "# # print(test1[0]['Total votes'])\n",
    "# # display(test1[test1['State'].isna()])\n",
    "# # display(type(test1['%'][25]))\n",
    "# test1.info()"
   ]
  },
  {
   "cell_type": "code",
   "execution_count": 187,
   "metadata": {
    "ExecuteTime": {
     "end_time": "2020-08-17T03:11:39.516800Z",
     "start_time": "2020-08-17T03:11:39.505783Z"
    },
    "hidden": true
   },
   "outputs": [],
   "source": [
    "# from genderize import Genderize\n",
    "\n",
    "# g_izer = Genderize()#.get([\"Slade\"], language_id='en')\n",
    "\n",
    "# tester = g_izer.get(['Mary'])[0]\n",
    "\n",
    "# if tester['gender'] == 'male' and tester['probability'] > .60:\n",
    "#     print(tester['gender'])\n",
    "# elif tester['gender'] == 'male' and tester['probability'] < .60:\n",
    "#     print('female')\n",
    "    \n",
    "# if tester['gender'] == 'female' and tester['probability'] > .60:\n",
    "#     print(tester['gender'])\n",
    "# elif tester['gender'] == 'female' and tester['probability'] < .60:\n",
    "#     print('male')\n",
    "\n",
    "# tester#['probability']  "
   ]
  },
  {
   "cell_type": "code",
   "execution_count": 158,
   "metadata": {
    "ExecuteTime": {
     "end_time": "2020-08-18T22:30:35.987269Z",
     "start_time": "2020-08-18T22:30:35.877093Z"
    },
    "code_folding": [],
    "hidden": true
   },
   "outputs": [],
   "source": [
    "# test2.at[124, 'Candidate'] = 'Unknown'\n",
    "# test2.at[125, 'Candidate'] = 'Unknown'\n",
    "# # test2['Candidate'].value_counts()\n",
    "\n",
    "\n",
    "# test2['Incumb_Y'] = 0\n",
    "# test2['State'] = None\n",
    "# if 'Candidate' in test2.columns:\n",
    "#     test2['Cln_name'] = test2['Candidate'].map(lambda x: regex.sub(r'([A-z]{1,2}\\.)\\s?', '', x).strip())\n",
    "#     test2['Cln_name'] = test2['Cln_name'].map(lambda x: regex.sub(r'\\(([^\\)]+)\\)', '', x).strip())\n",
    "#     test2['Cln_name'] = test2['Cln_name'].map(lambda x: regex.sub(r'\\[([^\\)]+)\\]', '', x).strip())\n",
    "#     ## Iterate over candidate's names \n",
    "#     for i, name in enumerate(test2['Candidate']):\n",
    "#         ## Check if incumbent + prep for state lookup\n",
    "#         if '(Incumbent)' in name:\n",
    "#             name = name.replace(' (Incumbent)', '')\n",
    "#             test2.at[i, 'Incumb_Y'] = 1\n",
    "\n",
    "#         ## Helps to determine which are general elections + adding state\n",
    "#         if name in list(name_lookup_df['Incumbent']):\n",
    "#             state = name_lookup_df[name_lookup_df['Incumbent'] == name].copy()\n",
    "#             state_n = state['State_id'].values\n",
    "\n",
    "#             ## Accounting for special elections\n",
    "#             for st in state_n:\n",
    "#                 if not '(' in st:\n",
    "#                     test2.at[i, 'State'] = st\n",
    "\n",
    "# test2"
   ]
  },
  {
   "cell_type": "code",
   "execution_count": 3,
   "metadata": {
    "ExecuteTime": {
     "end_time": "2020-08-19T20:32:35.366901Z",
     "start_time": "2020-08-19T20:32:35.358482Z"
    },
    "code_folding": [],
    "hidden": true,
    "scrolled": true
   },
   "outputs": [],
   "source": [
    "# ## REFORMATTING % AS A FLOAT    \n",
    "# for i, p in zip(test2.index, test2['%']):\n",
    "#     if isinstance(p, str):\n",
    "#         if '%' in p:\n",
    "#             test2.at[i, '%'] = np.float(p[:-1])\n",
    "\n",
    "# ## REMOVING () & [] FROM THE NAMES\n",
    "# test2 = dlf.regex_subber_bycol(test2, 'Candidate', [r'\\(([^\\)]+)\\)', r'\\[([^\\)]+)\\]'], multi_patt=True)\n",
    "\n",
    "# ## MAKING SURE THE NAMES MATCH\n",
    "\n",
    "# # test2['Cln_name'] = test2['Candidate'].map(lambda x: regex.sub(r'([A-z]{1,2}\\.)\\s?', '', x).strip())\n",
    "# # test['Cln_name'] = test['Incumbent'].map(lambda x: regex.sub(r'([A-z]{1,2}\\.)\\s?', '', x).strip())\n",
    "\n",
    "# for n_idx, name in zip(test2.index, test2['Cln_name']):\n",
    "#     for i_idx, incmb in zip(test.index, test['Cln_name']):\n",
    "#         if incmb == name:\n",
    "#             test2.at[n_idx, 'Terms_in_office'] = test['Terms_in_office'][i_idx]\n",
    "            \n",
    "#             if test2['Incumb_Y'][n_idx] != 1:\n",
    "#                 test2.at[n_idx, 'Incumb_Y'] = 1  \n",
    "        \n",
    "#             if test2['Party'][n_idx] != test['Party'][i_idx]:\n",
    "#                 test2.at[n_idx, 'Party'] = test['Party'][i_idx]         \n",
    "\n",
    "                \n",
    "# test2['Party_enc'] = None\n",
    "\n",
    "# for idx, party in zip(test2.index, test2['Party']):\n",
    "#     if party == 'Republican':\n",
    "#         test2.at[idx, 'Party_enc'] = 'R'\n",
    "#     elif party == 'Democratic':\n",
    "#         test2.at[idx, 'Party_enc'] = 'D'\n",
    "#     elif party == 'Independent':\n",
    "#         test2.at[idx, 'Party_enc'] = 'I'\n",
    "#     elif party == 'Socialist':\n",
    "#         test2.at[idx, 'Party_enc'] = 'S'\n",
    "#     elif party == 'Socialist Labor':\n",
    "#         test2.at[idx, 'Party_enc'] = 'S'\n",
    "#     elif party == 'Socialist Workers':\n",
    "#         test2.at[idx, 'Party_enc'] = 'S'\n",
    "#     else:\n",
    "#         test2.at[idx, 'Party_enc'] = 'T'              \n",
    "        \n",
    "# test2"
   ]
  },
  {
   "cell_type": "markdown",
   "metadata": {
    "hidden": true
   },
   "source": [
    "To help with repeat due to edge cases, remove first instance of name from each table."
   ]
  }
 ],
 "metadata": {
  "kernelspec": {
   "display_name": "Python 3",
   "language": "python",
   "name": "python3"
  },
  "language_info": {
   "codemirror_mode": {
    "name": "ipython",
    "version": 3
   },
   "file_extension": ".py",
   "mimetype": "text/x-python",
   "name": "python",
   "nbconvert_exporter": "python",
   "pygments_lexer": "ipython3",
   "version": "3.6.6"
  },
  "toc": {
   "base_numbering": 1,
   "nav_menu": {},
   "number_sections": true,
   "sideBar": true,
   "skip_h1_title": false,
   "title_cell": "Table of Contents",
   "title_sidebar": "Contents",
   "toc_cell": false,
   "toc_position": {},
   "toc_section_display": true,
   "toc_window_display": false
  },
  "varInspector": {
   "cols": {
    "lenName": 16,
    "lenType": 16,
    "lenVar": 40
   },
   "kernels_config": {
    "python": {
     "delete_cmd_postfix": "",
     "delete_cmd_prefix": "del ",
     "library": "var_list.py",
     "varRefreshCmd": "print(var_dic_list())"
    },
    "r": {
     "delete_cmd_postfix": ") ",
     "delete_cmd_prefix": "rm(",
     "library": "var_list.r",
     "varRefreshCmd": "cat(var_dic_list()) "
    }
   },
   "types_to_exclude": [
    "module",
    "function",
    "builtin_function_or_method",
    "instance",
    "_Feature"
   ],
   "window_display": false
  }
 },
 "nbformat": 4,
 "nbformat_minor": 2
}
