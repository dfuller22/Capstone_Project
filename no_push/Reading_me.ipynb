{
 "cells": [
  {
   "cell_type": "markdown",
   "metadata": {},
   "source": [
    "# Predict the Flip!\n",
    "---"
   ]
  },
  {
   "cell_type": "markdown",
   "metadata": {},
   "source": [
    "## Summary\n",
    "---"
   ]
  },
  {
   "cell_type": "markdown",
   "metadata": {},
   "source": [
    "To many, the United States' 2020 Senate elections are the most important in recent times. Besides how divisive they are politically, these elections will be held during a global pandemic without precedence. For these reasons, I wanted to leverage data science processes to see if past elections could help predict current (or even future) ones.\n",
    "\n",
    "This project explored whether or not a machine learning model can be used to predict how much of the vote a given candidate will receive. In order to do so, I needed to create my own dataset directly from Wikipedia before using a random forest regressor from Scikit-Learn to get my results. The best model was able to achieve a RMSE of 10.86% and provide a number of insights about what is important for a candidate to get more votes.\n",
    "\n",
    "Currently, the components of this project can be applied to benefit political parties, candidates, students, and/or educators in political or data science fields"
   ]
  },
  {
   "cell_type": "markdown",
   "metadata": {},
   "source": [
    "## Tasks & Goals\n",
    "---"
   ]
  },
  {
   "cell_type": "markdown",
   "metadata": {},
   "source": [
    "For this project there were a few predetermined tasks and related goals that guided my focus during completion. "
   ]
  },
  {
   "cell_type": "markdown",
   "metadata": {},
   "source": [
    "### Project Tasks"
   ]
  },
  {
   "cell_type": "markdown",
   "metadata": {},
   "source": [
    "* Make a machine learning model from supervised data\n",
    "* Use free, public information\n",
    "* Available for scraping on the internet"
   ]
  },
  {
   "cell_type": "markdown",
   "metadata": {},
   "source": [
    "###  Project Goals"
   ]
  },
  {
   "cell_type": "markdown",
   "metadata": {},
   "source": [
    "* Gather insights for candidates via EDA/modeling results\n",
    "* Predict the winner of a state's senate general election\n",
    "* Be able to use this dataset/model as part of a bigger project"
   ]
  },
  {
   "cell_type": "markdown",
   "metadata": {},
   "source": [
    "## Data Sourcing\n",
    "---"
   ]
  },
  {
   "cell_type": "markdown",
   "metadata": {},
   "source": [
    "### Background"
   ]
  },
  {
   "cell_type": "markdown",
   "metadata": {},
   "source": [
    "Although the United States' Senate has existed in some form since 1788, the U.S. Senate election process we know and recognize today came to fruition after the ratification of the 17th Amendment of the U.S. Constitution in 1913.\n",
    "\n",
    "This Amendment made it so that the senators representing any given state needed to be elected by popular vote of the people, rather than being appointed by the state's legislature (unless it is an interim position until a special election is held).\n",
    "\n",
    "Given this, the dataset will feature information beginning in 1914 through present. In some cases it will only feature 1920 through present as the acting senators during the ratification of the 17th Amendment were allowed to finish their six-year terms.\n",
    "\n",
    "More information about this can be found here: [17th Amendment](https://en.wikipedia.org/wiki/Seventeenth_Amendment_to_the_United_States_Constitution)"
   ]
  },
  {
   "cell_type": "markdown",
   "metadata": {},
   "source": [
    "### Process"
   ]
  },
  {
   "cell_type": "markdown",
   "metadata": {
    "ExecuteTime": {
     "end_time": "2020-09-01T23:12:24.345922Z",
     "start_time": "2020-09-01T23:12:24.331667Z"
    }
   },
   "source": [
    "After doing some research online, it became apparent that if I wanted to have all of the candidates that ran for office in a given year, I was going to need to create my own dataset from scratch.\n",
    "\n",
    "The dataset used in this project was created by scraping various pages on Wikipedia containing information on past United States Senate elections with the BeautifulSoup package. I then used a number of custom cleaning/formattting functions to organize all of the information into a single CSV file. They all can be found in the *functions.py* file found in this repository. "
   ]
  },
  {
   "cell_type": "markdown",
   "metadata": {},
   "source": [
    "During the data collection process there were a few websites that inspired or helped to create this dataset. The Wikipedia page directly used to create the dataset is: [List of U.S. Senate Elections](https://en.wikipedia.org/wiki/List_of_United_States_Senate_elections)\n",
    "\n",
    "The other links are:\n",
    "\n",
    "* [Link to BallotPedia](https://ballotpedia.org/Legislative_Branch) (Original inspiration for project)\n",
    "\n",
    "\n",
    "* [Link to Harvard Dataverse](https://dataverse.harvard.edu/dataverse/medsl_senate) (Inspiration for the structure of the dataset)\n",
    "\n",
    "\n",
    "* [Link to Brookings](https://www.brookings.edu/multi-chapter-report/vital-statistics-on-congress/) (Inspiration for features, potential integration later)\n",
    "\n",
    "\n",
    "* [Link to Wiki-Category (U.S. Senator)](https://commons.wikimedia.org/wiki/Category:Senators_of_the_United_States) (Inspiration for features, potential integration later)"
   ]
  },
  {
   "cell_type": "markdown",
   "metadata": {},
   "source": [
    "### Results"
   ]
  },
  {
   "cell_type": "markdown",
   "metadata": {},
   "source": [
    "The resulting CSV file contains:\n",
    "* 5,588 datapoints\n",
    "* Spans 96 years (1920-2016)\n",
    "* Every candidate in senate general elections\n",
    "* 8 total features\n",
    "\n",
    "Below is what the resulting file looks like loaded in with the Pandas package:"
   ]
  },
  {
   "cell_type": "markdown",
   "metadata": {
    "ExecuteTime": {
     "end_time": "2020-09-01T23:24:43.544473Z",
     "start_time": "2020-09-01T23:24:43.534122Z"
    }
   },
   "source": [
    "<img src=\"./Images/fin_df.png\" alt=\"Final DataFrame\" style=\"height: 80%; width:80%;\"/>"
   ]
  },
  {
   "cell_type": "markdown",
   "metadata": {},
   "source": [
    "### Features Explained"
   ]
  },
  {
   "cell_type": "markdown",
   "metadata": {},
   "source": [
    "* `%` &mdash; Percentage of votes received by candidate in their respective election\n",
    "* `Turnout` &mdash; Total amount of votes cast in respective election\n",
    "* `Incumb_Y` &mdash; Binary variable indicating if a candidate is a current senator\n",
    "* `State` &mdash; State seat that the election is for\n",
    "* `Cln_name` &mdash; Cleaned version of candidate name\n",
    "* `Year` &mdash; Year that election occurred\n",
    "* `Terms_in_office` &mdash; Number of times candidate has been elected senator\n",
    "* `Party_enc` &mdash; Encoded representation of candidate's party\n",
    "    * **D** &mdash; Representation for the Democratic party \n",
    "    * **R** &mdash; Representation for the Republican party \n",
    "    * **I** &mdash; Representation for Independent party designation\n",
    "    * **S** &mdash; Representation for the Socialist party\n",
    "    * **T** &mdash; Representation for all other parties not included above (Third party)\n",
    "* `First_name` &mdash; Split version of `Cln_name` (used in EDA)\n",
    "* `Seats_up%` &mdash; Percentage of party's seats up for election in the current election cycle\n",
    "* `Seats_before%` &mdash; Percentage of total seats in senate party had since prior election cycle"
   ]
  },
  {
   "cell_type": "markdown",
   "metadata": {},
   "source": [
    "## EDA & Visuals\n",
    "---"
   ]
  },
  {
   "cell_type": "markdown",
   "metadata": {},
   "source": [
    "Normally, there would be a portion of cleaning prior to this stage, but due to my creation of the dataset I was able to minimize these steps during the collection stages. This allowed me to easily create a few simple visualizations that yielded some insights."
   ]
  },
  {
   "cell_type": "markdown",
   "metadata": {},
   "source": [
    "### Turnout"
   ]
  },
  {
   "cell_type": "markdown",
   "metadata": {},
   "source": [
    "This year's election cycle (especially due to COVID) has brought a lot of attention to voter access. With this in mind I wanted to check what kind of information my dataset could provide on this."
   ]
  },
  {
   "cell_type": "markdown",
   "metadata": {},
   "source": [
    "<img src=\"./Images/turnout_by_year.png\" alt=\"Turnout by Year (1920-2016)\" style=\"height: 80%; width:80%;\"/>"
   ]
  },
  {
   "cell_type": "markdown",
   "metadata": {},
   "source": [
    "> It is apparent that turnout has (on average) been increasing ever since there has been elections.\n",
    "\n",
    "This could be due to many reasons, such as increases in population and/or literacy. Besides the gradual increase, it is clear that every decade (starting 1940) seems to have one cycle where turnout falls to about or below 150 million votes. This becomes more apparent post 1970, where turnout is mostly around 200 million, making it look even sharper of a drop."
   ]
  },
  {
   "cell_type": "markdown",
   "metadata": {},
   "source": [
    "### Average Term Length (by State)"
   ]
  },
  {
   "cell_type": "markdown",
   "metadata": {},
   "source": [
    "I was curious to see if certain states were more or less likely to keep their senators once elected, as I encountered a few during my process that served over 6 terms. This may not seem like much, but a term for a U.S. senator can be either 4 or 6 years long, meaning some spent close to 50 years in their seat! "
   ]
  },
  {
   "cell_type": "markdown",
   "metadata": {},
   "source": [
    "<img src=\"./Images/avg_term_by_state.png\" alt=\"Average Term Length by State\" style=\"height: 50%; width:70%;\"/>"
   ]
  },
  {
   "cell_type": "markdown",
   "metadata": {},
   "source": [
    "> It is clear that some states tend to keep incumbent senators for longer (on average).\n",
    "\n",
    "To my surprise, there are large differences between states in this category. In order to interpret these values, one must understand that a value will go up if this state has elections where:\n",
    " * There is a senator with 1+ terms involved (more the better)\n",
    " * There are not a lot of competitors, or the candidate runs unopposed.\n",
    " \n",
    "Given this, its easy to see that a state like Delaware tends to keep it's senator around once they are in office and likely do not have much competition or a homogeneous political environment. On the other hand, a state like New Jersey must be highly contested and thus tend to cycle through senators. "
   ]
  },
  {
   "cell_type": "markdown",
   "metadata": {},
   "source": [
    "### Average Percent of Vote by Party"
   ]
  },
  {
   "cell_type": "markdown",
   "metadata": {},
   "source": [
    "I had a feeling that being an incumbent senator would help one's prospects for re-election, but wanted to visually attempt to verify this. I decided to further slice by party to see if this had any effect upon the results."
   ]
  },
  {
   "cell_type": "markdown",
   "metadata": {},
   "source": [
    "#### Democratic Party"
   ]
  },
  {
   "cell_type": "markdown",
   "metadata": {},
   "source": [
    "<img src=\"./Images/d_votes_incumb.png\" alt=\"Average Percent of Vote by Incumbent 'D'\" style=\"height: 70%; width:80%;\"/>"
   ]
  },
  {
   "cell_type": "markdown",
   "metadata": {},
   "source": [
    "#### Republican Party"
   ]
  },
  {
   "cell_type": "markdown",
   "metadata": {},
   "source": [
    "<img src=\"./Images/r_votes_incumb.png\" alt=\"Average Percent of Vote by Incumbent 'R'\" style=\"height: 70%; width:80%;\"/>"
   ]
  },
  {
   "cell_type": "markdown",
   "metadata": {},
   "source": [
    "#### Third Parties"
   ]
  },
  {
   "cell_type": "markdown",
   "metadata": {},
   "source": [
    "<img src=\"./Images/t_votes_incumb.png\" alt=\"Average Percent of Vote by Incumbent 'T'\" style=\"height: 70%; width:80%;\"/>"
   ]
  },
  {
   "cell_type": "markdown",
   "metadata": {},
   "source": [
    "> Being an incumbent senator is *very important* to indicating the amount of votes one will receive in the following election. \n",
    "\n",
    "This matters the least if you are in the Democratic or Republican parties. The difference in vote percentage in these two parties is about 15-20% while the others show ~50% (if they have even had an incumbent). "
   ]
  },
  {
   "cell_type": "markdown",
   "metadata": {},
   "source": [
    "## Model Selection\n",
    "---"
   ]
  },
  {
   "cell_type": "markdown",
   "metadata": {},
   "source": [
    "### Initial Search"
   ]
  },
  {
   "cell_type": "markdown",
   "metadata": {},
   "source": [
    "Due to the nature of my target variable, it was necessary that I use a regression algorithm for training and prediction. There were a total of 6 different models tested for use during training. They are:\n",
    "* Decision Tree Regressor\n",
    "* Random Forest Regressor\n",
    "* K-Neighbors Regressor\n",
    "* AdaBoost Regressor\n",
    "* Gradient Boosting Regressor\n",
    "* XBGRegressor\n",
    "\n",
    "Here are the results:"
   ]
  },
  {
   "cell_type": "markdown",
   "metadata": {},
   "source": [
    "<img src=\"./Images/van_model_eval.png\" alt=\"Vanilla Model Evaluation\" style=\"height: 70%; width:80%;\"/>"
   ]
  },
  {
   "cell_type": "markdown",
   "metadata": {},
   "source": [
    "The column I used to make my final decision is the `Te_RMSE`, as this represents the error on the testing (or validation) set. As the lowest of these came from the Random Forest Regressor, that is the one I stuck with."
   ]
  },
  {
   "cell_type": "markdown",
   "metadata": {},
   "source": [
    "### Final model"
   ]
  },
  {
   "cell_type": "markdown",
   "metadata": {},
   "source": [
    "#### Prediction Performance"
   ]
  },
  {
   "cell_type": "markdown",
   "metadata": {},
   "source": [
    "After doing some grid searching, I was able to achieve a testing RMSE of ~10.86% on a consistent basis. Given the natures of the features used for prediction, I am satisfied with this result as a starting point.\n",
    "\n",
    "Below is a graph displaying the predicted against actual values from the testing data:"
   ]
  },
  {
   "cell_type": "markdown",
   "metadata": {},
   "source": [
    "<img src=\"./Images/pred_v_actual.png\" alt=\"Predicted v. Actual Values\" style=\"height: 70%; width:70%;\"/>"
   ]
  },
  {
   "cell_type": "markdown",
   "metadata": {},
   "source": [
    "A few observations:\n",
    "* ‘Mirrored’ low end\n",
    "* Bottom-heavy upper bound\n",
    "* Strong cluster in center"
   ]
  },
  {
   "cell_type": "markdown",
   "metadata": {},
   "source": [
    "#### Feature Importances"
   ]
  },
  {
   "cell_type": "markdown",
   "metadata": {},
   "source": [
    "One of the benefits of using Sci-Kit Learn's Random Forest Regressor is that you gain easy access to a attribute called `.feature_importances_`. This returns an array of values that:\n",
    "* Represent the weight each feature has on the prediction value\n",
    "* Does not indicate direction of weight (+/-) \n",
    "* Provides movement in a relative sense\n",
    "\n",
    "This specific graph shows the top 10, without the #1 feature (it was significantly higher than the rest). **The #1 feature was `Seats_before%` with 0.75**. \n"
   ]
  },
  {
   "cell_type": "markdown",
   "metadata": {},
   "source": [
    "<img src=\"./Images/feat_imps.png\" alt=\"Feature Importances\" style=\"height: 60%; width:60%;\"/>"
   ]
  },
  {
   "cell_type": "markdown",
   "metadata": {},
   "source": [
    "A few insights from this include:\n",
    "* Timing is critical\n",
    "* Prior year is most important\n",
    "* Experience is crucial (incumbency/terms in office)\n",
    "* Party does matter"
   ]
  },
  {
   "cell_type": "markdown",
   "metadata": {},
   "source": [
    "## Conclusions\n",
    "---"
   ]
  },
  {
   "cell_type": "markdown",
   "metadata": {},
   "source": [
    "The training results from my model have uncovered some good insights that may be of use to any participating in this process and/or learning from it. I will be interpreting these results as-if someone in party leadership or a perspective candidate is looking to use this in their own election.\n",
    "\n",
    "Some insights include:\n",
    "* Experience is everything (Incumbency brings rewards)\n",
    "* Majority rules (Party presence across nation)\n",
    "* When is more important than where\n",
    "* Voter participation is key\n",
    "* Party selection is important for non-incumbents"
   ]
  }
 ],
 "metadata": {
  "kernelspec": {
   "display_name": "Python 3",
   "language": "python",
   "name": "python3"
  },
  "language_info": {
   "codemirror_mode": {
    "name": "ipython",
    "version": 3
   },
   "file_extension": ".py",
   "mimetype": "text/x-python",
   "name": "python",
   "nbconvert_exporter": "python",
   "pygments_lexer": "ipython3",
   "version": "3.6.6"
  },
  "toc": {
   "base_numbering": 1,
   "nav_menu": {},
   "number_sections": true,
   "sideBar": true,
   "skip_h1_title": false,
   "title_cell": "Table of Contents",
   "title_sidebar": "Contents",
   "toc_cell": false,
   "toc_position": {},
   "toc_section_display": true,
   "toc_window_display": false
  },
  "varInspector": {
   "cols": {
    "lenName": 16,
    "lenType": 16,
    "lenVar": 40
   },
   "kernels_config": {
    "python": {
     "delete_cmd_postfix": "",
     "delete_cmd_prefix": "del ",
     "library": "var_list.py",
     "varRefreshCmd": "print(var_dic_list())"
    },
    "r": {
     "delete_cmd_postfix": ") ",
     "delete_cmd_prefix": "rm(",
     "library": "var_list.r",
     "varRefreshCmd": "cat(var_dic_list()) "
    }
   },
   "types_to_exclude": [
    "module",
    "function",
    "builtin_function_or_method",
    "instance",
    "_Feature"
   ],
   "window_display": false
  }
 },
 "nbformat": 4,
 "nbformat_minor": 2
}
