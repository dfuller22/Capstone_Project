{
 "cells": [
  {
   "cell_type": "markdown",
   "metadata": {},
   "source": [
    "# Title"
   ]
  },
  {
   "cell_type": "markdown",
   "metadata": {},
   "source": [
    "## Links"
   ]
  },
  {
   "cell_type": "markdown",
   "metadata": {},
   "source": [
    "> [Link to Brookings](https://www.brookings.edu/multi-chapter-report/vital-statistics-on-congress/)\n",
    "\n",
    "> [Link to BallotPedia](https://ballotpedia.org/Legislative_Branch)\n",
    "\n",
    "> [Link to WikiPedia](https://en.wikipedia.org/wiki/List_of_United_States_Senate_elections)\n",
    "\n",
    "> [Link to Wiki-Category (U.S. Senator)](https://commons.wikimedia.org/wiki/Category:Senators_of_the_United_States)"
   ]
  },
  {
   "cell_type": "markdown",
   "metadata": {
    "heading_collapsed": true
   },
   "source": [
    "## Imports"
   ]
  },
  {
   "cell_type": "code",
   "execution_count": 1,
   "metadata": {
    "ExecuteTime": {
     "end_time": "2020-08-21T22:33:23.840379Z",
     "start_time": "2020-08-21T22:33:21.646035Z"
    },
    "hidden": true
   },
   "outputs": [],
   "source": [
    "import functions as dlf\n",
    "import pandas as pd\n",
    "import numpy as np\n",
    "import requests\n",
    "import regex\n",
    "import pickle\n",
    "from importlib import reload\n",
    "from bs4 import BeautifulSoup\n",
    "from genderize import Genderize"
   ]
  },
  {
   "cell_type": "code",
   "execution_count": 3,
   "metadata": {
    "ExecuteTime": {
     "end_time": "2020-08-21T22:34:01.664848Z",
     "start_time": "2020-08-21T22:34:01.646539Z"
    },
    "hidden": true
   },
   "outputs": [],
   "source": [
    "import numpy as np\n",
    "# import itertools\n",
    "import matplotlib.pyplot as plt\n",
    "import seaborn as sns\n",
    "import tzlocal\n",
    "import datetime as dt\n",
    "import xgboost as xgb\n",
    "import sklearn\n",
    "import sklearn.metrics as metrics\n",
    "from yellowbrick.classifier import ROCAUC\n",
    "from sklearn.neighbors import KNeighborsRegressor\n",
    "from sklearn.preprocessing import StandardScaler, MinMaxScaler\n",
    "# from sklearn.metrics import roc_auc_score, roc_curve, auc, confusion_matrix\n",
    "from sklearn.linear_model import LogisticRegression\n",
    "from sklearn.tree import DecisionTreeRegressor\n",
    "from sklearn.model_selection import train_test_split, GridSearchCV\n",
    "from sklearn.ensemble import RandomForestRegressor, AdaBoostRegressor, GradientBoostingRegressor\n",
    "from imblearn.over_sampling import SMOTE\n",
    "\n",
    "%matplotlib inline"
   ]
  },
  {
   "cell_type": "code",
   "execution_count": null,
   "metadata": {
    "hidden": true
   },
   "outputs": [],
   "source": [
    "# with open('election_collection_raw.pickle', 'wb') as f:\n",
    "#     pickle.dump(election_collection_raw, f)\n",
    "#     f.close()\n",
    "\n",
    "# with open('election_collection_raw.pickle', 'rb') as f:\n",
    "#     election_collection_raw = pickle.load(f)\n",
    "#     f.close()"
   ]
  },
  {
   "cell_type": "markdown",
   "metadata": {},
   "source": [
    "## Loading data"
   ]
  },
  {
   "cell_type": "code",
   "execution_count": 162,
   "metadata": {
    "ExecuteTime": {
     "end_time": "2020-08-24T00:18:01.654514Z",
     "start_time": "2020-08-24T00:18:01.545057Z"
    },
    "scrolled": true
   },
   "outputs": [
    {
     "data": {
      "text/html": [
       "<div>\n",
       "<style scoped>\n",
       "    .dataframe tbody tr th:only-of-type {\n",
       "        vertical-align: middle;\n",
       "    }\n",
       "\n",
       "    .dataframe tbody tr th {\n",
       "        vertical-align: top;\n",
       "    }\n",
       "\n",
       "    .dataframe thead th {\n",
       "        text-align: right;\n",
       "    }\n",
       "</style>\n",
       "<table border=\"1\" class=\"dataframe\">\n",
       "  <thead>\n",
       "    <tr style=\"text-align: right;\">\n",
       "      <th></th>\n",
       "      <th>%</th>\n",
       "      <th>Turnout</th>\n",
       "      <th>Incumb_Y</th>\n",
       "      <th>State</th>\n",
       "      <th>Cln_name</th>\n",
       "      <th>Year</th>\n",
       "      <th>Terms_in_office</th>\n",
       "      <th>Party_enc</th>\n",
       "      <th>First_name</th>\n",
       "      <th>Seats_up%</th>\n",
       "      <th>Seats_before%</th>\n",
       "    </tr>\n",
       "  </thead>\n",
       "  <tbody>\n",
       "    <tr>\n",
       "      <th>5583</th>\n",
       "      <td>1.01</td>\n",
       "      <td>320467.0</td>\n",
       "      <td>0</td>\n",
       "      <td>Vermont</td>\n",
       "      <td>Peter Diamondstone</td>\n",
       "      <td>2016</td>\n",
       "      <td>0</td>\n",
       "      <td>T</td>\n",
       "      <td>Peter</td>\n",
       "      <td>0.000000</td>\n",
       "      <td>0.00</td>\n",
       "    </tr>\n",
       "    <tr>\n",
       "      <th>5584</th>\n",
       "      <td>59.01</td>\n",
       "      <td>3243317.0</td>\n",
       "      <td>1</td>\n",
       "      <td>Washington</td>\n",
       "      <td>Patty Murray</td>\n",
       "      <td>2016</td>\n",
       "      <td>4</td>\n",
       "      <td>D</td>\n",
       "      <td>Patty</td>\n",
       "      <td>0.227273</td>\n",
       "      <td>0.44</td>\n",
       "    </tr>\n",
       "    <tr>\n",
       "      <th>5585</th>\n",
       "      <td>40.99</td>\n",
       "      <td>3243317.0</td>\n",
       "      <td>0</td>\n",
       "      <td>Washington</td>\n",
       "      <td>Chris Vance</td>\n",
       "      <td>2016</td>\n",
       "      <td>0</td>\n",
       "      <td>R</td>\n",
       "      <td>Chris</td>\n",
       "      <td>0.444444</td>\n",
       "      <td>0.54</td>\n",
       "    </tr>\n",
       "    <tr>\n",
       "      <th>5586</th>\n",
       "      <td>50.20</td>\n",
       "      <td>2947345.0</td>\n",
       "      <td>1</td>\n",
       "      <td>Wisconsin</td>\n",
       "      <td>Ron Johnson</td>\n",
       "      <td>2016</td>\n",
       "      <td>1</td>\n",
       "      <td>R</td>\n",
       "      <td>Ron</td>\n",
       "      <td>0.444444</td>\n",
       "      <td>0.54</td>\n",
       "    </tr>\n",
       "    <tr>\n",
       "      <th>5587</th>\n",
       "      <td>46.80</td>\n",
       "      <td>2947345.0</td>\n",
       "      <td>0</td>\n",
       "      <td>Wisconsin</td>\n",
       "      <td>Russ Feingold</td>\n",
       "      <td>2016</td>\n",
       "      <td>0</td>\n",
       "      <td>D</td>\n",
       "      <td>Russ</td>\n",
       "      <td>0.227273</td>\n",
       "      <td>0.44</td>\n",
       "    </tr>\n",
       "  </tbody>\n",
       "</table>\n",
       "</div>"
      ],
      "text/plain": [
       "          %    Turnout  Incumb_Y       State            Cln_name  Year  \\\n",
       "5583   1.01   320467.0         0     Vermont  Peter Diamondstone  2016   \n",
       "5584  59.01  3243317.0         1  Washington        Patty Murray  2016   \n",
       "5585  40.99  3243317.0         0  Washington         Chris Vance  2016   \n",
       "5586  50.20  2947345.0         1   Wisconsin         Ron Johnson  2016   \n",
       "5587  46.80  2947345.0         0   Wisconsin       Russ Feingold  2016   \n",
       "\n",
       "      Terms_in_office Party_enc First_name  Seats_up%  Seats_before%  \n",
       "5583                0         T      Peter   0.000000           0.00  \n",
       "5584                4         D      Patty   0.227273           0.44  \n",
       "5585                0         R      Chris   0.444444           0.54  \n",
       "5586                1         R        Ron   0.444444           0.54  \n",
       "5587                0         D       Russ   0.227273           0.44  "
      ]
     },
     "metadata": {},
     "output_type": "display_data"
    }
   ],
   "source": [
    "df = pd.read_csv('Senate_generals_thru_2016')\n",
    "df_eda = df.copy()\n",
    "df_gend = df.copy()\n",
    "df_model_test = df.copy()\n",
    "display(df.tail())"
   ]
  },
  {
   "cell_type": "markdown",
   "metadata": {
    "heading_collapsed": true
   },
   "source": [
    "## EDA"
   ]
  },
  {
   "cell_type": "code",
   "execution_count": 165,
   "metadata": {
    "ExecuteTime": {
     "end_time": "2020-08-24T00:19:02.723008Z",
     "start_time": "2020-08-24T00:19:02.685592Z"
    },
    "hidden": true
   },
   "outputs": [
    {
     "name": "stdout",
     "output_type": "stream",
     "text": [
      "<class 'pandas.core.frame.DataFrame'>\n",
      "Int64Index: 5583 entries, 0 to 5587\n",
      "Data columns (total 11 columns):\n",
      "%                  5583 non-null float64\n",
      "Turnout            5583 non-null float64\n",
      "Incumb_Y           5583 non-null int64\n",
      "State              5583 non-null object\n",
      "Cln_name           5583 non-null object\n",
      "Year               5583 non-null int64\n",
      "Terms_in_office    5583 non-null int64\n",
      "Party_enc          5583 non-null object\n",
      "First_name         5583 non-null object\n",
      "Seats_up%          5583 non-null float64\n",
      "Seats_before%      5583 non-null float64\n",
      "dtypes: float64(4), int64(3), object(4)\n",
      "memory usage: 683.4+ KB\n"
     ]
    }
   ],
   "source": [
    "## Fill NAs left from cleaning\n",
    "df_eda.dropna(inplace=True)\n",
    "\n",
    "## Fixing State regex missed cases\n",
    "df_eda.at[1461, 'State'] = 'West_Virginia'\n",
    "df_eda.at[1632, 'State'] = 'Nevada'\n",
    "\n",
    "df_eda.info()"
   ]
  },
  {
   "cell_type": "code",
   "execution_count": 185,
   "metadata": {
    "ExecuteTime": {
     "end_time": "2020-08-24T00:29:57.616051Z",
     "start_time": "2020-08-24T00:29:57.037734Z"
    },
    "hidden": true
   },
   "outputs": [
    {
     "data": {
      "image/png": "[encoded data removed]",
      "text/plain": [
       "<Figure size 720x360 with 1 Axes>"
      ]
     },
     "metadata": {
      "needs_background": "light"
     },
     "output_type": "display_data"
    }
   ],
   "source": [
    "fig, ax = plt.subplots(figsize=(10,5))\n",
    "\n",
    "turnout_by_yr = df_eda.groupby('Year')['Turnout'].sum()\n",
    "ax.bar(turnout_by_yr.index, turnout_by_yr)\n",
    "ax.set(title='Turnout by Year', xlabel='Year', ylabel='Turnout (100s of millions)');"
   ]
  },
  {
   "cell_type": "code",
   "execution_count": 191,
   "metadata": {
    "ExecuteTime": {
     "end_time": "2020-08-24T00:36:08.247814Z",
     "start_time": "2020-08-24T00:36:06.719582Z"
    },
    "hidden": true
   },
   "outputs": [
    {
     "data": {
      "image/png": "[encoded data removed]",
      "text/plain": [
       "<Figure size 504x720 with 1 Axes>"
      ]
     },
     "metadata": {
      "needs_background": "light"
     },
     "output_type": "display_data"
    }
   ],
   "source": [
    "fig, ax = plt.subplots(figsize=(7,10))\n",
    "\n",
    "terms_by_state = df_eda.groupby('State')['Terms_in_office'].mean()\n",
    "ax.barh(terms_by_state.sort_values().index, terms_by_state.sort_values())\n",
    "ax.set(title='Avg. Term Length by State', xlabel='State', ylabel='Term Length (avg.)');"
   ]
  },
  {
   "cell_type": "code",
   "execution_count": 219,
   "metadata": {
    "ExecuteTime": {
     "end_time": "2020-08-24T01:11:24.705207Z",
     "start_time": "2020-08-24T01:11:23.968125Z"
    },
    "hidden": true
   },
   "outputs": [
    {
     "data": {
      "image/png": "[encoded data removed]",
      "text/plain": [
       "<Figure size 864x360 with 1 Axes>"
      ]
     },
     "metadata": {
      "needs_background": "light"
     },
     "output_type": "display_data"
    }
   ],
   "source": [
    "## First woman's name is barbara 16 occurences, 34th rank\n",
    "\n",
    "fig, ax = plt.subplots(figsize=(12,5))\n",
    "\n",
    "terms_by_firstname = df_eda.groupby('First_name')['Terms_in_office'].sum()\n",
    "firstname_top20 = terms_by_firstname[terms_by_firstname > 0].sort_values(ascending=False).head(20)\n",
    "\n",
    "ax.bar(firstname_top20.index, firstname_top20)\n",
    "ax.set(title='# of Terms with First Name', xlabel='Name', ylabel='Total Terms');"
   ]
  },
  {
   "cell_type": "code",
   "execution_count": null,
   "metadata": {
    "ExecuteTime": {
     "end_time": "2020-08-24T01:37:16.311119Z",
     "start_time": "2020-08-24T01:37:14.701185Z"
    },
    "hidden": true
   },
   "outputs": [],
   "source": [
    "party_enc_list = ['D', 'R', 'I', 'S', 'T']\n",
    "party_series_dict = {}\n",
    "\n",
    "for party in party_enc_list:\n",
    "    if party == 'D':\n",
    "        dems_by_year = df_eda[df_eda['Party_enc'] == party].groupby('Year')['Cln_name'].count()\n",
    "        party_series_dict[party] = dems_by_year\n",
    "    elif party == 'R':\n",
    "        repubs_by_year = df_eda[df_eda['Party_enc'] == party].groupby('Year')['Cln_name'].count()\n",
    "        party_series_dict[party] = repubs_by_year\n",
    "    elif party == 'I':\n",
    "        indeps_by_year = df_eda[df_eda['Party_enc'] == party].groupby('Year')['Cln_name'].count()\n",
    "        party_series_dict[party] = indeps_by_year\n",
    "    elif party == 'S':\n",
    "        socls_by_year = df_eda[df_eda['Party_enc'] == party].groupby('Year')['Cln_name'].count()\n",
    "        party_series_dict[party] = socls_by_year\n",
    "    elif party == 'T':\n",
    "        thirds_by_year = df_eda[df_eda['Party_enc'] == party].groupby('Year')['Cln_name'].count()\n",
    "        party_series_dict[party] = thirds_by_year"
   ]
  },
  {
   "cell_type": "code",
   "execution_count": 256,
   "metadata": {
    "ExecuteTime": {
     "end_time": "2020-08-24T01:42:30.184539Z",
     "start_time": "2020-08-24T01:42:25.872356Z"
    },
    "hidden": true
   },
   "outputs": [
    {
     "data": {
      "image/png": "[encoded data removed]",
      "text/plain": [
       "<Figure size 864x1080 with 5 Axes>"
      ]
     },
     "metadata": {
      "needs_background": "light"
     },
     "output_type": "display_data"
    }
   ],
   "source": [
    "fig, ax = plt.subplots(figsize=(12,15), nrows=5)\n",
    "axes = ax.flatten()\n",
    "\n",
    "for i, party in enumerate(party_series_dict):\n",
    "    series = party_series_dict[party]\n",
    "    axes[i].bar(series.index, series)\n",
    "    axes[i].set(title=f'# of {party} Party Members Running per Year', xlabel='Year', ylabel='# of Candidates')\n",
    "    plt.tight_layout();"
   ]
  },
  {
   "cell_type": "code",
   "execution_count": 261,
   "metadata": {
    "ExecuteTime": {
     "end_time": "2020-08-24T01:53:24.404638Z",
     "start_time": "2020-08-24T01:53:24.365346Z"
    },
    "hidden": true
   },
   "outputs": [],
   "source": [
    "party_enc_list = ['D', 'R', 'I', 'S', 'T']\n",
    "party_incumb_series_dict = {}\n",
    "\n",
    "for party in party_enc_list:\n",
    "    if party == 'D':\n",
    "        dems_by_year2 = df_eda[df_eda['Party_enc'] == party].groupby('Incumb_Y')['%'].mean()\n",
    "        party_incumb_series_dict[party] = dems_by_year2\n",
    "    elif party == 'R':\n",
    "        repubs_by_year2 = df_eda[df_eda['Party_enc'] == party].groupby('Incumb_Y')['%'].mean()\n",
    "        party_incumb_series_dict[party] = repubs_by_year2\n",
    "    elif party == 'I':\n",
    "        indeps_by_year2 = df_eda[df_eda['Party_enc'] == party].groupby('Incumb_Y')['%'].mean()\n",
    "        party_incumb_series_dict[party] = indeps_by_year2\n",
    "    elif party == 'S':\n",
    "        socls_by_year2 = df_eda[df_eda['Party_enc'] == party].groupby('Incumb_Y')['%'].mean()\n",
    "        party_incumb_series_dict[party] = socls_by_year2\n",
    "    elif party == 'T':\n",
    "        thirds_by_year2 = df_eda[df_eda['Party_enc'] == party].groupby('Incumb_Y')['%'].mean()\n",
    "        party_incumb_series_dict[party] = thirds_by_year2"
   ]
  },
  {
   "cell_type": "code",
   "execution_count": 280,
   "metadata": {
    "ExecuteTime": {
     "end_time": "2020-08-24T02:05:29.409589Z",
     "start_time": "2020-08-24T02:05:27.263454Z"
    },
    "hidden": true,
    "scrolled": false
   },
   "outputs": [
    {
     "data": {
      "image/png": "[encoded data removed]",
      "text/plain": [
       "<Figure size 720x1440 with 5 Axes>"
      ]
     },
     "metadata": {
      "needs_background": "light"
     },
     "output_type": "display_data"
    }
   ],
   "source": [
    "fig, ax = plt.subplots(figsize=(10,20), nrows=5)\n",
    "axes = ax.flatten()\n",
    "\n",
    "for i, party in enumerate(party_incumb_series_dict):\n",
    "    series = party_incumb_series_dict[party].copy()\n",
    "    \n",
    "    try:\n",
    "        series.set_axis(['No', 'Yes'], inplace=True)\n",
    "        axes[i].bar(series.index, series)\n",
    "        axes[i].set(title=f'Avg % of Votes {party} Party Incumbents in Elections', xlabel='Incumbent', ylabel='% of Votes')\n",
    "        axes[i].set(xticks=['No', 'Yes'])\n",
    "    except ValueError:\n",
    "        series.set_axis(['No'], inplace=True)\n",
    "        axes[i].bar(series.index, series)\n",
    "        axes[i].set(title=f'Avg % of Votes {party} Party Incumbents in Elections', xlabel='Incumbent', ylabel='% of Votes')\n",
    "        axes[i].set(xticks='No')\n",
    "        \n",
    "\n",
    "    plt.tight_layout();"
   ]
  },
  {
   "cell_type": "code",
   "execution_count": 275,
   "metadata": {
    "ExecuteTime": {
     "end_time": "2020-08-24T02:00:23.494721Z",
     "start_time": "2020-08-24T02:00:23.482519Z"
    },
    "hidden": true
   },
   "outputs": [
    {
     "data": {
      "text/plain": [
       "Int64Index([0, 1], dtype='int64', name='Incumb_Y')"
      ]
     },
     "execution_count": 275,
     "metadata": {},
     "output_type": "execute_result"
    }
   ],
   "source": [
    "pd.Series.set_axis()"
   ]
  },
  {
   "cell_type": "markdown",
   "metadata": {
    "heading_collapsed": true
   },
   "source": [
    "## Prep for model"
   ]
  },
  {
   "cell_type": "code",
   "execution_count": 11,
   "metadata": {
    "ExecuteTime": {
     "end_time": "2020-08-21T22:57:42.272392Z",
     "start_time": "2020-08-21T22:57:42.101384Z"
    },
    "hidden": true,
    "scrolled": true
   },
   "outputs": [
    {
     "data": {
      "text/plain": [
       "0    66.10\n",
       "1    33.05\n",
       "2     0.85\n",
       "3    69.27\n",
       "4    29.51\n",
       "Name: %, dtype: float64"
      ]
     },
     "metadata": {},
     "output_type": "display_data"
    },
    {
     "data": {
      "text/html": [
       "<div>\n",
       "<style scoped>\n",
       "    .dataframe tbody tr th:only-of-type {\n",
       "        vertical-align: middle;\n",
       "    }\n",
       "\n",
       "    .dataframe tbody tr th {\n",
       "        vertical-align: top;\n",
       "    }\n",
       "\n",
       "    .dataframe thead th {\n",
       "        text-align: right;\n",
       "    }\n",
       "</style>\n",
       "<table border=\"1\" class=\"dataframe\">\n",
       "  <thead>\n",
       "    <tr style=\"text-align: right;\">\n",
       "      <th></th>\n",
       "      <th>Turnout</th>\n",
       "      <th>Incumb_Y</th>\n",
       "      <th>State</th>\n",
       "      <th>Year</th>\n",
       "      <th>Terms_in_office</th>\n",
       "      <th>Party_enc</th>\n",
       "      <th>Seats_up%</th>\n",
       "      <th>Seats_before%</th>\n",
       "    </tr>\n",
       "  </thead>\n",
       "  <tbody>\n",
       "    <tr>\n",
       "      <th>0</th>\n",
       "      <td>233985.0</td>\n",
       "      <td>1</td>\n",
       "      <td>Alabama</td>\n",
       "      <td>1920</td>\n",
       "      <td>1</td>\n",
       "      <td>D</td>\n",
       "      <td>0.361702</td>\n",
       "      <td>0.489583</td>\n",
       "    </tr>\n",
       "    <tr>\n",
       "      <th>1</th>\n",
       "      <td>233985.0</td>\n",
       "      <td>0</td>\n",
       "      <td>Alabama</td>\n",
       "      <td>1920</td>\n",
       "      <td>0</td>\n",
       "      <td>R</td>\n",
       "      <td>0.306122</td>\n",
       "      <td>0.510417</td>\n",
       "    </tr>\n",
       "    <tr>\n",
       "      <th>2</th>\n",
       "      <td>233985.0</td>\n",
       "      <td>0</td>\n",
       "      <td>Alabama</td>\n",
       "      <td>1920</td>\n",
       "      <td>0</td>\n",
       "      <td>S</td>\n",
       "      <td>0.000000</td>\n",
       "      <td>0.000000</td>\n",
       "    </tr>\n",
       "    <tr>\n",
       "      <th>3</th>\n",
       "      <td>231960.0</td>\n",
       "      <td>0</td>\n",
       "      <td>Alabama</td>\n",
       "      <td>1920</td>\n",
       "      <td>0</td>\n",
       "      <td>D</td>\n",
       "      <td>0.361702</td>\n",
       "      <td>0.489583</td>\n",
       "    </tr>\n",
       "    <tr>\n",
       "      <th>4</th>\n",
       "      <td>231960.0</td>\n",
       "      <td>0</td>\n",
       "      <td>Alabama</td>\n",
       "      <td>1920</td>\n",
       "      <td>0</td>\n",
       "      <td>R</td>\n",
       "      <td>0.306122</td>\n",
       "      <td>0.510417</td>\n",
       "    </tr>\n",
       "  </tbody>\n",
       "</table>\n",
       "</div>"
      ],
      "text/plain": [
       "    Turnout  Incumb_Y    State  Year  Terms_in_office Party_enc  Seats_up%  \\\n",
       "0  233985.0         1  Alabama  1920                1         D   0.361702   \n",
       "1  233985.0         0  Alabama  1920                0         R   0.306122   \n",
       "2  233985.0         0  Alabama  1920                0         S   0.000000   \n",
       "3  231960.0         0  Alabama  1920                0         D   0.361702   \n",
       "4  231960.0         0  Alabama  1920                0         R   0.306122   \n",
       "\n",
       "   Seats_before%  \n",
       "0       0.489583  \n",
       "1       0.510417  \n",
       "2       0.000000  \n",
       "3       0.489583  \n",
       "4       0.510417  "
      ]
     },
     "metadata": {},
     "output_type": "display_data"
    },
    {
     "name": "stdout",
     "output_type": "stream",
     "text": [
      "<class 'pandas.core.frame.DataFrame'>\n",
      "Int64Index: 5583 entries, 0 to 5587\n",
      "Data columns (total 8 columns):\n",
      "Turnout            5583 non-null float64\n",
      "Incumb_Y           5583 non-null int64\n",
      "State              5583 non-null object\n",
      "Year               5583 non-null int64\n",
      "Terms_in_office    5583 non-null int64\n",
      "Party_enc          5583 non-null object\n",
      "Seats_up%          5583 non-null float64\n",
      "Seats_before%      5583 non-null float64\n",
      "dtypes: float64(3), int64(3), object(2)\n",
      "memory usage: 392.6+ KB\n"
     ]
    },
    {
     "data": {
      "text/plain": [
       "None"
      ]
     },
     "metadata": {},
     "output_type": "display_data"
    },
    {
     "data": {
      "text/plain": [
       "Index(['Turnout', 'Incumb_Y', 'Year', 'Terms_in_office', 'Seats_up%',\n",
       "       'Seats_before%', 'State_Alaska', 'State_Arizona', 'State_Arkansas',\n",
       "       'State_California', 'State_Colorado', 'State_Connecticut',\n",
       "       'State_Delaware', 'State_Florida', 'State_Georgia', 'State_Hawaii',\n",
       "       'State_Idaho', 'State_Illinois', 'State_Indiana', 'State_Iowa',\n",
       "       'State_Kansas', 'State_Kentucky', 'State_Louisiana', 'State_Maine',\n",
       "       'State_Maryland', 'State_Massachusetts', 'State_Michigan',\n",
       "       'State_Minnesota', 'State_Mississippi', 'State_Missouri',\n",
       "       'State_Montana', 'State_Nebraska', 'State_Nevada',\n",
       "       'State_New_Hampshire', 'State_New_Jersey', 'State_New_Mexico',\n",
       "       'State_New_York', 'State_North_Carolina', 'State_North_Dakota',\n",
       "       'State_Ohio', 'State_Oklahoma', 'State_Oregon', 'State_Pennsylvania',\n",
       "       'State_Rhode_Island', 'State_South_Carolina', 'State_South_Dakota',\n",
       "       'State_Tennessee', 'State_Texas', 'State_Utah', 'State_Vermont',\n",
       "       'State_Virginia', 'State_Washington', 'State_West_Virginia',\n",
       "       'State_Wisconsin', 'State_Wyoming', 'Party_enc_I', 'Party_enc_R',\n",
       "       'Party_enc_S', 'Party_enc_T'],\n",
       "      dtype='object')"
      ]
     },
     "metadata": {},
     "output_type": "display_data"
    }
   ],
   "source": [
    "## Drop name refs\n",
    "df_model_test.drop(columns=['Cln_name', 'First_name'], inplace=True)\n",
    "\n",
    "## Fill NAs left from cleaning\n",
    "df_model_test.dropna(inplace=True)\n",
    "\n",
    "## Fixing State regex missed cases\n",
    "df_model_test.at[1461, 'State'] = 'West_Virginia'\n",
    "df_model_test.at[1632, 'State'] = 'Nevada'\n",
    "\n",
    "## Setting variables + Q.C.\n",
    "y = df_model_test.pop('%')\n",
    "X = df_model_test.copy()\n",
    "display(y.head())\n",
    "display(X.head())\n",
    "display(X.info())\n",
    "\n",
    "## drop_first assumes that State = Alabama and Party = D\n",
    "X_ohe = pd.get_dummies(X, drop_first=True)\n",
    "display(X_ohe.columns)\n",
    "\n",
    "## TT split\n",
    "X_train, X_test, y_train, y_test = train_test_split(X_ohe, y, random_state=222)"
   ]
  },
  {
   "cell_type": "markdown",
   "metadata": {
    "heading_collapsed": true
   },
   "source": [
    "## Modelling"
   ]
  },
  {
   "cell_type": "markdown",
   "metadata": {
    "heading_collapsed": true,
    "hidden": true
   },
   "source": [
    "### Model Selection"
   ]
  },
  {
   "cell_type": "markdown",
   "metadata": {
    "heading_collapsed": true,
    "hidden": true
   },
   "source": [
    "#### Vanilla Models"
   ]
  },
  {
   "cell_type": "code",
   "execution_count": 112,
   "metadata": {
    "ExecuteTime": {
     "end_time": "2020-08-23T23:07:10.972399Z",
     "start_time": "2020-08-23T23:07:10.938207Z"
    },
    "code_folding": [
     0
    ],
    "hidden": true
   },
   "outputs": [],
   "source": [
    "## Instantiating a bunch of classifiers to test\n",
    "\n",
    "tree_reg = DecisionTreeRegressor()\n",
    "rf_reg = RandomForestRegressor(n_jobs=-1)\n",
    "knn_reg = KNeighborsRegressor(n_jobs=-1)\n",
    "ada_reg = AdaBoostRegressor()\n",
    "grad_reg = GradientBoostingRegressor()\n",
    "xgb_reg = xgb.XGBRegressor(n_jobs=-1)\n",
    "\n",
    "reg_list = [tree_reg, rf_reg, knn_reg, ada_reg, grad_reg, xgb_reg]"
   ]
  },
  {
   "cell_type": "code",
   "execution_count": 128,
   "metadata": {
    "ExecuteTime": {
     "end_time": "2020-08-23T23:59:37.964479Z",
     "start_time": "2020-08-23T23:59:37.935955Z"
    },
    "code_folding": [
     0
    ],
    "hidden": true
   },
   "outputs": [],
   "source": [
    "def regressor_tester(reg_, X_tr, X_te, y_tr, y_te, verbose=False, display_res=False):\n",
    "    \n",
    "    if isinstance(reg_, list):\n",
    "        count = 0\n",
    "        holder = []\n",
    "        \n",
    "        for r in reg_:\n",
    "            y_hat_train, y_hat_test = dlf.fit_n_pred(r, X_tr, X_te, y_tr, show_reg=verbose)\n",
    "            tr_mse = metrics.mean_squared_error(y_tr, y_hat_train)\n",
    "            tr_rmse = np.sqrt(metrics.mean_squared_error(y_tr, y_hat_train))\n",
    "            tr_r2 = metrics.r2_score(y_tr, y_hat_train)\n",
    "            \n",
    "            te_mse = metrics.mean_squared_error(y_te, y_hat_test)\n",
    "            te_rmse = np.sqrt(metrics.mean_squared_error(y_te, y_hat_test))\n",
    "            te_r2 = metrics.r2_score(y_te, y_hat_test)\n",
    "            \n",
    "            reg_res = [['Name', 'Tr_MSE', 'Tr_RMSE', 'Tr_R2', 'Te_MSE', 'Te_RMSE', 'Te_R2'], \n",
    "                       [str(type(r)), tr_mse, tr_rmse, tr_r2, te_mse, te_rmse, te_r2]]\n",
    "            \n",
    "            res_df_inner = pd.DataFrame(reg_res[1:], columns=reg_res[0])\n",
    "            holder.append(res_df_inner)\n",
    "            count += 1\n",
    "            \n",
    "        print(('---'*10), f'{count} regressors evaluated.', ('---'*10))\n",
    "        res_df = pd.concat(holder, ignore_index=True)\n",
    "        if display_res:\n",
    "            display(res_df)\n",
    "        \n",
    "        return res_df\n",
    "    \n",
    "    else:\n",
    "        y_hat_train, y_hat_test = dlf.fit_n_pred(reg_, X_tr, X_te, y_tr, show_reg=verbose)\n",
    "\n",
    "        tr_mse = metrics.mean_squared_error(y_tr, y_hat_train)\n",
    "        tr_rmse = np.sqrt(metrics.mean_squared_error(y_tr, y_hat_train))\n",
    "        tr_r2 = metrics.r2_score(y_tr, y_hat_train)\n",
    "\n",
    "        te_mse = metrics.mean_squared_error(y_te, y_hat_test)\n",
    "        te_rmse = np.sqrt(metrics.mean_squared_error(y_te, y_hat_test))\n",
    "        te_r2 = metrics.r2_score(y_te, y_hat_test)\n",
    "\n",
    "        reg_res = [['Name', 'Tr_MSE', 'Tr_RMSE', 'Tr_R2', 'Te_MSE', 'Te_RMSE', 'Te_R2'], \n",
    "                   [str(type(reg_)), tr_mse, tr_rmse, tr_r2, te_mse, te_rmse, te_r2]]\n",
    "\n",
    "        res_df_ = pd.DataFrame(reg_res[1:], columns=reg_res[0])\n",
    "        if display_res:\n",
    "            display(res_df_)        \n",
    "        \n",
    "        return res_df_"
   ]
  },
  {
   "cell_type": "code",
   "execution_count": 52,
   "metadata": {
    "ExecuteTime": {
     "end_time": "2020-08-22T00:39:10.764915Z",
     "start_time": "2020-08-22T00:39:05.965066Z"
    },
    "hidden": true
   },
   "outputs": [
    {
     "name": "stdout",
     "output_type": "stream",
     "text": [
      "------------------------------ 6 regressors evaluated. ------------------------------\n"
     ]
    },
    {
     "data": {
      "text/html": [
       "<div>\n",
       "<style scoped>\n",
       "    .dataframe tbody tr th:only-of-type {\n",
       "        vertical-align: middle;\n",
       "    }\n",
       "\n",
       "    .dataframe tbody tr th {\n",
       "        vertical-align: top;\n",
       "    }\n",
       "\n",
       "    .dataframe thead th {\n",
       "        text-align: right;\n",
       "    }\n",
       "</style>\n",
       "<table border=\"1\" class=\"dataframe\">\n",
       "  <thead>\n",
       "    <tr style=\"text-align: right;\">\n",
       "      <th></th>\n",
       "      <th>Name</th>\n",
       "      <th>Tr_MSE</th>\n",
       "      <th>Tr_RMSE</th>\n",
       "      <th>Tr_R2</th>\n",
       "      <th>Te_MSE</th>\n",
       "      <th>Te_RMSE</th>\n",
       "      <th>Te_R2</th>\n",
       "    </tr>\n",
       "  </thead>\n",
       "  <tbody>\n",
       "    <tr>\n",
       "      <th>0</th>\n",
       "      <td>&lt;class 'sklearn.tree._classes.DecisionTreeRegr...</td>\n",
       "      <td>10.350590</td>\n",
       "      <td>3.217233</td>\n",
       "      <td>0.984986</td>\n",
       "      <td>166.722469</td>\n",
       "      <td>12.912106</td>\n",
       "      <td>0.758646</td>\n",
       "    </tr>\n",
       "    <tr>\n",
       "      <th>1</th>\n",
       "      <td>&lt;class 'sklearn.ensemble._forest.RandomForestR...</td>\n",
       "      <td>23.098990</td>\n",
       "      <td>4.806141</td>\n",
       "      <td>0.966494</td>\n",
       "      <td>118.276008</td>\n",
       "      <td>10.875477</td>\n",
       "      <td>0.828779</td>\n",
       "    </tr>\n",
       "    <tr>\n",
       "      <th>2</th>\n",
       "      <td>&lt;class 'sklearn.neighbors._regression.KNeighbo...</td>\n",
       "      <td>491.824868</td>\n",
       "      <td>22.177125</td>\n",
       "      <td>0.286584</td>\n",
       "      <td>746.882478</td>\n",
       "      <td>27.329151</td>\n",
       "      <td>-0.081215</td>\n",
       "    </tr>\n",
       "    <tr>\n",
       "      <th>3</th>\n",
       "      <td>&lt;class 'sklearn.ensemble._weight_boosting.AdaB...</td>\n",
       "      <td>146.991272</td>\n",
       "      <td>12.123996</td>\n",
       "      <td>0.786782</td>\n",
       "      <td>165.782884</td>\n",
       "      <td>12.875670</td>\n",
       "      <td>0.760006</td>\n",
       "    </tr>\n",
       "    <tr>\n",
       "      <th>4</th>\n",
       "      <td>&lt;class 'sklearn.ensemble._gb.GradientBoostingR...</td>\n",
       "      <td>99.063553</td>\n",
       "      <td>9.953068</td>\n",
       "      <td>0.856303</td>\n",
       "      <td>129.352967</td>\n",
       "      <td>11.373345</td>\n",
       "      <td>0.812744</td>\n",
       "    </tr>\n",
       "    <tr>\n",
       "      <th>5</th>\n",
       "      <td>&lt;class 'xgboost.sklearn.XGBRegressor'&gt;</td>\n",
       "      <td>101.361315</td>\n",
       "      <td>10.067836</td>\n",
       "      <td>0.852970</td>\n",
       "      <td>129.382346</td>\n",
       "      <td>11.374636</td>\n",
       "      <td>0.812701</td>\n",
       "    </tr>\n",
       "  </tbody>\n",
       "</table>\n",
       "</div>"
      ],
      "text/plain": [
       "                                                Name      Tr_MSE    Tr_RMSE  \\\n",
       "0  <class 'sklearn.tree._classes.DecisionTreeRegr...   10.350590   3.217233   \n",
       "1  <class 'sklearn.ensemble._forest.RandomForestR...   23.098990   4.806141   \n",
       "2  <class 'sklearn.neighbors._regression.KNeighbo...  491.824868  22.177125   \n",
       "3  <class 'sklearn.ensemble._weight_boosting.AdaB...  146.991272  12.123996   \n",
       "4  <class 'sklearn.ensemble._gb.GradientBoostingR...   99.063553   9.953068   \n",
       "5             <class 'xgboost.sklearn.XGBRegressor'>  101.361315  10.067836   \n",
       "\n",
       "      Tr_R2      Te_MSE    Te_RMSE     Te_R2  \n",
       "0  0.984986  166.722469  12.912106  0.758646  \n",
       "1  0.966494  118.276008  10.875477  0.828779  \n",
       "2  0.286584  746.882478  27.329151 -0.081215  \n",
       "3  0.786782  165.782884  12.875670  0.760006  \n",
       "4  0.856303  129.352967  11.373345  0.812744  \n",
       "5  0.852970  129.382346  11.374636  0.812701  "
      ]
     },
     "metadata": {},
     "output_type": "display_data"
    }
   ],
   "source": [
    "vanilla_metrics_df = regressor_tester(reg_list, X_train, X_test, y_train, y_test, display_res=True)"
   ]
  },
  {
   "cell_type": "markdown",
   "metadata": {
    "heading_collapsed": true,
    "hidden": true
   },
   "source": [
    "#### GridSearchCV Prep"
   ]
  },
  {
   "cell_type": "code",
   "execution_count": 90,
   "metadata": {
    "ExecuteTime": {
     "end_time": "2020-08-22T22:43:00.669437Z",
     "start_time": "2020-08-22T22:43:00.651457Z"
    },
    "code_folding": [
     0
    ],
    "hidden": true
   },
   "outputs": [],
   "source": [
    "## Scoring functions\n",
    "def rsqd_scorer(y_true, y_pred):\n",
    "    from sklearn.metrics import r2_score\n",
    "    \n",
    "    score = r2_score(y_true, y_pred)\n",
    "    #print(f'R2: {score}')\n",
    "    \n",
    "    return score\n",
    "\n",
    "def rmse_scorer(y_true, y_pred):\n",
    "    from sklearn.metrics import mean_squared_error\n",
    "    import numpy as np\n",
    "    \n",
    "    score = np.sqrt(mean_squared_error(y_true, y_pred))\n",
    "    #print(f'RMSE: {score}')\n",
    "    \n",
    "    return score\n",
    "\n",
    "def rmse_r2_scorer(y_true, y_pred):\n",
    "    \n",
    "    rmse_scorer(y_true, y_pred)\n",
    "    score = rsqd_scorer(y_true, y_pred)\n",
    "    \n",
    "    return score\n",
    "\n",
    "def two_scores(grtr_is_bttr=True):\n",
    "    from sklearn.metrics import make_scorer\n",
    "    \n",
    "    return make_scorer(rmse_r2_scorer, greater_is_better=grtr_is_bttr)\n",
    "\n",
    "## https://stats.stackexchange.com/questions/110599/how-to-get-both-mse-and-r2-from-a-sklearn-gridsearchcv"
   ]
  },
  {
   "cell_type": "markdown",
   "metadata": {
    "heading_collapsed": true,
    "hidden": true
   },
   "source": [
    "#### Random Forest Regressor"
   ]
  },
  {
   "cell_type": "code",
   "execution_count": 101,
   "metadata": {
    "ExecuteTime": {
     "end_time": "2020-08-22T23:42:33.465653Z",
     "start_time": "2020-08-22T23:24:34.508479Z"
    },
    "code_folding": [],
    "hidden": true
   },
   "outputs": [
    {
     "name": "stdout",
     "output_type": "stream",
     "text": [
      "---- Timer started at: 08/22/2020 - 04:24 PM ----\n",
      "---- Timer stopped at: 08/22/2020 - 04:42 PM ----\n",
      "---- Time elasped: 0:17:58.528899 ----\n",
      "Mean Training Score: 87.60%\n",
      "Mean Test Score: 81.40%\n",
      "Best Parameters:\n",
      "{'criterion': 'mae', 'max_depth': 80, 'min_samples_leaf': 4, 'n_estimators': 90, 'n_jobs': -1}\n"
     ]
    },
    {
     "data": {
      "text/plain": [
       "0.8331421501906009"
      ]
     },
     "metadata": {},
     "output_type": "display_data"
    },
    {
     "data": {
      "text/plain": [
       "0.8139728522418057"
      ]
     },
     "metadata": {},
     "output_type": "display_data"
    },
    {
     "data": {
      "text/plain": [
       "0.8928628857388559"
      ]
     },
     "execution_count": 101,
     "metadata": {},
     "output_type": "execute_result"
    }
   ],
   "source": [
    "## GridSearch for rf\n",
    "params = {'n_jobs': [-1],\n",
    "          'criterion': ['mae'],\n",
    "          'max_depth': [70, 80, 90],\n",
    "          'n_estimators': [90, 110, 130],\n",
    "          'min_samples_leaf': [4, 5, 7]}\n",
    "\n",
    "test_grid = dlf.grid_searcher(rf_reg, params, X_train, X_test, y_train, y_test, cv=3, custom_scorer=two_scores())\n",
    "\n",
    "display(test_grid.best_score_)\n",
    "display(test_grid.best_estimator_.score(X_test, y_test))\n",
    "test_grid.best_estimator_.score(X_train, y_train)"
   ]
  },
  {
   "cell_type": "code",
   "execution_count": 102,
   "metadata": {
    "ExecuteTime": {
     "end_time": "2020-08-22T23:44:00.421639Z",
     "start_time": "2020-08-22T23:44:00.396579Z"
    },
    "code_folding": [
     0
    ],
    "hidden": true
   },
   "outputs": [
    {
     "data": {
      "text/plain": [
       "0.8331421501906009"
      ]
     },
     "metadata": {},
     "output_type": "display_data"
    },
    {
     "data": {
      "text/plain": [
       "{'criterion': 'mae',\n",
       " 'max_depth': 80,\n",
       " 'min_samples_leaf': 4,\n",
       " 'n_estimators': 90,\n",
       " 'n_jobs': -1}"
      ]
     },
     "metadata": {},
     "output_type": "display_data"
    }
   ],
   "source": [
    "## 81.40 test 87.6 train\n",
    "display(test_grid.best_score_)\n",
    "display(test_grid.best_params_)"
   ]
  },
  {
   "cell_type": "code",
   "execution_count": 100,
   "metadata": {
    "ExecuteTime": {
     "end_time": "2020-08-22T23:19:49.136514Z",
     "start_time": "2020-08-22T23:19:49.109302Z"
    },
    "code_folding": [
     0
    ],
    "hidden": true
   },
   "outputs": [
    {
     "data": {
      "text/plain": [
       "0.8369504954981486"
      ]
     },
     "metadata": {},
     "output_type": "display_data"
    },
    {
     "data": {
      "text/plain": [
       "{'criterion': 'mae',\n",
       " 'max_depth': 60,\n",
       " 'min_samples_leaf': 2,\n",
       " 'n_estimators': 110,\n",
       " 'n_jobs': -1}"
      ]
     },
     "metadata": {},
     "output_type": "display_data"
    }
   ],
   "source": [
    "## 82.21 test 89.01 train\n",
    "display(test_grid.best_score_)\n",
    "display(test_grid.best_params_)"
   ]
  },
  {
   "cell_type": "code",
   "execution_count": 98,
   "metadata": {
    "ExecuteTime": {
     "end_time": "2020-08-22T23:01:01.459539Z",
     "start_time": "2020-08-22T23:01:01.443188Z"
    },
    "code_folding": [
     0
    ],
    "hidden": true
   },
   "outputs": [
    {
     "data": {
      "text/plain": [
       "0.8350415653447145"
      ]
     },
     "metadata": {},
     "output_type": "display_data"
    },
    {
     "data": {
      "text/plain": [
       "{'criterion': 'mae',\n",
       " 'max_depth': 40,\n",
       " 'min_samples_leaf': 3,\n",
       " 'n_estimators': 60,\n",
       " 'n_jobs': -1}"
      ]
     },
     "metadata": {},
     "output_type": "display_data"
    }
   ],
   "source": [
    "## ?\n",
    "display(test_grid.best_score_)\n",
    "display(test_grid.best_params_)"
   ]
  },
  {
   "cell_type": "code",
   "execution_count": 110,
   "metadata": {
    "ExecuteTime": {
     "end_time": "2020-08-23T22:58:04.409054Z",
     "start_time": "2020-08-23T22:58:04.390678Z"
    },
    "code_folding": [
     0
    ],
    "hidden": true
   },
   "outputs": [
    {
     "data": {
      "text/plain": [
       "0.8369248184503935"
      ]
     },
     "metadata": {},
     "output_type": "display_data"
    },
    {
     "data": {
      "text/plain": [
       "{'criterion': 'mae',\n",
       " 'max_depth': 20,\n",
       " 'min_samples_leaf': 2,\n",
       " 'n_estimators': 50,\n",
       " 'n_jobs': -1}"
      ]
     },
     "metadata": {},
     "output_type": "display_data"
    }
   ],
   "source": [
    "## 92.89 tr / 81.84 te\n",
    "display(test_grid2.best_score_)\n",
    "display(test_grid2.best_params_)"
   ]
  },
  {
   "cell_type": "markdown",
   "metadata": {
    "heading_collapsed": true,
    "hidden": true
   },
   "source": [
    "#### XGBoost Regressor"
   ]
  },
  {
   "cell_type": "code",
   "execution_count": 122,
   "metadata": {
    "ExecuteTime": {
     "end_time": "2020-08-23T23:45:30.684214Z",
     "start_time": "2020-08-23T23:45:22.608672Z"
    },
    "code_folding": [
     0
    ],
    "hidden": true
   },
   "outputs": [
    {
     "name": "stdout",
     "output_type": "stream",
     "text": [
      "---- Timer started at: 08/23/2020 - 04:45 PM ----\n",
      "---- Timer stopped at: 08/23/2020 - 04:45 PM ----\n",
      "---- Time elasped: 0:00:07.959151 ----\n",
      "Mean Training Score: 88.97%\n",
      "Mean Test Score: 82.27%\n",
      "Best Parameters:\n",
      "{'learning_rate': 0.1, 'max_depth': 7, 'min_child_weight': 5, 'n_estimators': 50, 'n_jobs': -1}\n"
     ]
    },
    {
     "data": {
      "text/plain": [
       "0.8354133924182637"
      ]
     },
     "metadata": {},
     "output_type": "display_data"
    },
    {
     "data": {
      "text/plain": [
       "0.8226923236366823"
      ]
     },
     "metadata": {},
     "output_type": "display_data"
    },
    {
     "data": {
      "text/plain": [
       "0.8952651935640343"
      ]
     },
     "execution_count": 122,
     "metadata": {},
     "output_type": "execute_result"
    }
   ],
   "source": [
    "## GridSearch for XGB\n",
    "params2 = {'n_jobs': [-1],\n",
    "          'learning_rate': [0.1],\n",
    "          'max_depth': [5, 7],\n",
    "          'n_estimators': [50],\n",
    "          'min_child_weight': [5]}\n",
    "\n",
    "test_grid2 = dlf.grid_searcher(xgb_reg, params2, X_train, X_test, y_train, y_test, cv=3, custom_scorer=two_scores())\n",
    "\n",
    "display(test_grid2.best_score_)\n",
    "display(test_grid2.best_estimator_.score(X_test, y_test))\n",
    "test_grid2.best_estimator_.score(X_train, y_train)"
   ]
  },
  {
   "cell_type": "code",
   "execution_count": 116,
   "metadata": {
    "ExecuteTime": {
     "end_time": "2020-08-23T23:30:18.666568Z",
     "start_time": "2020-08-23T23:30:18.564296Z"
    },
    "code_folding": [
     0
    ],
    "hidden": true
   },
   "outputs": [
    {
     "data": {
      "text/plain": [
       "{'learning_rate': 0.15,\n",
       " 'max_depth': 4,\n",
       " 'min_child_weight': 3,\n",
       " 'n_estimators': 50,\n",
       " 'n_jobs': -1}"
      ]
     },
     "metadata": {},
     "output_type": "display_data"
    },
    {
     "data": {
      "text/plain": [
       "0.834833625670198"
      ]
     },
     "metadata": {},
     "output_type": "display_data"
    },
    {
     "data": {
      "text/plain": [
       "0.818408898004364"
      ]
     },
     "metadata": {},
     "output_type": "display_data"
    },
    {
     "data": {
      "text/plain": [
       "0.8677444435444357"
      ]
     },
     "metadata": {},
     "output_type": "display_data"
    }
   ],
   "source": [
    "## tr=68.96 te=81.84\n",
    "display(test_grid2.best_params_)\n",
    "display(test_grid2.best_score_)\n",
    "display(test_grid2.best_estimator_.score(X_test, y_test))\n",
    "display(test_grid2.best_estimator_.score(X_train, y_train))"
   ]
  },
  {
   "cell_type": "code",
   "execution_count": 118,
   "metadata": {
    "ExecuteTime": {
     "end_time": "2020-08-23T23:37:17.949253Z",
     "start_time": "2020-08-23T23:37:17.889891Z"
    },
    "code_folding": [
     0
    ],
    "hidden": true
   },
   "outputs": [
    {
     "data": {
      "text/plain": [
       "{'learning_rate': 0.1,\n",
       " 'max_depth': 7,\n",
       " 'min_child_weight': 5,\n",
       " 'n_estimators': 50,\n",
       " 'n_jobs': -1}"
      ]
     },
     "metadata": {},
     "output_type": "display_data"
    },
    {
     "data": {
      "text/plain": [
       "0.8354133924182637"
      ]
     },
     "metadata": {},
     "output_type": "display_data"
    },
    {
     "data": {
      "text/plain": [
       "0.8226923236366823"
      ]
     },
     "metadata": {},
     "output_type": "display_data"
    },
    {
     "data": {
      "text/plain": [
       "0.8952651935640343"
      ]
     },
     "metadata": {},
     "output_type": "display_data"
    }
   ],
   "source": [
    "## tr=91.35 te=82.27\n",
    "display(test_grid2.best_params_)\n",
    "display(test_grid2.best_score_)\n",
    "display(test_grid2.best_estimator_.score(X_test, y_test))\n",
    "display(test_grid2.best_estimator_.score(X_train, y_train))"
   ]
  },
  {
   "cell_type": "code",
   "execution_count": 121,
   "metadata": {
    "ExecuteTime": {
     "end_time": "2020-08-23T23:44:12.531386Z",
     "start_time": "2020-08-23T23:44:12.427450Z"
    },
    "code_folding": [
     0
    ],
    "hidden": true
   },
   "outputs": [
    {
     "data": {
      "text/plain": [
       "{'learning_rate': 0.1,\n",
       " 'max_depth': 5,\n",
       " 'min_child_weight': 5,\n",
       " 'n_estimators': 50,\n",
       " 'n_jobs': -1}"
      ]
     },
     "metadata": {},
     "output_type": "display_data"
    },
    {
     "data": {
      "text/plain": [
       "0.8353876314743004"
      ]
     },
     "metadata": {},
     "output_type": "display_data"
    },
    {
     "data": {
      "text/plain": [
       "0.8191990727690259"
      ]
     },
     "metadata": {},
     "output_type": "display_data"
    },
    {
     "data": {
      "text/plain": [
       "0.8712024658750263"
      ]
     },
     "metadata": {},
     "output_type": "display_data"
    }
   ],
   "source": [
    "## tr=89.33 te=81.92\n",
    "display(test_grid2.best_params_)\n",
    "display(test_grid2.best_score_)\n",
    "display(test_grid2.best_estimator_.score(X_test, y_test))\n",
    "display(test_grid2.best_estimator_.score(X_train, y_train))"
   ]
  },
  {
   "cell_type": "code",
   "execution_count": 123,
   "metadata": {
    "ExecuteTime": {
     "end_time": "2020-08-23T23:46:13.391214Z",
     "start_time": "2020-08-23T23:46:13.331942Z"
    },
    "code_folding": [
     0
    ],
    "hidden": true
   },
   "outputs": [
    {
     "data": {
      "text/plain": [
       "{'learning_rate': 0.1,\n",
       " 'max_depth': 7,\n",
       " 'min_child_weight': 5,\n",
       " 'n_estimators': 50,\n",
       " 'n_jobs': -1}"
      ]
     },
     "metadata": {},
     "output_type": "display_data"
    },
    {
     "data": {
      "text/plain": [
       "0.8354133924182637"
      ]
     },
     "metadata": {},
     "output_type": "display_data"
    },
    {
     "data": {
      "text/plain": [
       "0.8226923236366823"
      ]
     },
     "metadata": {},
     "output_type": "display_data"
    },
    {
     "data": {
      "text/plain": [
       "0.8952651935640343"
      ]
     },
     "metadata": {},
     "output_type": "display_data"
    }
   ],
   "source": [
    "## tr=88.97 te=82.27\n",
    "display(test_grid2.best_params_)\n",
    "display(test_grid2.best_score_)\n",
    "display(test_grid2.best_estimator_.score(X_test, y_test))\n",
    "display(test_grid2.best_estimator_.score(X_train, y_train))"
   ]
  },
  {
   "cell_type": "markdown",
   "metadata": {
    "hidden": true
   },
   "source": [
    "### Final Model"
   ]
  },
  {
   "cell_type": "markdown",
   "metadata": {
    "hidden": true
   },
   "source": [
    "> Both `RandomForestRegressor()` and `XGBRegressor()` performed similarly during the vanilla run and testing/tuning. It turns out the the standard parameters work the best for now. I am choosing to go with the Random Forest for my final model, but either should be fine for future usage."
   ]
  },
  {
   "cell_type": "code",
   "execution_count": 161,
   "metadata": {
    "ExecuteTime": {
     "end_time": "2020-08-24T00:14:48.220339Z",
     "start_time": "2020-08-24T00:14:46.434824Z"
    },
    "hidden": true
   },
   "outputs": [
    {
     "data": {
      "text/html": [
       "<div>\n",
       "<style scoped>\n",
       "    .dataframe tbody tr th:only-of-type {\n",
       "        vertical-align: middle;\n",
       "    }\n",
       "\n",
       "    .dataframe tbody tr th {\n",
       "        vertical-align: top;\n",
       "    }\n",
       "\n",
       "    .dataframe thead th {\n",
       "        text-align: right;\n",
       "    }\n",
       "</style>\n",
       "<table border=\"1\" class=\"dataframe\">\n",
       "  <thead>\n",
       "    <tr style=\"text-align: right;\">\n",
       "      <th></th>\n",
       "      <th>Name</th>\n",
       "      <th>Tr_MSE</th>\n",
       "      <th>Tr_RMSE</th>\n",
       "      <th>Tr_R2</th>\n",
       "      <th>Te_MSE</th>\n",
       "      <th>Te_RMSE</th>\n",
       "      <th>Te_R2</th>\n",
       "    </tr>\n",
       "  </thead>\n",
       "  <tbody>\n",
       "    <tr>\n",
       "      <th>0</th>\n",
       "      <td>&lt;class 'sklearn.ensemble._forest.RandomForestR...</td>\n",
       "      <td>22.751713</td>\n",
       "      <td>4.769876</td>\n",
       "      <td>0.966998</td>\n",
       "      <td>118.492901</td>\n",
       "      <td>10.885444</td>\n",
       "      <td>0.828465</td>\n",
       "    </tr>\n",
       "  </tbody>\n",
       "</table>\n",
       "</div>"
      ],
      "text/plain": [
       "                                                Name     Tr_MSE   Tr_RMSE  \\\n",
       "0  <class 'sklearn.ensemble._forest.RandomForestR...  22.751713  4.769876   \n",
       "\n",
       "      Tr_R2      Te_MSE    Te_RMSE     Te_R2  \n",
       "0  0.966998  118.492901  10.885444  0.828465  "
      ]
     },
     "metadata": {},
     "output_type": "display_data"
    }
   ],
   "source": [
    "rf_reg_final = RandomForestRegressor(criterion='mse', n_jobs=-1, random_state=24)\n",
    "rf_fin_res_df = regressor_tester(rf_reg_final, X_train, X_test, y_train, y_test, display_res=True)"
   ]
  },
  {
   "cell_type": "markdown",
   "metadata": {
    "heading_collapsed": true
   },
   "source": [
    "## Gender stuff"
   ]
  },
  {
   "cell_type": "code",
   "execution_count": 6,
   "metadata": {
    "ExecuteTime": {
     "end_time": "2020-08-21T22:35:18.897667Z",
     "start_time": "2020-08-21T22:35:18.859459Z"
    },
    "code_folding": [
     0
    ],
    "hidden": true
   },
   "outputs": [],
   "source": [
    "def gender_guesser(inp_df, count_max=1000, g_thresh=0.6, online=False):\n",
    "    import pandas as pd\n",
    "    import numpy as np\n",
    "    from genderize import Genderize\n",
    "    \n",
    "    ## Instantiate Genderize + making varibles for use\n",
    "    g_izer = Genderize()\n",
    "    out_df = inp_df.copy()\n",
    "    count = 0\n",
    "    \n",
    "    ## Q.C. for formatting\n",
    "    if 'Gender' not in out_df.columns:\n",
    "        out_df['Gender'] = 'None'\n",
    "\n",
    "    ## Looping through ea. name and making a guess\n",
    "    for idx, name in zip(out_df.index, out_df['First_name']):\n",
    "        ## Filtering out previously filled items\n",
    "        if out_df['Gender'].loc[idx] == 'None':\n",
    "            pred = None\n",
    "            ## Try statement for api error results\n",
    "            try:\n",
    "                ## Pull guess dict from api or manufacture one\n",
    "                if online:\n",
    "                    guess = g_izer.get([name])[0]\n",
    "                else:\n",
    "                    guess = {}\n",
    "                    guess['gender'] = np.random.choice(['male', 'female'])\n",
    "                    guess['probability'] = np.random.randint(0.01, high=1)\n",
    "\n",
    "                ## Executing custom threshold for gender probability\n",
    "                if guess['gender'] == 'male':\n",
    "                    if guess['probability'] < g_thresh:\n",
    "                        pred = 'F'\n",
    "                    else:\n",
    "                        pred = 'M'\n",
    "\n",
    "                if guess['gender'] == 'female':\n",
    "                    if guess['probability'] < g_thresh:\n",
    "                        pred = 'M'\n",
    "                    else:\n",
    "                        pred = 'F'\n",
    "\n",
    "                ## Setting the prediction into the correct index\n",
    "                out_df.at[idx, 'Gender'] = pred\n",
    "                count += 1\n",
    "                \n",
    "            except Exception as e: #GenderizeException:\n",
    "                print('Pred Error:\\n')\n",
    "                print(e, '\\n')\n",
    "                break\n",
    "        \n",
    "        ## Pseudo call limit for offline testing\n",
    "        if (1 < count) & (count % count_max == 0):\n",
    "            print(('***'*10), f'Hit {count_max} name limit.', ('***'*10))\n",
    "            return out_df\n",
    "        \n",
    "    print(('***'*10),f'Finished {count} names. Remaining available: {count_max-count}.',('***'*10))\n",
    "    return out_df"
   ]
  },
  {
   "cell_type": "code",
   "execution_count": 106,
   "metadata": {
    "ExecuteTime": {
     "end_time": "2020-08-23T22:51:59.825774Z",
     "start_time": "2020-08-23T22:51:59.532814Z"
    },
    "hidden": true
   },
   "outputs": [],
   "source": [
    "df_gend.to_csv(r'C:\\Users\\d_ful\\Documents\\GitHub\\Capstone_Project\\df_gend.csv', index=False)"
   ]
  },
  {
   "cell_type": "code",
   "execution_count": 281,
   "metadata": {
    "ExecuteTime": {
     "end_time": "2020-08-24T02:06:29.260496Z",
     "start_time": "2020-08-24T02:06:28.392334Z"
    },
    "hidden": true
   },
   "outputs": [
    {
     "name": "stdout",
     "output_type": "stream",
     "text": [
      "Pred Error:\n",
      "\n",
      "('Request limit reached', 429, {'Server': 'nginx/1.16.1', 'Date': 'Mon, 24 Aug 2020 02:06:29 GMT', 'Content-Type': 'application/json; charset=utf-8', 'Content-Length': '33', 'Connection': 'keep-alive', 'Access-Control-Allow-Origin': '*', 'Access-Control-Allow-Methods': 'GET', 'Access-Control-Allow-Headers': 'Content-Type, X-Genderize-Source', 'X-Rate-Limit-Limit': '1000', 'X-Rate-Reset': '78811', 'X-Rate-Limit-Remaining': '0', 'ETag': 'W/\"21-tYoIBroDGdB+35cIAOMCdpXfqjI\"'}) \n",
      "\n",
      "****************************** Finished 0 names. Remaining available: 1000. ******************************\n"
     ]
    }
   ],
   "source": [
    "df_gend = gender_guesser(df_gend, online=True)"
   ]
  },
  {
   "cell_type": "code",
   "execution_count": 8,
   "metadata": {
    "ExecuteTime": {
     "end_time": "2020-08-21T22:40:53.922064Z",
     "start_time": "2020-08-21T22:40:53.895431Z"
    },
    "hidden": true
   },
   "outputs": [
    {
     "data": {
      "text/plain": [
       "None    4588\n",
       "M        914\n",
       "F         50\n",
       "Name: Gender, dtype: int64"
      ]
     },
     "execution_count": 8,
     "metadata": {},
     "output_type": "execute_result"
    }
   ],
   "source": [
    "df_gend['Gender'].value_counts()"
   ]
  },
  {
   "cell_type": "code",
   "execution_count": 64,
   "metadata": {
    "ExecuteTime": {
     "end_time": "2020-08-22T21:35:48.763907Z",
     "start_time": "2020-08-22T21:35:48.732286Z"
    },
    "hidden": true
   },
   "outputs": [
    {
     "data": {
      "text/plain": [
       "None    3589\n",
       "M       1843\n",
       "F         94\n",
       "Name: Gender, dtype: int64"
      ]
     },
     "execution_count": 64,
     "metadata": {},
     "output_type": "execute_result"
    }
   ],
   "source": [
    "df_gend['Gender'].value_counts()"
   ]
  },
  {
   "cell_type": "code",
   "execution_count": 105,
   "metadata": {
    "ExecuteTime": {
     "end_time": "2020-08-23T22:51:50.980314Z",
     "start_time": "2020-08-23T22:51:50.951379Z"
    },
    "hidden": true
   },
   "outputs": [
    {
     "data": {
      "text/plain": [
       "M       2756\n",
       "None    2589\n",
       "F        150\n",
       "Name: Gender, dtype: int64"
      ]
     },
     "execution_count": 105,
     "metadata": {},
     "output_type": "execute_result"
    }
   ],
   "source": [
    "df_gend['Gender'].value_counts()"
   ]
  },
  {
   "cell_type": "code",
   "execution_count": 106,
   "metadata": {
    "ExecuteTime": {
     "end_time": "2020-08-20T01:17:28.356876Z",
     "start_time": "2020-08-20T01:17:28.324962Z"
    },
    "hidden": true
   },
   "outputs": [
    {
     "data": {
      "text/plain": [
       "M       3616\n",
       "None    1588\n",
       "F        259\n",
       "Name: Gender, dtype: int64"
      ]
     },
     "execution_count": 106,
     "metadata": {},
     "output_type": "execute_result"
    }
   ],
   "source": [
    "df_gend['Gender'].value_counts()"
   ]
  },
  {
   "cell_type": "code",
   "execution_count": 109,
   "metadata": {
    "ExecuteTime": {
     "end_time": "2020-08-20T01:24:49.450217Z",
     "start_time": "2020-08-20T01:24:49.437250Z"
    },
    "hidden": true
   },
   "outputs": [
    {
     "data": {
      "text/plain": [
       "M       4448\n",
       "None     588\n",
       "F        406\n",
       "Name: Gender, dtype: int64"
      ]
     },
     "execution_count": 109,
     "metadata": {},
     "output_type": "execute_result"
    }
   ],
   "source": [
    "df_gend['Gender'].value_counts()"
   ]
  },
  {
   "cell_type": "code",
   "execution_count": 151,
   "metadata": {
    "ExecuteTime": {
     "end_time": "2020-08-20T02:47:50.068232Z",
     "start_time": "2020-08-20T02:47:50.012887Z"
    },
    "hidden": true,
    "scrolled": true
   },
   "outputs": [],
   "source": [
    "holder_m = ['James Eli Watson', 'Selden Spencer', 'Forsman', 'Trudell', \n",
    "          'Robert La Follette', 'Cherry', 'France', 'Eickelberg', \n",
    "          'Day', 'Kindler', 'Carey', 'Duly McCone', 'Huey Long', 'Lanier', \n",
    "          'Glen Corkery', 'Starr', 'Hager', 'Verhei', 'Happy Chandler', \n",
    "          'Philo Farnsworth', 'Ona Searles', 'Lewis Haley Tiley', 'Cecil Creel',\n",
    "          'John Marion Morris', 'Lynn Frazier', 'Glen Taylor', 'Hanna',\n",
    "          'Lynn Stumbaugh', 'Alexis DuPont Bayard', 'Arthur Vivian Watkins',\n",
    "          'Val Bjornson', 'Laurence Pickett', 'Lou Welch', 'John Little McClellan',\n",
    "          'Cecil Underwood', 'Melvin Babcock Morgan', 'Cecil Heftel', 'Cecil Pitard',\n",
    "          'Laurence Burton', 'Lynn Henderson', 'Lorin Oxley', 'Chic Hecht',\n",
    "          'Arlyn Wollenburg', 'Lou Gold', 'Mel Logan', 'Lindsey Graham',\n",
    "          'Lamar Alexander', 'John Neely Kennedy', 'Maclyn Stringer', 'Cam Cavasso',\n",
    "          'LeAlan Jones', 'Rand Paul', 'Tracy Potter', 'David Lory VanDerBeek',\n",
    "          'Paul Lindsey Sadler']\n",
    "\n",
    "holder_n = ['Miscellaneous', 'Others', 'Write-In Candidates']\n",
    "\n",
    "holder_c = ['Lawrence Gilfedder,Candidate for Governor in 1948. Ran for Governor in 1952 and 1954. Ran for Senate in 1958, 1960, 1962, 1964, 1966, and 1970.',\n",
    "            'Jerry Zeldin, Laurel Springs', 'Howard Cannon, City Attorney of Las Vegas',\n",
    "            'Douglas McKay,former Governor of Oregon  and United States Secretary of the Interior',\n",
    "            'Efia Nwangaza*']\n",
    "\n",
    "for i, name in zip(test.index, test['Cln_name']):\n",
    "    for target in holder_m:\n",
    "        if name == target:\n",
    "            test.at[i, 'Gender'] = 'M'\n",
    "            \n",
    "    for target in holder_n:\n",
    "        if name == target:\n",
    "            test.at[i, 'Gender'] = 'None'\n",
    "            \n",
    "    if name == holder_c[0]:\n",
    "        n_name = 'Lawrence Gilfedder'\n",
    "        test.at[i, 'Cln_name'] = n_name\n",
    "        test.at[i, 'Gender'] = 'M'\n",
    "    elif name == holder_c[1]:\n",
    "        n_name = 'Jerry Zeldin'\n",
    "        test.at[i, 'Cln_name'] = n_name\n",
    "        test.at[i, 'Gender'] = 'M'\n",
    "    elif name == holder_c[2]:\n",
    "        n_name = 'Howard Cannon'\n",
    "        test.at[i, 'Cln_name'] = n_name\n",
    "        test.at[i, 'Gender'] = 'M'\n",
    "    elif name == holder_c[3]:\n",
    "        n_name = 'Douglas Mckay'\n",
    "        test.at[i, 'Cln_name'] = n_name\n",
    "        test.at[i, 'Gender'] = 'M'\n",
    "    elif name == holder_c[4]:\n",
    "        n_name = 'Efia Nwangaza'\n",
    "        test.at[i, 'Cln_name'] = n_name\n",
    "            "
   ]
  },
  {
   "cell_type": "code",
   "execution_count": 5,
   "metadata": {
    "ExecuteTime": {
     "end_time": "2020-08-21T01:38:57.984540Z",
     "start_time": "2020-08-21T01:38:57.858134Z"
    },
    "hidden": true,
    "scrolled": true
   },
   "outputs": [
    {
     "ename": "KeyError",
     "evalue": "'Gender'",
     "output_type": "error",
     "traceback": [
      "\u001b[1;31m---------------------------------------------------------------------------\u001b[0m",
      "\u001b[1;31mKeyError\u001b[0m                                  Traceback (most recent call last)",
      "\u001b[1;32m~\\Anaconda3\\envs\\learn-env\\lib\\site-packages\\pandas\\core\\indexes\\base.py\u001b[0m in \u001b[0;36mget_loc\u001b[1;34m(self, key, method, tolerance)\u001b[0m\n\u001b[0;32m   3077\u001b[0m             \u001b[1;32mtry\u001b[0m\u001b[1;33m:\u001b[0m\u001b[1;33m\u001b[0m\u001b[0m\n\u001b[1;32m-> 3078\u001b[1;33m                 \u001b[1;32mreturn\u001b[0m \u001b[0mself\u001b[0m\u001b[1;33m.\u001b[0m\u001b[0m_engine\u001b[0m\u001b[1;33m.\u001b[0m\u001b[0mget_loc\u001b[0m\u001b[1;33m(\u001b[0m\u001b[0mkey\u001b[0m\u001b[1;33m)\u001b[0m\u001b[1;33m\u001b[0m\u001b[0m\n\u001b[0m\u001b[0;32m   3079\u001b[0m             \u001b[1;32mexcept\u001b[0m \u001b[0mKeyError\u001b[0m\u001b[1;33m:\u001b[0m\u001b[1;33m\u001b[0m\u001b[0m\n",
      "\u001b[1;32mpandas\\_libs\\index.pyx\u001b[0m in \u001b[0;36mpandas._libs.index.IndexEngine.get_loc\u001b[1;34m()\u001b[0m\n",
      "\u001b[1;32mpandas\\_libs\\index.pyx\u001b[0m in \u001b[0;36mpandas._libs.index.IndexEngine.get_loc\u001b[1;34m()\u001b[0m\n",
      "\u001b[1;32mpandas\\_libs\\hashtable_class_helper.pxi\u001b[0m in \u001b[0;36mpandas._libs.hashtable.PyObjectHashTable.get_item\u001b[1;34m()\u001b[0m\n",
      "\u001b[1;32mpandas\\_libs\\hashtable_class_helper.pxi\u001b[0m in \u001b[0;36mpandas._libs.hashtable.PyObjectHashTable.get_item\u001b[1;34m()\u001b[0m\n",
      "\u001b[1;31mKeyError\u001b[0m: 'Gender'",
      "\nDuring handling of the above exception, another exception occurred:\n",
      "\u001b[1;31mKeyError\u001b[0m                                  Traceback (most recent call last)",
      "\u001b[1;32m<ipython-input-5-39099eb0bb52>\u001b[0m in \u001b[0;36m<module>\u001b[1;34m()\u001b[0m\n\u001b[1;32m----> 1\u001b[1;33m \u001b[0mtest\u001b[0m \u001b[1;33m=\u001b[0m \u001b[0mdf_gend\u001b[0m\u001b[1;33m[\u001b[0m\u001b[0mdf_gend\u001b[0m\u001b[1;33m[\u001b[0m\u001b[1;34m'Gender'\u001b[0m\u001b[1;33m]\u001b[0m \u001b[1;33m==\u001b[0m \u001b[1;34m'F'\u001b[0m\u001b[1;33m]\u001b[0m\u001b[1;33m.\u001b[0m\u001b[0mcopy\u001b[0m\u001b[1;33m(\u001b[0m\u001b[1;33m)\u001b[0m\u001b[1;33m\u001b[0m\u001b[0m\n\u001b[0m\u001b[0;32m      2\u001b[0m \u001b[0mtest\u001b[0m \u001b[1;33m=\u001b[0m \u001b[0mtest\u001b[0m\u001b[1;33m[\u001b[0m\u001b[0mtest\u001b[0m\u001b[1;33m[\u001b[0m\u001b[1;34m'Gender'\u001b[0m\u001b[1;33m]\u001b[0m \u001b[1;33m==\u001b[0m \u001b[1;34m'F'\u001b[0m\u001b[1;33m]\u001b[0m\u001b[1;33m.\u001b[0m\u001b[0mcopy\u001b[0m\u001b[1;33m(\u001b[0m\u001b[1;33m)\u001b[0m\u001b[1;33m\u001b[0m\u001b[0m\n\u001b[0;32m      3\u001b[0m \u001b[0mprint\u001b[0m\u001b[1;33m(\u001b[0m\u001b[0mlen\u001b[0m\u001b[1;33m(\u001b[0m\u001b[0mtest\u001b[0m\u001b[1;33m[\u001b[0m\u001b[1;34m'Gender'\u001b[0m\u001b[1;33m]\u001b[0m\u001b[1;33m)\u001b[0m\u001b[1;33m,\u001b[0m \u001b[1;34m'\\n'\u001b[0m\u001b[1;33m)\u001b[0m\u001b[1;33m\u001b[0m\u001b[0m\n\u001b[0;32m      4\u001b[0m \u001b[1;32mfor\u001b[0m \u001b[0mname\u001b[0m \u001b[1;32min\u001b[0m \u001b[0mtest\u001b[0m\u001b[1;33m[\u001b[0m\u001b[1;34m'Cln_name'\u001b[0m\u001b[1;33m]\u001b[0m\u001b[1;33m:\u001b[0m\u001b[1;33m\u001b[0m\u001b[0m\n\u001b[0;32m      5\u001b[0m     \u001b[0mprint\u001b[0m\u001b[1;33m(\u001b[0m\u001b[0mname\u001b[0m\u001b[1;33m)\u001b[0m\u001b[1;33m\u001b[0m\u001b[0m\n",
      "\u001b[1;32m~\\Anaconda3\\envs\\learn-env\\lib\\site-packages\\pandas\\core\\frame.py\u001b[0m in \u001b[0;36m__getitem__\u001b[1;34m(self, key)\u001b[0m\n\u001b[0;32m   2686\u001b[0m             \u001b[1;32mreturn\u001b[0m \u001b[0mself\u001b[0m\u001b[1;33m.\u001b[0m\u001b[0m_getitem_multilevel\u001b[0m\u001b[1;33m(\u001b[0m\u001b[0mkey\u001b[0m\u001b[1;33m)\u001b[0m\u001b[1;33m\u001b[0m\u001b[0m\n\u001b[0;32m   2687\u001b[0m         \u001b[1;32melse\u001b[0m\u001b[1;33m:\u001b[0m\u001b[1;33m\u001b[0m\u001b[0m\n\u001b[1;32m-> 2688\u001b[1;33m             \u001b[1;32mreturn\u001b[0m \u001b[0mself\u001b[0m\u001b[1;33m.\u001b[0m\u001b[0m_getitem_column\u001b[0m\u001b[1;33m(\u001b[0m\u001b[0mkey\u001b[0m\u001b[1;33m)\u001b[0m\u001b[1;33m\u001b[0m\u001b[0m\n\u001b[0m\u001b[0;32m   2689\u001b[0m \u001b[1;33m\u001b[0m\u001b[0m\n\u001b[0;32m   2690\u001b[0m     \u001b[1;32mdef\u001b[0m \u001b[0m_getitem_column\u001b[0m\u001b[1;33m(\u001b[0m\u001b[0mself\u001b[0m\u001b[1;33m,\u001b[0m \u001b[0mkey\u001b[0m\u001b[1;33m)\u001b[0m\u001b[1;33m:\u001b[0m\u001b[1;33m\u001b[0m\u001b[0m\n",
      "\u001b[1;32m~\\Anaconda3\\envs\\learn-env\\lib\\site-packages\\pandas\\core\\frame.py\u001b[0m in \u001b[0;36m_getitem_column\u001b[1;34m(self, key)\u001b[0m\n\u001b[0;32m   2693\u001b[0m         \u001b[1;31m# get column\u001b[0m\u001b[1;33m\u001b[0m\u001b[1;33m\u001b[0m\u001b[0m\n\u001b[0;32m   2694\u001b[0m         \u001b[1;32mif\u001b[0m \u001b[0mself\u001b[0m\u001b[1;33m.\u001b[0m\u001b[0mcolumns\u001b[0m\u001b[1;33m.\u001b[0m\u001b[0mis_unique\u001b[0m\u001b[1;33m:\u001b[0m\u001b[1;33m\u001b[0m\u001b[0m\n\u001b[1;32m-> 2695\u001b[1;33m             \u001b[1;32mreturn\u001b[0m \u001b[0mself\u001b[0m\u001b[1;33m.\u001b[0m\u001b[0m_get_item_cache\u001b[0m\u001b[1;33m(\u001b[0m\u001b[0mkey\u001b[0m\u001b[1;33m)\u001b[0m\u001b[1;33m\u001b[0m\u001b[0m\n\u001b[0m\u001b[0;32m   2696\u001b[0m \u001b[1;33m\u001b[0m\u001b[0m\n\u001b[0;32m   2697\u001b[0m         \u001b[1;31m# duplicate columns & possible reduce dimensionality\u001b[0m\u001b[1;33m\u001b[0m\u001b[1;33m\u001b[0m\u001b[0m\n",
      "\u001b[1;32m~\\Anaconda3\\envs\\learn-env\\lib\\site-packages\\pandas\\core\\generic.py\u001b[0m in \u001b[0;36m_get_item_cache\u001b[1;34m(self, item)\u001b[0m\n\u001b[0;32m   2487\u001b[0m         \u001b[0mres\u001b[0m \u001b[1;33m=\u001b[0m \u001b[0mcache\u001b[0m\u001b[1;33m.\u001b[0m\u001b[0mget\u001b[0m\u001b[1;33m(\u001b[0m\u001b[0mitem\u001b[0m\u001b[1;33m)\u001b[0m\u001b[1;33m\u001b[0m\u001b[0m\n\u001b[0;32m   2488\u001b[0m         \u001b[1;32mif\u001b[0m \u001b[0mres\u001b[0m \u001b[1;32mis\u001b[0m \u001b[1;32mNone\u001b[0m\u001b[1;33m:\u001b[0m\u001b[1;33m\u001b[0m\u001b[0m\n\u001b[1;32m-> 2489\u001b[1;33m             \u001b[0mvalues\u001b[0m \u001b[1;33m=\u001b[0m \u001b[0mself\u001b[0m\u001b[1;33m.\u001b[0m\u001b[0m_data\u001b[0m\u001b[1;33m.\u001b[0m\u001b[0mget\u001b[0m\u001b[1;33m(\u001b[0m\u001b[0mitem\u001b[0m\u001b[1;33m)\u001b[0m\u001b[1;33m\u001b[0m\u001b[0m\n\u001b[0m\u001b[0;32m   2490\u001b[0m             \u001b[0mres\u001b[0m \u001b[1;33m=\u001b[0m \u001b[0mself\u001b[0m\u001b[1;33m.\u001b[0m\u001b[0m_box_item_values\u001b[0m\u001b[1;33m(\u001b[0m\u001b[0mitem\u001b[0m\u001b[1;33m,\u001b[0m \u001b[0mvalues\u001b[0m\u001b[1;33m)\u001b[0m\u001b[1;33m\u001b[0m\u001b[0m\n\u001b[0;32m   2491\u001b[0m             \u001b[0mcache\u001b[0m\u001b[1;33m[\u001b[0m\u001b[0mitem\u001b[0m\u001b[1;33m]\u001b[0m \u001b[1;33m=\u001b[0m \u001b[0mres\u001b[0m\u001b[1;33m\u001b[0m\u001b[0m\n",
      "\u001b[1;32m~\\Anaconda3\\envs\\learn-env\\lib\\site-packages\\pandas\\core\\internals.py\u001b[0m in \u001b[0;36mget\u001b[1;34m(self, item, fastpath)\u001b[0m\n\u001b[0;32m   4113\u001b[0m \u001b[1;33m\u001b[0m\u001b[0m\n\u001b[0;32m   4114\u001b[0m             \u001b[1;32mif\u001b[0m \u001b[1;32mnot\u001b[0m \u001b[0misna\u001b[0m\u001b[1;33m(\u001b[0m\u001b[0mitem\u001b[0m\u001b[1;33m)\u001b[0m\u001b[1;33m:\u001b[0m\u001b[1;33m\u001b[0m\u001b[0m\n\u001b[1;32m-> 4115\u001b[1;33m                 \u001b[0mloc\u001b[0m \u001b[1;33m=\u001b[0m \u001b[0mself\u001b[0m\u001b[1;33m.\u001b[0m\u001b[0mitems\u001b[0m\u001b[1;33m.\u001b[0m\u001b[0mget_loc\u001b[0m\u001b[1;33m(\u001b[0m\u001b[0mitem\u001b[0m\u001b[1;33m)\u001b[0m\u001b[1;33m\u001b[0m\u001b[0m\n\u001b[0m\u001b[0;32m   4116\u001b[0m             \u001b[1;32melse\u001b[0m\u001b[1;33m:\u001b[0m\u001b[1;33m\u001b[0m\u001b[0m\n\u001b[0;32m   4117\u001b[0m                 \u001b[0mindexer\u001b[0m \u001b[1;33m=\u001b[0m \u001b[0mnp\u001b[0m\u001b[1;33m.\u001b[0m\u001b[0marange\u001b[0m\u001b[1;33m(\u001b[0m\u001b[0mlen\u001b[0m\u001b[1;33m(\u001b[0m\u001b[0mself\u001b[0m\u001b[1;33m.\u001b[0m\u001b[0mitems\u001b[0m\u001b[1;33m)\u001b[0m\u001b[1;33m)\u001b[0m\u001b[1;33m[\u001b[0m\u001b[0misna\u001b[0m\u001b[1;33m(\u001b[0m\u001b[0mself\u001b[0m\u001b[1;33m.\u001b[0m\u001b[0mitems\u001b[0m\u001b[1;33m)\u001b[0m\u001b[1;33m]\u001b[0m\u001b[1;33m\u001b[0m\u001b[0m\n",
      "\u001b[1;32m~\\Anaconda3\\envs\\learn-env\\lib\\site-packages\\pandas\\core\\indexes\\base.py\u001b[0m in \u001b[0;36mget_loc\u001b[1;34m(self, key, method, tolerance)\u001b[0m\n\u001b[0;32m   3078\u001b[0m                 \u001b[1;32mreturn\u001b[0m \u001b[0mself\u001b[0m\u001b[1;33m.\u001b[0m\u001b[0m_engine\u001b[0m\u001b[1;33m.\u001b[0m\u001b[0mget_loc\u001b[0m\u001b[1;33m(\u001b[0m\u001b[0mkey\u001b[0m\u001b[1;33m)\u001b[0m\u001b[1;33m\u001b[0m\u001b[0m\n\u001b[0;32m   3079\u001b[0m             \u001b[1;32mexcept\u001b[0m \u001b[0mKeyError\u001b[0m\u001b[1;33m:\u001b[0m\u001b[1;33m\u001b[0m\u001b[0m\n\u001b[1;32m-> 3080\u001b[1;33m                 \u001b[1;32mreturn\u001b[0m \u001b[0mself\u001b[0m\u001b[1;33m.\u001b[0m\u001b[0m_engine\u001b[0m\u001b[1;33m.\u001b[0m\u001b[0mget_loc\u001b[0m\u001b[1;33m(\u001b[0m\u001b[0mself\u001b[0m\u001b[1;33m.\u001b[0m\u001b[0m_maybe_cast_indexer\u001b[0m\u001b[1;33m(\u001b[0m\u001b[0mkey\u001b[0m\u001b[1;33m)\u001b[0m\u001b[1;33m)\u001b[0m\u001b[1;33m\u001b[0m\u001b[0m\n\u001b[0m\u001b[0;32m   3081\u001b[0m \u001b[1;33m\u001b[0m\u001b[0m\n\u001b[0;32m   3082\u001b[0m         \u001b[0mindexer\u001b[0m \u001b[1;33m=\u001b[0m \u001b[0mself\u001b[0m\u001b[1;33m.\u001b[0m\u001b[0mget_indexer\u001b[0m\u001b[1;33m(\u001b[0m\u001b[1;33m[\u001b[0m\u001b[0mkey\u001b[0m\u001b[1;33m]\u001b[0m\u001b[1;33m,\u001b[0m \u001b[0mmethod\u001b[0m\u001b[1;33m=\u001b[0m\u001b[0mmethod\u001b[0m\u001b[1;33m,\u001b[0m \u001b[0mtolerance\u001b[0m\u001b[1;33m=\u001b[0m\u001b[0mtolerance\u001b[0m\u001b[1;33m)\u001b[0m\u001b[1;33m\u001b[0m\u001b[0m\n",
      "\u001b[1;32mpandas\\_libs\\index.pyx\u001b[0m in \u001b[0;36mpandas._libs.index.IndexEngine.get_loc\u001b[1;34m()\u001b[0m\n",
      "\u001b[1;32mpandas\\_libs\\index.pyx\u001b[0m in \u001b[0;36mpandas._libs.index.IndexEngine.get_loc\u001b[1;34m()\u001b[0m\n",
      "\u001b[1;32mpandas\\_libs\\hashtable_class_helper.pxi\u001b[0m in \u001b[0;36mpandas._libs.hashtable.PyObjectHashTable.get_item\u001b[1;34m()\u001b[0m\n",
      "\u001b[1;32mpandas\\_libs\\hashtable_class_helper.pxi\u001b[0m in \u001b[0;36mpandas._libs.hashtable.PyObjectHashTable.get_item\u001b[1;34m()\u001b[0m\n",
      "\u001b[1;31mKeyError\u001b[0m: 'Gender'"
     ]
    }
   ],
   "source": [
    "test = df_gend[df_gend['Gender'] == 'F'].copy()\n",
    "test = test[test['Gender'] == 'F'].copy()\n",
    "print(len(test['Gender']), '\\n')\n",
    "for name in test['Cln_name']:\n",
    "    print(name)\n"
   ]
  },
  {
   "cell_type": "code",
   "execution_count": 154,
   "metadata": {
    "ExecuteTime": {
     "end_time": "2020-08-20T02:48:50.507675Z",
     "start_time": "2020-08-20T02:48:50.481044Z"
    },
    "hidden": true
   },
   "outputs": [
    {
     "data": {
      "text/html": [
       "<div>\n",
       "<style scoped>\n",
       "    .dataframe tbody tr th:only-of-type {\n",
       "        vertical-align: middle;\n",
       "    }\n",
       "\n",
       "    .dataframe tbody tr th {\n",
       "        vertical-align: top;\n",
       "    }\n",
       "\n",
       "    .dataframe thead th {\n",
       "        text-align: right;\n",
       "    }\n",
       "</style>\n",
       "<table border=\"1\" class=\"dataframe\">\n",
       "  <thead>\n",
       "    <tr style=\"text-align: right;\">\n",
       "      <th></th>\n",
       "      <th>%</th>\n",
       "      <th>Turnout</th>\n",
       "      <th>Incumb_Y</th>\n",
       "      <th>State</th>\n",
       "      <th>Cln_name</th>\n",
       "      <th>Year</th>\n",
       "      <th>Terms_in_office</th>\n",
       "      <th>Party_enc</th>\n",
       "      <th>First_name</th>\n",
       "      <th>Seats_up%</th>\n",
       "      <th>Seats_before%</th>\n",
       "      <th>Gender</th>\n",
       "    </tr>\n",
       "  </thead>\n",
       "  <tbody>\n",
       "    <tr>\n",
       "      <th>4406</th>\n",
       "      <td>100.0</td>\n",
       "      <td>NaN</td>\n",
       "      <td>0</td>\n",
       "      <td>Arkansas</td>\n",
       "      <td>Ophie Beltran</td>\n",
       "      <td>1998</td>\n",
       "      <td>0</td>\n",
       "      <td>T</td>\n",
       "      <td>Ophie</td>\n",
       "      <td>0.0</td>\n",
       "      <td>0.0</td>\n",
       "      <td>F</td>\n",
       "    </tr>\n",
       "  </tbody>\n",
       "</table>\n",
       "</div>"
      ],
      "text/plain": [
       "          %  Turnout  Incumb_Y     State       Cln_name  Year  \\\n",
       "4406  100.0      NaN         0  Arkansas  Ophie Beltran  1998   \n",
       "\n",
       "      Terms_in_office Party_enc First_name  Seats_up%  Seats_before% Gender  \n",
       "4406                0         T      Ophie        0.0            0.0      F  "
      ]
     },
     "execution_count": 154,
     "metadata": {},
     "output_type": "execute_result"
    }
   ],
   "source": [
    "test[test['Turnout'].isna()]"
   ]
  },
  {
   "cell_type": "markdown",
   "metadata": {
    "heading_collapsed": true
   },
   "source": [
    "## Next.."
   ]
  },
  {
   "cell_type": "code",
   "execution_count": null,
   "metadata": {
    "hidden": true
   },
   "outputs": [],
   "source": [
    "## Make gender collection function #####################\n",
    "## pickle/to_csv funct/df to Yish for help #############\n",
    "## Keep year? Set_index as year (as datetime)\n",
    "## Split % off as target ###############################\n",
    "## OHE States, Party_enc ###############################\n",
    "## RF/Tree Regressors 1st XGBoost? #####################\n",
    "## add first_name columns into df_fin ##################\n",
    "## Make sure Turnout is ok as int. #####################"
   ]
  },
  {
   "cell_type": "code",
   "execution_count": 95,
   "metadata": {
    "ExecuteTime": {
     "end_time": "2020-08-20T00:58:55.885244Z",
     "start_time": "2020-08-20T00:58:55.877530Z"
    },
    "hidden": true
   },
   "outputs": [],
   "source": [
    "# test_df = df[df['Year'] == 2006].copy()\n",
    "# display(test_df.head())\n",
    "# display(test_df.info())"
   ]
  },
  {
   "cell_type": "code",
   "execution_count": 94,
   "metadata": {
    "ExecuteTime": {
     "end_time": "2020-08-20T00:58:50.689484Z",
     "start_time": "2020-08-20T00:58:50.681608Z"
    },
    "hidden": true,
    "scrolled": true
   },
   "outputs": [],
   "source": [
    "# test_df = gender_guesser(test_df, count_max=50)\n",
    "# display(test_df.head())\n",
    "# display(test_df.tail())"
   ]
  }
 ],
 "metadata": {
  "kernelspec": {
   "display_name": "Python 3",
   "language": "python",
   "name": "python3"
  },
  "language_info": {
   "codemirror_mode": {
    "name": "ipython",
    "version": 3
   },
   "file_extension": ".py",
   "mimetype": "text/x-python",
   "name": "python",
   "nbconvert_exporter": "python",
   "pygments_lexer": "ipython3",
   "version": "3.6.6"
  },
  "toc": {
   "base_numbering": 1,
   "nav_menu": {},
   "number_sections": true,
   "sideBar": true,
   "skip_h1_title": false,
   "title_cell": "Table of Contents",
   "title_sidebar": "Contents",
   "toc_cell": false,
   "toc_position": {},
   "toc_section_display": true,
   "toc_window_display": false
  },
  "varInspector": {
   "cols": {
    "lenName": 16,
    "lenType": 16,
    "lenVar": 40
   },
   "kernels_config": {
    "python": {
     "delete_cmd_postfix": "",
     "delete_cmd_prefix": "del ",
     "library": "var_list.py",
     "varRefreshCmd": "print(var_dic_list())"
    },
    "r": {
     "delete_cmd_postfix": ") ",
     "delete_cmd_prefix": "rm(",
     "library": "var_list.r",
     "varRefreshCmd": "cat(var_dic_list()) "
    }
   },
   "types_to_exclude": [
    "module",
    "function",
    "builtin_function_or_method",
    "instance",
    "_Feature"
   ],
   "window_display": false
  }
 },
 "nbformat": 4,
 "nbformat_minor": 2
}
