{
 "cells": [
  {
   "cell_type": "markdown",
   "metadata": {},
   "source": [
    "## Imports"
   ]
  },
  {
   "cell_type": "markdown",
   "metadata": {},
   "source": [
    "> [Link to Brookings](https://www.brookings.edu/multi-chapter-report/vital-statistics-on-congress/)\n",
    "\n",
    "> [Link to BallotPedia](https://ballotpedia.org/Legislative_Branch)\n",
    "\n",
    "> [Link to WikiPedia](https://en.wikipedia.org/wiki/List_of_United_States_Senate_elections)\n",
    "\n",
    "> [Link to Wiki-Category (U.S. Senator)](https://commons.wikimedia.org/wiki/Category:Senators_of_the_United_States)"
   ]
  },
  {
   "cell_type": "code",
   "execution_count": 1,
   "metadata": {
    "ExecuteTime": {
     "end_time": "2020-08-21T01:36:05.557170Z",
     "start_time": "2020-08-21T01:36:03.272544Z"
    }
   },
   "outputs": [],
   "source": [
    "import functions as dlf\n",
    "import pandas as pd\n",
    "import numpy as np\n",
    "import requests\n",
    "import regex\n",
    "import pickle\n",
    "from importlib import reload\n",
    "from bs4 import BeautifulSoup\n",
    "from genderize import Genderize"
   ]
  },
  {
   "cell_type": "code",
   "execution_count": 66,
   "metadata": {
    "ExecuteTime": {
     "end_time": "2020-08-21T02:47:17.882644Z",
     "start_time": "2020-08-21T02:47:17.869350Z"
    }
   },
   "outputs": [],
   "source": [
    "import numpy as np\n",
    "# import itertools\n",
    "import matplotlib.pyplot as plt\n",
    "import seaborn as sns\n",
    "import tzlocal\n",
    "import datetime as dt\n",
    "import xgboost as xgb\n",
    "import sklearn\n",
    "import sklearn.metrics as metrics\n",
    "from yellowbrick.classifier import ROCAUC\n",
    "from sklearn.neighbors import KNeighborsRegressor\n",
    "from sklearn.preprocessing import StandardScaler, MinMaxScaler\n",
    "# from sklearn.metrics import roc_auc_score, roc_curve, auc, confusion_matrix\n",
    "from sklearn.linear_model import LogisticRegression\n",
    "from sklearn.tree import DecisionTreeRegressor\n",
    "from sklearn.model_selection import train_test_split, GridSearchCV\n",
    "from sklearn.ensemble import RandomForestRegressor, AdaBoostRegressor, GradientBoostingRegressor\n",
    "from imblearn.over_sampling import SMOTE\n",
    "\n",
    "%matplotlib inline"
   ]
  },
  {
   "cell_type": "code",
   "execution_count": null,
   "metadata": {},
   "outputs": [],
   "source": [
    "# with open('election_collection_raw.pickle', 'wb') as f:\n",
    "#     pickle.dump(election_collection_raw, f)\n",
    "#     f.close()\n",
    "\n",
    "# with open('election_collection_raw.pickle', 'rb') as f:\n",
    "#     election_collection_raw = pickle.load(f)\n",
    "#     f.close()"
   ]
  },
  {
   "cell_type": "code",
   "execution_count": 71,
   "metadata": {
    "ExecuteTime": {
     "end_time": "2020-08-21T03:04:15.986939Z",
     "start_time": "2020-08-21T03:04:15.962166Z"
    }
   },
   "outputs": [
    {
     "data": {
      "text/plain": [
       "<module 'functions' from 'C:\\\\Users\\\\d_ful\\\\Documents\\\\GitHub\\\\Capstone_Project\\\\functions.py'>"
      ]
     },
     "execution_count": 71,
     "metadata": {},
     "output_type": "execute_result"
    }
   ],
   "source": [
    "reload(dlf)"
   ]
  },
  {
   "cell_type": "code",
   "execution_count": 62,
   "metadata": {
    "ExecuteTime": {
     "end_time": "2020-08-21T02:36:41.388009Z",
     "start_time": "2020-08-21T02:36:41.323699Z"
    },
    "scrolled": false
   },
   "outputs": [
    {
     "data": {
      "text/html": [
       "<div>\n",
       "<style scoped>\n",
       "    .dataframe tbody tr th:only-of-type {\n",
       "        vertical-align: middle;\n",
       "    }\n",
       "\n",
       "    .dataframe tbody tr th {\n",
       "        vertical-align: top;\n",
       "    }\n",
       "\n",
       "    .dataframe thead th {\n",
       "        text-align: right;\n",
       "    }\n",
       "</style>\n",
       "<table border=\"1\" class=\"dataframe\">\n",
       "  <thead>\n",
       "    <tr style=\"text-align: right;\">\n",
       "      <th></th>\n",
       "      <th>%</th>\n",
       "      <th>Turnout</th>\n",
       "      <th>Incumb_Y</th>\n",
       "      <th>State</th>\n",
       "      <th>Cln_name</th>\n",
       "      <th>Year</th>\n",
       "      <th>Terms_in_office</th>\n",
       "      <th>Party_enc</th>\n",
       "      <th>First_name</th>\n",
       "      <th>Seats_up%</th>\n",
       "      <th>Seats_before%</th>\n",
       "    </tr>\n",
       "  </thead>\n",
       "  <tbody>\n",
       "    <tr>\n",
       "      <th>5583</th>\n",
       "      <td>1.01</td>\n",
       "      <td>320467.0</td>\n",
       "      <td>0</td>\n",
       "      <td>Vermont</td>\n",
       "      <td>Peter Diamondstone</td>\n",
       "      <td>2016</td>\n",
       "      <td>0</td>\n",
       "      <td>T</td>\n",
       "      <td>Peter</td>\n",
       "      <td>0.000000</td>\n",
       "      <td>0.00</td>\n",
       "    </tr>\n",
       "    <tr>\n",
       "      <th>5584</th>\n",
       "      <td>59.01</td>\n",
       "      <td>3243317.0</td>\n",
       "      <td>1</td>\n",
       "      <td>Washington</td>\n",
       "      <td>Patty Murray</td>\n",
       "      <td>2016</td>\n",
       "      <td>4</td>\n",
       "      <td>D</td>\n",
       "      <td>Patty</td>\n",
       "      <td>0.227273</td>\n",
       "      <td>0.44</td>\n",
       "    </tr>\n",
       "    <tr>\n",
       "      <th>5585</th>\n",
       "      <td>40.99</td>\n",
       "      <td>3243317.0</td>\n",
       "      <td>0</td>\n",
       "      <td>Washington</td>\n",
       "      <td>Chris Vance</td>\n",
       "      <td>2016</td>\n",
       "      <td>0</td>\n",
       "      <td>R</td>\n",
       "      <td>Chris</td>\n",
       "      <td>0.444444</td>\n",
       "      <td>0.54</td>\n",
       "    </tr>\n",
       "    <tr>\n",
       "      <th>5586</th>\n",
       "      <td>50.20</td>\n",
       "      <td>2947345.0</td>\n",
       "      <td>1</td>\n",
       "      <td>Wisconsin</td>\n",
       "      <td>Ron Johnson</td>\n",
       "      <td>2016</td>\n",
       "      <td>1</td>\n",
       "      <td>R</td>\n",
       "      <td>Ron</td>\n",
       "      <td>0.444444</td>\n",
       "      <td>0.54</td>\n",
       "    </tr>\n",
       "    <tr>\n",
       "      <th>5587</th>\n",
       "      <td>46.80</td>\n",
       "      <td>2947345.0</td>\n",
       "      <td>0</td>\n",
       "      <td>Wisconsin</td>\n",
       "      <td>Russ Feingold</td>\n",
       "      <td>2016</td>\n",
       "      <td>0</td>\n",
       "      <td>D</td>\n",
       "      <td>Russ</td>\n",
       "      <td>0.227273</td>\n",
       "      <td>0.44</td>\n",
       "    </tr>\n",
       "  </tbody>\n",
       "</table>\n",
       "</div>"
      ],
      "text/plain": [
       "          %    Turnout  Incumb_Y       State            Cln_name  Year  \\\n",
       "5583   1.01   320467.0         0     Vermont  Peter Diamondstone  2016   \n",
       "5584  59.01  3243317.0         1  Washington        Patty Murray  2016   \n",
       "5585  40.99  3243317.0         0  Washington         Chris Vance  2016   \n",
       "5586  50.20  2947345.0         1   Wisconsin         Ron Johnson  2016   \n",
       "5587  46.80  2947345.0         0   Wisconsin       Russ Feingold  2016   \n",
       "\n",
       "      Terms_in_office Party_enc First_name  Seats_up%  Seats_before%  \n",
       "5583                0         T      Peter   0.000000           0.00  \n",
       "5584                4         D      Patty   0.227273           0.44  \n",
       "5585                0         R      Chris   0.444444           0.54  \n",
       "5586                1         R        Ron   0.444444           0.54  \n",
       "5587                0         D       Russ   0.227273           0.44  "
      ]
     },
     "metadata": {},
     "output_type": "display_data"
    }
   ],
   "source": [
    "df = pd.read_csv('Senate_generals_thru_2016')\n",
    "df_gend = df.copy()\n",
    "df_model_test = df.copy()\n",
    "# display(df.head(10))\n",
    "display(df.tail())\n",
    "# df.info()"
   ]
  },
  {
   "cell_type": "code",
   "execution_count": 63,
   "metadata": {
    "ExecuteTime": {
     "end_time": "2020-08-21T02:36:45.560998Z",
     "start_time": "2020-08-21T02:36:45.410470Z"
    }
   },
   "outputs": [
    {
     "data": {
      "text/plain": [
       "0    66.10\n",
       "1    33.05\n",
       "2     0.85\n",
       "3    69.27\n",
       "4    29.51\n",
       "Name: %, dtype: float64"
      ]
     },
     "metadata": {},
     "output_type": "display_data"
    },
    {
     "data": {
      "text/html": [
       "<div>\n",
       "<style scoped>\n",
       "    .dataframe tbody tr th:only-of-type {\n",
       "        vertical-align: middle;\n",
       "    }\n",
       "\n",
       "    .dataframe tbody tr th {\n",
       "        vertical-align: top;\n",
       "    }\n",
       "\n",
       "    .dataframe thead th {\n",
       "        text-align: right;\n",
       "    }\n",
       "</style>\n",
       "<table border=\"1\" class=\"dataframe\">\n",
       "  <thead>\n",
       "    <tr style=\"text-align: right;\">\n",
       "      <th></th>\n",
       "      <th>Turnout</th>\n",
       "      <th>Incumb_Y</th>\n",
       "      <th>State</th>\n",
       "      <th>Year</th>\n",
       "      <th>Terms_in_office</th>\n",
       "      <th>Party_enc</th>\n",
       "      <th>Seats_up%</th>\n",
       "      <th>Seats_before%</th>\n",
       "    </tr>\n",
       "  </thead>\n",
       "  <tbody>\n",
       "    <tr>\n",
       "      <th>0</th>\n",
       "      <td>233985.0</td>\n",
       "      <td>1</td>\n",
       "      <td>Alabama</td>\n",
       "      <td>1920</td>\n",
       "      <td>1</td>\n",
       "      <td>D</td>\n",
       "      <td>0.361702</td>\n",
       "      <td>0.489583</td>\n",
       "    </tr>\n",
       "    <tr>\n",
       "      <th>1</th>\n",
       "      <td>233985.0</td>\n",
       "      <td>0</td>\n",
       "      <td>Alabama</td>\n",
       "      <td>1920</td>\n",
       "      <td>0</td>\n",
       "      <td>R</td>\n",
       "      <td>0.306122</td>\n",
       "      <td>0.510417</td>\n",
       "    </tr>\n",
       "    <tr>\n",
       "      <th>2</th>\n",
       "      <td>233985.0</td>\n",
       "      <td>0</td>\n",
       "      <td>Alabama</td>\n",
       "      <td>1920</td>\n",
       "      <td>0</td>\n",
       "      <td>S</td>\n",
       "      <td>0.000000</td>\n",
       "      <td>0.000000</td>\n",
       "    </tr>\n",
       "    <tr>\n",
       "      <th>3</th>\n",
       "      <td>231960.0</td>\n",
       "      <td>0</td>\n",
       "      <td>Alabama</td>\n",
       "      <td>1920</td>\n",
       "      <td>0</td>\n",
       "      <td>D</td>\n",
       "      <td>0.361702</td>\n",
       "      <td>0.489583</td>\n",
       "    </tr>\n",
       "    <tr>\n",
       "      <th>4</th>\n",
       "      <td>231960.0</td>\n",
       "      <td>0</td>\n",
       "      <td>Alabama</td>\n",
       "      <td>1920</td>\n",
       "      <td>0</td>\n",
       "      <td>R</td>\n",
       "      <td>0.306122</td>\n",
       "      <td>0.510417</td>\n",
       "    </tr>\n",
       "  </tbody>\n",
       "</table>\n",
       "</div>"
      ],
      "text/plain": [
       "    Turnout  Incumb_Y    State  Year  Terms_in_office Party_enc  Seats_up%  \\\n",
       "0  233985.0         1  Alabama  1920                1         D   0.361702   \n",
       "1  233985.0         0  Alabama  1920                0         R   0.306122   \n",
       "2  233985.0         0  Alabama  1920                0         S   0.000000   \n",
       "3  231960.0         0  Alabama  1920                0         D   0.361702   \n",
       "4  231960.0         0  Alabama  1920                0         R   0.306122   \n",
       "\n",
       "   Seats_before%  \n",
       "0       0.489583  \n",
       "1       0.510417  \n",
       "2       0.000000  \n",
       "3       0.489583  \n",
       "4       0.510417  "
      ]
     },
     "metadata": {},
     "output_type": "display_data"
    },
    {
     "name": "stdout",
     "output_type": "stream",
     "text": [
      "<class 'pandas.core.frame.DataFrame'>\n",
      "Int64Index: 5583 entries, 0 to 5587\n",
      "Data columns (total 8 columns):\n",
      "Turnout            5583 non-null float64\n",
      "Incumb_Y           5583 non-null int64\n",
      "State              5583 non-null object\n",
      "Year               5583 non-null int64\n",
      "Terms_in_office    5583 non-null int64\n",
      "Party_enc          5583 non-null object\n",
      "Seats_up%          5583 non-null float64\n",
      "Seats_before%      5583 non-null float64\n",
      "dtypes: float64(3), int64(3), object(2)\n",
      "memory usage: 392.6+ KB\n"
     ]
    },
    {
     "data": {
      "text/plain": [
       "None"
      ]
     },
     "metadata": {},
     "output_type": "display_data"
    },
    {
     "data": {
      "text/plain": [
       "Index(['Turnout', 'Incumb_Y', 'Year', 'Terms_in_office', 'Seats_up%',\n",
       "       'Seats_before%', 'State_Alaska', 'State_Arizona', 'State_Arkansas',\n",
       "       'State_California', 'State_Colorado', 'State_Connecticut',\n",
       "       'State_Delaware', 'State_Florida', 'State_Georgia', 'State_Hawaii',\n",
       "       'State_Idaho', 'State_Illinois', 'State_Indiana', 'State_Iowa',\n",
       "       'State_Kansas', 'State_Kentucky', 'State_Louisiana', 'State_Maine',\n",
       "       'State_Maryland', 'State_Massachusetts', 'State_Michigan',\n",
       "       'State_Minnesota', 'State_Mississippi', 'State_Missouri',\n",
       "       'State_Montana', 'State_Nebraska', 'State_Nevada',\n",
       "       'State_New_Hampshire', 'State_New_Jersey', 'State_New_Mexico',\n",
       "       'State_New_York', 'State_North_Carolina', 'State_North_Dakota',\n",
       "       'State_Ohio', 'State_Oklahoma', 'State_Oregon', 'State_Pennsylvania',\n",
       "       'State_Rhode_Island', 'State_South_Carolina', 'State_South_Dakota',\n",
       "       'State_Tennessee', 'State_Texas', 'State_Utah', 'State_Vermont',\n",
       "       'State_Virginia', 'State_Washington', 'State_West_Virginia',\n",
       "       'State_Wisconsin', 'State_Wyoming', 'Party_enc_I', 'Party_enc_R',\n",
       "       'Party_enc_S', 'Party_enc_T'],\n",
       "      dtype='object')"
      ]
     },
     "metadata": {},
     "output_type": "display_data"
    }
   ],
   "source": [
    "## Drop name refs\n",
    "df_model_test.drop(columns=['Cln_name', 'First_name'], inplace=True)\n",
    "\n",
    "## Fill NAs left from cleaning\n",
    "df_model_test.dropna(inplace=True)\n",
    "\n",
    "## Fixing State regex missed cases\n",
    "df_model_test.at[1461, 'State'] = 'West_Virginia'\n",
    "df_model_test.at[1632, 'State'] = 'Nevada'\n",
    "\n",
    "## Setting variables + Q.C.\n",
    "y = df_model_test.pop('%')\n",
    "X = df_model_test.copy()\n",
    "display(y.head())\n",
    "display(X.head())\n",
    "display(X.info())\n",
    "\n",
    "## drop_first assumes that State = Alabama and Party = D\n",
    "X_ohe = pd.get_dummies(X, drop_first=True)\n",
    "display(X_ohe.columns)\n",
    "\n",
    "## TT split\n",
    "X_train, X_test, y_train, y_test = train_test_split(X_ohe, y, random_state=222)"
   ]
  },
  {
   "cell_type": "code",
   "execution_count": 106,
   "metadata": {
    "ExecuteTime": {
     "end_time": "2020-08-21T03:27:37.163534Z",
     "start_time": "2020-08-21T03:27:37.151522Z"
    }
   },
   "outputs": [],
   "source": [
    "## Instantiating a bunch of classifiers to test\n",
    "\n",
    "# tree_clf = DecisionTreeRegressor()\n",
    "# rf_clf = RandomForestRegressor(n_jobs=-1)\n",
    "# knn_clf = KNeighborsRegressor(n_jobs=-1)\n",
    "# ada_clf = AdaBoostRegressor()\n",
    "# grad_clf = GradientBoostingRegressor()\n",
    "xgb_clf = xgb.XGBRegressor(n_jobs=-1)"
   ]
  },
  {
   "cell_type": "code",
   "execution_count": 107,
   "metadata": {
    "ExecuteTime": {
     "end_time": "2020-08-21T03:27:39.223256Z",
     "start_time": "2020-08-21T03:27:38.011235Z"
    }
   },
   "outputs": [
    {
     "name": "stdout",
     "output_type": "stream",
     "text": [
      "---- Timer stopped at: 08/20/2020 - 08:27 PM ----\n",
      "---- Time elasped: 0:00:01.192832 ----\n"
     ]
    },
    {
     "data": {
      "text/plain": [
       "XGBRegressor(base_score=0.5, booster='gbtree', colsample_bylevel=1,\n",
       "             colsample_bytree=1, gamma=0, learning_rate=0.1, max_delta_step=0,\n",
       "             max_depth=3, min_child_weight=1, missing=None, n_estimators=100,\n",
       "             n_jobs=-1, nthread=None, objective='reg:linear', random_state=0,\n",
       "             reg_alpha=0, reg_lambda=1, scale_pos_weight=1, seed=None,\n",
       "             silent=True, subsample=1)"
      ]
     },
     "metadata": {},
     "output_type": "display_data"
    }
   ],
   "source": [
    "# y_hat_trn, y_hat_te = dlf.fit_n_pred(tree_clf, X_train, X_test, y_train)\n",
    "# y_hat_trn, y_hat_te = dlf.fit_n_pred(rf_clf, X_train, X_test, y_train)\n",
    "# y_hat_trn, y_hat_te = dlf.fit_n_pred(knn_clf, X_train, X_test, y_train)\n",
    "# y_hat_trn, y_hat_te = dlf.fit_n_pred(ada_clf, X_train, X_test, y_train)\n",
    "# y_hat_trn, y_hat_te = dlf.fit_n_pred(grad_clf, X_train, X_test, y_train)\n",
    "y_hat_trn, y_hat_te = dlf.fit_n_pred(xgb_clf, X_train, X_test, y_train)"
   ]
  },
  {
   "cell_type": "code",
   "execution_count": 76,
   "metadata": {
    "ExecuteTime": {
     "end_time": "2020-08-21T03:07:40.479236Z",
     "start_time": "2020-08-21T03:07:40.464970Z"
    }
   },
   "outputs": [
    {
     "name": "stdout",
     "output_type": "stream",
     "text": [
      "Training MSE: 10.350590170590376\n",
      "Test MSE: 162.38372754168535\n"
     ]
    }
   ],
   "source": [
    "## Tree_clf\n",
    "print('Training MSE:', metrics.mean_squared_error(y_true=y_train, y_pred=y_hat_trn))\n",
    "print('Test MSE:', metrics.mean_squared_error(y_true=y_test, y_pred=y_hat_te))"
   ]
  },
  {
   "cell_type": "code",
   "execution_count": 79,
   "metadata": {
    "ExecuteTime": {
     "end_time": "2020-08-21T03:09:29.234088Z",
     "start_time": "2020-08-21T03:09:29.218720Z"
    }
   },
   "outputs": [
    {
     "name": "stdout",
     "output_type": "stream",
     "text": [
      "Training MSE: 22.711305203633113\n",
      "Test MSE: 119.3454431891556\n"
     ]
    }
   ],
   "source": [
    "## rf_clf\n",
    "print('Training MSE:', metrics.mean_squared_error(y_true=y_train, y_pred=y_hat_trn))\n",
    "print('Test MSE:', metrics.mean_squared_error(y_true=y_test, y_pred=y_hat_te))"
   ]
  },
  {
   "cell_type": "code",
   "execution_count": 99,
   "metadata": {
    "ExecuteTime": {
     "end_time": "2020-08-21T03:25:00.039780Z",
     "start_time": "2020-08-21T03:25:00.030306Z"
    }
   },
   "outputs": [
    {
     "name": "stdout",
     "output_type": "stream",
     "text": [
      "Training MSE: 491.8248684267953\n",
      "Test MSE: 746.8824784133737\n"
     ]
    }
   ],
   "source": [
    "## knn_clf\n",
    "print('Training MSE:', metrics.mean_squared_error(y_true=y_train, y_pred=y_hat_trn))\n",
    "print('Test MSE:', metrics.mean_squared_error(y_true=y_test, y_pred=y_hat_te))"
   ]
  },
  {
   "cell_type": "code",
   "execution_count": 102,
   "metadata": {
    "ExecuteTime": {
     "end_time": "2020-08-21T03:26:03.789183Z",
     "start_time": "2020-08-21T03:26:03.778969Z"
    }
   },
   "outputs": [
    {
     "name": "stdout",
     "output_type": "stream",
     "text": [
      "Training MSE: 204.2453250875433\n",
      "Test MSE: 223.0358615293897\n"
     ]
    }
   ],
   "source": [
    "## ada_clf\n",
    "print('Training MSE:', metrics.mean_squared_error(y_true=y_train, y_pred=y_hat_trn))\n",
    "print('Test MSE:', metrics.mean_squared_error(y_true=y_test, y_pred=y_hat_te))"
   ]
  },
  {
   "cell_type": "code",
   "execution_count": 105,
   "metadata": {
    "ExecuteTime": {
     "end_time": "2020-08-21T03:26:58.211158Z",
     "start_time": "2020-08-21T03:26:58.198784Z"
    }
   },
   "outputs": [
    {
     "name": "stdout",
     "output_type": "stream",
     "text": [
      "Training MSE: 99.0635530788416\n",
      "Test MSE: 129.40290622653492\n"
     ]
    }
   ],
   "source": [
    "## grad_clf\n",
    "print('Training MSE:', metrics.mean_squared_error(y_true=y_train, y_pred=y_hat_trn))\n",
    "print('Test MSE:', metrics.mean_squared_error(y_true=y_test, y_pred=y_hat_te))"
   ]
  },
  {
   "cell_type": "code",
   "execution_count": 108,
   "metadata": {
    "ExecuteTime": {
     "end_time": "2020-08-21T03:27:42.999241Z",
     "start_time": "2020-08-21T03:27:42.983850Z"
    }
   },
   "outputs": [
    {
     "name": "stdout",
     "output_type": "stream",
     "text": [
      "Training MSE: 101.36131548183157\n",
      "Test MSE: 129.3823463947934\n"
     ]
    }
   ],
   "source": [
    "## xgb_clf\n",
    "print('Training MSE:', metrics.mean_squared_error(y_true=y_train, y_pred=y_hat_trn))\n",
    "print('Test MSE:', metrics.mean_squared_error(y_true=y_test, y_pred=y_hat_te))"
   ]
  },
  {
   "cell_type": "code",
   "execution_count": 92,
   "metadata": {
    "ExecuteTime": {
     "end_time": "2020-08-21T03:21:32.626512Z",
     "start_time": "2020-08-21T03:21:32.581286Z"
    }
   },
   "outputs": [
    {
     "data": {
      "text/html": [
       "<div>\n",
       "<style scoped>\n",
       "    .dataframe tbody tr th:only-of-type {\n",
       "        vertical-align: middle;\n",
       "    }\n",
       "\n",
       "    .dataframe tbody tr th {\n",
       "        vertical-align: top;\n",
       "    }\n",
       "\n",
       "    .dataframe thead th {\n",
       "        text-align: right;\n",
       "    }\n",
       "</style>\n",
       "<table border=\"1\" class=\"dataframe\">\n",
       "  <thead>\n",
       "    <tr style=\"text-align: right;\">\n",
       "      <th></th>\n",
       "      <th>Turnout</th>\n",
       "      <th>Incumb_Y</th>\n",
       "      <th>Year</th>\n",
       "      <th>Terms_in_office</th>\n",
       "      <th>Seats_up%</th>\n",
       "      <th>Seats_before%</th>\n",
       "      <th>State_Alaska</th>\n",
       "      <th>State_Arizona</th>\n",
       "      <th>State_Arkansas</th>\n",
       "      <th>State_California</th>\n",
       "      <th>...</th>\n",
       "      <th>State_Vermont</th>\n",
       "      <th>State_Virginia</th>\n",
       "      <th>State_Washington</th>\n",
       "      <th>State_West_Virginia</th>\n",
       "      <th>State_Wisconsin</th>\n",
       "      <th>State_Wyoming</th>\n",
       "      <th>Party_enc_I</th>\n",
       "      <th>Party_enc_R</th>\n",
       "      <th>Party_enc_S</th>\n",
       "      <th>Party_enc_T</th>\n",
       "    </tr>\n",
       "  </thead>\n",
       "  <tbody>\n",
       "    <tr>\n",
       "      <th>499</th>\n",
       "      <td>1414440.0</td>\n",
       "      <td>1</td>\n",
       "      <td>1928</td>\n",
       "      <td>2</td>\n",
       "      <td>0.255319</td>\n",
       "      <td>0.500000</td>\n",
       "      <td>0</td>\n",
       "      <td>0</td>\n",
       "      <td>0</td>\n",
       "      <td>0</td>\n",
       "      <td>...</td>\n",
       "      <td>0</td>\n",
       "      <td>0</td>\n",
       "      <td>0</td>\n",
       "      <td>0</td>\n",
       "      <td>0</td>\n",
       "      <td>0</td>\n",
       "      <td>0</td>\n",
       "      <td>1</td>\n",
       "      <td>0</td>\n",
       "      <td>0</td>\n",
       "    </tr>\n",
       "    <tr>\n",
       "      <th>9</th>\n",
       "      <td>191858.0</td>\n",
       "      <td>0</td>\n",
       "      <td>1920</td>\n",
       "      <td>0</td>\n",
       "      <td>0.306122</td>\n",
       "      <td>0.510417</td>\n",
       "      <td>0</td>\n",
       "      <td>0</td>\n",
       "      <td>1</td>\n",
       "      <td>0</td>\n",
       "      <td>...</td>\n",
       "      <td>0</td>\n",
       "      <td>0</td>\n",
       "      <td>0</td>\n",
       "      <td>0</td>\n",
       "      <td>0</td>\n",
       "      <td>0</td>\n",
       "      <td>0</td>\n",
       "      <td>1</td>\n",
       "      <td>0</td>\n",
       "      <td>0</td>\n",
       "    </tr>\n",
       "    <tr>\n",
       "      <th>4345</th>\n",
       "      <td>2860157.0</td>\n",
       "      <td>0</td>\n",
       "      <td>1996</td>\n",
       "      <td>0</td>\n",
       "      <td>0.000000</td>\n",
       "      <td>0.000000</td>\n",
       "      <td>0</td>\n",
       "      <td>0</td>\n",
       "      <td>0</td>\n",
       "      <td>0</td>\n",
       "      <td>...</td>\n",
       "      <td>0</td>\n",
       "      <td>0</td>\n",
       "      <td>0</td>\n",
       "      <td>0</td>\n",
       "      <td>0</td>\n",
       "      <td>0</td>\n",
       "      <td>1</td>\n",
       "      <td>0</td>\n",
       "      <td>0</td>\n",
       "      <td>0</td>\n",
       "    </tr>\n",
       "    <tr>\n",
       "      <th>1735</th>\n",
       "      <td>2055798.0</td>\n",
       "      <td>0</td>\n",
       "      <td>1948</td>\n",
       "      <td>0</td>\n",
       "      <td>0.000000</td>\n",
       "      <td>0.000000</td>\n",
       "      <td>0</td>\n",
       "      <td>0</td>\n",
       "      <td>0</td>\n",
       "      <td>0</td>\n",
       "      <td>...</td>\n",
       "      <td>0</td>\n",
       "      <td>0</td>\n",
       "      <td>0</td>\n",
       "      <td>0</td>\n",
       "      <td>0</td>\n",
       "      <td>0</td>\n",
       "      <td>0</td>\n",
       "      <td>0</td>\n",
       "      <td>1</td>\n",
       "      <td>0</td>\n",
       "    </tr>\n",
       "    <tr>\n",
       "      <th>715</th>\n",
       "      <td>306611.0</td>\n",
       "      <td>1</td>\n",
       "      <td>1930</td>\n",
       "      <td>3</td>\n",
       "      <td>0.333333</td>\n",
       "      <td>0.406250</td>\n",
       "      <td>0</td>\n",
       "      <td>0</td>\n",
       "      <td>0</td>\n",
       "      <td>0</td>\n",
       "      <td>...</td>\n",
       "      <td>0</td>\n",
       "      <td>0</td>\n",
       "      <td>0</td>\n",
       "      <td>0</td>\n",
       "      <td>0</td>\n",
       "      <td>0</td>\n",
       "      <td>0</td>\n",
       "      <td>0</td>\n",
       "      <td>0</td>\n",
       "      <td>0</td>\n",
       "    </tr>\n",
       "  </tbody>\n",
       "</table>\n",
       "<p>5 rows × 59 columns</p>\n",
       "</div>"
      ],
      "text/plain": [
       "        Turnout  Incumb_Y  Year  Terms_in_office  Seats_up%  Seats_before%  \\\n",
       "499   1414440.0         1  1928                2   0.255319       0.500000   \n",
       "9      191858.0         0  1920                0   0.306122       0.510417   \n",
       "4345  2860157.0         0  1996                0   0.000000       0.000000   \n",
       "1735  2055798.0         0  1948                0   0.000000       0.000000   \n",
       "715    306611.0         1  1930                3   0.333333       0.406250   \n",
       "\n",
       "      State_Alaska  State_Arizona  State_Arkansas  State_California  \\\n",
       "499              0              0               0                 0   \n",
       "9                0              0               1                 0   \n",
       "4345             0              0               0                 0   \n",
       "1735             0              0               0                 0   \n",
       "715              0              0               0                 0   \n",
       "\n",
       "         ...       State_Vermont  State_Virginia  State_Washington  \\\n",
       "499      ...                   0               0                 0   \n",
       "9        ...                   0               0                 0   \n",
       "4345     ...                   0               0                 0   \n",
       "1735     ...                   0               0                 0   \n",
       "715      ...                   0               0                 0   \n",
       "\n",
       "      State_West_Virginia  State_Wisconsin  State_Wyoming  Party_enc_I  \\\n",
       "499                     0                0              0            0   \n",
       "9                       0                0              0            0   \n",
       "4345                    0                0              0            1   \n",
       "1735                    0                0              0            0   \n",
       "715                     0                0              0            0   \n",
       "\n",
       "      Party_enc_R  Party_enc_S  Party_enc_T  \n",
       "499             1            0            0  \n",
       "9               1            0            0  \n",
       "4345            0            0            0  \n",
       "1735            0            1            0  \n",
       "715             0            0            0  \n",
       "\n",
       "[5 rows x 59 columns]"
      ]
     },
     "metadata": {},
     "output_type": "display_data"
    },
    {
     "data": {
      "text/plain": [
       "499     55.30\n",
       "9       34.08\n",
       "4345     0.40\n",
       "1735     0.45\n",
       "715     86.93\n",
       "Name: %, dtype: float64"
      ]
     },
     "metadata": {},
     "output_type": "display_data"
    }
   ],
   "source": [
    "display(X_train.head())\n",
    "display(y_train.head())"
   ]
  },
  {
   "cell_type": "code",
   "execution_count": 93,
   "metadata": {
    "ExecuteTime": {
     "end_time": "2020-08-21T03:22:06.100500Z",
     "start_time": "2020-08-21T03:22:06.085224Z"
    }
   },
   "outputs": [
    {
     "data": {
      "text/plain": [
       "Turnout            1.41444e+06\n",
       "Incumb_Y                     1\n",
       "State                  Indiana\n",
       "Year                      1928\n",
       "Terms_in_office              2\n",
       "Party_enc                    R\n",
       "Seats_up%             0.255319\n",
       "Seats_before%              0.5\n",
       "Name: 499, dtype: object"
      ]
     },
     "execution_count": 93,
     "metadata": {},
     "output_type": "execute_result"
    }
   ],
   "source": [
    "X.loc[499]"
   ]
  },
  {
   "cell_type": "code",
   "execution_count": 96,
   "metadata": {
    "ExecuteTime": {
     "end_time": "2020-08-21T03:23:21.838064Z",
     "start_time": "2020-08-21T03:23:21.828112Z"
    }
   },
   "outputs": [
    {
     "data": {
      "text/plain": [
       "58.19450000000003"
      ]
     },
     "execution_count": 96,
     "metadata": {},
     "output_type": "execute_result"
    }
   ],
   "source": [
    "y_hat_trn[0]"
   ]
  },
  {
   "cell_type": "code",
   "execution_count": 86,
   "metadata": {
    "ExecuteTime": {
     "end_time": "2020-08-21T03:17:02.069593Z",
     "start_time": "2020-08-21T03:17:02.054457Z"
    }
   },
   "outputs": [
    {
     "data": {
      "text/plain": [
       "3.528037     8\n",
       "0.165362     7\n",
       "1.605361     6\n",
       "0.348780     6\n",
       "1.558649     6\n",
       "7.457029     5\n",
       "0.840185     5\n",
       "0.795742     5\n",
       "0.840021     5\n",
       "0.474410     5\n",
       "0.530851     5\n",
       "8.254186     5\n",
       "0.177688     5\n",
       "0.212224     4\n",
       "0.474689     4\n",
       "12.430022    4\n",
       "0.209002     4\n",
       "4.467058     4\n",
       "1.765107     4\n",
       "0.746054     4\n",
       "0.919497     4\n",
       "0.913622     4\n",
       "1.186195     4\n",
       "0.108528     4\n",
       "0.291081     4\n",
       "0.028437     4\n",
       "1.155841     4\n",
       "1.431930     4\n",
       "0.307633     4\n",
       "0.628453     4\n",
       "            ..\n",
       "46.926500    1\n",
       "53.882200    1\n",
       "48.116000    1\n",
       "80.653100    1\n",
       "2.640267     1\n",
       "50.593700    1\n",
       "0.551020     1\n",
       "52.931700    1\n",
       "66.979600    1\n",
       "48.456200    1\n",
       "56.351000    1\n",
       "0.896300     1\n",
       "49.693300    1\n",
       "51.202200    1\n",
       "52.943600    1\n",
       "41.511100    1\n",
       "39.287900    1\n",
       "48.122200    1\n",
       "49.547500    1\n",
       "17.853933    1\n",
       "22.718102    1\n",
       "38.883400    1\n",
       "50.963500    1\n",
       "53.262700    1\n",
       "60.471100    1\n",
       "0.679610     1\n",
       "42.411500    1\n",
       "47.396181    1\n",
       "36.485150    1\n",
       "59.119500    1\n",
       "Length: 3634, dtype: int64"
      ]
     },
     "execution_count": 86,
     "metadata": {},
     "output_type": "execute_result"
    }
   ],
   "source": [
    "pd.Series(y_hat_trn).value_counts()"
   ]
  },
  {
   "cell_type": "markdown",
   "metadata": {
    "heading_collapsed": true
   },
   "source": [
    "## Gender stuff"
   ]
  },
  {
   "cell_type": "code",
   "execution_count": 22,
   "metadata": {
    "ExecuteTime": {
     "end_time": "2020-08-21T01:45:59.230520Z",
     "start_time": "2020-08-21T01:45:59.212474Z"
    },
    "code_folding": [
     0
    ],
    "hidden": true
   },
   "outputs": [],
   "source": [
    "def gender_guesser(inp_df, count_max=1000, g_thresh=0.6, online=False):\n",
    "    import pandas as pd\n",
    "    import numpy as np\n",
    "    from genderize import Genderize\n",
    "    \n",
    "    ## Instantiate Genderize + making varibles for use\n",
    "    g_izer = Genderize()\n",
    "    out_df = inp_df.copy()\n",
    "    count = 0\n",
    "    \n",
    "    ## Q.C. for formatting\n",
    "    if 'Gender' not in out_df.columns:\n",
    "        out_df['Gender'] = 'None'\n",
    "\n",
    "    ## Looping through ea. name and making a guess\n",
    "    for idx, name in zip(out_df.index, out_df['First_name']):\n",
    "        ## Filtering out previously filled items\n",
    "        if out_df['Gender'].loc[idx] == 'None':\n",
    "            pred = None\n",
    "            ## Try statement for api error results\n",
    "            try:\n",
    "                ## Pull guess dict from api or manufacture one\n",
    "                if online:\n",
    "                    guess = g_izer.get([name])[0]\n",
    "                else:\n",
    "                    guess = {}\n",
    "                    guess['gender'] = np.random.choice(['male', 'female'])\n",
    "                    guess['probability'] = np.random.randint(0.01, high=1)\n",
    "\n",
    "                ## Executing custom threshold for gender probability\n",
    "                if guess['gender'] == 'male':\n",
    "                    if guess['probability'] < g_thresh:\n",
    "                        pred = 'F'\n",
    "                    else:\n",
    "                        pred = 'M'\n",
    "\n",
    "                if guess['gender'] == 'female':\n",
    "                    if guess['probability'] < g_thresh:\n",
    "                        pred = 'M'\n",
    "                    else:\n",
    "                        pred = 'F'\n",
    "\n",
    "                ## Setting the prediction into the correct index\n",
    "                out_df.at[idx, 'Gender'] = pred\n",
    "                count += 1\n",
    "                \n",
    "            except Exception as e: #GenderizeException:\n",
    "                print('Pred Error:\\n')\n",
    "                print(e, '\\n')\n",
    "                break\n",
    "        \n",
    "        ## Pseudo call limit for offline testing\n",
    "        if (1 < count) & (count % count_max == 0):\n",
    "            print(('***'*10), f'Hit {count_max} name limit.', ('***'*10))\n",
    "            return out_df\n",
    "        \n",
    "    print(('***'*10),f'Finished {count} names. Remaining available: {count_max-count}.',('***'*10))\n",
    "    return out_df"
   ]
  },
  {
   "cell_type": "code",
   "execution_count": 23,
   "metadata": {
    "ExecuteTime": {
     "end_time": "2020-08-21T01:46:00.828377Z",
     "start_time": "2020-08-21T01:45:59.526855Z"
    },
    "hidden": true
   },
   "outputs": [
    {
     "name": "stdout",
     "output_type": "stream",
     "text": [
      "Pred Error:\n",
      "\n",
      "('Request limit reached', 429, {'Server': 'nginx/1.16.1', 'Date': 'Fri, 21 Aug 2020 01:46:14 GMT', 'Content-Type': 'application/json; charset=utf-8', 'Content-Length': '33', 'Connection': 'keep-alive', 'Access-Control-Allow-Origin': '*', 'Access-Control-Allow-Methods': 'GET', 'Access-Control-Allow-Headers': 'Content-Type, X-Genderize-Source', 'X-Rate-Limit-Limit': '1000', 'X-Rate-Reset': '80026', 'X-Rate-Limit-Remaining': '0', 'ETag': 'W/\"21-tYoIBroDGdB+35cIAOMCdpXfqjI\"'}) \n",
      "\n",
      "****************************** Finished 0 names. Remaining available: 1000. ******************************\n"
     ]
    }
   ],
   "source": [
    "df_gend = gender_guesser(df_gend, online=True)"
   ]
  },
  {
   "cell_type": "code",
   "execution_count": null,
   "metadata": {
    "hidden": true
   },
   "outputs": [],
   "source": [
    "df_gend['Gender'].value_counts()"
   ]
  },
  {
   "cell_type": "code",
   "execution_count": 101,
   "metadata": {
    "ExecuteTime": {
     "end_time": "2020-08-20T01:10:39.904247Z",
     "start_time": "2020-08-20T01:10:39.880305Z"
    },
    "hidden": true
   },
   "outputs": [
    {
     "data": {
      "text/plain": [
       "None    3588\n",
       "M       1844\n",
       "F         94\n",
       "Name: Gender, dtype: int64"
      ]
     },
     "execution_count": 101,
     "metadata": {},
     "output_type": "execute_result"
    }
   ],
   "source": [
    "df_gend['Gender'].value_counts()"
   ]
  },
  {
   "cell_type": "code",
   "execution_count": 104,
   "metadata": {
    "ExecuteTime": {
     "end_time": "2020-08-20T01:12:55.309122Z",
     "start_time": "2020-08-20T01:12:55.287220Z"
    },
    "hidden": true
   },
   "outputs": [
    {
     "data": {
      "text/plain": [
       "M       2757\n",
       "None    2588\n",
       "F        150\n",
       "Name: Gender, dtype: int64"
      ]
     },
     "execution_count": 104,
     "metadata": {},
     "output_type": "execute_result"
    }
   ],
   "source": [
    "df_gend['Gender'].value_counts()"
   ]
  },
  {
   "cell_type": "code",
   "execution_count": 106,
   "metadata": {
    "ExecuteTime": {
     "end_time": "2020-08-20T01:17:28.356876Z",
     "start_time": "2020-08-20T01:17:28.324962Z"
    },
    "hidden": true
   },
   "outputs": [
    {
     "data": {
      "text/plain": [
       "M       3616\n",
       "None    1588\n",
       "F        259\n",
       "Name: Gender, dtype: int64"
      ]
     },
     "execution_count": 106,
     "metadata": {},
     "output_type": "execute_result"
    }
   ],
   "source": [
    "df_gend['Gender'].value_counts()"
   ]
  },
  {
   "cell_type": "code",
   "execution_count": 109,
   "metadata": {
    "ExecuteTime": {
     "end_time": "2020-08-20T01:24:49.450217Z",
     "start_time": "2020-08-20T01:24:49.437250Z"
    },
    "hidden": true
   },
   "outputs": [
    {
     "data": {
      "text/plain": [
       "M       4448\n",
       "None     588\n",
       "F        406\n",
       "Name: Gender, dtype: int64"
      ]
     },
     "execution_count": 109,
     "metadata": {},
     "output_type": "execute_result"
    }
   ],
   "source": [
    "df_gend['Gender'].value_counts()"
   ]
  },
  {
   "cell_type": "code",
   "execution_count": 151,
   "metadata": {
    "ExecuteTime": {
     "end_time": "2020-08-20T02:47:50.068232Z",
     "start_time": "2020-08-20T02:47:50.012887Z"
    },
    "hidden": true,
    "scrolled": true
   },
   "outputs": [],
   "source": [
    "holder_m = ['James Eli Watson', 'Selden Spencer', 'Forsman', 'Trudell', \n",
    "          'Robert La Follette', 'Cherry', 'France', 'Eickelberg', \n",
    "          'Day', 'Kindler', 'Carey', 'Duly McCone', 'Huey Long', 'Lanier', \n",
    "          'Glen Corkery', 'Starr', 'Hager', 'Verhei', 'Happy Chandler', \n",
    "          'Philo Farnsworth', 'Ona Searles', 'Lewis Haley Tiley', 'Cecil Creel',\n",
    "          'John Marion Morris', 'Lynn Frazier', 'Glen Taylor', 'Hanna',\n",
    "          'Lynn Stumbaugh', 'Alexis DuPont Bayard', 'Arthur Vivian Watkins',\n",
    "          'Val Bjornson', 'Laurence Pickett', 'Lou Welch', 'John Little McClellan',\n",
    "          'Cecil Underwood', 'Melvin Babcock Morgan', 'Cecil Heftel', 'Cecil Pitard',\n",
    "          'Laurence Burton', 'Lynn Henderson', 'Lorin Oxley', 'Chic Hecht',\n",
    "          'Arlyn Wollenburg', 'Lou Gold', 'Mel Logan', 'Lindsey Graham',\n",
    "          'Lamar Alexander', 'John Neely Kennedy', 'Maclyn Stringer', 'Cam Cavasso',\n",
    "          'LeAlan Jones', 'Rand Paul', 'Tracy Potter', 'David Lory VanDerBeek',\n",
    "          'Paul Lindsey Sadler']\n",
    "\n",
    "holder_n = ['Miscellaneous', 'Others', 'Write-In Candidates']\n",
    "\n",
    "holder_c = ['Lawrence Gilfedder,Candidate for Governor in 1948. Ran for Governor in 1952 and 1954. Ran for Senate in 1958, 1960, 1962, 1964, 1966, and 1970.',\n",
    "            'Jerry Zeldin, Laurel Springs', 'Howard Cannon, City Attorney of Las Vegas',\n",
    "            'Douglas McKay,former Governor of Oregon  and United States Secretary of the Interior',\n",
    "            'Efia Nwangaza*']\n",
    "\n",
    "for i, name in zip(test.index, test['Cln_name']):\n",
    "    for target in holder_m:\n",
    "        if name == target:\n",
    "            test.at[i, 'Gender'] = 'M'\n",
    "            \n",
    "    for target in holder_n:\n",
    "        if name == target:\n",
    "            test.at[i, 'Gender'] = 'None'\n",
    "            \n",
    "    if name == holder_c[0]:\n",
    "        n_name = 'Lawrence Gilfedder'\n",
    "        test.at[i, 'Cln_name'] = n_name\n",
    "        test.at[i, 'Gender'] = 'M'\n",
    "    elif name == holder_c[1]:\n",
    "        n_name = 'Jerry Zeldin'\n",
    "        test.at[i, 'Cln_name'] = n_name\n",
    "        test.at[i, 'Gender'] = 'M'\n",
    "    elif name == holder_c[2]:\n",
    "        n_name = 'Howard Cannon'\n",
    "        test.at[i, 'Cln_name'] = n_name\n",
    "        test.at[i, 'Gender'] = 'M'\n",
    "    elif name == holder_c[3]:\n",
    "        n_name = 'Douglas Mckay'\n",
    "        test.at[i, 'Cln_name'] = n_name\n",
    "        test.at[i, 'Gender'] = 'M'\n",
    "    elif name == holder_c[4]:\n",
    "        n_name = 'Efia Nwangaza'\n",
    "        test.at[i, 'Cln_name'] = n_name\n",
    "            "
   ]
  },
  {
   "cell_type": "code",
   "execution_count": 5,
   "metadata": {
    "ExecuteTime": {
     "end_time": "2020-08-21T01:38:57.984540Z",
     "start_time": "2020-08-21T01:38:57.858134Z"
    },
    "hidden": true,
    "scrolled": true
   },
   "outputs": [
    {
     "ename": "KeyError",
     "evalue": "'Gender'",
     "output_type": "error",
     "traceback": [
      "\u001b[1;31m---------------------------------------------------------------------------\u001b[0m",
      "\u001b[1;31mKeyError\u001b[0m                                  Traceback (most recent call last)",
      "\u001b[1;32m~\\Anaconda3\\envs\\learn-env\\lib\\site-packages\\pandas\\core\\indexes\\base.py\u001b[0m in \u001b[0;36mget_loc\u001b[1;34m(self, key, method, tolerance)\u001b[0m\n\u001b[0;32m   3077\u001b[0m             \u001b[1;32mtry\u001b[0m\u001b[1;33m:\u001b[0m\u001b[1;33m\u001b[0m\u001b[0m\n\u001b[1;32m-> 3078\u001b[1;33m                 \u001b[1;32mreturn\u001b[0m \u001b[0mself\u001b[0m\u001b[1;33m.\u001b[0m\u001b[0m_engine\u001b[0m\u001b[1;33m.\u001b[0m\u001b[0mget_loc\u001b[0m\u001b[1;33m(\u001b[0m\u001b[0mkey\u001b[0m\u001b[1;33m)\u001b[0m\u001b[1;33m\u001b[0m\u001b[0m\n\u001b[0m\u001b[0;32m   3079\u001b[0m             \u001b[1;32mexcept\u001b[0m \u001b[0mKeyError\u001b[0m\u001b[1;33m:\u001b[0m\u001b[1;33m\u001b[0m\u001b[0m\n",
      "\u001b[1;32mpandas\\_libs\\index.pyx\u001b[0m in \u001b[0;36mpandas._libs.index.IndexEngine.get_loc\u001b[1;34m()\u001b[0m\n",
      "\u001b[1;32mpandas\\_libs\\index.pyx\u001b[0m in \u001b[0;36mpandas._libs.index.IndexEngine.get_loc\u001b[1;34m()\u001b[0m\n",
      "\u001b[1;32mpandas\\_libs\\hashtable_class_helper.pxi\u001b[0m in \u001b[0;36mpandas._libs.hashtable.PyObjectHashTable.get_item\u001b[1;34m()\u001b[0m\n",
      "\u001b[1;32mpandas\\_libs\\hashtable_class_helper.pxi\u001b[0m in \u001b[0;36mpandas._libs.hashtable.PyObjectHashTable.get_item\u001b[1;34m()\u001b[0m\n",
      "\u001b[1;31mKeyError\u001b[0m: 'Gender'",
      "\nDuring handling of the above exception, another exception occurred:\n",
      "\u001b[1;31mKeyError\u001b[0m                                  Traceback (most recent call last)",
      "\u001b[1;32m<ipython-input-5-39099eb0bb52>\u001b[0m in \u001b[0;36m<module>\u001b[1;34m()\u001b[0m\n\u001b[1;32m----> 1\u001b[1;33m \u001b[0mtest\u001b[0m \u001b[1;33m=\u001b[0m \u001b[0mdf_gend\u001b[0m\u001b[1;33m[\u001b[0m\u001b[0mdf_gend\u001b[0m\u001b[1;33m[\u001b[0m\u001b[1;34m'Gender'\u001b[0m\u001b[1;33m]\u001b[0m \u001b[1;33m==\u001b[0m \u001b[1;34m'F'\u001b[0m\u001b[1;33m]\u001b[0m\u001b[1;33m.\u001b[0m\u001b[0mcopy\u001b[0m\u001b[1;33m(\u001b[0m\u001b[1;33m)\u001b[0m\u001b[1;33m\u001b[0m\u001b[0m\n\u001b[0m\u001b[0;32m      2\u001b[0m \u001b[0mtest\u001b[0m \u001b[1;33m=\u001b[0m \u001b[0mtest\u001b[0m\u001b[1;33m[\u001b[0m\u001b[0mtest\u001b[0m\u001b[1;33m[\u001b[0m\u001b[1;34m'Gender'\u001b[0m\u001b[1;33m]\u001b[0m \u001b[1;33m==\u001b[0m \u001b[1;34m'F'\u001b[0m\u001b[1;33m]\u001b[0m\u001b[1;33m.\u001b[0m\u001b[0mcopy\u001b[0m\u001b[1;33m(\u001b[0m\u001b[1;33m)\u001b[0m\u001b[1;33m\u001b[0m\u001b[0m\n\u001b[0;32m      3\u001b[0m \u001b[0mprint\u001b[0m\u001b[1;33m(\u001b[0m\u001b[0mlen\u001b[0m\u001b[1;33m(\u001b[0m\u001b[0mtest\u001b[0m\u001b[1;33m[\u001b[0m\u001b[1;34m'Gender'\u001b[0m\u001b[1;33m]\u001b[0m\u001b[1;33m)\u001b[0m\u001b[1;33m,\u001b[0m \u001b[1;34m'\\n'\u001b[0m\u001b[1;33m)\u001b[0m\u001b[1;33m\u001b[0m\u001b[0m\n\u001b[0;32m      4\u001b[0m \u001b[1;32mfor\u001b[0m \u001b[0mname\u001b[0m \u001b[1;32min\u001b[0m \u001b[0mtest\u001b[0m\u001b[1;33m[\u001b[0m\u001b[1;34m'Cln_name'\u001b[0m\u001b[1;33m]\u001b[0m\u001b[1;33m:\u001b[0m\u001b[1;33m\u001b[0m\u001b[0m\n\u001b[0;32m      5\u001b[0m     \u001b[0mprint\u001b[0m\u001b[1;33m(\u001b[0m\u001b[0mname\u001b[0m\u001b[1;33m)\u001b[0m\u001b[1;33m\u001b[0m\u001b[0m\n",
      "\u001b[1;32m~\\Anaconda3\\envs\\learn-env\\lib\\site-packages\\pandas\\core\\frame.py\u001b[0m in \u001b[0;36m__getitem__\u001b[1;34m(self, key)\u001b[0m\n\u001b[0;32m   2686\u001b[0m             \u001b[1;32mreturn\u001b[0m \u001b[0mself\u001b[0m\u001b[1;33m.\u001b[0m\u001b[0m_getitem_multilevel\u001b[0m\u001b[1;33m(\u001b[0m\u001b[0mkey\u001b[0m\u001b[1;33m)\u001b[0m\u001b[1;33m\u001b[0m\u001b[0m\n\u001b[0;32m   2687\u001b[0m         \u001b[1;32melse\u001b[0m\u001b[1;33m:\u001b[0m\u001b[1;33m\u001b[0m\u001b[0m\n\u001b[1;32m-> 2688\u001b[1;33m             \u001b[1;32mreturn\u001b[0m \u001b[0mself\u001b[0m\u001b[1;33m.\u001b[0m\u001b[0m_getitem_column\u001b[0m\u001b[1;33m(\u001b[0m\u001b[0mkey\u001b[0m\u001b[1;33m)\u001b[0m\u001b[1;33m\u001b[0m\u001b[0m\n\u001b[0m\u001b[0;32m   2689\u001b[0m \u001b[1;33m\u001b[0m\u001b[0m\n\u001b[0;32m   2690\u001b[0m     \u001b[1;32mdef\u001b[0m \u001b[0m_getitem_column\u001b[0m\u001b[1;33m(\u001b[0m\u001b[0mself\u001b[0m\u001b[1;33m,\u001b[0m \u001b[0mkey\u001b[0m\u001b[1;33m)\u001b[0m\u001b[1;33m:\u001b[0m\u001b[1;33m\u001b[0m\u001b[0m\n",
      "\u001b[1;32m~\\Anaconda3\\envs\\learn-env\\lib\\site-packages\\pandas\\core\\frame.py\u001b[0m in \u001b[0;36m_getitem_column\u001b[1;34m(self, key)\u001b[0m\n\u001b[0;32m   2693\u001b[0m         \u001b[1;31m# get column\u001b[0m\u001b[1;33m\u001b[0m\u001b[1;33m\u001b[0m\u001b[0m\n\u001b[0;32m   2694\u001b[0m         \u001b[1;32mif\u001b[0m \u001b[0mself\u001b[0m\u001b[1;33m.\u001b[0m\u001b[0mcolumns\u001b[0m\u001b[1;33m.\u001b[0m\u001b[0mis_unique\u001b[0m\u001b[1;33m:\u001b[0m\u001b[1;33m\u001b[0m\u001b[0m\n\u001b[1;32m-> 2695\u001b[1;33m             \u001b[1;32mreturn\u001b[0m \u001b[0mself\u001b[0m\u001b[1;33m.\u001b[0m\u001b[0m_get_item_cache\u001b[0m\u001b[1;33m(\u001b[0m\u001b[0mkey\u001b[0m\u001b[1;33m)\u001b[0m\u001b[1;33m\u001b[0m\u001b[0m\n\u001b[0m\u001b[0;32m   2696\u001b[0m \u001b[1;33m\u001b[0m\u001b[0m\n\u001b[0;32m   2697\u001b[0m         \u001b[1;31m# duplicate columns & possible reduce dimensionality\u001b[0m\u001b[1;33m\u001b[0m\u001b[1;33m\u001b[0m\u001b[0m\n",
      "\u001b[1;32m~\\Anaconda3\\envs\\learn-env\\lib\\site-packages\\pandas\\core\\generic.py\u001b[0m in \u001b[0;36m_get_item_cache\u001b[1;34m(self, item)\u001b[0m\n\u001b[0;32m   2487\u001b[0m         \u001b[0mres\u001b[0m \u001b[1;33m=\u001b[0m \u001b[0mcache\u001b[0m\u001b[1;33m.\u001b[0m\u001b[0mget\u001b[0m\u001b[1;33m(\u001b[0m\u001b[0mitem\u001b[0m\u001b[1;33m)\u001b[0m\u001b[1;33m\u001b[0m\u001b[0m\n\u001b[0;32m   2488\u001b[0m         \u001b[1;32mif\u001b[0m \u001b[0mres\u001b[0m \u001b[1;32mis\u001b[0m \u001b[1;32mNone\u001b[0m\u001b[1;33m:\u001b[0m\u001b[1;33m\u001b[0m\u001b[0m\n\u001b[1;32m-> 2489\u001b[1;33m             \u001b[0mvalues\u001b[0m \u001b[1;33m=\u001b[0m \u001b[0mself\u001b[0m\u001b[1;33m.\u001b[0m\u001b[0m_data\u001b[0m\u001b[1;33m.\u001b[0m\u001b[0mget\u001b[0m\u001b[1;33m(\u001b[0m\u001b[0mitem\u001b[0m\u001b[1;33m)\u001b[0m\u001b[1;33m\u001b[0m\u001b[0m\n\u001b[0m\u001b[0;32m   2490\u001b[0m             \u001b[0mres\u001b[0m \u001b[1;33m=\u001b[0m \u001b[0mself\u001b[0m\u001b[1;33m.\u001b[0m\u001b[0m_box_item_values\u001b[0m\u001b[1;33m(\u001b[0m\u001b[0mitem\u001b[0m\u001b[1;33m,\u001b[0m \u001b[0mvalues\u001b[0m\u001b[1;33m)\u001b[0m\u001b[1;33m\u001b[0m\u001b[0m\n\u001b[0;32m   2491\u001b[0m             \u001b[0mcache\u001b[0m\u001b[1;33m[\u001b[0m\u001b[0mitem\u001b[0m\u001b[1;33m]\u001b[0m \u001b[1;33m=\u001b[0m \u001b[0mres\u001b[0m\u001b[1;33m\u001b[0m\u001b[0m\n",
      "\u001b[1;32m~\\Anaconda3\\envs\\learn-env\\lib\\site-packages\\pandas\\core\\internals.py\u001b[0m in \u001b[0;36mget\u001b[1;34m(self, item, fastpath)\u001b[0m\n\u001b[0;32m   4113\u001b[0m \u001b[1;33m\u001b[0m\u001b[0m\n\u001b[0;32m   4114\u001b[0m             \u001b[1;32mif\u001b[0m \u001b[1;32mnot\u001b[0m \u001b[0misna\u001b[0m\u001b[1;33m(\u001b[0m\u001b[0mitem\u001b[0m\u001b[1;33m)\u001b[0m\u001b[1;33m:\u001b[0m\u001b[1;33m\u001b[0m\u001b[0m\n\u001b[1;32m-> 4115\u001b[1;33m                 \u001b[0mloc\u001b[0m \u001b[1;33m=\u001b[0m \u001b[0mself\u001b[0m\u001b[1;33m.\u001b[0m\u001b[0mitems\u001b[0m\u001b[1;33m.\u001b[0m\u001b[0mget_loc\u001b[0m\u001b[1;33m(\u001b[0m\u001b[0mitem\u001b[0m\u001b[1;33m)\u001b[0m\u001b[1;33m\u001b[0m\u001b[0m\n\u001b[0m\u001b[0;32m   4116\u001b[0m             \u001b[1;32melse\u001b[0m\u001b[1;33m:\u001b[0m\u001b[1;33m\u001b[0m\u001b[0m\n\u001b[0;32m   4117\u001b[0m                 \u001b[0mindexer\u001b[0m \u001b[1;33m=\u001b[0m \u001b[0mnp\u001b[0m\u001b[1;33m.\u001b[0m\u001b[0marange\u001b[0m\u001b[1;33m(\u001b[0m\u001b[0mlen\u001b[0m\u001b[1;33m(\u001b[0m\u001b[0mself\u001b[0m\u001b[1;33m.\u001b[0m\u001b[0mitems\u001b[0m\u001b[1;33m)\u001b[0m\u001b[1;33m)\u001b[0m\u001b[1;33m[\u001b[0m\u001b[0misna\u001b[0m\u001b[1;33m(\u001b[0m\u001b[0mself\u001b[0m\u001b[1;33m.\u001b[0m\u001b[0mitems\u001b[0m\u001b[1;33m)\u001b[0m\u001b[1;33m]\u001b[0m\u001b[1;33m\u001b[0m\u001b[0m\n",
      "\u001b[1;32m~\\Anaconda3\\envs\\learn-env\\lib\\site-packages\\pandas\\core\\indexes\\base.py\u001b[0m in \u001b[0;36mget_loc\u001b[1;34m(self, key, method, tolerance)\u001b[0m\n\u001b[0;32m   3078\u001b[0m                 \u001b[1;32mreturn\u001b[0m \u001b[0mself\u001b[0m\u001b[1;33m.\u001b[0m\u001b[0m_engine\u001b[0m\u001b[1;33m.\u001b[0m\u001b[0mget_loc\u001b[0m\u001b[1;33m(\u001b[0m\u001b[0mkey\u001b[0m\u001b[1;33m)\u001b[0m\u001b[1;33m\u001b[0m\u001b[0m\n\u001b[0;32m   3079\u001b[0m             \u001b[1;32mexcept\u001b[0m \u001b[0mKeyError\u001b[0m\u001b[1;33m:\u001b[0m\u001b[1;33m\u001b[0m\u001b[0m\n\u001b[1;32m-> 3080\u001b[1;33m                 \u001b[1;32mreturn\u001b[0m \u001b[0mself\u001b[0m\u001b[1;33m.\u001b[0m\u001b[0m_engine\u001b[0m\u001b[1;33m.\u001b[0m\u001b[0mget_loc\u001b[0m\u001b[1;33m(\u001b[0m\u001b[0mself\u001b[0m\u001b[1;33m.\u001b[0m\u001b[0m_maybe_cast_indexer\u001b[0m\u001b[1;33m(\u001b[0m\u001b[0mkey\u001b[0m\u001b[1;33m)\u001b[0m\u001b[1;33m)\u001b[0m\u001b[1;33m\u001b[0m\u001b[0m\n\u001b[0m\u001b[0;32m   3081\u001b[0m \u001b[1;33m\u001b[0m\u001b[0m\n\u001b[0;32m   3082\u001b[0m         \u001b[0mindexer\u001b[0m \u001b[1;33m=\u001b[0m \u001b[0mself\u001b[0m\u001b[1;33m.\u001b[0m\u001b[0mget_indexer\u001b[0m\u001b[1;33m(\u001b[0m\u001b[1;33m[\u001b[0m\u001b[0mkey\u001b[0m\u001b[1;33m]\u001b[0m\u001b[1;33m,\u001b[0m \u001b[0mmethod\u001b[0m\u001b[1;33m=\u001b[0m\u001b[0mmethod\u001b[0m\u001b[1;33m,\u001b[0m \u001b[0mtolerance\u001b[0m\u001b[1;33m=\u001b[0m\u001b[0mtolerance\u001b[0m\u001b[1;33m)\u001b[0m\u001b[1;33m\u001b[0m\u001b[0m\n",
      "\u001b[1;32mpandas\\_libs\\index.pyx\u001b[0m in \u001b[0;36mpandas._libs.index.IndexEngine.get_loc\u001b[1;34m()\u001b[0m\n",
      "\u001b[1;32mpandas\\_libs\\index.pyx\u001b[0m in \u001b[0;36mpandas._libs.index.IndexEngine.get_loc\u001b[1;34m()\u001b[0m\n",
      "\u001b[1;32mpandas\\_libs\\hashtable_class_helper.pxi\u001b[0m in \u001b[0;36mpandas._libs.hashtable.PyObjectHashTable.get_item\u001b[1;34m()\u001b[0m\n",
      "\u001b[1;32mpandas\\_libs\\hashtable_class_helper.pxi\u001b[0m in \u001b[0;36mpandas._libs.hashtable.PyObjectHashTable.get_item\u001b[1;34m()\u001b[0m\n",
      "\u001b[1;31mKeyError\u001b[0m: 'Gender'"
     ]
    }
   ],
   "source": [
    "test = df_gend[df_gend['Gender'] == 'F'].copy()\n",
    "test = test[test['Gender'] == 'F'].copy()\n",
    "print(len(test['Gender']), '\\n')\n",
    "for name in test['Cln_name']:\n",
    "    print(name)\n"
   ]
  },
  {
   "cell_type": "code",
   "execution_count": 154,
   "metadata": {
    "ExecuteTime": {
     "end_time": "2020-08-20T02:48:50.507675Z",
     "start_time": "2020-08-20T02:48:50.481044Z"
    },
    "hidden": true
   },
   "outputs": [
    {
     "data": {
      "text/html": [
       "<div>\n",
       "<style scoped>\n",
       "    .dataframe tbody tr th:only-of-type {\n",
       "        vertical-align: middle;\n",
       "    }\n",
       "\n",
       "    .dataframe tbody tr th {\n",
       "        vertical-align: top;\n",
       "    }\n",
       "\n",
       "    .dataframe thead th {\n",
       "        text-align: right;\n",
       "    }\n",
       "</style>\n",
       "<table border=\"1\" class=\"dataframe\">\n",
       "  <thead>\n",
       "    <tr style=\"text-align: right;\">\n",
       "      <th></th>\n",
       "      <th>%</th>\n",
       "      <th>Turnout</th>\n",
       "      <th>Incumb_Y</th>\n",
       "      <th>State</th>\n",
       "      <th>Cln_name</th>\n",
       "      <th>Year</th>\n",
       "      <th>Terms_in_office</th>\n",
       "      <th>Party_enc</th>\n",
       "      <th>First_name</th>\n",
       "      <th>Seats_up%</th>\n",
       "      <th>Seats_before%</th>\n",
       "      <th>Gender</th>\n",
       "    </tr>\n",
       "  </thead>\n",
       "  <tbody>\n",
       "    <tr>\n",
       "      <th>4406</th>\n",
       "      <td>100.0</td>\n",
       "      <td>NaN</td>\n",
       "      <td>0</td>\n",
       "      <td>Arkansas</td>\n",
       "      <td>Ophie Beltran</td>\n",
       "      <td>1998</td>\n",
       "      <td>0</td>\n",
       "      <td>T</td>\n",
       "      <td>Ophie</td>\n",
       "      <td>0.0</td>\n",
       "      <td>0.0</td>\n",
       "      <td>F</td>\n",
       "    </tr>\n",
       "  </tbody>\n",
       "</table>\n",
       "</div>"
      ],
      "text/plain": [
       "          %  Turnout  Incumb_Y     State       Cln_name  Year  \\\n",
       "4406  100.0      NaN         0  Arkansas  Ophie Beltran  1998   \n",
       "\n",
       "      Terms_in_office Party_enc First_name  Seats_up%  Seats_before% Gender  \n",
       "4406                0         T      Ophie        0.0            0.0      F  "
      ]
     },
     "execution_count": 154,
     "metadata": {},
     "output_type": "execute_result"
    }
   ],
   "source": [
    "test[test['Turnout'].isna()]"
   ]
  },
  {
   "cell_type": "markdown",
   "metadata": {},
   "source": [
    "## Next.."
   ]
  },
  {
   "cell_type": "code",
   "execution_count": null,
   "metadata": {},
   "outputs": [],
   "source": []
  },
  {
   "cell_type": "code",
   "execution_count": null,
   "metadata": {},
   "outputs": [],
   "source": [
    "## Make gender collection function #####################\n",
    "## pickle/to_csv funct/df to Yish for help #############\n",
    "## Keep year? Set_index as year (as datetime)\n",
    "## Split % off as target\n",
    "## OHE States, Party_enc\n",
    "## RF/Tree Regressors 1st XGBoost?\n",
    "## add first_name columns into df_fin ##################\n",
    "## Make sure Turnout is ok as int. #####################"
   ]
  },
  {
   "cell_type": "code",
   "execution_count": 95,
   "metadata": {
    "ExecuteTime": {
     "end_time": "2020-08-20T00:58:55.885244Z",
     "start_time": "2020-08-20T00:58:55.877530Z"
    }
   },
   "outputs": [],
   "source": [
    "# test_df = df[df['Year'] == 2006].copy()\n",
    "# display(test_df.head())\n",
    "# display(test_df.info())"
   ]
  },
  {
   "cell_type": "code",
   "execution_count": 94,
   "metadata": {
    "ExecuteTime": {
     "end_time": "2020-08-20T00:58:50.689484Z",
     "start_time": "2020-08-20T00:58:50.681608Z"
    },
    "scrolled": true
   },
   "outputs": [],
   "source": [
    "# test_df = gender_guesser(test_df, count_max=50)\n",
    "# display(test_df.head())\n",
    "# display(test_df.tail())"
   ]
  }
 ],
 "metadata": {
  "kernelspec": {
   "display_name": "Python 3",
   "language": "python",
   "name": "python3"
  },
  "language_info": {
   "codemirror_mode": {
    "name": "ipython",
    "version": 3
   },
   "file_extension": ".py",
   "mimetype": "text/x-python",
   "name": "python",
   "nbconvert_exporter": "python",
   "pygments_lexer": "ipython3",
   "version": "3.6.6"
  },
  "toc": {
   "base_numbering": 1,
   "nav_menu": {},
   "number_sections": true,
   "sideBar": true,
   "skip_h1_title": false,
   "title_cell": "Table of Contents",
   "title_sidebar": "Contents",
   "toc_cell": false,
   "toc_position": {},
   "toc_section_display": true,
   "toc_window_display": false
  },
  "varInspector": {
   "cols": {
    "lenName": 16,
    "lenType": 16,
    "lenVar": 40
   },
   "kernels_config": {
    "python": {
     "delete_cmd_postfix": "",
     "delete_cmd_prefix": "del ",
     "library": "var_list.py",
     "varRefreshCmd": "print(var_dic_list())"
    },
    "r": {
     "delete_cmd_postfix": ") ",
     "delete_cmd_prefix": "rm(",
     "library": "var_list.r",
     "varRefreshCmd": "cat(var_dic_list()) "
    }
   },
   "types_to_exclude": [
    "module",
    "function",
    "builtin_function_or_method",
    "instance",
    "_Feature"
   ],
   "window_display": false
  }
 },
 "nbformat": 4,
 "nbformat_minor": 2
}
