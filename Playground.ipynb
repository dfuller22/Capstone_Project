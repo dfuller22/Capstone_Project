{
 "cells": [
  {
   "cell_type": "markdown",
   "metadata": {},
   "source": [
    "# Imports, Functions & Testing"
   ]
  },
  {
   "cell_type": "code",
   "execution_count": 1,
   "metadata": {
    "ExecuteTime": {
     "end_time": "2020-07-27T01:39:32.067085Z",
     "start_time": "2020-07-27T01:39:30.353449Z"
    }
   },
   "outputs": [],
   "source": [
    "import pandas as pd\n",
    "import numpy as np\n",
    "import requests\n",
    "import re\n",
    "import pickle\n",
    "from bs4 import BeautifulSoup"
   ]
  },
  {
   "cell_type": "code",
   "execution_count": 2,
   "metadata": {
    "ExecuteTime": {
     "end_time": "2020-07-27T01:39:32.103394Z",
     "start_time": "2020-07-27T01:39:32.070133Z"
    },
    "code_folding": [
     0
    ]
   },
   "outputs": [],
   "source": [
    "def gen_election_cleaner(df, verbose=1):\n",
    "    import pandas as pd\n",
    "    \n",
    "    df_cln = df.copy()\n",
    "    \n",
    "    if verbose in [1,2]:\n",
    "        ## Printing startpoint\n",
    "        print('O.G. Copy:')\n",
    "        print('---'*20)\n",
    "        display(df_cln)\n",
    "\n",
    "    ## Setting columns manually + Q.C.\n",
    "    df_cln.columns = ['Null', 'Party', 'Candidate', 'Votes', '%of_Vote']\n",
    "    if verbose == 2:\n",
    "        print('\\nNew Column Headers:')\n",
    "        print('---'*20)\n",
    "        display(df_cln)\n",
    "\n",
    "    ## Dropping irrelevant information + Q.C.\n",
    "    df_cln.drop(index=[0, 6, 8], inplace=True)\n",
    "    if verbose == 2:\n",
    "        print('\\nDropping Rows:')\n",
    "        print('---'*20)\n",
    "        display(df_cln)\n",
    "\n",
    "    ## Flip and place Turnout as its own feature + Q.C.\n",
    "    for idx, v, k in zip(df_cln.index, df_cln['Null'], df_cln['Null'].isna()):\n",
    "        if not k:\n",
    "            df_cln[v] = df_cln['Party'][idx]\n",
    "\n",
    "    ## Removing the row with turnout info/column with nulls + Q.C.\n",
    "    df_cln.drop(columns='Null', index=7, inplace=True)\n",
    "    if verbose in [1,2]:\n",
    "        print('\\nFinal Version:')\n",
    "        print('---'*20)\n",
    "        display(df_cln)\n",
    "\n",
    "    return df_cln"
   ]
  },
  {
   "cell_type": "code",
   "execution_count": 3,
   "metadata": {
    "ExecuteTime": {
     "end_time": "2020-07-27T01:39:32.152189Z",
     "start_time": "2020-07-27T01:39:32.116412Z"
    },
    "code_folding": [
     0
    ]
   },
   "outputs": [],
   "source": [
    "def wiki_senate_scraper():\n",
    "    import pandas as pd\n",
    "    import numpy as np\n",
    "    import requests\n",
    "    from bs4 import BeautifulSoup\n",
    "    \n",
    "    ## Starting page + Q.C. of response\n",
    "    start_url = 'https://en.wikipedia.org/wiki/List_of_United_States_Senate_elections'\n",
    "    start_resp = requests.get(start_url)\n",
    "    print(f'Starting Response: {start_resp}')\n",
    "    \n",
    "    ## Creating soup + pulling all links for senate elections after 17th amendment\n",
    "    start_soup = BeautifulSoup(start_resp.text, 'html.parser')\n",
    "    start_links = start_soup.findAll('a')\n",
    "    start_sen_links = start_links[78:134] ## Previously located\n",
    "    \n",
    "    ## Base of url for all senate election pages\n",
    "    base_url = 'https://en.wikipedia.org'\n",
    "    \n",
    "    ## Loop same process for all links + storage\n",
    "    yr_dfs = {}\n",
    "    yr_tocs = {}\n",
    "    count = 0\n",
    "    for link in start_sen_links:\n",
    "\n",
    "        ## Q.C during execute\n",
    "        count += 1\n",
    "        if count in [25, 50]:\n",
    "            print('Checkpoint! (25 loops)')\n",
    "        \n",
    "        ## Collecting strings for use\n",
    "        end_url = link.get('href')\n",
    "        year = link.get_text()\n",
    "        full_url = base_url + end_url\n",
    "        \n",
    "        ## Making soup + collecting all tables\n",
    "        link_resp = requests.get(full_url)\n",
    "        link_soup = BeautifulSoup(link_resp.text, 'html.parser')\n",
    "        link_tables = link_soup.findAll('table', attrs={'class': ['wikitable', 'infobox vevent', 'infobox']})\n",
    "        \n",
    "        ## Collecting list of states with elections in each year\n",
    "        link_toc = link_soup.find('div', attrs={'id':'toc'})\n",
    "        link_toc = link_toc.findAll('a', href=is_state)\n",
    "        toc_list = [tag.get('href').replace('#', '') for tag in link_toc]\n",
    "        \n",
    "        ## Converting to dataframe + storage\n",
    "        elect_df = pd.read_html(str(link_tables))\n",
    "        yr_dfs[year] = elect_df\n",
    "        yr_tocs[year] = toc_list\n",
    "    \n",
    "    print(f'Total pages scraped: {count}')\n",
    "    return yr_dfs, yr_tocs\n",
    "\n",
    "## https://www.crummy.com/software/BeautifulSoup/bs4/doc/#kinds-of-filters"
   ]
  },
  {
   "cell_type": "code",
   "execution_count": 4,
   "metadata": {
    "ExecuteTime": {
     "end_time": "2020-07-27T01:39:32.185074Z",
     "start_time": "2020-07-27T01:39:32.162127Z"
    },
    "code_folding": [
     0
    ]
   },
   "outputs": [],
   "source": [
    "def is_state(href):\n",
    "    states_list = ['Alabama', 'Alaska', 'Arizona', 'Arkansas', 'California', \n",
    "                   'Colorado', 'Connecticut', 'Delaware', 'Florida', 'Georgia',\n",
    "                   'Hawaii', 'Idaho', 'Illinois', 'Indiana', 'Iowa', 'Kansas',\n",
    "                   'Kentucky', 'Louisiana', 'Maine', 'Maryland',\n",
    "                   'Massachusetts', 'Michigan', 'Minnesota', 'Mississippi',\n",
    "                   'Missouri', 'Montana', 'Nebraska', 'Nevada', 'New_Hampshire',\n",
    "                   'New_Jersey', 'New_Mexico', 'New_York', 'North_Carolina',\n",
    "                   'North_Dakota', 'Ohio', 'Oklahoma', 'Oregon', 'Pennsylvania',\n",
    "                   'Rhode_Island', 'South_Carolina', 'South_Dakota',\n",
    "                   'Tennessee', 'Texas', 'Utah', 'Vermont', 'Virginia',\n",
    "                   'Washington', 'West_Virginia', 'Wisconsin', 'Wyoming']\n",
    "    for state in states_list:\n",
    "        if state in href:\n",
    "            return href"
   ]
  },
  {
   "cell_type": "code",
   "execution_count": 5,
   "metadata": {
    "ExecuteTime": {
     "end_time": "2020-07-27T01:39:32.220776Z",
     "start_time": "2020-07-27T01:39:32.190120Z"
    },
    "code_folding": [
     0
    ]
   },
   "outputs": [],
   "source": [
    "def election_collector(dict_tables, dict_lists):\n",
    "    \n",
    "    ## Requirement of proper dictionaries\n",
    "    if dict_tables.keys() != dict_lists.keys():\n",
    "        print('**WARNING**')\n",
    "        print('Keys do not match in dictionaries passed. Adjust and try again.')\n",
    "        return '***'*10\n",
    "    \n",
    "    ## Containers for results\n",
    "    coll_elects = {}\n",
    "    \n",
    "    ## List creation for looping through dicts\n",
    "    yr_list = list(dict_lists.keys())\n",
    "    \n",
    "    ## Looping + storage\n",
    "    for year in yr_list:\n",
    "        print('***'*10)\n",
    "        print(f\"Collecting {year}'s elections...\")\n",
    "        yr_tables = dict_tables[year]\n",
    "        yr_toc = dict_lists[year]\n",
    "        \n",
    "        ## Creating containers to further separate data\n",
    "        yr_sum_ldrs = yr_tables[2]\n",
    "        most_tables = yr_tables[3:]\n",
    "        yr_summary = []\n",
    "        yr_states = []\n",
    "        count = 0\n",
    "        \n",
    "        for i, df in enumerate(most_tables):\n",
    "            if count < 1:\n",
    "                if df.shape[1] is 6 and most_tables[i+1].shape[1] is 6:\n",
    "                    count += 1\n",
    "                    yr_summary.append(most_tables[i])\n",
    "                    yr_summary.append(most_tables[i+1])\n",
    "                    continue\n",
    "                elif df.shape[1] is 6:\n",
    "                    count += 1\n",
    "                    yr_summary.append(most_tables[i])\n",
    "            \n",
    "            if df.shape[1] in [4,5,6] and df.shape[0] < 15:\n",
    "                yr_states.append(most_tables[i])\n",
    "        \n",
    "        coll_elects[year] = [yr_sum_ldrs, yr_summary, yr_states]\n",
    "        \n",
    "    print('\\n')\n",
    "    print('---'*20)\n",
    "    print(f'Collection Complete: Data is for {yr_list[0]} - {yr_list[-1]}')\n",
    "    print('---'*20)\n",
    "    return coll_elects"
   ]
  },
  {
   "cell_type": "code",
   "execution_count": 12,
   "metadata": {
    "ExecuteTime": {
     "end_time": "2020-07-27T01:47:32.563416Z",
     "start_time": "2020-07-27T01:47:32.548189Z"
    },
    "code_folding": [
     0
    ],
    "scrolled": false
   },
   "outputs": [],
   "source": [
    "def yr_summary_collector(election_collection):\n",
    "    \n",
    "    ## Container for results\n",
    "    yr_summaries = {}\n",
    "    \n",
    "    ## Extraction as a list for iteration\n",
    "    for year in election_collection:\n",
    "        elect_list = [election_collection[year]]\n",
    "        \n",
    "        ## Looping through year's collection\n",
    "        for coll in elect_list:\n",
    "            ## Container for mid-results\n",
    "            holder = []\n",
    "            ## Looping through each table in 'year summary' group\n",
    "            for table in coll[1]:\n",
    "                ## Variable to filter unwanted tables out\n",
    "                has_elected = False\n",
    "                ## Looping through each row in 'results' column (idx 4)\n",
    "                for u in table.iloc[:,4]:\n",
    "                ## Checking for str to 'flag' table as collectable\n",
    "                    if isinstance(u, str) and 'elected' in u:\n",
    "                        has_elected = True\n",
    "                if has_elected == True:\n",
    "                    holder.append(table)\n",
    "            ## Check if multiple tables in 'year summary' group\n",
    "            if len(holder) > 1:\n",
    "                is_match = holder[0].iloc[1,:] == holder[1].iloc[1,:]\n",
    "                ## Check if tables have matching headers for special \n",
    "                ## election years + storage\n",
    "                if is_match.sum() == 3:\n",
    "                    fin_tab = holder[1].append(holder[0], ignore_index=True)\n",
    "                    yr_summaries[year] = fin_tab\n",
    "            ## Storage of non-special election years\n",
    "            else:\n",
    "                try:\n",
    "                    yr_summaries[year] = holder.pop()\n",
    "                except:\n",
    "                    continue\n",
    "        \n",
    "    return yr_summaries"
   ]
  },
  {
   "cell_type": "code",
   "execution_count": 7,
   "metadata": {
    "ExecuteTime": {
     "end_time": "2020-07-27T01:39:32.277823Z",
     "start_time": "2020-07-27T01:39:32.259485Z"
    },
    "code_folding": [
     0
    ]
   },
   "outputs": [],
   "source": [
    "def ref_tabler(summary_df, mod_df=True):\n",
    "    ## Containers for mid-results\n",
    "    st_list = []\n",
    "    sntr_list = []\n",
    "    \n",
    "    ## Looping through states' names\n",
    "    for state in summary_df['State']:\n",
    "        ## Check/replace spaces with '_' + storage\n",
    "        if ' ' in state:\n",
    "            fmt_state = state.replace(' ', '_')\n",
    "            st_list.append(fmt_state)\n",
    "        else:\n",
    "            st_list.append(state)\n",
    "    ## Looping + storing senator names\n",
    "    for name in summary_df['Senator']:\n",
    "        sntr_list.append(name)\n",
    "\n",
    "    ## Dataframe with Sentors as index + states as values\n",
    "    state_ref_df = pd.DataFrame(st_list, index=sntr_list)\n",
    "    state_ref_df.columns = ['State_id']\n",
    "    \n",
    "    ## Modifying list of states to that of the ref table OR not + return\n",
    "    if mod_df:\n",
    "        summary_df['State'] = st_list\n",
    "        return summary_df, state_ref_df\n",
    "    else:\n",
    "        return state_ref_df"
   ]
  },
  {
   "cell_type": "code",
   "execution_count": 8,
   "metadata": {
    "ExecuteTime": {
     "end_time": "2020-07-27T01:39:32.310791Z",
     "start_time": "2020-07-27T01:39:32.287721Z"
    },
    "code_folding": [
     0
    ]
   },
   "outputs": [],
   "source": [
    "def yr_sum_formatter(yr_sum_dict, ref_table=True):\n",
    "    ## Container for results + column helper\n",
    "    res_dict = {}\n",
    "    df_cols = ['State', 'Senator', 'Party', 'Electoral_History', 'Results', 'Candidates']\n",
    "    \n",
    "    ## Looping to each year's summary table\n",
    "    for year in yr_sum_dict:\n",
    "        ## Setting copy to modify + setting columns + rows to remove\n",
    "        summary_df = yr_sum_dict[year].copy()\n",
    "        summary_df.columns = df_cols\n",
    "        drop_1 = summary_df.iloc[0]\n",
    "        drop_2 = summary_df.iloc[1]\n",
    "        \n",
    "        ## Removing rows that match 'drop_' rows (former column info)\n",
    "        for idx, row in summary_df.iterrows():\n",
    "            if drop_1.equals(row):\n",
    "                summary_df.drop(idx, inplace=True)\n",
    "            elif drop_2.equals(row):\n",
    "                summary_df.drop(idx, inplace=True)\n",
    "        \n",
    "        ## Resetting index to rangeIndex\n",
    "        summary_df.reset_index(drop=True, inplace=True)\n",
    "        \n",
    "        ## Storing State-Senator lookup dataframe OR not\n",
    "        if ref_table:\n",
    "            summary_df, state_ref_df = ref_tabler(summary_df)\n",
    "            res_dict[year] = [summary_df, state_ref_df]    \n",
    "        else:\n",
    "            res_dict[year] = summary_df\n",
    "        \n",
    "    ## Return results\n",
    "    return res_dict"
   ]
  },
  {
   "cell_type": "markdown",
   "metadata": {
    "heading_collapsed": true
   },
   "source": [
    "# Initial Data"
   ]
  },
  {
   "cell_type": "markdown",
   "metadata": {
    "hidden": true
   },
   "source": [
    "> [Link to Dataset](https://dataverse.harvard.edu/dataset.xhtml?persistentId=doi:10.7910/DVN/PEJ5QU)"
   ]
  },
  {
   "cell_type": "code",
   "execution_count": null,
   "metadata": {
    "ExecuteTime": {
     "end_time": "2020-07-23T02:41:13.293949Z",
     "start_time": "2020-07-23T02:41:13.090959Z"
    },
    "hidden": true
   },
   "outputs": [],
   "source": [
    "df = pd.read_csv('dataverse_files/1976-2018-senate.csv', encoding='latin-1')\n",
    "df.head()"
   ]
  },
  {
   "cell_type": "code",
   "execution_count": null,
   "metadata": {
    "ExecuteTime": {
     "end_time": "2020-07-23T02:41:13.355689Z",
     "start_time": "2020-07-23T02:41:13.303028Z"
    },
    "hidden": true
   },
   "outputs": [],
   "source": [
    "df.info()"
   ]
  },
  {
   "cell_type": "code",
   "execution_count": null,
   "metadata": {
    "ExecuteTime": {
     "end_time": "2020-07-23T02:41:13.465725Z",
     "start_time": "2020-07-23T02:41:13.367185Z"
    },
    "hidden": true
   },
   "outputs": [],
   "source": [
    "df[(df['state_po'] == 'AZ') & (df['year'] == 1976)]"
   ]
  },
  {
   "cell_type": "code",
   "execution_count": null,
   "metadata": {
    "ExecuteTime": {
     "end_time": "2020-07-23T02:41:13.489776Z",
     "start_time": "2020-07-23T02:41:13.476673Z"
    },
    "hidden": true
   },
   "outputs": [],
   "source": [
    "# len(df[df['candidate'].isna()])\n",
    "\n",
    "# df['writein'].value_counts()\n",
    "\n",
    "# for col in df:\n",
    "#     display(df[col].value_counts())\n",
    "\n",
    "# pd.Series.value_counts()"
   ]
  },
  {
   "cell_type": "markdown",
   "metadata": {},
   "source": [
    "# Additional Data"
   ]
  },
  {
   "cell_type": "markdown",
   "metadata": {},
   "source": [
    "Current set of features includes:\n",
    "* Year of election\n",
    "* State (encoded)\n",
    "* "
   ]
  },
  {
   "cell_type": "markdown",
   "metadata": {},
   "source": [
    "> [Link to Brookings](https://www.brookings.edu/multi-chapter-report/vital-statistics-on-congress/)\n",
    "\n",
    "> [Link to BallotPedia](https://ballotpedia.org/Legislative_Branch)\n",
    "\n",
    "> [Link to WikiPedia](https://en.wikipedia.org/wiki/List_of_United_States_Senate_elections)\n",
    "\n",
    "> [Link to Wiki-Category (U.S. Senator)](https://commons.wikimedia.org/wiki/Category:Senators_of_the_United_States)"
   ]
  },
  {
   "cell_type": "markdown",
   "metadata": {
    "heading_collapsed": true
   },
   "source": [
    "## Testing tables 'infobox vevent'"
   ]
  },
  {
   "cell_type": "code",
   "execution_count": null,
   "metadata": {
    "ExecuteTime": {
     "end_time": "2020-07-23T02:41:13.514455Z",
     "start_time": "2020-07-23T02:41:13.500207Z"
    },
    "hidden": true
   },
   "outputs": [],
   "source": [
    "# url3 = 'https://en.wikipedia.org/wiki/1978_United_States_Senate_elections'\n",
    "# response3 = requests.get(url3)\n",
    "# print(response3)\n",
    "\n",
    "# soup3 = BeautifulSoup(response3.text, 'html.parser')\n",
    "# wiki_tables3 = soup3.findAll('table', attrs={'class': ['wikitable', 'infobox vevent']})\n",
    "\n",
    "# print(type(wiki_tables3))\n",
    "\n",
    "# test_df3 = pd.read_html(str(wiki_tables3))\n",
    "\n",
    "# tester = test_df3[0]"
   ]
  },
  {
   "cell_type": "code",
   "execution_count": null,
   "metadata": {
    "ExecuteTime": {
     "end_time": "2020-07-23T02:41:13.539006Z",
     "start_time": "2020-07-23T02:41:13.524456Z"
    },
    "hidden": true,
    "scrolled": false
   },
   "outputs": [],
   "source": [
    "# https://stackoverflow.com/questions/27156278/index-pandas-dataframe-by-column-numbers-when-column-names-are-integers\n",
    "# tester.columns = ['a', 'b', 'c']\n",
    "# display(tester.iloc[6:18,0:3])\n",
    "\n",
    "# display(test_df3[2])"
   ]
  },
  {
   "cell_type": "code",
   "execution_count": null,
   "metadata": {
    "ExecuteTime": {
     "end_time": "2020-07-23T02:41:13.562832Z",
     "start_time": "2020-07-23T02:41:13.550530Z"
    },
    "hidden": true
   },
   "outputs": [],
   "source": [
    "# url = 'https://en.wikipedia.org/wiki/1976_United_States_Senate_elections'\n",
    "# response = requests.get(url)\n",
    "# print(response)\n",
    "\n",
    "# soup = BeautifulSoup(response.text, 'html.parser')\n",
    "# wiki_tables = soup.findAll('table', attrs={'class': 'wikitable'})\n",
    "\n",
    "# type(wiki_tables)"
   ]
  },
  {
   "cell_type": "code",
   "execution_count": null,
   "metadata": {
    "ExecuteTime": {
     "end_time": "2020-07-23T02:41:13.587691Z",
     "start_time": "2020-07-23T02:41:13.573456Z"
    },
    "hidden": true
   },
   "outputs": [],
   "source": [
    "# test_df = pd.read_html(str(wiki_tables))\n",
    "# display(test_df[0])\n",
    "\n",
    "# len(test_df)"
   ]
  },
  {
   "cell_type": "markdown",
   "metadata": {
    "heading_collapsed": true
   },
   "source": [
    "## Pulling state election tables"
   ]
  },
  {
   "cell_type": "code",
   "execution_count": null,
   "metadata": {
    "ExecuteTime": {
     "end_time": "2020-07-23T02:41:13.619354Z",
     "start_time": "2020-07-23T02:41:13.596876Z"
    },
    "hidden": true,
    "scrolled": false
   },
   "outputs": [],
   "source": [
    "# ## Pulling Arizona gen election results\n",
    "# tester = test_df[5].copy()\n",
    "# print('O.G. Copy:')\n",
    "# print('---'*20)\n",
    "# display(tester)\n",
    "\n",
    "# ## Setting columns manually + Q.C.\n",
    "# tester.columns = ['Null', 'Party', 'Candidate', 'Votes', '%of_Vote']\n",
    "# print('\\nNew Column Headers:')\n",
    "# print('---'*20)\n",
    "# display(tester)\n",
    "\n",
    "# ## Dropping irrelevant information + Q.C.\n",
    "# tester.drop(index=[0, 6, 8], inplace=True)\n",
    "# print('\\nDropping Rows:')\n",
    "# print('---'*20)\n",
    "# display(tester)\n",
    "\n",
    "# ## Flip and place Turnout as its own feature + Q.C.\n",
    "# for idx, v, k in zip(tester.index, tester.Null, tester.Null.isna()):\n",
    "#     if not k:\n",
    "#         #print(idx, v)\n",
    "#         tester[v] = tester.Party[idx]\n",
    "\n",
    "# ## Removing the row with turnout info/column with nulls + Q.C.\n",
    "# try:\n",
    "#     tester.drop(columns='Null', index=7, inplace=True)\n",
    "#     print('\\nFinal Version:')\n",
    "#     print('---'*20)\n",
    "#     display(tester)\n",
    "# except:\n",
    "#     print('Something went wrong!')"
   ]
  },
  {
   "cell_type": "code",
   "execution_count": null,
   "metadata": {
    "ExecuteTime": {
     "end_time": "2020-07-23T02:41:13.642627Z",
     "start_time": "2020-07-23T02:41:13.628323Z"
    },
    "hidden": true
   },
   "outputs": [],
   "source": [
    "# type(tester['Votes'][5]) # str"
   ]
  },
  {
   "cell_type": "code",
   "execution_count": null,
   "metadata": {
    "ExecuteTime": {
     "end_time": "2020-07-23T02:41:13.665990Z",
     "start_time": "2020-07-23T02:41:13.653367Z"
    },
    "hidden": true,
    "scrolled": true
   },
   "outputs": [],
   "source": [
    "# tester2 = gen_election_cleaner(test_df[6], verbose=2)"
   ]
  },
  {
   "cell_type": "code",
   "execution_count": null,
   "metadata": {
    "ExecuteTime": {
     "end_time": "2020-07-23T02:41:13.689506Z",
     "start_time": "2020-07-23T02:41:13.675934Z"
    },
    "hidden": true,
    "scrolled": true
   },
   "outputs": [],
   "source": [
    "# test_df[-1]"
   ]
  },
  {
   "cell_type": "code",
   "execution_count": null,
   "metadata": {
    "ExecuteTime": {
     "end_time": "2020-07-23T02:41:13.707551Z",
     "start_time": "2020-07-23T02:41:13.698827Z"
    },
    "hidden": true
   },
   "outputs": [],
   "source": [
    "# url2 = 'https://en.wikipedia.org/wiki/List_of_United_States_Senate_elections'\n",
    "# response2 = requests.get(url2)\n",
    "# print(response2)"
   ]
  },
  {
   "cell_type": "code",
   "execution_count": null,
   "metadata": {
    "ExecuteTime": {
     "end_time": "2020-07-23T02:41:13.731907Z",
     "start_time": "2020-07-23T02:41:13.715689Z"
    },
    "hidden": true
   },
   "outputs": [],
   "source": [
    "# url2 = 'https://en.wikipedia.org/wiki/2018_United_States_Senate_elections'\n",
    "# response2 = requests.get(url2)\n",
    "# print(response2)"
   ]
  },
  {
   "cell_type": "code",
   "execution_count": null,
   "metadata": {
    "ExecuteTime": {
     "end_time": "2020-07-23T02:41:13.755789Z",
     "start_time": "2020-07-23T02:41:13.741172Z"
    },
    "hidden": true
   },
   "outputs": [],
   "source": [
    "# soup2 = BeautifulSoup(response2.text, 'html.parser')\n",
    "# wiki_toc = soup2.find('div', attrs={'id':'toc'})\n",
    "# wiki_toc = wiki_toc.findAll('a', href=is_state)\n",
    "# display(wiki_toc[0:5])\n",
    "# jiji = wiki_toc[0:5]\n",
    "\n",
    "# jiji = [tag.get('href').replace('#', '') for tag in jiji]\n",
    "# jiji = jiji\n",
    "# jiji"
   ]
  },
  {
   "cell_type": "markdown",
   "metadata": {
    "heading_collapsed": true
   },
   "source": [
    "## Working"
   ]
  },
  {
   "cell_type": "code",
   "execution_count": null,
   "metadata": {
    "ExecuteTime": {
     "end_time": "2020-07-23T02:41:13.779495Z",
     "start_time": "2020-07-23T02:41:13.765997Z"
    },
    "hidden": true
   },
   "outputs": [],
   "source": [
    "# test = wiki_links[78:134]\n",
    "# beeb = test[0].get_text()\n",
    "# geeb = 'https://en.wikipedia.org'\n",
    "# geeb + beeb"
   ]
  },
  {
   "cell_type": "code",
   "execution_count": null,
   "metadata": {
    "ExecuteTime": {
     "end_time": "2020-07-23T02:41:13.803302Z",
     "start_time": "2020-07-23T02:41:13.787184Z"
    },
    "hidden": true,
    "scrolled": true
   },
   "outputs": [],
   "source": [
    "# display(elect_yr_dfs.keys())\n",
    "# display(elect_yr_tocs.keys())\n",
    "# display(len(elect_yr_dfs) == len(elect_yr_tocs))\n",
    "# elect_yr_dfs.keys() != elect_yr_tocs.keys()\n",
    "# list(elect_yr_dfs.keys())"
   ]
  },
  {
   "cell_type": "code",
   "execution_count": null,
   "metadata": {
    "ExecuteTime": {
     "end_time": "2020-07-23T02:41:13.839645Z",
     "start_time": "2020-07-23T02:41:13.825973Z"
    },
    "hidden": true,
    "scrolled": true
   },
   "outputs": [],
   "source": [
    "# elect_yr_dfs['1918']"
   ]
  },
  {
   "cell_type": "code",
   "execution_count": null,
   "metadata": {
    "ExecuteTime": {
     "end_time": "2020-07-23T02:41:13.864005Z",
     "start_time": "2020-07-23T02:41:13.855417Z"
    },
    "hidden": true
   },
   "outputs": [],
   "source": [
    "# elect_yr_tocs['1918']"
   ]
  },
  {
   "cell_type": "code",
   "execution_count": null,
   "metadata": {
    "ExecuteTime": {
     "end_time": "2020-07-23T02:41:13.889773Z",
     "start_time": "2020-07-23T02:41:13.869132Z"
    },
    "hidden": true,
    "scrolled": true
   },
   "outputs": [],
   "source": [
    "# year = '1924'\n",
    "\n",
    "# for i, df in enumerate(elect_yr_dfs[year]):\n",
    "#     print(i, df.shape)\n",
    "\n",
    "# display(elect_yr_dfs[year][10])\n",
    "# elect_yr_dfs[year][10].shape[1] is 6"
   ]
  },
  {
   "cell_type": "code",
   "execution_count": null,
   "metadata": {
    "ExecuteTime": {
     "end_time": "2020-07-23T02:41:13.914499Z",
     "start_time": "2020-07-23T02:41:13.898511Z"
    },
    "hidden": true
   },
   "outputs": [],
   "source": [
    "# koko = {v:elect_yr_dfs[v] for v in ['1918', '1924', '1976', '2016', '2018']}\n",
    "# lplp = {v:elect_yr_tocs[v] for v in ['1918', '1924', '1976', '2016', '2018']}"
   ]
  },
  {
   "cell_type": "code",
   "execution_count": null,
   "metadata": {
    "ExecuteTime": {
     "end_time": "2020-07-23T02:41:13.939225Z",
     "start_time": "2020-07-23T02:41:13.925098Z"
    },
    "hidden": true,
    "scrolled": true
   },
   "outputs": [],
   "source": [
    "# year = '2016'\n",
    "\n",
    "# for v in ftft[year]:\n",
    "#     print(len(v))\n",
    "    \n",
    "# ftft[year][1]"
   ]
  },
  {
   "cell_type": "code",
   "execution_count": null,
   "metadata": {
    "ExecuteTime": {
     "end_time": "2020-07-24T03:56:30.923430Z",
     "start_time": "2020-07-24T03:56:30.916921Z"
    },
    "hidden": true
   },
   "outputs": [],
   "source": [
    "# yuyu = test_res[-1].append(test_res[-2], ignore_index=True)\n",
    "# yuyu"
   ]
  },
  {
   "cell_type": "code",
   "execution_count": null,
   "metadata": {
    "ExecuteTime": {
     "end_time": "2020-07-24T03:31:03.883617Z",
     "start_time": "2020-07-24T03:31:03.875679Z"
    },
    "hidden": true
   },
   "outputs": [],
   "source": [
    "# yuyu = test_res[-1].iloc[1,:] == test_res[-2].iloc[1,:]\n",
    "# yuyu.sum()"
   ]
  },
  {
   "cell_type": "code",
   "execution_count": null,
   "metadata": {
    "ExecuteTime": {
     "end_time": "2020-07-24T03:57:04.960185Z",
     "start_time": "2020-07-24T03:57:04.943314Z"
    },
    "hidden": true
   },
   "outputs": [],
   "source": [
    "# len(test_res)"
   ]
  },
  {
   "cell_type": "markdown",
   "metadata": {
    "heading_collapsed": true
   },
   "source": [
    "## Getting it together"
   ]
  },
  {
   "cell_type": "code",
   "execution_count": null,
   "metadata": {
    "ExecuteTime": {
     "end_time": "2020-07-26T22:45:39.904440Z",
     "start_time": "2020-07-26T22:45:39.896930Z"
    },
    "hidden": true
   },
   "outputs": [],
   "source": [
    "# elect_yr_tables, elect_yr_tocs = wiki_senate_scraper()\n",
    "\n",
    "# election_collection_raw = election_collector(elect_yr_tables, elect_yr_tocs)"
   ]
  },
  {
   "cell_type": "code",
   "execution_count": null,
   "metadata": {
    "ExecuteTime": {
     "start_time": "2020-07-26T22:45:56.700Z"
    },
    "hidden": true,
    "scrolled": true
   },
   "outputs": [],
   "source": [
    "# for u in election_collection_raw[year][1][0].iloc[:,4]:\n",
    "#     if isinstance(u, str) and 'elected' in u:\n",
    "#         print('faslidfjasedfhaedfng')\n",
    "        \n",
    "# for u in election_collection_raw[year][1][1].iloc[:,4]:\n",
    "#     if isinstance(u, str) and 'elected' in u:\n",
    "#         print('faslidfjasedfhaedfng')"
   ]
  },
  {
   "cell_type": "code",
   "execution_count": null,
   "metadata": {
    "ExecuteTime": {
     "start_time": "2020-07-26T22:46:29.936Z"
    },
    "hidden": true
   },
   "outputs": [],
   "source": [
    "# print(election_collection_raw[year][1][0].shape)\n",
    "# print(election_collection_raw[year][1][1].shape)"
   ]
  },
  {
   "cell_type": "code",
   "execution_count": null,
   "metadata": {
    "ExecuteTime": {
     "end_time": "2020-07-23T02:32:03.833755Z",
     "start_time": "2020-07-23T02:32:03.810875Z"
    },
    "hidden": true
   },
   "outputs": [],
   "source": [
    "# test_list = [election_collection_raw[year][2][8], election_collection_raw[year][2][3]]\n",
    "# for u in test_list:\n",
    "    \n",
    "#     display(u.iloc[:,2])"
   ]
  },
  {
   "cell_type": "code",
   "execution_count": null,
   "metadata": {
    "ExecuteTime": {
     "end_time": "2020-07-26T22:48:53.572759Z",
     "start_time": "2020-07-26T22:48:53.565030Z"
    },
    "hidden": true,
    "scrolled": true
   },
   "outputs": [],
   "source": [
    "# election_collection_raw[year][1][1]\n",
    "# for i, df in enumerate(election_collection_raw[year][2]):\n",
    "#     display(df)"
   ]
  },
  {
   "cell_type": "markdown",
   "metadata": {},
   "source": [
    "## Loading `Election_Collection`"
   ]
  },
  {
   "cell_type": "code",
   "execution_count": null,
   "metadata": {
    "ExecuteTime": {
     "end_time": "2020-07-23T03:12:10.222262Z",
     "start_time": "2020-07-23T03:12:09.370853Z"
    }
   },
   "outputs": [],
   "source": [
    "# with open('election_collection_raw.pickle', 'wb') as f:\n",
    "#     pickle.dump(election_collection_raw, f)\n",
    "#     f.close()"
   ]
  },
  {
   "cell_type": "code",
   "execution_count": 10,
   "metadata": {
    "ExecuteTime": {
     "end_time": "2020-07-27T01:45:17.513593Z",
     "start_time": "2020-07-27T01:45:16.425563Z"
    }
   },
   "outputs": [],
   "source": [
    "with open('election_collection_raw.pickle', 'rb') as f:\n",
    "    election_collection_raw = pickle.load(f)\n",
    "    f.close()"
   ]
  },
  {
   "cell_type": "markdown",
   "metadata": {},
   "source": [
    "## Separation/Cleaning"
   ]
  },
  {
   "cell_type": "markdown",
   "metadata": {
    "heading_collapsed": true
   },
   "source": [
    "### Testing"
   ]
  },
  {
   "cell_type": "code",
   "execution_count": null,
   "metadata": {
    "ExecuteTime": {
     "end_time": "2020-07-27T01:27:33.025180Z",
     "start_time": "2020-07-27T01:27:32.912137Z"
    },
    "hidden": true,
    "scrolled": true
   },
   "outputs": [],
   "source": [
    "# test_res_dict = yr_sum_formatter(test_res)\n",
    "# for table in test_res_dict['2008']:\n",
    "#     display(table)"
   ]
  },
  {
   "cell_type": "code",
   "execution_count": null,
   "metadata": {
    "ExecuteTime": {
     "end_time": "2020-07-23T03:32:06.053693Z",
     "start_time": "2020-07-23T03:32:05.585396Z"
    },
    "hidden": true,
    "scrolled": true
   },
   "outputs": [],
   "source": [
    "# year = '2006'\n",
    "\n",
    "# display(election_collection_raw.keys())\n",
    "# print('\\n')\n",
    "# for grp in election_collection_raw[year]:\n",
    "#     print(len(grp))\n",
    "# print('\\n')\n",
    "# display(election_collection_raw[year][0])\n",
    "# display(election_collection_raw[year][1])\n",
    "# display(election_collection_raw[year][2])"
   ]
  },
  {
   "cell_type": "code",
   "execution_count": null,
   "metadata": {
    "ExecuteTime": {
     "end_time": "2020-07-26T23:14:41.387571Z",
     "start_time": "2020-07-26T23:14:41.373949Z"
    },
    "hidden": true,
    "scrolled": true
   },
   "outputs": [],
   "source": [
    "# test_list = []\n",
    "# test_list.append(election_collection_raw['1918'])\n",
    "# test_list.append(election_collection_raw['1920'])\n",
    "# test_list.append(election_collection_raw['1976'])\n",
    "# test_list.append(election_collection_raw['2006'])\n",
    "# test_list.append(election_collection_raw['2008'])\n",
    "\n",
    "# test_list = ['1918', '1920', '1976', '2006', '2008']\n",
    "# test_dict = {}\n",
    "# for year in test_list:\n",
    "#     test_dict[year] = election_collection_raw[year]\n",
    "# test_dict['2008']"
   ]
  },
  {
   "cell_type": "code",
   "execution_count": null,
   "metadata": {
    "ExecuteTime": {
     "end_time": "2020-07-26T22:09:52.094759Z",
     "start_time": "2020-07-26T22:09:52.070539Z"
    },
    "hidden": true
   },
   "outputs": [],
   "source": [
    "# type(election_collection_raw['1994'])"
   ]
  },
  {
   "cell_type": "code",
   "execution_count": null,
   "metadata": {
    "ExecuteTime": {
     "end_time": "2020-07-26T23:17:29.087609Z",
     "start_time": "2020-07-26T23:17:29.073699Z"
    },
    "hidden": true
   },
   "outputs": [],
   "source": [
    "# print(type(election_collection_raw['1920']))\n",
    "# print(type(election_collection_raw['1976']))\n",
    "# type(test_res['1920'])"
   ]
  },
  {
   "cell_type": "code",
   "execution_count": null,
   "metadata": {
    "ExecuteTime": {
     "end_time": "2020-07-27T01:31:22.894830Z",
     "start_time": "2020-07-27T01:31:19.686Z"
    },
    "hidden": true,
    "scrolled": true
   },
   "outputs": [],
   "source": [
    "# test_res = yr_summary_collector(test_dict)\n",
    "# for t in test_res:\n",
    "#     display(test_res[t])"
   ]
  },
  {
   "cell_type": "markdown",
   "metadata": {},
   "source": [
    "### Working.."
   ]
  },
  {
   "cell_type": "markdown",
   "metadata": {},
   "source": [
    "**To format the tables I need to:**\n",
    "* For each table in the dictionary, set the columns to `'State', 'Senator', 'Party', 'Electoral_History', 'Results', 'Candidates'`.\n",
    "* If any of the rows look like row 0 & 1, remove them.\n",
    "* Store the formatted tables back into container"
   ]
  },
  {
   "cell_type": "code",
   "execution_count": null,
   "metadata": {
    "ExecuteTime": {
     "end_time": "2020-07-27T01:49:42.607553Z",
     "start_time": "2020-07-27T01:49:41.383458Z"
    }
   },
   "outputs": [],
   "source": [
    "yr_sum_tables = yr_summary_collector(election_collection_raw)\n",
    "yr_sum_dict = yr_sum_formatter(yr_sum_tables)"
   ]
  },
  {
   "cell_type": "code",
   "execution_count": 15,
   "metadata": {
    "ExecuteTime": {
     "end_time": "2020-07-27T01:50:17.931925Z",
     "start_time": "2020-07-27T01:50:17.874673Z"
    },
    "scrolled": false
   },
   "outputs": [
    {
     "data": {
      "text/html": [
       "<div>\n",
       "<style scoped>\n",
       "    .dataframe tbody tr th:only-of-type {\n",
       "        vertical-align: middle;\n",
       "    }\n",
       "\n",
       "    .dataframe tbody tr th {\n",
       "        vertical-align: top;\n",
       "    }\n",
       "\n",
       "    .dataframe thead th {\n",
       "        text-align: right;\n",
       "    }\n",
       "</style>\n",
       "<table border=\"1\" class=\"dataframe\">\n",
       "  <thead>\n",
       "    <tr style=\"text-align: right;\">\n",
       "      <th></th>\n",
       "      <th>State</th>\n",
       "      <th>Senator</th>\n",
       "      <th>Party</th>\n",
       "      <th>Electoral_History</th>\n",
       "      <th>Results</th>\n",
       "      <th>Candidates</th>\n",
       "    </tr>\n",
       "  </thead>\n",
       "  <tbody>\n",
       "    <tr>\n",
       "      <th>0</th>\n",
       "      <td>Arizona</td>\n",
       "      <td>Dennis DeConcini</td>\n",
       "      <td>Democratic</td>\n",
       "      <td>197619821988</td>\n",
       "      <td>Incumbent retired.New senator elected.Republic...</td>\n",
       "      <td>Jon Kyl (Republican) 53.7% Sam Coppersmith (De...</td>\n",
       "    </tr>\n",
       "    <tr>\n",
       "      <th>1</th>\n",
       "      <td>California</td>\n",
       "      <td>Dianne Feinstein</td>\n",
       "      <td>Democratic</td>\n",
       "      <td>1992 (Special)</td>\n",
       "      <td>Incumbent re-elected.</td>\n",
       "      <td>Dianne Feinstein (Democratic) 46.7% Michael Hu...</td>\n",
       "    </tr>\n",
       "    <tr>\n",
       "      <th>2</th>\n",
       "      <td>Connecticut</td>\n",
       "      <td>Joe Lieberman</td>\n",
       "      <td>Democratic</td>\n",
       "      <td>1988</td>\n",
       "      <td>Incumbent re-elected.</td>\n",
       "      <td>Joe Lieberman (Democratic) 67% Jerry Labriola ...</td>\n",
       "    </tr>\n",
       "    <tr>\n",
       "      <th>3</th>\n",
       "      <td>Delaware</td>\n",
       "      <td>William Roth</td>\n",
       "      <td>Republican</td>\n",
       "      <td>19701971 (Appointed)197619821988</td>\n",
       "      <td>Incumbent re-elected.</td>\n",
       "      <td>William Roth (Republican) 55.8% Charles Oberly...</td>\n",
       "    </tr>\n",
       "    <tr>\n",
       "      <th>4</th>\n",
       "      <td>Florida</td>\n",
       "      <td>Connie Mack III</td>\n",
       "      <td>Republican</td>\n",
       "      <td>1988</td>\n",
       "      <td>Incumbent re-elected.</td>\n",
       "      <td>Connie Mack III (Republican) 70.5% Hugh Rodham...</td>\n",
       "    </tr>\n",
       "    <tr>\n",
       "      <th>5</th>\n",
       "      <td>Hawaii</td>\n",
       "      <td>Daniel Akaka</td>\n",
       "      <td>Democratic</td>\n",
       "      <td>1990 (Appointed)1990 (Special)</td>\n",
       "      <td>Incumbent re-elected.</td>\n",
       "      <td>Daniel Akaka (Democratic) 71.8% Maria Hustace ...</td>\n",
       "    </tr>\n",
       "    <tr>\n",
       "      <th>6</th>\n",
       "      <td>Indiana</td>\n",
       "      <td>Richard Lugar</td>\n",
       "      <td>Republican</td>\n",
       "      <td>197619821988</td>\n",
       "      <td>Incumbent re-elected.</td>\n",
       "      <td>Richard Lugar (Republican) 67.4% Jim Jontz (De...</td>\n",
       "    </tr>\n",
       "    <tr>\n",
       "      <th>7</th>\n",
       "      <td>Maine</td>\n",
       "      <td>George J. Mitchell</td>\n",
       "      <td>Democratic</td>\n",
       "      <td>1980 (Appointed)19821988</td>\n",
       "      <td>Incumbent retired.New senator elected.Republic...</td>\n",
       "      <td>Olympia Snowe (Republican) 60.2% Thomas Andrew...</td>\n",
       "    </tr>\n",
       "    <tr>\n",
       "      <th>8</th>\n",
       "      <td>Maryland</td>\n",
       "      <td>Paul Sarbanes</td>\n",
       "      <td>Democratic</td>\n",
       "      <td>197619821988</td>\n",
       "      <td>Incumbent re-elected.</td>\n",
       "      <td>Paul Sarbanes (Democratic) 59.1% Bill Brock (R...</td>\n",
       "    </tr>\n",
       "    <tr>\n",
       "      <th>9</th>\n",
       "      <td>Massachusetts</td>\n",
       "      <td>Ted Kennedy</td>\n",
       "      <td>Democratic</td>\n",
       "      <td>1962 (Special)19641970197619821988</td>\n",
       "      <td>Incumbent re-elected.</td>\n",
       "      <td>Ted Kennedy (Democratic) 58.1% Mitt Romney (Re...</td>\n",
       "    </tr>\n",
       "    <tr>\n",
       "      <th>10</th>\n",
       "      <td>Michigan</td>\n",
       "      <td>Donald W. Riegle Jr.</td>\n",
       "      <td>Democratic</td>\n",
       "      <td>19761976 (Appointed)19821988</td>\n",
       "      <td>Incumbent retired.New senator elected.Republic...</td>\n",
       "      <td>Spencer Abraham (Republican) 51.9% Bob Carr (D...</td>\n",
       "    </tr>\n",
       "    <tr>\n",
       "      <th>11</th>\n",
       "      <td>Minnesota</td>\n",
       "      <td>David Durenberger</td>\n",
       "      <td>Republican</td>\n",
       "      <td>1978 (Special)19821988</td>\n",
       "      <td>Incumbent retired.New senator elected.Republic...</td>\n",
       "      <td>Rod Grams (Republican) 49.1% Ann Wynia (DFL) 4...</td>\n",
       "    </tr>\n",
       "    <tr>\n",
       "      <th>12</th>\n",
       "      <td>Mississippi</td>\n",
       "      <td>Trent Lott</td>\n",
       "      <td>Republican</td>\n",
       "      <td>1988</td>\n",
       "      <td>Incumbent re-elected.</td>\n",
       "      <td>Trent Lott (Republican) 68.8% Ken Harper (Demo...</td>\n",
       "    </tr>\n",
       "    <tr>\n",
       "      <th>13</th>\n",
       "      <td>Missouri</td>\n",
       "      <td>John Danforth</td>\n",
       "      <td>Republican</td>\n",
       "      <td>19761976 (Appointed)19821988</td>\n",
       "      <td>Incumbent retired.New senator elected.Republic...</td>\n",
       "      <td>John Ashcroft (Republican) 59.8% Alan Wheat (D...</td>\n",
       "    </tr>\n",
       "    <tr>\n",
       "      <th>14</th>\n",
       "      <td>Montana</td>\n",
       "      <td>Conrad Burns</td>\n",
       "      <td>Republican</td>\n",
       "      <td>1988</td>\n",
       "      <td>Incumbent re-elected.</td>\n",
       "      <td>Conrad Burns (Republican) 62.4% Jack Mudd (Dem...</td>\n",
       "    </tr>\n",
       "    <tr>\n",
       "      <th>15</th>\n",
       "      <td>Nebraska</td>\n",
       "      <td>Bob Kerrey</td>\n",
       "      <td>Democratic</td>\n",
       "      <td>1988</td>\n",
       "      <td>Incumbent re-elected.</td>\n",
       "      <td>Bob Kerrey (Democratic) 55% Jan Stoney (Republ...</td>\n",
       "    </tr>\n",
       "    <tr>\n",
       "      <th>16</th>\n",
       "      <td>Nevada</td>\n",
       "      <td>Richard Bryan</td>\n",
       "      <td>Democratic</td>\n",
       "      <td>1988</td>\n",
       "      <td>Incumbent re-elected.</td>\n",
       "      <td>Richard Bryan (Democratic) 50.9% Hal Furman (R...</td>\n",
       "    </tr>\n",
       "    <tr>\n",
       "      <th>17</th>\n",
       "      <td>New_Jersey</td>\n",
       "      <td>Frank Lautenberg</td>\n",
       "      <td>Democratic</td>\n",
       "      <td>19821982 (Appointed)1988</td>\n",
       "      <td>Incumbent re-elected.</td>\n",
       "      <td>Frank Lautenberg (Democratic) 50.4% Chuck Hayt...</td>\n",
       "    </tr>\n",
       "    <tr>\n",
       "      <th>18</th>\n",
       "      <td>New_Mexico</td>\n",
       "      <td>Jeff Bingaman</td>\n",
       "      <td>Democratic</td>\n",
       "      <td>19821988</td>\n",
       "      <td>Incumbent re-elected.</td>\n",
       "      <td>Jeff Bingaman (Democratic) 54% Colin McMillan ...</td>\n",
       "    </tr>\n",
       "    <tr>\n",
       "      <th>19</th>\n",
       "      <td>New_York</td>\n",
       "      <td>Daniel Patrick Moynihan</td>\n",
       "      <td>Democratic</td>\n",
       "      <td>197619821988</td>\n",
       "      <td>Incumbent re-elected.</td>\n",
       "      <td>Daniel Patrick Moynihan (Democratic) 55% Berna...</td>\n",
       "    </tr>\n",
       "    <tr>\n",
       "      <th>20</th>\n",
       "      <td>North_Dakota</td>\n",
       "      <td>Kent Conrad</td>\n",
       "      <td>Democratic–NPL</td>\n",
       "      <td>1992 (Special)</td>\n",
       "      <td>Incumbent re-elected.</td>\n",
       "      <td>Kent Conrad (Democratic) 58% Ben Clayburgh (Re...</td>\n",
       "    </tr>\n",
       "    <tr>\n",
       "      <th>21</th>\n",
       "      <td>Ohio</td>\n",
       "      <td>Howard Metzenbaum</td>\n",
       "      <td>Democratic</td>\n",
       "      <td>1974 (Appointed)1974 (Lost)1974 (Resigned)1976...</td>\n",
       "      <td>Incumbent retired.New senator elected.Republic...</td>\n",
       "      <td>Mike DeWine (Republican) 53.4% Joel Hyatt (Dem...</td>\n",
       "    </tr>\n",
       "    <tr>\n",
       "      <th>22</th>\n",
       "      <td>Pennsylvania</td>\n",
       "      <td>Harris Wofford</td>\n",
       "      <td>Democratic</td>\n",
       "      <td>1991 (Appointed)1991 (Special)</td>\n",
       "      <td>Incumbent lost re-election.New senator elected...</td>\n",
       "      <td>Rick Santorum (Republican) 49.4% Harris Woffor...</td>\n",
       "    </tr>\n",
       "    <tr>\n",
       "      <th>23</th>\n",
       "      <td>Rhode_Island</td>\n",
       "      <td>John Chafee</td>\n",
       "      <td>Republican</td>\n",
       "      <td>19761976 (Appointed)1988</td>\n",
       "      <td>Incumbent re-elected.</td>\n",
       "      <td>John Chafee (Republican) 64% Linda Kushner (De...</td>\n",
       "    </tr>\n",
       "    <tr>\n",
       "      <th>24</th>\n",
       "      <td>Tennessee</td>\n",
       "      <td>Jim Sasser</td>\n",
       "      <td>Democratic</td>\n",
       "      <td>197619821988</td>\n",
       "      <td>Incumbent lost re-election.New senator elected...</td>\n",
       "      <td>Bill Frist (Republican) 56.4% Jim Sasser (Demo...</td>\n",
       "    </tr>\n",
       "    <tr>\n",
       "      <th>25</th>\n",
       "      <td>Texas</td>\n",
       "      <td>Kay Bailey Hutchison</td>\n",
       "      <td>Republican</td>\n",
       "      <td>1993 (Special)</td>\n",
       "      <td>Incumbent re-elected.</td>\n",
       "      <td>Kay Bailey Hutchison (Republican) 60.8% Richar...</td>\n",
       "    </tr>\n",
       "    <tr>\n",
       "      <th>26</th>\n",
       "      <td>Utah</td>\n",
       "      <td>Orrin Hatch</td>\n",
       "      <td>Republican</td>\n",
       "      <td>197619821988</td>\n",
       "      <td>Incumbent re-elected.</td>\n",
       "      <td>Orrin Hatch (Republican) 68.8% Patrick Shea (D...</td>\n",
       "    </tr>\n",
       "    <tr>\n",
       "      <th>27</th>\n",
       "      <td>Vermont</td>\n",
       "      <td>Jim Jeffords</td>\n",
       "      <td>Republican</td>\n",
       "      <td>1988</td>\n",
       "      <td>Incumbent re-elected.</td>\n",
       "      <td>Jim Jeffords (Republican) 50.3% Jan Backus (De...</td>\n",
       "    </tr>\n",
       "    <tr>\n",
       "      <th>28</th>\n",
       "      <td>Virginia</td>\n",
       "      <td>Chuck Robb</td>\n",
       "      <td>Democratic</td>\n",
       "      <td>1988</td>\n",
       "      <td>Incumbent re-elected.</td>\n",
       "      <td>Chuck Robb (Democratic) 45.6% Oliver North (Re...</td>\n",
       "    </tr>\n",
       "    <tr>\n",
       "      <th>29</th>\n",
       "      <td>Washington</td>\n",
       "      <td>Slade Gorton</td>\n",
       "      <td>Republican</td>\n",
       "      <td>19801986 (Lost)1988</td>\n",
       "      <td>Incumbent re-elected.</td>\n",
       "      <td>Slade Gorton (Republican) 55.75% Ron Sims (Dem...</td>\n",
       "    </tr>\n",
       "    <tr>\n",
       "      <th>30</th>\n",
       "      <td>West_Virginia</td>\n",
       "      <td>Robert Byrd</td>\n",
       "      <td>Democratic</td>\n",
       "      <td>195819641970197619821988</td>\n",
       "      <td>Incumbent re-elected.</td>\n",
       "      <td>Robert Byrd (Democratic) 69% Stanley L. Klos (...</td>\n",
       "    </tr>\n",
       "    <tr>\n",
       "      <th>31</th>\n",
       "      <td>Wisconsin</td>\n",
       "      <td>Herb Kohl</td>\n",
       "      <td>Democratic</td>\n",
       "      <td>1988</td>\n",
       "      <td>Incumbent re-elected.</td>\n",
       "      <td>Herb Kohl (Democratic) 58% Robert Welch (Repub...</td>\n",
       "    </tr>\n",
       "    <tr>\n",
       "      <th>32</th>\n",
       "      <td>Wyoming</td>\n",
       "      <td>Malcolm Wallop</td>\n",
       "      <td>Republican</td>\n",
       "      <td>197619821988</td>\n",
       "      <td>Incumbent retired.New senator elected.Republic...</td>\n",
       "      <td>Craig Thomas (Republican) 58.9% Mike Sullivan ...</td>\n",
       "    </tr>\n",
       "    <tr>\n",
       "      <th>33</th>\n",
       "      <td>Tennessee(Class_2)</td>\n",
       "      <td>Harlan Matthews</td>\n",
       "      <td>Democratic</td>\n",
       "      <td>1993 (Appointed)</td>\n",
       "      <td>Interim appointee retired.New senator elected ...</td>\n",
       "      <td>Fred Thompson (Republican) 61% Jim Cooper (Dem...</td>\n",
       "    </tr>\n",
       "    <tr>\n",
       "      <th>34</th>\n",
       "      <td>Oklahoma(Class_2)</td>\n",
       "      <td>David Boren</td>\n",
       "      <td>Democratic</td>\n",
       "      <td>197819841990</td>\n",
       "      <td>Incumbent resigned November 15, 1994.New senat...</td>\n",
       "      <td>Jim Inhofe (Republican) 55.2% Dave McCurdy (De...</td>\n",
       "    </tr>\n",
       "  </tbody>\n",
       "</table>\n",
       "</div>"
      ],
      "text/plain": [
       "                 State                  Senator           Party  \\\n",
       "0              Arizona         Dennis DeConcini      Democratic   \n",
       "1           California         Dianne Feinstein      Democratic   \n",
       "2          Connecticut            Joe Lieberman      Democratic   \n",
       "3             Delaware             William Roth      Republican   \n",
       "4              Florida          Connie Mack III      Republican   \n",
       "5               Hawaii             Daniel Akaka      Democratic   \n",
       "6              Indiana            Richard Lugar      Republican   \n",
       "7                Maine       George J. Mitchell      Democratic   \n",
       "8             Maryland            Paul Sarbanes      Democratic   \n",
       "9        Massachusetts              Ted Kennedy      Democratic   \n",
       "10            Michigan     Donald W. Riegle Jr.      Democratic   \n",
       "11           Minnesota        David Durenberger      Republican   \n",
       "12         Mississippi               Trent Lott      Republican   \n",
       "13            Missouri            John Danforth      Republican   \n",
       "14             Montana             Conrad Burns      Republican   \n",
       "15            Nebraska               Bob Kerrey      Democratic   \n",
       "16              Nevada            Richard Bryan      Democratic   \n",
       "17          New_Jersey         Frank Lautenberg      Democratic   \n",
       "18          New_Mexico            Jeff Bingaman      Democratic   \n",
       "19            New_York  Daniel Patrick Moynihan      Democratic   \n",
       "20        North_Dakota              Kent Conrad  Democratic–NPL   \n",
       "21                Ohio        Howard Metzenbaum      Democratic   \n",
       "22        Pennsylvania           Harris Wofford      Democratic   \n",
       "23        Rhode_Island              John Chafee      Republican   \n",
       "24           Tennessee               Jim Sasser      Democratic   \n",
       "25               Texas     Kay Bailey Hutchison      Republican   \n",
       "26                Utah              Orrin Hatch      Republican   \n",
       "27             Vermont             Jim Jeffords      Republican   \n",
       "28            Virginia               Chuck Robb      Democratic   \n",
       "29          Washington             Slade Gorton      Republican   \n",
       "30       West_Virginia              Robert Byrd      Democratic   \n",
       "31           Wisconsin                Herb Kohl      Democratic   \n",
       "32             Wyoming           Malcolm Wallop      Republican   \n",
       "33  Tennessee(Class_2)          Harlan Matthews      Democratic   \n",
       "34   Oklahoma(Class_2)              David Boren      Democratic   \n",
       "\n",
       "                                    Electoral_History  \\\n",
       "0                                        197619821988   \n",
       "1                                      1992 (Special)   \n",
       "2                                                1988   \n",
       "3                    19701971 (Appointed)197619821988   \n",
       "4                                                1988   \n",
       "5                      1990 (Appointed)1990 (Special)   \n",
       "6                                        197619821988   \n",
       "7                            1980 (Appointed)19821988   \n",
       "8                                        197619821988   \n",
       "9                  1962 (Special)19641970197619821988   \n",
       "10                       19761976 (Appointed)19821988   \n",
       "11                             1978 (Special)19821988   \n",
       "12                                               1988   \n",
       "13                       19761976 (Appointed)19821988   \n",
       "14                                               1988   \n",
       "15                                               1988   \n",
       "16                                               1988   \n",
       "17                           19821982 (Appointed)1988   \n",
       "18                                           19821988   \n",
       "19                                       197619821988   \n",
       "20                                     1992 (Special)   \n",
       "21  1974 (Appointed)1974 (Lost)1974 (Resigned)1976...   \n",
       "22                     1991 (Appointed)1991 (Special)   \n",
       "23                           19761976 (Appointed)1988   \n",
       "24                                       197619821988   \n",
       "25                                     1993 (Special)   \n",
       "26                                       197619821988   \n",
       "27                                               1988   \n",
       "28                                               1988   \n",
       "29                                19801986 (Lost)1988   \n",
       "30                           195819641970197619821988   \n",
       "31                                               1988   \n",
       "32                                       197619821988   \n",
       "33                                   1993 (Appointed)   \n",
       "34                                       197819841990   \n",
       "\n",
       "                                              Results  \\\n",
       "0   Incumbent retired.New senator elected.Republic...   \n",
       "1                               Incumbent re-elected.   \n",
       "2                               Incumbent re-elected.   \n",
       "3                               Incumbent re-elected.   \n",
       "4                               Incumbent re-elected.   \n",
       "5                               Incumbent re-elected.   \n",
       "6                               Incumbent re-elected.   \n",
       "7   Incumbent retired.New senator elected.Republic...   \n",
       "8                               Incumbent re-elected.   \n",
       "9                               Incumbent re-elected.   \n",
       "10  Incumbent retired.New senator elected.Republic...   \n",
       "11  Incumbent retired.New senator elected.Republic...   \n",
       "12                              Incumbent re-elected.   \n",
       "13  Incumbent retired.New senator elected.Republic...   \n",
       "14                              Incumbent re-elected.   \n",
       "15                              Incumbent re-elected.   \n",
       "16                              Incumbent re-elected.   \n",
       "17                              Incumbent re-elected.   \n",
       "18                              Incumbent re-elected.   \n",
       "19                              Incumbent re-elected.   \n",
       "20                              Incumbent re-elected.   \n",
       "21  Incumbent retired.New senator elected.Republic...   \n",
       "22  Incumbent lost re-election.New senator elected...   \n",
       "23                              Incumbent re-elected.   \n",
       "24  Incumbent lost re-election.New senator elected...   \n",
       "25                              Incumbent re-elected.   \n",
       "26                              Incumbent re-elected.   \n",
       "27                              Incumbent re-elected.   \n",
       "28                              Incumbent re-elected.   \n",
       "29                              Incumbent re-elected.   \n",
       "30                              Incumbent re-elected.   \n",
       "31                              Incumbent re-elected.   \n",
       "32  Incumbent retired.New senator elected.Republic...   \n",
       "33  Interim appointee retired.New senator elected ...   \n",
       "34  Incumbent resigned November 15, 1994.New senat...   \n",
       "\n",
       "                                           Candidates  \n",
       "0   Jon Kyl (Republican) 53.7% Sam Coppersmith (De...  \n",
       "1   Dianne Feinstein (Democratic) 46.7% Michael Hu...  \n",
       "2   Joe Lieberman (Democratic) 67% Jerry Labriola ...  \n",
       "3   William Roth (Republican) 55.8% Charles Oberly...  \n",
       "4   Connie Mack III (Republican) 70.5% Hugh Rodham...  \n",
       "5   Daniel Akaka (Democratic) 71.8% Maria Hustace ...  \n",
       "6   Richard Lugar (Republican) 67.4% Jim Jontz (De...  \n",
       "7   Olympia Snowe (Republican) 60.2% Thomas Andrew...  \n",
       "8   Paul Sarbanes (Democratic) 59.1% Bill Brock (R...  \n",
       "9   Ted Kennedy (Democratic) 58.1% Mitt Romney (Re...  \n",
       "10  Spencer Abraham (Republican) 51.9% Bob Carr (D...  \n",
       "11  Rod Grams (Republican) 49.1% Ann Wynia (DFL) 4...  \n",
       "12  Trent Lott (Republican) 68.8% Ken Harper (Demo...  \n",
       "13  John Ashcroft (Republican) 59.8% Alan Wheat (D...  \n",
       "14  Conrad Burns (Republican) 62.4% Jack Mudd (Dem...  \n",
       "15  Bob Kerrey (Democratic) 55% Jan Stoney (Republ...  \n",
       "16  Richard Bryan (Democratic) 50.9% Hal Furman (R...  \n",
       "17  Frank Lautenberg (Democratic) 50.4% Chuck Hayt...  \n",
       "18  Jeff Bingaman (Democratic) 54% Colin McMillan ...  \n",
       "19  Daniel Patrick Moynihan (Democratic) 55% Berna...  \n",
       "20  Kent Conrad (Democratic) 58% Ben Clayburgh (Re...  \n",
       "21  Mike DeWine (Republican) 53.4% Joel Hyatt (Dem...  \n",
       "22  Rick Santorum (Republican) 49.4% Harris Woffor...  \n",
       "23  John Chafee (Republican) 64% Linda Kushner (De...  \n",
       "24  Bill Frist (Republican) 56.4% Jim Sasser (Demo...  \n",
       "25  Kay Bailey Hutchison (Republican) 60.8% Richar...  \n",
       "26  Orrin Hatch (Republican) 68.8% Patrick Shea (D...  \n",
       "27  Jim Jeffords (Republican) 50.3% Jan Backus (De...  \n",
       "28  Chuck Robb (Democratic) 45.6% Oliver North (Re...  \n",
       "29  Slade Gorton (Republican) 55.75% Ron Sims (Dem...  \n",
       "30  Robert Byrd (Democratic) 69% Stanley L. Klos (...  \n",
       "31  Herb Kohl (Democratic) 58% Robert Welch (Repub...  \n",
       "32  Craig Thomas (Republican) 58.9% Mike Sullivan ...  \n",
       "33  Fred Thompson (Republican) 61% Jim Cooper (Dem...  \n",
       "34  Jim Inhofe (Republican) 55.2% Dave McCurdy (De...  "
      ]
     },
     "metadata": {},
     "output_type": "display_data"
    },
    {
     "data": {
      "text/html": [
       "<div>\n",
       "<style scoped>\n",
       "    .dataframe tbody tr th:only-of-type {\n",
       "        vertical-align: middle;\n",
       "    }\n",
       "\n",
       "    .dataframe tbody tr th {\n",
       "        vertical-align: top;\n",
       "    }\n",
       "\n",
       "    .dataframe thead th {\n",
       "        text-align: right;\n",
       "    }\n",
       "</style>\n",
       "<table border=\"1\" class=\"dataframe\">\n",
       "  <thead>\n",
       "    <tr style=\"text-align: right;\">\n",
       "      <th></th>\n",
       "      <th>State_id</th>\n",
       "    </tr>\n",
       "  </thead>\n",
       "  <tbody>\n",
       "    <tr>\n",
       "      <th>Dennis DeConcini</th>\n",
       "      <td>Arizona</td>\n",
       "    </tr>\n",
       "    <tr>\n",
       "      <th>Dianne Feinstein</th>\n",
       "      <td>California</td>\n",
       "    </tr>\n",
       "    <tr>\n",
       "      <th>Joe Lieberman</th>\n",
       "      <td>Connecticut</td>\n",
       "    </tr>\n",
       "    <tr>\n",
       "      <th>William Roth</th>\n",
       "      <td>Delaware</td>\n",
       "    </tr>\n",
       "    <tr>\n",
       "      <th>Connie Mack III</th>\n",
       "      <td>Florida</td>\n",
       "    </tr>\n",
       "    <tr>\n",
       "      <th>Daniel Akaka</th>\n",
       "      <td>Hawaii</td>\n",
       "    </tr>\n",
       "    <tr>\n",
       "      <th>Richard Lugar</th>\n",
       "      <td>Indiana</td>\n",
       "    </tr>\n",
       "    <tr>\n",
       "      <th>George J. Mitchell</th>\n",
       "      <td>Maine</td>\n",
       "    </tr>\n",
       "    <tr>\n",
       "      <th>Paul Sarbanes</th>\n",
       "      <td>Maryland</td>\n",
       "    </tr>\n",
       "    <tr>\n",
       "      <th>Ted Kennedy</th>\n",
       "      <td>Massachusetts</td>\n",
       "    </tr>\n",
       "    <tr>\n",
       "      <th>Donald W. Riegle Jr.</th>\n",
       "      <td>Michigan</td>\n",
       "    </tr>\n",
       "    <tr>\n",
       "      <th>David Durenberger</th>\n",
       "      <td>Minnesota</td>\n",
       "    </tr>\n",
       "    <tr>\n",
       "      <th>Trent Lott</th>\n",
       "      <td>Mississippi</td>\n",
       "    </tr>\n",
       "    <tr>\n",
       "      <th>John Danforth</th>\n",
       "      <td>Missouri</td>\n",
       "    </tr>\n",
       "    <tr>\n",
       "      <th>Conrad Burns</th>\n",
       "      <td>Montana</td>\n",
       "    </tr>\n",
       "    <tr>\n",
       "      <th>Bob Kerrey</th>\n",
       "      <td>Nebraska</td>\n",
       "    </tr>\n",
       "    <tr>\n",
       "      <th>Richard Bryan</th>\n",
       "      <td>Nevada</td>\n",
       "    </tr>\n",
       "    <tr>\n",
       "      <th>Frank Lautenberg</th>\n",
       "      <td>New_Jersey</td>\n",
       "    </tr>\n",
       "    <tr>\n",
       "      <th>Jeff Bingaman</th>\n",
       "      <td>New_Mexico</td>\n",
       "    </tr>\n",
       "    <tr>\n",
       "      <th>Daniel Patrick Moynihan</th>\n",
       "      <td>New_York</td>\n",
       "    </tr>\n",
       "    <tr>\n",
       "      <th>Kent Conrad</th>\n",
       "      <td>North_Dakota</td>\n",
       "    </tr>\n",
       "    <tr>\n",
       "      <th>Howard Metzenbaum</th>\n",
       "      <td>Ohio</td>\n",
       "    </tr>\n",
       "    <tr>\n",
       "      <th>Harris Wofford</th>\n",
       "      <td>Pennsylvania</td>\n",
       "    </tr>\n",
       "    <tr>\n",
       "      <th>John Chafee</th>\n",
       "      <td>Rhode_Island</td>\n",
       "    </tr>\n",
       "    <tr>\n",
       "      <th>Jim Sasser</th>\n",
       "      <td>Tennessee</td>\n",
       "    </tr>\n",
       "    <tr>\n",
       "      <th>Kay Bailey Hutchison</th>\n",
       "      <td>Texas</td>\n",
       "    </tr>\n",
       "    <tr>\n",
       "      <th>Orrin Hatch</th>\n",
       "      <td>Utah</td>\n",
       "    </tr>\n",
       "    <tr>\n",
       "      <th>Jim Jeffords</th>\n",
       "      <td>Vermont</td>\n",
       "    </tr>\n",
       "    <tr>\n",
       "      <th>Chuck Robb</th>\n",
       "      <td>Virginia</td>\n",
       "    </tr>\n",
       "    <tr>\n",
       "      <th>Slade Gorton</th>\n",
       "      <td>Washington</td>\n",
       "    </tr>\n",
       "    <tr>\n",
       "      <th>Robert Byrd</th>\n",
       "      <td>West_Virginia</td>\n",
       "    </tr>\n",
       "    <tr>\n",
       "      <th>Herb Kohl</th>\n",
       "      <td>Wisconsin</td>\n",
       "    </tr>\n",
       "    <tr>\n",
       "      <th>Malcolm Wallop</th>\n",
       "      <td>Wyoming</td>\n",
       "    </tr>\n",
       "    <tr>\n",
       "      <th>Harlan Matthews</th>\n",
       "      <td>Tennessee(Class_2)</td>\n",
       "    </tr>\n",
       "    <tr>\n",
       "      <th>David Boren</th>\n",
       "      <td>Oklahoma(Class_2)</td>\n",
       "    </tr>\n",
       "  </tbody>\n",
       "</table>\n",
       "</div>"
      ],
      "text/plain": [
       "                                   State_id\n",
       "Dennis DeConcini                    Arizona\n",
       "Dianne Feinstein                 California\n",
       "Joe Lieberman                   Connecticut\n",
       "William Roth                       Delaware\n",
       "Connie Mack III                     Florida\n",
       "Daniel Akaka                         Hawaii\n",
       "Richard Lugar                       Indiana\n",
       "George J. Mitchell                    Maine\n",
       "Paul Sarbanes                      Maryland\n",
       "Ted Kennedy                   Massachusetts\n",
       "Donald W. Riegle Jr.               Michigan\n",
       "David Durenberger                 Minnesota\n",
       "Trent Lott                      Mississippi\n",
       "John Danforth                      Missouri\n",
       "Conrad Burns                        Montana\n",
       "Bob Kerrey                         Nebraska\n",
       "Richard Bryan                        Nevada\n",
       "Frank Lautenberg                 New_Jersey\n",
       "Jeff Bingaman                    New_Mexico\n",
       "Daniel Patrick Moynihan            New_York\n",
       "Kent Conrad                    North_Dakota\n",
       "Howard Metzenbaum                      Ohio\n",
       "Harris Wofford                 Pennsylvania\n",
       "John Chafee                    Rhode_Island\n",
       "Jim Sasser                        Tennessee\n",
       "Kay Bailey Hutchison                  Texas\n",
       "Orrin Hatch                            Utah\n",
       "Jim Jeffords                        Vermont\n",
       "Chuck Robb                         Virginia\n",
       "Slade Gorton                     Washington\n",
       "Robert Byrd                   West_Virginia\n",
       "Herb Kohl                         Wisconsin\n",
       "Malcolm Wallop                      Wyoming\n",
       "Harlan Matthews          Tennessee(Class_2)\n",
       "David Boren               Oklahoma(Class_2)"
      ]
     },
     "metadata": {},
     "output_type": "display_data"
    }
   ],
   "source": [
    "for table in yr_sum_dict['1994']:\n",
    "    display(table)"
   ]
  },
  {
   "cell_type": "markdown",
   "metadata": {},
   "source": [
    "* Create a table with names as index and state as values .loc name of candidates to get state value\n",
    "* Use table of each year's general summary to then pull the general elections out of whole list (index 2 in colleciton) based upon names in table + non-uniform party column\n",
    "    * Need to merge (if special election) tables in collection index 1"
   ]
  },
  {
   "cell_type": "code",
   "execution_count": null,
   "metadata": {
    "ExecuteTime": {
     "end_time": "2020-07-26T22:57:19.418569Z",
     "start_time": "2020-07-26T22:57:19.401836Z"
    },
    "scrolled": true
   },
   "outputs": [],
   "source": [
    "test = {'1918': ['fire'], '1920': 'jet', '1976': 'hello'}\n",
    "test['1918'].append('bromine')\n",
    "for i in test:\n",
    "    print(i)\n",
    "print(test['1918'])"
   ]
  },
  {
   "cell_type": "markdown",
   "metadata": {},
   "source": [
    "* 1924 = 10\n",
    "* 1926 = 12\n",
    "* 1928 = 10\n",
    "* Pull only tables with `shape[1]` of 5 or 6.\n",
    "* Table 2 is always summary of senate leaders"
   ]
  },
  {
   "cell_type": "markdown",
   "metadata": {},
   "source": [
    "Why after the 17th amendment?? [Link](https://en.wikipedia.org/wiki/Seventeenth_Amendment_to_the_United_States_Constitution)"
   ]
  },
  {
   "cell_type": "markdown",
   "metadata": {},
   "source": [
    "For 1920 forward, proceed like 1976. Prior to this, will need to use first table with general info."
   ]
  },
  {
   "cell_type": "markdown",
   "metadata": {},
   "source": [
    "* **Clean up NaN value table from top of pages** -- Use index 2 to grab  nested table from `'infobox vevent'`.\n",
    "* **Take list of states of top tables** and map to dfs\n",
    "* Get demographic info wikidata\n",
    "* eda time series of state party (heatmap)\n",
    "* NLP on names, etc.\n",
    "* [link for slider viz](https://medium.com/@sjacks/the-journey-to-an-attractive-visualization-bac019506a49)"
   ]
  },
  {
   "cell_type": "code",
   "execution_count": null,
   "metadata": {},
   "outputs": [],
   "source": []
  }
 ],
 "metadata": {
  "kernelspec": {
   "display_name": "Python 3",
   "language": "python",
   "name": "python3"
  },
  "language_info": {
   "codemirror_mode": {
    "name": "ipython",
    "version": 3
   },
   "file_extension": ".py",
   "mimetype": "text/x-python",
   "name": "python",
   "nbconvert_exporter": "python",
   "pygments_lexer": "ipython3",
   "version": "3.6.6"
  },
  "toc": {
   "base_numbering": 1,
   "nav_menu": {},
   "number_sections": true,
   "sideBar": true,
   "skip_h1_title": false,
   "title_cell": "Table of Contents",
   "title_sidebar": "Contents",
   "toc_cell": false,
   "toc_position": {},
   "toc_section_display": true,
   "toc_window_display": true
  },
  "varInspector": {
   "cols": {
    "lenName": 16,
    "lenType": 16,
    "lenVar": 40
   },
   "kernels_config": {
    "python": {
     "delete_cmd_postfix": "",
     "delete_cmd_prefix": "del ",
     "library": "var_list.py",
     "varRefreshCmd": "print(var_dic_list())"
    },
    "r": {
     "delete_cmd_postfix": ") ",
     "delete_cmd_prefix": "rm(",
     "library": "var_list.r",
     "varRefreshCmd": "cat(var_dic_list()) "
    }
   },
   "types_to_exclude": [
    "module",
    "function",
    "builtin_function_or_method",
    "instance",
    "_Feature"
   ],
   "window_display": false
  }
 },
 "nbformat": 4,
 "nbformat_minor": 2
}
