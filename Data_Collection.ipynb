{
 "cells": [
  {
   "cell_type": "markdown",
   "metadata": {},
   "source": [
    "# Predict the Flip! (Data Collection)"
   ]
  },
  {
   "cell_type": "markdown",
   "metadata": {
    "heading_collapsed": true
   },
   "source": [
    "## Imports"
   ]
  },
  {
   "cell_type": "code",
   "execution_count": 2,
   "metadata": {
    "ExecuteTime": {
     "end_time": "2020-08-31T02:18:40.291423Z",
     "start_time": "2020-08-31T02:18:38.085192Z"
    },
    "hidden": true
   },
   "outputs": [],
   "source": [
    "import functions as dlf\n",
    "import pandas as pd\n",
    "import numpy as np\n",
    "import requests\n",
    "import regex\n",
    "import pickle\n",
    "from importlib import reload\n",
    "from bs4 import BeautifulSoup\n",
    "from genderize import Genderize"
   ]
  },
  {
   "cell_type": "markdown",
   "metadata": {},
   "source": [
    "## Links"
   ]
  },
  {
   "cell_type": "markdown",
   "metadata": {},
   "source": [
    "Below are some of the links that inspired this project and/or features to add in the future. The link to Wikipedia is the source of this dataset."
   ]
  },
  {
   "cell_type": "markdown",
   "metadata": {},
   "source": [
    "> [Wikipedia](https://en.wikipedia.org/wiki/List_of_United_States_Senate_elections) <-- Where the dataset was scraped from!\n",
    "\n",
    "> [Link to Brookings](https://www.brookings.edu/multi-chapter-report/vital-statistics-on-congress/)\n",
    "\n",
    "> [Link to BallotPedia](https://ballotpedia.org/Legislative_Branch)\n",
    "\n",
    "> [Link to Wiki-Category (U.S. Senator)](https://commons.wikimedia.org/wiki/Category:Senators_of_the_United_States)"
   ]
  },
  {
   "cell_type": "markdown",
   "metadata": {},
   "source": [
    "## Background"
   ]
  },
  {
   "cell_type": "markdown",
   "metadata": {},
   "source": [
    "This dataset will be created by scraping the various pages on Wikipedia containing information on past United States Senate elections. \n",
    "\n",
    "Although the Senate has existed in some form since 1788, the U.S. Senate election process we know and recognize today came to fruition after the ratification of the 17th Amendment of the U.S. Constitution in 1913.\n",
    "\n",
    "This Amendment made it so that the senators representing any given state needed to be elected by popular vote of the people, rather than being appointed by the state's legislature (unless it is an interim position until a special election is held).\n",
    "\n",
    "Given this, the dataset will feature information beginning in 1914 through present. In some cases it will only feature 1920 through present as the acting senators during the ratification of the 17th Amendment were allowed to finish their six-year terms.\n",
    "\n",
    "More information about this can be found here: [17th Amendment](https://en.wikipedia.org/wiki/Seventeenth_Amendment_to_the_United_States_Constitution)"
   ]
  },
  {
   "cell_type": "markdown",
   "metadata": {},
   "source": [
    "## Building code"
   ]
  },
  {
   "cell_type": "markdown",
   "metadata": {},
   "source": [
    "**<font size=3>DISCLAIMER!</font>**"
   ]
  },
  {
   "cell_type": "markdown",
   "metadata": {},
   "source": [
    "This section includes all of the functions and code used to scrape and clean up this dataset. For brevity, a vast majority of the code used during this process has been moved to the *functions.py* file in this repository. I will put comments in each cell describing what is going on with each step."
   ]
  },
  {
   "cell_type": "markdown",
   "metadata": {
    "heading_collapsed": true
   },
   "source": [
    "#### Wikitable scraping"
   ]
  },
  {
   "cell_type": "markdown",
   "metadata": {
    "hidden": true
   },
   "source": [
    "> The following function connects to Wikipedia, uses Beautiful Soup to scrape each link to a different year on the election. It then separates and stores the wikitables and the table of contents (toc) from each page in a dictionary."
   ]
  },
  {
   "cell_type": "code",
   "execution_count": null,
   "metadata": {
    "ExecuteTime": {
     "end_time": "2020-08-19T23:42:56.535012Z",
     "start_time": "2020-08-19T23:42:56.523954Z"
    },
    "hidden": true
   },
   "outputs": [],
   "source": [
    "elect_yr_tables, elect_yr_tocs = dlf.wiki_senate_scraper()"
   ]
  },
  {
   "cell_type": "markdown",
   "metadata": {
    "heading_collapsed": true
   },
   "source": [
    "#### Wikitable Organizing"
   ]
  },
  {
   "cell_type": "markdown",
   "metadata": {
    "hidden": true
   },
   "source": [
    "> The following function iterates through `elect_yr_tables`' wikitables and separates them into three groups: senate leaders, year's summary, state general elections. Stores them as a list in a dictionary by year."
   ]
  },
  {
   "cell_type": "code",
   "execution_count": 3,
   "metadata": {
    "ExecuteTime": {
     "end_time": "2020-08-19T23:42:56.535012Z",
     "start_time": "2020-08-19T23:42:56.523954Z"
    },
    "hidden": true
   },
   "outputs": [],
   "source": [
    "election_collection_raw = dlf.election_collector(elect_yr_tables, elect_yr_tocs)"
   ]
  },
  {
   "cell_type": "markdown",
   "metadata": {
    "heading_collapsed": true
   },
   "source": [
    "#### Year Summary Collection & Cleaning"
   ]
  },
  {
   "cell_type": "markdown",
   "metadata": {
    "hidden": true
   },
   "source": [
    "**<font size=3>DISCLAIMER!</font>**"
   ]
  },
  {
   "cell_type": "markdown",
   "metadata": {
    "hidden": true
   },
   "source": [
    "*The following functions work for all years up until 2018 (the targeted tables do not exist on Wikipedia)* "
   ]
  },
  {
   "cell_type": "markdown",
   "metadata": {
    "hidden": true
   },
   "source": [
    "> The following function iterates through `election_collection_raw` to move each year's summary to a  new dictionary of wikitables as dataframes."
   ]
  },
  {
   "cell_type": "code",
   "execution_count": null,
   "metadata": {
    "ExecuteTime": {
     "end_time": "2020-08-19T23:42:56.558155Z",
     "start_time": "2020-08-19T23:42:56.545002Z"
    },
    "hidden": true
   },
   "outputs": [],
   "source": [
    "yr_sum_tables = dlf.yr_summary_collector(election_collection_raw)"
   ]
  },
  {
   "cell_type": "markdown",
   "metadata": {
    "hidden": true
   },
   "source": [
    "> The following function iterates through `yr_sum_tables` to clean the summary and store a state-senator reference dataframe for the same year in a dictionary."
   ]
  },
  {
   "cell_type": "code",
   "execution_count": null,
   "metadata": {
    "ExecuteTime": {
     "end_time": "2020-08-19T23:42:56.558155Z",
     "start_time": "2020-08-19T23:42:56.545002Z"
    },
    "hidden": true
   },
   "outputs": [],
   "source": [
    "yr_sum_dict = dlf.yr_sum_formatter(yr_sum_tables)"
   ]
  },
  {
   "cell_type": "markdown",
   "metadata": {
    "heading_collapsed": true
   },
   "source": [
    "#### State-Senator Reference Table"
   ]
  },
  {
   "cell_type": "markdown",
   "metadata": {
    "hidden": true
   },
   "source": [
    "**<font size=3>DISCLAIMER!</font>**"
   ]
  },
  {
   "cell_type": "markdown",
   "metadata": {
    "hidden": true
   },
   "source": [
    "*The following function works for all years up until 2018 (the targeted tables do not exist on Wikipedia)* "
   ]
  },
  {
   "cell_type": "markdown",
   "metadata": {
    "hidden": true
   },
   "source": [
    "> The following function iterates through `yr_sum_dict` to grab the reference table from every year and concatenate them into a master state-senator reference dataframe. It also adds the `Terms_in_office` and `Cln_name` features."
   ]
  },
  {
   "cell_type": "code",
   "execution_count": 4,
   "metadata": {
    "ExecuteTime": {
     "end_time": "2020-08-19T23:42:56.558155Z",
     "start_time": "2020-08-19T23:42:56.545002Z"
    },
    "hidden": true
   },
   "outputs": [],
   "source": [
    "name_lookup_df = dlf.master_tabler(yr_sum_dict)"
   ]
  },
  {
   "cell_type": "markdown",
   "metadata": {
    "heading_collapsed": true
   },
   "source": [
    "#### Senate Leader Collection & Cleaning"
   ]
  },
  {
   "cell_type": "markdown",
   "metadata": {
    "hidden": true
   },
   "source": [
    "> The following function iterates over `election_collection_raw` and stores every wikitable with the 1st row dropped (if possible)."
   ]
  },
  {
   "cell_type": "code",
   "execution_count": null,
   "metadata": {
    "ExecuteTime": {
     "end_time": "2020-08-19T23:42:56.619571Z",
     "start_time": "2020-08-19T23:42:56.609658Z"
    },
    "hidden": true
   },
   "outputs": [],
   "source": [
    "sen_leader_tables = dlf.sen_leader_collector(election_collection_raw)"
   ]
  },
  {
   "cell_type": "markdown",
   "metadata": {
    "hidden": true
   },
   "source": [
    "> The following function iterates over `sen_leader_tables`, first splitting the dataframes into two (if necessary). It then re-indexes, transposes, and (if necessary) concatenate the dataframe(s) before storing them in dictionary by year."
   ]
  },
  {
   "cell_type": "code",
   "execution_count": null,
   "metadata": {
    "ExecuteTime": {
     "end_time": "2020-08-19T23:42:56.619571Z",
     "start_time": "2020-08-19T23:42:56.609658Z"
    },
    "hidden": true
   },
   "outputs": [],
   "source": [
    "sen_leader_dict = dlf.sen_leader_cleaner(sen_leader_tables)"
   ]
  },
  {
   "cell_type": "markdown",
   "metadata": {
    "hidden": true
   },
   "source": [
    "> The following function iterates over `sen_leader_dict`, combining all of the years into one master dataframe of all-time senate leaders. "
   ]
  },
  {
   "cell_type": "code",
   "execution_count": null,
   "metadata": {
    "ExecuteTime": {
     "end_time": "2020-08-19T23:42:56.647525Z",
     "start_time": "2020-08-19T23:42:56.635921Z"
    },
    "hidden": true
   },
   "outputs": [],
   "source": [
    "ldr_master_df = dlf.master_leader_tabler(sen_leader_dict)"
   ]
  },
  {
   "cell_type": "markdown",
   "metadata": {
    "hidden": true
   },
   "source": [
    "> The following function goes over `ldr_master_df` and either:\n",
    " * Replaces values\n",
    " * Fills NAs\n",
    " * All the above\n",
    "     * There is an option for different strategies to be implemented"
   ]
  },
  {
   "cell_type": "code",
   "execution_count": null,
   "metadata": {
    "ExecuteTime": {
     "end_time": "2020-08-19T23:42:56.647525Z",
     "start_time": "2020-08-19T23:42:56.635921Z"
    },
    "hidden": true
   },
   "outputs": [],
   "source": [
    "ldr_master_df_model = dlf.master_leader_cleaner(ldr_master_df, rd_stand=True, fillna_stand=True)"
   ]
  },
  {
   "cell_type": "markdown",
   "metadata": {
    "hidden": true
   },
   "source": [
    "> The following function iterates over the leader's names in `ldr_master_df_model` and cleans them via regex."
   ]
  },
  {
   "cell_type": "code",
   "execution_count": 8,
   "metadata": {
    "ExecuteTime": {
     "end_time": "2020-08-19T23:42:56.647525Z",
     "start_time": "2020-08-19T23:42:56.635921Z"
    },
    "hidden": true,
    "scrolled": false
   },
   "outputs": [],
   "source": [
    "ldr_master_df_model = dlf.regex_subber_bycol(ldr_master_df_model, 'Leader', \n",
    "                                         [r'\\(([^\\)]+)\\)', r'\\[([^\\)]+)\\]'],\n",
    "                                         multi_patt=True)"
   ]
  },
  {
   "cell_type": "markdown",
   "metadata": {
    "heading_collapsed": true
   },
   "source": [
    "#### State Election Collection & Cleaning"
   ]
  },
  {
   "cell_type": "markdown",
   "metadata": {
    "hidden": true
   },
   "source": [
    "> The following function iterates over `election_collection_raw` and stores all of each year's state elections into a new dictionary for further cleaning."
   ]
  },
  {
   "cell_type": "code",
   "execution_count": null,
   "metadata": {
    "ExecuteTime": {
     "end_time": "2020-08-19T23:58:21.617484Z",
     "start_time": "2020-08-19T23:58:18.008414Z"
    },
    "hidden": true
   },
   "outputs": [],
   "source": [
    "yr_st_elects = dlf.st_election_collector(election_collection_raw)\n",
    "print(('---'*10)+'Step 1 Complete!'+('---'*10))"
   ]
  },
  {
   "cell_type": "markdown",
   "metadata": {
    "hidden": true
   },
   "source": [
    "> The following function iterates over `yr_st_elects` to collect each year's wikitables and clean them via the `st_election_formatter` function found in the `functions.py` file; it re-formats the wikitables by moving data from rows into columns and NA handling, returning a dictionary of formatting dataframes"
   ]
  },
  {
   "cell_type": "code",
   "execution_count": null,
   "metadata": {
    "ExecuteTime": {
     "end_time": "2020-08-19T23:58:21.617484Z",
     "start_time": "2020-08-19T23:58:18.008414Z"
    },
    "hidden": true
   },
   "outputs": [],
   "source": [
    "yr_st_dict = dlf.st_election_cleaner(yr_st_elects)\n",
    "print(('---'*10)+'Step 2 Complete!'+('---'*10))"
   ]
  },
  {
   "cell_type": "markdown",
   "metadata": {
    "hidden": true
   },
   "source": [
    "> The following function iterates over `yr_st_dict` to further filter out dataframes that represent non-general elections. It then collects necessary columns from each dataframe, finally concatenating them into one consisting of all a year's state general elections."
   ]
  },
  {
   "cell_type": "code",
   "execution_count": null,
   "metadata": {
    "ExecuteTime": {
     "end_time": "2020-08-19T23:58:21.617484Z",
     "start_time": "2020-08-19T23:58:18.008414Z"
    },
    "hidden": true
   },
   "outputs": [],
   "source": [
    "yr_st_dict_joined = dlf.st_election_aggregator(yr_st_dict)\n",
    "print(('---'*10)+'Step 3 Complete!'+('---'*10))"
   ]
  },
  {
   "cell_type": "markdown",
   "metadata": {
    "hidden": true
   },
   "source": [
    "> The following function iterates over `yr_st_dict_joined` referencing `name_lookup_df` to clean candidate names in each year's dataframe via regex and use the names to match candidates to the correct state and election. It also merges the `Turnout` & `Total Votes` columns into one (edge case control). It lastly stores each year's cleaned dataframe into a dictionary by year."
   ]
  },
  {
   "cell_type": "code",
   "execution_count": null,
   "metadata": {
    "ExecuteTime": {
     "end_time": "2020-08-19T23:58:21.617484Z",
     "start_time": "2020-08-19T23:58:18.008414Z"
    },
    "hidden": true
   },
   "outputs": [],
   "source": [
    "yr_st_dict_mapped = dlf.st_election_state_mapper(yr_st_dict_joined, name_lookup_df)\n",
    "print(('---'*10)+'Step 4 Complete!'+('---'*10))"
   ]
  },
  {
   "cell_type": "markdown",
   "metadata": {
    "hidden": true
   },
   "source": [
    "> The following function iterates over `yr_st_dict_mapped` to go through the `Turnout`, `%`, `Candidate`, and `State` columns to either manually or programmatically fill NAs."
   ]
  },
  {
   "cell_type": "code",
   "execution_count": null,
   "metadata": {
    "ExecuteTime": {
     "end_time": "2020-08-19T23:58:21.617484Z",
     "start_time": "2020-08-19T23:58:18.008414Z"
    },
    "hidden": true
   },
   "outputs": [],
   "source": [
    "yr_st_mapped_full = dlf.yr_st_mapped_NA_handler(yr_st_dict_mapped)\n",
    "print(('---'*10)+'Step 5 Complete!'+('---'*10))"
   ]
  },
  {
   "cell_type": "markdown",
   "metadata": {
    "hidden": true
   },
   "source": [
    "> The following function iterates over `yr_st_mapped_full`, referencing `name_lookup_df` and `ldr_master_df_model` to augment or create existing and new columns in each year's dataframe. Examples include `Terms_in_office` and `Seats_before%`."
   ]
  },
  {
   "cell_type": "code",
   "execution_count": 8,
   "metadata": {
    "ExecuteTime": {
     "end_time": "2020-08-19T23:58:21.617484Z",
     "start_time": "2020-08-19T23:58:18.008414Z"
    },
    "hidden": true,
    "scrolled": false
   },
   "outputs": [
    {
     "name": "stdout",
     "output_type": "stream",
     "text": [
      "4 NA operations completed.\n",
      "------------------------------Step 5 Complete!------------------------------\n",
      "20 loops done! Just finished 1958.\n",
      "20 loops done! Just finished 1998.\n",
      "Finished 49 years! Latest year collected 2016.\n",
      "------------------------------Step 6 Complete!------------------------------\n"
     ]
    }
   ],
   "source": [
    "yr_st_mapped_cln = dlf.st_mapped_cleaner(yr_st_mapped_full, name_lookup_df, ldr_master_df_model)\n",
    "print(('---'*10)+'Step 6 Complete!'+('---'*10))"
   ]
  },
  {
   "cell_type": "markdown",
   "metadata": {
    "hidden": true
   },
   "source": [
    "> The following function iterates over `yr_st_mapped_cln` in order to concatenate every year into one master dataframe for EDA/modeling."
   ]
  },
  {
   "cell_type": "code",
   "execution_count": 9,
   "metadata": {
    "ExecuteTime": {
     "end_time": "2020-08-19T23:58:21.753249Z",
     "start_time": "2020-08-19T23:58:21.623976Z"
    },
    "hidden": true
   },
   "outputs": [],
   "source": [
    "fin_df = dlf.cln_st_combiner(yr_st_mapped_cln)"
   ]
  },
  {
   "cell_type": "markdown",
   "metadata": {
    "heading_collapsed": true
   },
   "source": [
    "## Pickles"
   ]
  },
  {
   "cell_type": "markdown",
   "metadata": {
    "hidden": true
   },
   "source": [
    "In order to keep my computer running at an acceptable pace and save runtime during this process, it was necessary to save my variables periodically via the `pickle` package. I have left them in here for future usage."
   ]
  },
  {
   "cell_type": "markdown",
   "metadata": {
    "heading_collapsed": true,
    "hidden": true
   },
   "source": [
    "### Writing.."
   ]
  },
  {
   "cell_type": "code",
   "execution_count": null,
   "metadata": {
    "ExecuteTime": {
     "end_time": "2020-08-19T23:42:56.670565Z",
     "start_time": "2020-08-19T23:42:56.657695Z"
    },
    "hidden": true
   },
   "outputs": [],
   "source": [
    "# with open('Pickles/election_collection_raw.pickle', 'wb') as f:\n",
    "#     pickle.dump(election_collection_raw, f)\n",
    "#     f.close()"
   ]
  },
  {
   "cell_type": "code",
   "execution_count": null,
   "metadata": {
    "ExecuteTime": {
     "end_time": "2020-08-19T23:42:56.670565Z",
     "start_time": "2020-08-19T23:42:56.657695Z"
    },
    "hidden": true
   },
   "outputs": [],
   "source": [
    "# with open('Pickles/yr_sum_tables.pickle', 'wb') as f:\n",
    "#     pickle.dump(yr_sum_tables, f)\n",
    "#     f.close()"
   ]
  },
  {
   "cell_type": "code",
   "execution_count": null,
   "metadata": {
    "ExecuteTime": {
     "end_time": "2020-08-19T23:42:56.670565Z",
     "start_time": "2020-08-19T23:42:56.657695Z"
    },
    "hidden": true
   },
   "outputs": [],
   "source": [
    "# with open('Pickles/yr_sum_dict.pickle', 'wb') as f:\n",
    "#     pickle.dump(yr_sum_dict, f)\n",
    "#     f.close()"
   ]
  },
  {
   "cell_type": "code",
   "execution_count": null,
   "metadata": {
    "ExecuteTime": {
     "end_time": "2020-08-19T23:42:56.670565Z",
     "start_time": "2020-08-19T23:42:56.657695Z"
    },
    "hidden": true
   },
   "outputs": [],
   "source": [
    "# with open('Pickles/name_lookup_df.pickle', 'wb') as f:\n",
    "#     pickle.dump(name_lookup_df, f)\n",
    "#     f.close()"
   ]
  },
  {
   "cell_type": "code",
   "execution_count": null,
   "metadata": {
    "ExecuteTime": {
     "end_time": "2020-08-19T23:42:56.670565Z",
     "start_time": "2020-08-19T23:42:56.657695Z"
    },
    "hidden": true
   },
   "outputs": [],
   "source": [
    "# with open('Pickles/yr_st_elects.pickle', 'wb') as f:\n",
    "#     pickle.dump(yr_st_elects, f)\n",
    "#     f.close()"
   ]
  },
  {
   "cell_type": "code",
   "execution_count": null,
   "metadata": {
    "ExecuteTime": {
     "end_time": "2020-08-19T23:42:56.670565Z",
     "start_time": "2020-08-19T23:42:56.657695Z"
    },
    "hidden": true
   },
   "outputs": [],
   "source": [
    "# with open('Pickles/yr_st_dict.pickle', 'wb') as f:\n",
    "#     pickle.dump(yr_st_dict, f)\n",
    "#     f.close()"
   ]
  },
  {
   "cell_type": "code",
   "execution_count": null,
   "metadata": {
    "ExecuteTime": {
     "end_time": "2020-08-19T23:42:56.670565Z",
     "start_time": "2020-08-19T23:42:56.657695Z"
    },
    "hidden": true
   },
   "outputs": [],
   "source": [
    "# with open('Pickles/yr_st_dict_joined.pickle', 'wb') as f:\n",
    "#     pickle.dump(yr_st_dict_joined, f)\n",
    "#     f.close()"
   ]
  },
  {
   "cell_type": "code",
   "execution_count": null,
   "metadata": {
    "ExecuteTime": {
     "end_time": "2020-08-19T23:42:56.670565Z",
     "start_time": "2020-08-19T23:42:56.657695Z"
    },
    "hidden": true
   },
   "outputs": [],
   "source": [
    "# with open('Pickles/yr_st_dict_mapped.pickle', 'wb') as f:\n",
    "#     pickle.dump(yr_st_dict_mapped, f)\n",
    "#     f.close()"
   ]
  },
  {
   "cell_type": "code",
   "execution_count": null,
   "metadata": {
    "ExecuteTime": {
     "end_time": "2020-08-19T23:42:56.670565Z",
     "start_time": "2020-08-19T23:42:56.657695Z"
    },
    "hidden": true
   },
   "outputs": [],
   "source": [
    "# with open('Pickles/yr_st_mapped_full.pickle', 'wb') as f:\n",
    "#     pickle.dump(yr_st_mapped_full, f)\n",
    "#     f.close()"
   ]
  },
  {
   "cell_type": "code",
   "execution_count": null,
   "metadata": {
    "ExecuteTime": {
     "end_time": "2020-08-19T23:42:56.670565Z",
     "start_time": "2020-08-19T23:42:56.657695Z"
    },
    "hidden": true
   },
   "outputs": [],
   "source": [
    "# with open('Pickles/yr_st_mapped_cln.pickle', 'wb') as f:\n",
    "#     pickle.dump(yr_st_mapped_cln, f)\n",
    "#     f.close()"
   ]
  },
  {
   "cell_type": "code",
   "execution_count": null,
   "metadata": {
    "ExecuteTime": {
     "end_time": "2020-08-19T23:42:56.670565Z",
     "start_time": "2020-08-19T23:42:56.657695Z"
    },
    "hidden": true
   },
   "outputs": [],
   "source": [
    "# with open('Pickles/sen_leader_tables.pickle', 'wb') as f:\n",
    "#     pickle.dump(sen_leader_tables, f)\n",
    "#     f.close()"
   ]
  },
  {
   "cell_type": "code",
   "execution_count": null,
   "metadata": {
    "ExecuteTime": {
     "end_time": "2020-08-19T23:42:56.670565Z",
     "start_time": "2020-08-19T23:42:56.657695Z"
    },
    "hidden": true
   },
   "outputs": [],
   "source": [
    "# with open('Pickles/sen_leader_dict.pickle', 'wb') as f:\n",
    "#     pickle.dump(sen_leader_dict, f)\n",
    "#     f.close()"
   ]
  },
  {
   "cell_type": "code",
   "execution_count": null,
   "metadata": {
    "ExecuteTime": {
     "end_time": "2020-08-19T23:42:56.670565Z",
     "start_time": "2020-08-19T23:42:56.657695Z"
    },
    "hidden": true
   },
   "outputs": [],
   "source": [
    "# with open('Pickles/ldr_master_df.pickle', 'wb') as f:\n",
    "#     pickle.dump(ldr_master_df, f)\n",
    "#     f.close()"
   ]
  },
  {
   "cell_type": "code",
   "execution_count": null,
   "metadata": {
    "ExecuteTime": {
     "end_time": "2020-08-19T23:42:56.670565Z",
     "start_time": "2020-08-19T23:42:56.657695Z"
    },
    "hidden": true
   },
   "outputs": [],
   "source": [
    "# with open('Pickles/ldr_master_df_model.pickle', 'wb') as f:\n",
    "#     pickle.dump(ldr_master_df_model, f)\n",
    "#     f.close()"
   ]
  },
  {
   "cell_type": "code",
   "execution_count": 9,
   "metadata": {
    "ExecuteTime": {
     "end_time": "2020-08-19T23:42:56.670565Z",
     "start_time": "2020-08-19T23:42:56.657695Z"
    },
    "hidden": true
   },
   "outputs": [],
   "source": [
    "# fin_df.to_csv(r'C:\\Users\\d_ful\\Documents\\GitHub\\Capstone_Project\\Senate_generals_thru_2016.csv', index=False)"
   ]
  },
  {
   "cell_type": "markdown",
   "metadata": {
    "heading_collapsed": true,
    "hidden": true
   },
   "source": [
    "### Reading.."
   ]
  },
  {
   "cell_type": "code",
   "execution_count": null,
   "metadata": {
    "ExecuteTime": {
     "end_time": "2020-08-19T23:42:56.948152Z",
     "start_time": "2020-08-19T23:42:56.938895Z"
    },
    "hidden": true
   },
   "outputs": [],
   "source": [
    "# with open('Pickles/election_collection_raw.pickle', 'rb') as f:\n",
    "#     election_collection_raw = pickle.load(f)\n",
    "#     f.close()\n",
    "\n",
    "## Must do this befor running code for state elections. Error in code\n",
    "# do_not_use = election_collection_raw['2018'][2].pop(0)"
   ]
  },
  {
   "cell_type": "code",
   "execution_count": null,
   "metadata": {
    "ExecuteTime": {
     "end_time": "2020-08-19T23:42:56.948152Z",
     "start_time": "2020-08-19T23:42:56.938895Z"
    },
    "hidden": true
   },
   "outputs": [],
   "source": [
    "# with open('Pickles/yr_sum_tables.pickle', 'rb') as f:\n",
    "#     yr_sum_tables = pickle.load(f)\n",
    "#     f.close()"
   ]
  },
  {
   "cell_type": "code",
   "execution_count": 12,
   "metadata": {
    "ExecuteTime": {
     "end_time": "2020-08-31T03:46:33.433425Z",
     "start_time": "2020-08-31T03:46:33.320249Z"
    },
    "hidden": true
   },
   "outputs": [],
   "source": [
    "with open('Pickles/yr_sum_dict.pickle', 'rb') as f:\n",
    "    yr_sum_dict = pickle.load(f)\n",
    "    f.close()"
   ]
  },
  {
   "cell_type": "code",
   "execution_count": 10,
   "metadata": {
    "ExecuteTime": {
     "end_time": "2020-08-31T03:43:31.085455Z",
     "start_time": "2020-08-31T03:43:31.065459Z"
    },
    "hidden": true
   },
   "outputs": [],
   "source": [
    "with open('Pickles/name_lookup_df.pickle', 'rb') as f:\n",
    "    name_lookup_df = pickle.load(f)\n",
    "    f.close()"
   ]
  },
  {
   "cell_type": "code",
   "execution_count": null,
   "metadata": {
    "ExecuteTime": {
     "end_time": "2020-08-19T23:42:56.948152Z",
     "start_time": "2020-08-19T23:42:56.938895Z"
    },
    "hidden": true
   },
   "outputs": [],
   "source": [
    "# with open('Pickles/yr_st_elects.pickle', 'rb') as f:\n",
    "#     yr_st_elects = pickle.load(f)\n",
    "#     f.close()"
   ]
  },
  {
   "cell_type": "code",
   "execution_count": null,
   "metadata": {
    "ExecuteTime": {
     "end_time": "2020-08-19T23:42:56.948152Z",
     "start_time": "2020-08-19T23:42:56.938895Z"
    },
    "hidden": true
   },
   "outputs": [],
   "source": [
    "# with open('Pickles/yr_st_dict.pickle', 'rb') as f:\n",
    "#     yr_st_dict = pickle.load(f)\n",
    "#     f.close()"
   ]
  },
  {
   "cell_type": "code",
   "execution_count": null,
   "metadata": {
    "ExecuteTime": {
     "end_time": "2020-08-19T23:42:56.948152Z",
     "start_time": "2020-08-19T23:42:56.938895Z"
    },
    "hidden": true
   },
   "outputs": [],
   "source": [
    "# with open('Pickles/yr_st_dict_joined.pickle', 'rb') as f:\n",
    "#     yr_st_dict_joined = pickle.load(f)\n",
    "#     f.close()"
   ]
  },
  {
   "cell_type": "code",
   "execution_count": null,
   "metadata": {
    "ExecuteTime": {
     "end_time": "2020-08-19T23:42:56.948152Z",
     "start_time": "2020-08-19T23:42:56.938895Z"
    },
    "hidden": true
   },
   "outputs": [],
   "source": [
    "# with open('Pickles/yr_st_dict_mapped.pickle', 'rb') as f:\n",
    "#     yr_st_dict_mapped = pickle.load(f)\n",
    "#     f.close()"
   ]
  },
  {
   "cell_type": "code",
   "execution_count": null,
   "metadata": {
    "ExecuteTime": {
     "end_time": "2020-08-19T23:42:56.948152Z",
     "start_time": "2020-08-19T23:42:56.938895Z"
    },
    "hidden": true
   },
   "outputs": [],
   "source": [
    "# with open('Pickles/yr_st_mapped_full.pickle', 'rb') as f:\n",
    "#     yr_st_mapped_full = pickle.load(f)\n",
    "#     f.close()"
   ]
  },
  {
   "cell_type": "code",
   "execution_count": 13,
   "metadata": {
    "ExecuteTime": {
     "end_time": "2020-08-31T03:46:45.946098Z",
     "start_time": "2020-08-31T03:46:45.821190Z"
    },
    "hidden": true
   },
   "outputs": [],
   "source": [
    "with open('Pickles/yr_st_mapped_cln.pickle', 'rb') as f:\n",
    "    yr_st_mapped_cln = pickle.load(f)\n",
    "    f.close()"
   ]
  },
  {
   "cell_type": "code",
   "execution_count": null,
   "metadata": {
    "ExecuteTime": {
     "end_time": "2020-08-19T23:42:56.948152Z",
     "start_time": "2020-08-19T23:42:56.938895Z"
    },
    "hidden": true
   },
   "outputs": [],
   "source": [
    "# with open('Pickles/sen_leader_tables.pickle', 'rb') as f:\n",
    "#     sen_leader_tables = pickle.load(f)\n",
    "#     f.close()"
   ]
  },
  {
   "cell_type": "code",
   "execution_count": null,
   "metadata": {
    "ExecuteTime": {
     "end_time": "2020-08-19T23:42:56.948152Z",
     "start_time": "2020-08-19T23:42:56.938895Z"
    },
    "hidden": true
   },
   "outputs": [],
   "source": [
    "# with open('Pickles/sen_leader_dict.pickle', 'rb') as f:\n",
    "#     sen_leader_dict = pickle.load(f)\n",
    "#     f.close()"
   ]
  },
  {
   "cell_type": "code",
   "execution_count": null,
   "metadata": {
    "ExecuteTime": {
     "end_time": "2020-08-19T23:42:56.948152Z",
     "start_time": "2020-08-19T23:42:56.938895Z"
    },
    "hidden": true
   },
   "outputs": [],
   "source": [
    "# with open('Pickles/ldr_master_df.pickle', 'rb') as f:\n",
    "#     ldr_master_df = pickle.load(f)\n",
    "#     f.close()"
   ]
  },
  {
   "cell_type": "code",
   "execution_count": null,
   "metadata": {
    "ExecuteTime": {
     "end_time": "2020-08-19T23:42:56.948152Z",
     "start_time": "2020-08-19T23:42:56.938895Z"
    },
    "hidden": true
   },
   "outputs": [],
   "source": [
    "with open('Pickles/ldr_master_df_model.pickle', 'rb') as f:\n",
    "    ldr_master_df_model = pickle.load(f)\n",
    "    f.close()"
   ]
  },
  {
   "cell_type": "code",
   "execution_count": 22,
   "metadata": {
    "ExecuteTime": {
     "end_time": "2020-08-31T03:53:29.667662Z",
     "start_time": "2020-08-31T03:53:29.607488Z"
    },
    "hidden": true
   },
   "outputs": [],
   "source": [
    "fin_df = pd.read_csv('Senate_generals_thru_2016.csv')"
   ]
  },
  {
   "cell_type": "markdown",
   "metadata": {},
   "source": [
    "## Workshop"
   ]
  },
  {
   "cell_type": "markdown",
   "metadata": {},
   "source": [
    "### Dfs"
   ]
  },
  {
   "cell_type": "code",
   "execution_count": 21,
   "metadata": {
    "ExecuteTime": {
     "end_time": "2020-08-31T03:50:12.270234Z",
     "start_time": "2020-08-31T03:50:10.726366Z"
    },
    "scrolled": false
   },
   "outputs": [
    {
     "name": "stdout",
     "output_type": "stream",
     "text": [
      "Key to pull:1994\n"
     ]
    },
    {
     "data": {
      "text/html": [
       "<div>\n",
       "<style scoped>\n",
       "    .dataframe tbody tr th:only-of-type {\n",
       "        vertical-align: middle;\n",
       "    }\n",
       "\n",
       "    .dataframe tbody tr th {\n",
       "        vertical-align: top;\n",
       "    }\n",
       "\n",
       "    .dataframe thead th {\n",
       "        text-align: right;\n",
       "    }\n",
       "</style>\n",
       "<table border=\"1\" class=\"dataframe\">\n",
       "  <thead>\n",
       "    <tr style=\"text-align: right;\">\n",
       "      <th></th>\n",
       "      <th>State</th>\n",
       "      <th>Senator</th>\n",
       "      <th>Party</th>\n",
       "      <th>Electoral_History</th>\n",
       "      <th>Results</th>\n",
       "      <th>Candidates</th>\n",
       "    </tr>\n",
       "  </thead>\n",
       "  <tbody>\n",
       "    <tr>\n",
       "      <th>0</th>\n",
       "      <td>Arizona</td>\n",
       "      <td>Dennis DeConcini</td>\n",
       "      <td>Democratic</td>\n",
       "      <td>197619821988</td>\n",
       "      <td>Incumbent retired.New senator elected.Republic...</td>\n",
       "      <td>Jon Kyl (Republican) 53.7% Sam Coppersmith (De...</td>\n",
       "    </tr>\n",
       "    <tr>\n",
       "      <th>1</th>\n",
       "      <td>California</td>\n",
       "      <td>Dianne Feinstein</td>\n",
       "      <td>Democratic</td>\n",
       "      <td>1992 (Special)</td>\n",
       "      <td>Incumbent re-elected.</td>\n",
       "      <td>Dianne Feinstein (Democratic) 46.7% Michael Hu...</td>\n",
       "    </tr>\n",
       "    <tr>\n",
       "      <th>2</th>\n",
       "      <td>Connecticut</td>\n",
       "      <td>Joe Lieberman</td>\n",
       "      <td>Democratic</td>\n",
       "      <td>1988</td>\n",
       "      <td>Incumbent re-elected.</td>\n",
       "      <td>Joe Lieberman (Democratic) 67% Jerry Labriola ...</td>\n",
       "    </tr>\n",
       "    <tr>\n",
       "      <th>3</th>\n",
       "      <td>Delaware</td>\n",
       "      <td>William Roth</td>\n",
       "      <td>Republican</td>\n",
       "      <td>19701971 (Appointed)197619821988</td>\n",
       "      <td>Incumbent re-elected.</td>\n",
       "      <td>William Roth (Republican) 55.8% Charles Oberly...</td>\n",
       "    </tr>\n",
       "    <tr>\n",
       "      <th>4</th>\n",
       "      <td>Florida</td>\n",
       "      <td>Connie Mack III</td>\n",
       "      <td>Republican</td>\n",
       "      <td>1988</td>\n",
       "      <td>Incumbent re-elected.</td>\n",
       "      <td>Connie Mack III (Republican) 70.5% Hugh Rodham...</td>\n",
       "    </tr>\n",
       "    <tr>\n",
       "      <th>5</th>\n",
       "      <td>Hawaii</td>\n",
       "      <td>Daniel Akaka</td>\n",
       "      <td>Democratic</td>\n",
       "      <td>1990 (Appointed)1990 (Special)</td>\n",
       "      <td>Incumbent re-elected.</td>\n",
       "      <td>Daniel Akaka (Democratic) 71.8% Maria Hustace ...</td>\n",
       "    </tr>\n",
       "    <tr>\n",
       "      <th>6</th>\n",
       "      <td>Indiana</td>\n",
       "      <td>Richard Lugar</td>\n",
       "      <td>Republican</td>\n",
       "      <td>197619821988</td>\n",
       "      <td>Incumbent re-elected.</td>\n",
       "      <td>Richard Lugar (Republican) 67.4% Jim Jontz (De...</td>\n",
       "    </tr>\n",
       "    <tr>\n",
       "      <th>7</th>\n",
       "      <td>Maine</td>\n",
       "      <td>George J. Mitchell</td>\n",
       "      <td>Democratic</td>\n",
       "      <td>1980 (Appointed)19821988</td>\n",
       "      <td>Incumbent retired.New senator elected.Republic...</td>\n",
       "      <td>Olympia Snowe (Republican) 60.2% Thomas Andrew...</td>\n",
       "    </tr>\n",
       "    <tr>\n",
       "      <th>8</th>\n",
       "      <td>Maryland</td>\n",
       "      <td>Paul Sarbanes</td>\n",
       "      <td>Democratic</td>\n",
       "      <td>197619821988</td>\n",
       "      <td>Incumbent re-elected.</td>\n",
       "      <td>Paul Sarbanes (Democratic) 59.1% Bill Brock (R...</td>\n",
       "    </tr>\n",
       "    <tr>\n",
       "      <th>9</th>\n",
       "      <td>Massachusetts</td>\n",
       "      <td>Ted Kennedy</td>\n",
       "      <td>Democratic</td>\n",
       "      <td>1962 (Special)19641970197619821988</td>\n",
       "      <td>Incumbent re-elected.</td>\n",
       "      <td>Ted Kennedy (Democratic) 58.1% Mitt Romney (Re...</td>\n",
       "    </tr>\n",
       "    <tr>\n",
       "      <th>10</th>\n",
       "      <td>Michigan</td>\n",
       "      <td>Donald W. Riegle Jr.</td>\n",
       "      <td>Democratic</td>\n",
       "      <td>19761976 (Appointed)19821988</td>\n",
       "      <td>Incumbent retired.New senator elected.Republic...</td>\n",
       "      <td>Spencer Abraham (Republican) 51.9% Bob Carr (D...</td>\n",
       "    </tr>\n",
       "    <tr>\n",
       "      <th>11</th>\n",
       "      <td>Minnesota</td>\n",
       "      <td>David Durenberger</td>\n",
       "      <td>Republican</td>\n",
       "      <td>1978 (Special)19821988</td>\n",
       "      <td>Incumbent retired.New senator elected.Republic...</td>\n",
       "      <td>Rod Grams (Republican) 49.1% Ann Wynia (DFL) 4...</td>\n",
       "    </tr>\n",
       "    <tr>\n",
       "      <th>12</th>\n",
       "      <td>Mississippi</td>\n",
       "      <td>Trent Lott</td>\n",
       "      <td>Republican</td>\n",
       "      <td>1988</td>\n",
       "      <td>Incumbent re-elected.</td>\n",
       "      <td>Trent Lott (Republican) 68.8% Ken Harper (Demo...</td>\n",
       "    </tr>\n",
       "    <tr>\n",
       "      <th>13</th>\n",
       "      <td>Missouri</td>\n",
       "      <td>John Danforth</td>\n",
       "      <td>Republican</td>\n",
       "      <td>19761976 (Appointed)19821988</td>\n",
       "      <td>Incumbent retired.New senator elected.Republic...</td>\n",
       "      <td>John Ashcroft (Republican) 59.8% Alan Wheat (D...</td>\n",
       "    </tr>\n",
       "    <tr>\n",
       "      <th>14</th>\n",
       "      <td>Montana</td>\n",
       "      <td>Conrad Burns</td>\n",
       "      <td>Republican</td>\n",
       "      <td>1988</td>\n",
       "      <td>Incumbent re-elected.</td>\n",
       "      <td>Conrad Burns (Republican) 62.4% Jack Mudd (Dem...</td>\n",
       "    </tr>\n",
       "  </tbody>\n",
       "</table>\n",
       "</div>"
      ],
      "text/plain": [
       "            State               Senator       Party  \\\n",
       "0         Arizona      Dennis DeConcini  Democratic   \n",
       "1      California      Dianne Feinstein  Democratic   \n",
       "2     Connecticut         Joe Lieberman  Democratic   \n",
       "3        Delaware          William Roth  Republican   \n",
       "4         Florida       Connie Mack III  Republican   \n",
       "5          Hawaii          Daniel Akaka  Democratic   \n",
       "6         Indiana         Richard Lugar  Republican   \n",
       "7           Maine    George J. Mitchell  Democratic   \n",
       "8        Maryland         Paul Sarbanes  Democratic   \n",
       "9   Massachusetts           Ted Kennedy  Democratic   \n",
       "10       Michigan  Donald W. Riegle Jr.  Democratic   \n",
       "11      Minnesota     David Durenberger  Republican   \n",
       "12    Mississippi            Trent Lott  Republican   \n",
       "13       Missouri         John Danforth  Republican   \n",
       "14        Montana          Conrad Burns  Republican   \n",
       "\n",
       "                     Electoral_History  \\\n",
       "0                         197619821988   \n",
       "1                       1992 (Special)   \n",
       "2                                 1988   \n",
       "3     19701971 (Appointed)197619821988   \n",
       "4                                 1988   \n",
       "5       1990 (Appointed)1990 (Special)   \n",
       "6                         197619821988   \n",
       "7             1980 (Appointed)19821988   \n",
       "8                         197619821988   \n",
       "9   1962 (Special)19641970197619821988   \n",
       "10        19761976 (Appointed)19821988   \n",
       "11              1978 (Special)19821988   \n",
       "12                                1988   \n",
       "13        19761976 (Appointed)19821988   \n",
       "14                                1988   \n",
       "\n",
       "                                              Results  \\\n",
       "0   Incumbent retired.New senator elected.Republic...   \n",
       "1                               Incumbent re-elected.   \n",
       "2                               Incumbent re-elected.   \n",
       "3                               Incumbent re-elected.   \n",
       "4                               Incumbent re-elected.   \n",
       "5                               Incumbent re-elected.   \n",
       "6                               Incumbent re-elected.   \n",
       "7   Incumbent retired.New senator elected.Republic...   \n",
       "8                               Incumbent re-elected.   \n",
       "9                               Incumbent re-elected.   \n",
       "10  Incumbent retired.New senator elected.Republic...   \n",
       "11  Incumbent retired.New senator elected.Republic...   \n",
       "12                              Incumbent re-elected.   \n",
       "13  Incumbent retired.New senator elected.Republic...   \n",
       "14                              Incumbent re-elected.   \n",
       "\n",
       "                                           Candidates  \n",
       "0   Jon Kyl (Republican) 53.7% Sam Coppersmith (De...  \n",
       "1   Dianne Feinstein (Democratic) 46.7% Michael Hu...  \n",
       "2   Joe Lieberman (Democratic) 67% Jerry Labriola ...  \n",
       "3   William Roth (Republican) 55.8% Charles Oberly...  \n",
       "4   Connie Mack III (Republican) 70.5% Hugh Rodham...  \n",
       "5   Daniel Akaka (Democratic) 71.8% Maria Hustace ...  \n",
       "6   Richard Lugar (Republican) 67.4% Jim Jontz (De...  \n",
       "7   Olympia Snowe (Republican) 60.2% Thomas Andrew...  \n",
       "8   Paul Sarbanes (Democratic) 59.1% Bill Brock (R...  \n",
       "9   Ted Kennedy (Democratic) 58.1% Mitt Romney (Re...  \n",
       "10  Spencer Abraham (Republican) 51.9% Bob Carr (D...  \n",
       "11  Rod Grams (Republican) 49.1% Ann Wynia (DFL) 4...  \n",
       "12  Trent Lott (Republican) 68.8% Ken Harper (Demo...  \n",
       "13  John Ashcroft (Republican) 59.8% Alan Wheat (D...  \n",
       "14  Conrad Burns (Republican) 62.4% Jack Mudd (Dem...  "
      ]
     },
     "metadata": {},
     "output_type": "display_data"
    },
    {
     "name": "stdout",
     "output_type": "stream",
     "text": [
      "<class 'pandas.core.frame.DataFrame'>\n",
      "RangeIndex: 35 entries, 0 to 34\n",
      "Data columns (total 6 columns):\n",
      "State                35 non-null object\n",
      "Senator              35 non-null object\n",
      "Party                35 non-null object\n",
      "Electoral_History    35 non-null object\n",
      "Results              35 non-null object\n",
      "Candidates           35 non-null object\n",
      "dtypes: object(6)\n",
      "memory usage: 1.7+ KB\n"
     ]
    }
   ],
   "source": [
    "test = dlf.table_checker(dict_=yr_sum_dict)\n",
    "display(test[0].head(15))\n",
    "test[0].info()"
   ]
  },
  {
   "cell_type": "code",
   "execution_count": 11,
   "metadata": {
    "ExecuteTime": {
     "end_time": "2020-08-31T03:45:49.203397Z",
     "start_time": "2020-08-31T03:45:49.128970Z"
    }
   },
   "outputs": [
    {
     "data": {
      "text/html": [
       "<div>\n",
       "<style scoped>\n",
       "    .dataframe tbody tr th:only-of-type {\n",
       "        vertical-align: middle;\n",
       "    }\n",
       "\n",
       "    .dataframe tbody tr th {\n",
       "        vertical-align: top;\n",
       "    }\n",
       "\n",
       "    .dataframe thead th {\n",
       "        text-align: right;\n",
       "    }\n",
       "</style>\n",
       "<table border=\"1\" class=\"dataframe\">\n",
       "  <thead>\n",
       "    <tr style=\"text-align: right;\">\n",
       "      <th></th>\n",
       "      <th>State_id</th>\n",
       "      <th>Incumbent</th>\n",
       "      <th>Party</th>\n",
       "      <th>Year</th>\n",
       "      <th>Terms_in_office</th>\n",
       "      <th>Cln_name</th>\n",
       "    </tr>\n",
       "  </thead>\n",
       "  <tbody>\n",
       "    <tr>\n",
       "      <th>0</th>\n",
       "      <td>Alabama</td>\n",
       "      <td>Francis S. White</td>\n",
       "      <td>Democratic</td>\n",
       "      <td>1914</td>\n",
       "      <td>1</td>\n",
       "      <td>Francis White</td>\n",
       "    </tr>\n",
       "    <tr>\n",
       "      <th>1</th>\n",
       "      <td>Arizona</td>\n",
       "      <td>Marcus A. Smith</td>\n",
       "      <td>Democratic</td>\n",
       "      <td>1914</td>\n",
       "      <td>1</td>\n",
       "      <td>Marcus Smith</td>\n",
       "    </tr>\n",
       "    <tr>\n",
       "      <th>2</th>\n",
       "      <td>Arkansas</td>\n",
       "      <td>James Paul Clarke</td>\n",
       "      <td>Democratic</td>\n",
       "      <td>1914</td>\n",
       "      <td>1</td>\n",
       "      <td>James Paul Clarke</td>\n",
       "    </tr>\n",
       "    <tr>\n",
       "      <th>3</th>\n",
       "      <td>California</td>\n",
       "      <td>George Clement Perkins</td>\n",
       "      <td>Republican</td>\n",
       "      <td>1914</td>\n",
       "      <td>1</td>\n",
       "      <td>George Clement Perkins</td>\n",
       "    </tr>\n",
       "    <tr>\n",
       "      <th>4</th>\n",
       "      <td>Colorado</td>\n",
       "      <td>Charles S. Thomas</td>\n",
       "      <td>Democratic</td>\n",
       "      <td>1914</td>\n",
       "      <td>1</td>\n",
       "      <td>Charles Thomas</td>\n",
       "    </tr>\n",
       "    <tr>\n",
       "      <th>5</th>\n",
       "      <td>Connecticut</td>\n",
       "      <td>Frank B. Brandegee</td>\n",
       "      <td>Republican</td>\n",
       "      <td>1914</td>\n",
       "      <td>1</td>\n",
       "      <td>Frank Brandegee</td>\n",
       "    </tr>\n",
       "    <tr>\n",
       "      <th>6</th>\n",
       "      <td>Florida</td>\n",
       "      <td>Duncan U. Fletcher</td>\n",
       "      <td>Democratic</td>\n",
       "      <td>1914</td>\n",
       "      <td>1</td>\n",
       "      <td>Duncan Fletcher</td>\n",
       "    </tr>\n",
       "    <tr>\n",
       "      <th>7</th>\n",
       "      <td>Georgia</td>\n",
       "      <td>M. Hoke Smith</td>\n",
       "      <td>Democratic</td>\n",
       "      <td>1914</td>\n",
       "      <td>1</td>\n",
       "      <td>Hoke Smith</td>\n",
       "    </tr>\n",
       "    <tr>\n",
       "      <th>8</th>\n",
       "      <td>Idaho</td>\n",
       "      <td>James H. Brady</td>\n",
       "      <td>Republican</td>\n",
       "      <td>1914</td>\n",
       "      <td>1</td>\n",
       "      <td>James Brady</td>\n",
       "    </tr>\n",
       "    <tr>\n",
       "      <th>9</th>\n",
       "      <td>Illinois</td>\n",
       "      <td>Lawrence Y. Sherman</td>\n",
       "      <td>Republican</td>\n",
       "      <td>1914</td>\n",
       "      <td>1</td>\n",
       "      <td>Lawrence Sherman</td>\n",
       "    </tr>\n",
       "    <tr>\n",
       "      <th>10</th>\n",
       "      <td>Indiana</td>\n",
       "      <td>Benjamin F. Shively</td>\n",
       "      <td>Democratic</td>\n",
       "      <td>1914</td>\n",
       "      <td>1</td>\n",
       "      <td>Benjamin Shively</td>\n",
       "    </tr>\n",
       "    <tr>\n",
       "      <th>11</th>\n",
       "      <td>Iowa</td>\n",
       "      <td>Albert B. Cummins</td>\n",
       "      <td>Republican</td>\n",
       "      <td>1914</td>\n",
       "      <td>1</td>\n",
       "      <td>Albert Cummins</td>\n",
       "    </tr>\n",
       "    <tr>\n",
       "      <th>12</th>\n",
       "      <td>Kansas</td>\n",
       "      <td>Joseph L. Bristow</td>\n",
       "      <td>Republican</td>\n",
       "      <td>1914</td>\n",
       "      <td>1</td>\n",
       "      <td>Joseph Bristow</td>\n",
       "    </tr>\n",
       "    <tr>\n",
       "      <th>13</th>\n",
       "      <td>Kentucky</td>\n",
       "      <td>Johnson N. Camden Jr.</td>\n",
       "      <td>Democratic</td>\n",
       "      <td>1914</td>\n",
       "      <td>1</td>\n",
       "      <td>Johnson Camden</td>\n",
       "    </tr>\n",
       "    <tr>\n",
       "      <th>14</th>\n",
       "      <td>Louisiana</td>\n",
       "      <td>John Thornton</td>\n",
       "      <td>Democratic</td>\n",
       "      <td>1914</td>\n",
       "      <td>1</td>\n",
       "      <td>John Thornton</td>\n",
       "    </tr>\n",
       "  </tbody>\n",
       "</table>\n",
       "</div>"
      ],
      "text/plain": [
       "       State_id               Incumbent       Party  Year  Terms_in_office  \\\n",
       "0       Alabama        Francis S. White  Democratic  1914                1   \n",
       "1       Arizona         Marcus A. Smith  Democratic  1914                1   \n",
       "2      Arkansas       James Paul Clarke  Democratic  1914                1   \n",
       "3    California  George Clement Perkins  Republican  1914                1   \n",
       "4      Colorado       Charles S. Thomas  Democratic  1914                1   \n",
       "5   Connecticut      Frank B. Brandegee  Republican  1914                1   \n",
       "6       Florida      Duncan U. Fletcher  Democratic  1914                1   \n",
       "7       Georgia           M. Hoke Smith  Democratic  1914                1   \n",
       "8         Idaho          James H. Brady  Republican  1914                1   \n",
       "9      Illinois     Lawrence Y. Sherman  Republican  1914                1   \n",
       "10      Indiana     Benjamin F. Shively  Democratic  1914                1   \n",
       "11         Iowa       Albert B. Cummins  Republican  1914                1   \n",
       "12       Kansas       Joseph L. Bristow  Republican  1914                1   \n",
       "13     Kentucky   Johnson N. Camden Jr.  Democratic  1914                1   \n",
       "14    Louisiana           John Thornton  Democratic  1914                1   \n",
       "\n",
       "                  Cln_name  \n",
       "0            Francis White  \n",
       "1             Marcus Smith  \n",
       "2        James Paul Clarke  \n",
       "3   George Clement Perkins  \n",
       "4           Charles Thomas  \n",
       "5          Frank Brandegee  \n",
       "6          Duncan Fletcher  \n",
       "7               Hoke Smith  \n",
       "8              James Brady  \n",
       "9         Lawrence Sherman  \n",
       "10        Benjamin Shively  \n",
       "11          Albert Cummins  \n",
       "12          Joseph Bristow  \n",
       "13          Johnson Camden  \n",
       "14           John Thornton  "
      ]
     },
     "metadata": {},
     "output_type": "display_data"
    },
    {
     "name": "stdout",
     "output_type": "stream",
     "text": [
      "<class 'pandas.core.frame.DataFrame'>\n",
      "RangeIndex: 1899 entries, 0 to 1898\n",
      "Data columns (total 6 columns):\n",
      "State_id           1899 non-null object\n",
      "Incumbent          1899 non-null object\n",
      "Party              1899 non-null object\n",
      "Year               1899 non-null object\n",
      "Terms_in_office    1899 non-null int64\n",
      "Cln_name           1899 non-null object\n",
      "dtypes: int64(1), object(5)\n",
      "memory usage: 89.1+ KB\n"
     ]
    }
   ],
   "source": [
    "display(name_lookup_df.head(15))\n",
    "name_lookup_df.info()"
   ]
  },
  {
   "cell_type": "code",
   "execution_count": 20,
   "metadata": {
    "ExecuteTime": {
     "end_time": "2020-08-31T03:49:52.554112Z",
     "start_time": "2020-08-31T03:49:50.418391Z"
    }
   },
   "outputs": [
    {
     "name": "stdout",
     "output_type": "stream",
     "text": [
      "Key to pull:1994\n"
     ]
    },
    {
     "data": {
      "text/html": [
       "<div>\n",
       "<style scoped>\n",
       "    .dataframe tbody tr th:only-of-type {\n",
       "        vertical-align: middle;\n",
       "    }\n",
       "\n",
       "    .dataframe tbody tr th {\n",
       "        vertical-align: top;\n",
       "    }\n",
       "\n",
       "    .dataframe thead th {\n",
       "        text-align: right;\n",
       "    }\n",
       "</style>\n",
       "<table border=\"1\" class=\"dataframe\">\n",
       "  <thead>\n",
       "    <tr style=\"text-align: right;\">\n",
       "      <th></th>\n",
       "      <th>%</th>\n",
       "      <th>Turnout</th>\n",
       "      <th>Incumb_Y</th>\n",
       "      <th>State</th>\n",
       "      <th>Cln_name</th>\n",
       "      <th>Year</th>\n",
       "      <th>Terms_in_office</th>\n",
       "      <th>Party_enc</th>\n",
       "      <th>First_name</th>\n",
       "      <th>Seats_up%</th>\n",
       "      <th>Seats_before%</th>\n",
       "    </tr>\n",
       "  </thead>\n",
       "  <tbody>\n",
       "    <tr>\n",
       "      <th>111</th>\n",
       "      <td>50.32</td>\n",
       "      <td>211672</td>\n",
       "      <td>1</td>\n",
       "      <td>Vermont</td>\n",
       "      <td>Jim Jeffords</td>\n",
       "      <td>1994</td>\n",
       "      <td>1</td>\n",
       "      <td>R</td>\n",
       "      <td>Jim</td>\n",
       "      <td>0.295455</td>\n",
       "      <td>0.44</td>\n",
       "    </tr>\n",
       "    <tr>\n",
       "      <th>112</th>\n",
       "      <td>40.57</td>\n",
       "      <td>211672</td>\n",
       "      <td>0</td>\n",
       "      <td>Vermont</td>\n",
       "      <td>Jan Backus</td>\n",
       "      <td>1994</td>\n",
       "      <td>0</td>\n",
       "      <td>D</td>\n",
       "      <td>Jan</td>\n",
       "      <td>0.392857</td>\n",
       "      <td>0.56</td>\n",
       "    </tr>\n",
       "    <tr>\n",
       "      <th>113</th>\n",
       "      <td>0.65</td>\n",
       "      <td>211672</td>\n",
       "      <td>0</td>\n",
       "      <td>Vermont</td>\n",
       "      <td>Jerry Levy</td>\n",
       "      <td>1994</td>\n",
       "      <td>0</td>\n",
       "      <td>T</td>\n",
       "      <td>Jerry</td>\n",
       "      <td>0.000000</td>\n",
       "      <td>0.00</td>\n",
       "    </tr>\n",
       "    <tr>\n",
       "      <th>114</th>\n",
       "      <td>45.61</td>\n",
       "      <td>2057463</td>\n",
       "      <td>1</td>\n",
       "      <td>Virginia</td>\n",
       "      <td>Chuck Robb</td>\n",
       "      <td>1994</td>\n",
       "      <td>1</td>\n",
       "      <td>D</td>\n",
       "      <td>Chuck</td>\n",
       "      <td>0.392857</td>\n",
       "      <td>0.56</td>\n",
       "    </tr>\n",
       "    <tr>\n",
       "      <th>115</th>\n",
       "      <td>42.88</td>\n",
       "      <td>2057463</td>\n",
       "      <td>0</td>\n",
       "      <td>Virginia</td>\n",
       "      <td>Oliver North</td>\n",
       "      <td>1994</td>\n",
       "      <td>0</td>\n",
       "      <td>R</td>\n",
       "      <td>Oliver</td>\n",
       "      <td>0.295455</td>\n",
       "      <td>0.44</td>\n",
       "    </tr>\n",
       "    <tr>\n",
       "      <th>116</th>\n",
       "      <td>55.8</td>\n",
       "      <td>1700173</td>\n",
       "      <td>1</td>\n",
       "      <td>Washington</td>\n",
       "      <td>Slade Gorton</td>\n",
       "      <td>1994</td>\n",
       "      <td>2</td>\n",
       "      <td>R</td>\n",
       "      <td>Slade</td>\n",
       "      <td>0.295455</td>\n",
       "      <td>0.44</td>\n",
       "    </tr>\n",
       "    <tr>\n",
       "      <th>117</th>\n",
       "      <td>44.3</td>\n",
       "      <td>1700173</td>\n",
       "      <td>0</td>\n",
       "      <td>Washington</td>\n",
       "      <td>Ron Sims</td>\n",
       "      <td>1994</td>\n",
       "      <td>0</td>\n",
       "      <td>D</td>\n",
       "      <td>Ron</td>\n",
       "      <td>0.392857</td>\n",
       "      <td>0.56</td>\n",
       "    </tr>\n",
       "    <tr>\n",
       "      <th>118</th>\n",
       "      <td>69</td>\n",
       "      <td>420936</td>\n",
       "      <td>1</td>\n",
       "      <td>West_Virginia</td>\n",
       "      <td>Robert Byrd</td>\n",
       "      <td>1994</td>\n",
       "      <td>6</td>\n",
       "      <td>D</td>\n",
       "      <td>Robert</td>\n",
       "      <td>0.392857</td>\n",
       "      <td>0.56</td>\n",
       "    </tr>\n",
       "    <tr>\n",
       "      <th>119</th>\n",
       "      <td>31</td>\n",
       "      <td>420936</td>\n",
       "      <td>0</td>\n",
       "      <td>West_Virginia</td>\n",
       "      <td>Stan Klos</td>\n",
       "      <td>1994</td>\n",
       "      <td>0</td>\n",
       "      <td>R</td>\n",
       "      <td>Stan</td>\n",
       "      <td>0.295455</td>\n",
       "      <td>0.44</td>\n",
       "    </tr>\n",
       "    <tr>\n",
       "      <th>120</th>\n",
       "      <td>58.3</td>\n",
       "      <td>1565090</td>\n",
       "      <td>1</td>\n",
       "      <td>Wisconsin</td>\n",
       "      <td>Herb Kohl</td>\n",
       "      <td>1994</td>\n",
       "      <td>1</td>\n",
       "      <td>D</td>\n",
       "      <td>Herb</td>\n",
       "      <td>0.392857</td>\n",
       "      <td>0.56</td>\n",
       "    </tr>\n",
       "    <tr>\n",
       "      <th>121</th>\n",
       "      <td>40.7</td>\n",
       "      <td>1565090</td>\n",
       "      <td>0</td>\n",
       "      <td>Wisconsin</td>\n",
       "      <td>Robert Welch</td>\n",
       "      <td>1994</td>\n",
       "      <td>0</td>\n",
       "      <td>R</td>\n",
       "      <td>Robert</td>\n",
       "      <td>0.295455</td>\n",
       "      <td>0.44</td>\n",
       "    </tr>\n",
       "    <tr>\n",
       "      <th>122</th>\n",
       "      <td>1</td>\n",
       "      <td>1565090</td>\n",
       "      <td>0</td>\n",
       "      <td>Wisconsin</td>\n",
       "      <td>James Dean</td>\n",
       "      <td>1994</td>\n",
       "      <td>0</td>\n",
       "      <td>T</td>\n",
       "      <td>James</td>\n",
       "      <td>0.000000</td>\n",
       "      <td>0.00</td>\n",
       "    </tr>\n",
       "    <tr>\n",
       "      <th>123</th>\n",
       "      <td>58.87</td>\n",
       "      <td>201710</td>\n",
       "      <td>0</td>\n",
       "      <td>Wyoming</td>\n",
       "      <td>Craig Thomas</td>\n",
       "      <td>1994</td>\n",
       "      <td>0</td>\n",
       "      <td>R</td>\n",
       "      <td>Craig</td>\n",
       "      <td>0.295455</td>\n",
       "      <td>0.44</td>\n",
       "    </tr>\n",
       "    <tr>\n",
       "      <th>124</th>\n",
       "      <td>39.31</td>\n",
       "      <td>201710</td>\n",
       "      <td>0</td>\n",
       "      <td>Wyoming</td>\n",
       "      <td>Mike Sullivan</td>\n",
       "      <td>1994</td>\n",
       "      <td>0</td>\n",
       "      <td>D</td>\n",
       "      <td>Mike</td>\n",
       "      <td>0.392857</td>\n",
       "      <td>0.56</td>\n",
       "    </tr>\n",
       "    <tr>\n",
       "      <th>125</th>\n",
       "      <td>1.82</td>\n",
       "      <td>201710</td>\n",
       "      <td>0</td>\n",
       "      <td>Wyoming</td>\n",
       "      <td>Craig Alan McClune</td>\n",
       "      <td>1994</td>\n",
       "      <td>0</td>\n",
       "      <td>T</td>\n",
       "      <td>Alan</td>\n",
       "      <td>0.000000</td>\n",
       "      <td>0.00</td>\n",
       "    </tr>\n",
       "  </tbody>\n",
       "</table>\n",
       "</div>"
      ],
      "text/plain": [
       "         %  Turnout  Incumb_Y          State            Cln_name  Year  \\\n",
       "111  50.32   211672         1        Vermont        Jim Jeffords  1994   \n",
       "112  40.57   211672         0        Vermont          Jan Backus  1994   \n",
       "113   0.65   211672         0        Vermont          Jerry Levy  1994   \n",
       "114  45.61  2057463         1       Virginia          Chuck Robb  1994   \n",
       "115  42.88  2057463         0       Virginia        Oliver North  1994   \n",
       "116   55.8  1700173         1     Washington        Slade Gorton  1994   \n",
       "117   44.3  1700173         0     Washington            Ron Sims  1994   \n",
       "118     69   420936         1  West_Virginia         Robert Byrd  1994   \n",
       "119     31   420936         0  West_Virginia           Stan Klos  1994   \n",
       "120   58.3  1565090         1      Wisconsin           Herb Kohl  1994   \n",
       "121   40.7  1565090         0      Wisconsin        Robert Welch  1994   \n",
       "122      1  1565090         0      Wisconsin          James Dean  1994   \n",
       "123  58.87   201710         0        Wyoming        Craig Thomas  1994   \n",
       "124  39.31   201710         0        Wyoming       Mike Sullivan  1994   \n",
       "125   1.82   201710         0        Wyoming  Craig Alan McClune  1994   \n",
       "\n",
       "     Terms_in_office Party_enc First_name  Seats_up%  Seats_before%  \n",
       "111                1         R        Jim   0.295455           0.44  \n",
       "112                0         D        Jan   0.392857           0.56  \n",
       "113                0         T      Jerry   0.000000           0.00  \n",
       "114                1         D      Chuck   0.392857           0.56  \n",
       "115                0         R     Oliver   0.295455           0.44  \n",
       "116                2         R      Slade   0.295455           0.44  \n",
       "117                0         D        Ron   0.392857           0.56  \n",
       "118                6         D     Robert   0.392857           0.56  \n",
       "119                0         R       Stan   0.295455           0.44  \n",
       "120                1         D       Herb   0.392857           0.56  \n",
       "121                0         R     Robert   0.295455           0.44  \n",
       "122                0         T      James   0.000000           0.00  \n",
       "123                0         R      Craig   0.295455           0.44  \n",
       "124                0         D       Mike   0.392857           0.56  \n",
       "125                0         T       Alan   0.000000           0.00  "
      ]
     },
     "metadata": {},
     "output_type": "display_data"
    },
    {
     "name": "stdout",
     "output_type": "stream",
     "text": [
      "<class 'pandas.core.frame.DataFrame'>\n",
      "RangeIndex: 126 entries, 0 to 125\n",
      "Data columns (total 11 columns):\n",
      "%                  126 non-null object\n",
      "Turnout            126 non-null int64\n",
      "Incumb_Y           126 non-null int64\n",
      "State              126 non-null object\n",
      "Cln_name           126 non-null object\n",
      "Year               126 non-null object\n",
      "Terms_in_office    126 non-null int64\n",
      "Party_enc          126 non-null object\n",
      "First_name         126 non-null object\n",
      "Seats_up%          126 non-null float64\n",
      "Seats_before%      126 non-null float64\n",
      "dtypes: float64(2), int64(3), object(6)\n",
      "memory usage: 10.9+ KB\n"
     ]
    }
   ],
   "source": [
    "test2 = dlf.table_checker(dict_=yr_st_mapped_cln)\n",
    "display(test2.tail(15))\n",
    "test2.info()"
   ]
  },
  {
   "cell_type": "code",
   "execution_count": 38,
   "metadata": {
    "ExecuteTime": {
     "end_time": "2020-08-19T20:36:10.054258Z",
     "start_time": "2020-08-19T20:36:09.984476Z"
    },
    "scrolled": false
   },
   "outputs": [
    {
     "data": {
      "text/html": [
       "<div>\n",
       "<style scoped>\n",
       "    .dataframe tbody tr th:only-of-type {\n",
       "        vertical-align: middle;\n",
       "    }\n",
       "\n",
       "    .dataframe tbody tr th {\n",
       "        vertical-align: top;\n",
       "    }\n",
       "\n",
       "    .dataframe thead th {\n",
       "        text-align: right;\n",
       "    }\n",
       "</style>\n",
       "<table border=\"1\" class=\"dataframe\">\n",
       "  <thead>\n",
       "    <tr style=\"text-align: right;\">\n",
       "      <th></th>\n",
       "      <th>Leader</th>\n",
       "      <th>Leaders_seat</th>\n",
       "      <th>Leader_since</th>\n",
       "      <th>Party</th>\n",
       "      <th>Seats_up</th>\n",
       "      <th>Seats_before</th>\n",
       "      <th>Year</th>\n",
       "    </tr>\n",
       "  </thead>\n",
       "  <tbody>\n",
       "    <tr>\n",
       "      <th>0</th>\n",
       "      <td>Mitch McConnell</td>\n",
       "      <td>Kentucky</td>\n",
       "      <td>January 3, 2007</td>\n",
       "      <td>Republican</td>\n",
       "      <td>9</td>\n",
       "      <td>51</td>\n",
       "      <td>2018</td>\n",
       "    </tr>\n",
       "    <tr>\n",
       "      <th>1</th>\n",
       "      <td>Chuck Schumer</td>\n",
       "      <td>New York</td>\n",
       "      <td>January 3, 2017</td>\n",
       "      <td>Democratic</td>\n",
       "      <td>24</td>\n",
       "      <td>47</td>\n",
       "      <td>2018</td>\n",
       "    </tr>\n",
       "    <tr>\n",
       "      <th>2</th>\n",
       "      <td>3rd Party</td>\n",
       "      <td>3rd Party</td>\n",
       "      <td>January 3, 2017</td>\n",
       "      <td>Independent</td>\n",
       "      <td>2</td>\n",
       "      <td>2</td>\n",
       "      <td>2018</td>\n",
       "    </tr>\n",
       "    <tr>\n",
       "      <th>3</th>\n",
       "      <td>John W. Kern</td>\n",
       "      <td>Indiana</td>\n",
       "      <td>March 4, 1913</td>\n",
       "      <td>Democratic</td>\n",
       "      <td>16</td>\n",
       "      <td>50</td>\n",
       "      <td>1914</td>\n",
       "    </tr>\n",
       "    <tr>\n",
       "      <th>4</th>\n",
       "      <td>Jacob H. Gallinger</td>\n",
       "      <td>New Hampshire</td>\n",
       "      <td>March 4, 1913</td>\n",
       "      <td>Republican</td>\n",
       "      <td>18</td>\n",
       "      <td>44</td>\n",
       "      <td>1914</td>\n",
       "    </tr>\n",
       "    <tr>\n",
       "      <th>5</th>\n",
       "      <td>3rd Party</td>\n",
       "      <td>3rd Party</td>\n",
       "      <td>March 4, 1913</td>\n",
       "      <td>Progressive</td>\n",
       "      <td>0</td>\n",
       "      <td>1</td>\n",
       "      <td>1914</td>\n",
       "    </tr>\n",
       "    <tr>\n",
       "      <th>6</th>\n",
       "      <td>John W. Kern</td>\n",
       "      <td>Indiana</td>\n",
       "      <td>March 4, 1913</td>\n",
       "      <td>Democratic</td>\n",
       "      <td>17</td>\n",
       "      <td>56</td>\n",
       "      <td>1916</td>\n",
       "    </tr>\n",
       "    <tr>\n",
       "      <th>7</th>\n",
       "      <td>Jacob H. Gallinger</td>\n",
       "      <td>New Hampshire</td>\n",
       "      <td>March 4, 1913</td>\n",
       "      <td>Republican</td>\n",
       "      <td>15</td>\n",
       "      <td>40</td>\n",
       "      <td>1916</td>\n",
       "    </tr>\n",
       "    <tr>\n",
       "      <th>8</th>\n",
       "      <td>Henry Cabot Lodge</td>\n",
       "      <td>Massachusetts</td>\n",
       "      <td>March 4, 1919</td>\n",
       "      <td>Republican</td>\n",
       "      <td>17</td>\n",
       "      <td>43</td>\n",
       "      <td>1918</td>\n",
       "    </tr>\n",
       "    <tr>\n",
       "      <th>9</th>\n",
       "      <td>Oscar Underwood</td>\n",
       "      <td>Alabama</td>\n",
       "      <td>April 27, 1920</td>\n",
       "      <td>Democratic</td>\n",
       "      <td>24</td>\n",
       "      <td>53</td>\n",
       "      <td>1918</td>\n",
       "    </tr>\n",
       "    <tr>\n",
       "      <th>10</th>\n",
       "      <td>Henry Cabot Lodge</td>\n",
       "      <td>Massachusetts</td>\n",
       "      <td>March 4, 1919</td>\n",
       "      <td>Republican</td>\n",
       "      <td>15</td>\n",
       "      <td>49</td>\n",
       "      <td>1920</td>\n",
       "    </tr>\n",
       "    <tr>\n",
       "      <th>11</th>\n",
       "      <td>Oscar Underwood</td>\n",
       "      <td>Alabama</td>\n",
       "      <td>April 27, 1920</td>\n",
       "      <td>Democratic</td>\n",
       "      <td>17</td>\n",
       "      <td>47</td>\n",
       "      <td>1920</td>\n",
       "    </tr>\n",
       "    <tr>\n",
       "      <th>12</th>\n",
       "      <td>Henry Cabot Lodge</td>\n",
       "      <td>Massachusetts</td>\n",
       "      <td>March 4, 1919</td>\n",
       "      <td>Republican</td>\n",
       "      <td>17</td>\n",
       "      <td>60</td>\n",
       "      <td>1922</td>\n",
       "    </tr>\n",
       "    <tr>\n",
       "      <th>13</th>\n",
       "      <td>Oscar Underwood</td>\n",
       "      <td>Alabama</td>\n",
       "      <td>April 27, 1920</td>\n",
       "      <td>Democratic</td>\n",
       "      <td>15</td>\n",
       "      <td>36</td>\n",
       "      <td>1922</td>\n",
       "    </tr>\n",
       "    <tr>\n",
       "      <th>14</th>\n",
       "      <td>3rd Party</td>\n",
       "      <td>3rd Party</td>\n",
       "      <td>April 27, 1920</td>\n",
       "      <td>Farmer–Labor</td>\n",
       "      <td>0</td>\n",
       "      <td>0</td>\n",
       "      <td>1922</td>\n",
       "    </tr>\n",
       "  </tbody>\n",
       "</table>\n",
       "</div>"
      ],
      "text/plain": [
       "                Leader   Leaders_seat     Leader_since         Party Seats_up  \\\n",
       "0      Mitch McConnell       Kentucky  January 3, 2007    Republican        9   \n",
       "1        Chuck Schumer       New York  January 3, 2017    Democratic       24   \n",
       "2            3rd Party      3rd Party  January 3, 2017   Independent        2   \n",
       "3         John W. Kern        Indiana    March 4, 1913    Democratic       16   \n",
       "4   Jacob H. Gallinger  New Hampshire    March 4, 1913    Republican       18   \n",
       "5            3rd Party      3rd Party    March 4, 1913   Progressive        0   \n",
       "6         John W. Kern        Indiana    March 4, 1913    Democratic       17   \n",
       "7   Jacob H. Gallinger  New Hampshire    March 4, 1913    Republican       15   \n",
       "8    Henry Cabot Lodge  Massachusetts    March 4, 1919    Republican       17   \n",
       "9      Oscar Underwood        Alabama   April 27, 1920    Democratic       24   \n",
       "10   Henry Cabot Lodge  Massachusetts    March 4, 1919    Republican       15   \n",
       "11     Oscar Underwood        Alabama   April 27, 1920    Democratic       17   \n",
       "12   Henry Cabot Lodge  Massachusetts    March 4, 1919    Republican       17   \n",
       "13     Oscar Underwood        Alabama   April 27, 1920    Democratic       15   \n",
       "14           3rd Party      3rd Party   April 27, 1920  Farmer–Labor        0   \n",
       "\n",
       "   Seats_before  Year  \n",
       "0            51  2018  \n",
       "1            47  2018  \n",
       "2             2  2018  \n",
       "3            50  1914  \n",
       "4            44  1914  \n",
       "5             1  1914  \n",
       "6            56  1916  \n",
       "7            40  1916  \n",
       "8            43  1918  \n",
       "9            53  1918  \n",
       "10           49  1920  \n",
       "11           47  1920  \n",
       "12           60  1922  \n",
       "13           36  1922  \n",
       "14            0  1922  "
      ]
     },
     "metadata": {},
     "output_type": "display_data"
    },
    {
     "name": "stdout",
     "output_type": "stream",
     "text": [
      "<class 'pandas.core.frame.DataFrame'>\n",
      "RangeIndex: 148 entries, 0 to 147\n",
      "Data columns (total 7 columns):\n",
      "Leader          148 non-null object\n",
      "Leaders_seat    148 non-null object\n",
      "Leader_since    148 non-null object\n",
      "Party           148 non-null object\n",
      "Seats_up        148 non-null object\n",
      "Seats_before    148 non-null object\n",
      "Year            148 non-null object\n",
      "dtypes: object(7)\n",
      "memory usage: 8.2+ KB\n"
     ]
    }
   ],
   "source": [
    "display(ldr_master_df_model.head(15))\n",
    "ldr_master_df_model.info()"
   ]
  },
  {
   "cell_type": "code",
   "execution_count": 23,
   "metadata": {
    "ExecuteTime": {
     "end_time": "2020-08-31T03:54:03.498605Z",
     "start_time": "2020-08-31T03:54:03.452060Z"
    }
   },
   "outputs": [
    {
     "data": {
      "text/html": [
       "<div>\n",
       "<style scoped>\n",
       "    .dataframe tbody tr th:only-of-type {\n",
       "        vertical-align: middle;\n",
       "    }\n",
       "\n",
       "    .dataframe tbody tr th {\n",
       "        vertical-align: top;\n",
       "    }\n",
       "\n",
       "    .dataframe thead th {\n",
       "        text-align: right;\n",
       "    }\n",
       "</style>\n",
       "<table border=\"1\" class=\"dataframe\">\n",
       "  <thead>\n",
       "    <tr style=\"text-align: right;\">\n",
       "      <th></th>\n",
       "      <th>%</th>\n",
       "      <th>Turnout</th>\n",
       "      <th>Incumb_Y</th>\n",
       "      <th>State</th>\n",
       "      <th>Cln_name</th>\n",
       "      <th>Year</th>\n",
       "      <th>Terms_in_office</th>\n",
       "      <th>Party_enc</th>\n",
       "      <th>First_name</th>\n",
       "      <th>Seats_up%</th>\n",
       "      <th>Seats_before%</th>\n",
       "    </tr>\n",
       "  </thead>\n",
       "  <tbody>\n",
       "    <tr>\n",
       "      <th>5573</th>\n",
       "      <td>60.57</td>\n",
       "      <td>2049893.0</td>\n",
       "      <td>1</td>\n",
       "      <td>South_Carolina</td>\n",
       "      <td>Tim Scott</td>\n",
       "      <td>2016</td>\n",
       "      <td>2</td>\n",
       "      <td>R</td>\n",
       "      <td>Tim</td>\n",
       "      <td>0.444444</td>\n",
       "      <td>0.54</td>\n",
       "    </tr>\n",
       "    <tr>\n",
       "      <th>5574</th>\n",
       "      <td>36.93</td>\n",
       "      <td>2049893.0</td>\n",
       "      <td>0</td>\n",
       "      <td>South_Carolina</td>\n",
       "      <td>Thomas Dixon</td>\n",
       "      <td>2016</td>\n",
       "      <td>0</td>\n",
       "      <td>D</td>\n",
       "      <td>Thomas</td>\n",
       "      <td>0.227273</td>\n",
       "      <td>0.44</td>\n",
       "    </tr>\n",
       "    <tr>\n",
       "      <th>5575</th>\n",
       "      <td>0.09</td>\n",
       "      <td>2049893.0</td>\n",
       "      <td>0</td>\n",
       "      <td>South_Carolina</td>\n",
       "      <td>Write-Ins</td>\n",
       "      <td>2016</td>\n",
       "      <td>0</td>\n",
       "      <td>T</td>\n",
       "      <td>Write-Ins</td>\n",
       "      <td>0.000000</td>\n",
       "      <td>0.00</td>\n",
       "    </tr>\n",
       "    <tr>\n",
       "      <th>5576</th>\n",
       "      <td>71.83</td>\n",
       "      <td>369619.0</td>\n",
       "      <td>1</td>\n",
       "      <td>South_Dakota</td>\n",
       "      <td>John Thune</td>\n",
       "      <td>2016</td>\n",
       "      <td>2</td>\n",
       "      <td>R</td>\n",
       "      <td>John</td>\n",
       "      <td>0.444444</td>\n",
       "      <td>0.54</td>\n",
       "    </tr>\n",
       "    <tr>\n",
       "      <th>5577</th>\n",
       "      <td>28.17</td>\n",
       "      <td>369619.0</td>\n",
       "      <td>0</td>\n",
       "      <td>South_Dakota</td>\n",
       "      <td>Jay Williams</td>\n",
       "      <td>2016</td>\n",
       "      <td>0</td>\n",
       "      <td>D</td>\n",
       "      <td>Jay</td>\n",
       "      <td>0.227273</td>\n",
       "      <td>0.44</td>\n",
       "    </tr>\n",
       "    <tr>\n",
       "      <th>5578</th>\n",
       "      <td>68.15</td>\n",
       "      <td>1115608.0</td>\n",
       "      <td>1</td>\n",
       "      <td>Utah</td>\n",
       "      <td>Mike Lee</td>\n",
       "      <td>2016</td>\n",
       "      <td>1</td>\n",
       "      <td>R</td>\n",
       "      <td>Mike</td>\n",
       "      <td>0.444444</td>\n",
       "      <td>0.54</td>\n",
       "    </tr>\n",
       "    <tr>\n",
       "      <th>5579</th>\n",
       "      <td>27.06</td>\n",
       "      <td>1115608.0</td>\n",
       "      <td>0</td>\n",
       "      <td>Utah</td>\n",
       "      <td>Misty Snow</td>\n",
       "      <td>2016</td>\n",
       "      <td>0</td>\n",
       "      <td>D</td>\n",
       "      <td>Misty</td>\n",
       "      <td>0.227273</td>\n",
       "      <td>0.44</td>\n",
       "    </tr>\n",
       "    <tr>\n",
       "      <th>5580</th>\n",
       "      <td>59.99</td>\n",
       "      <td>320467.0</td>\n",
       "      <td>1</td>\n",
       "      <td>Vermont</td>\n",
       "      <td>Patrick Leahy</td>\n",
       "      <td>2016</td>\n",
       "      <td>7</td>\n",
       "      <td>D</td>\n",
       "      <td>Patrick</td>\n",
       "      <td>0.227273</td>\n",
       "      <td>0.44</td>\n",
       "    </tr>\n",
       "    <tr>\n",
       "      <th>5581</th>\n",
       "      <td>32.34</td>\n",
       "      <td>320467.0</td>\n",
       "      <td>0</td>\n",
       "      <td>Vermont</td>\n",
       "      <td>Scott Milne</td>\n",
       "      <td>2016</td>\n",
       "      <td>0</td>\n",
       "      <td>R</td>\n",
       "      <td>Scott</td>\n",
       "      <td>0.444444</td>\n",
       "      <td>0.54</td>\n",
       "    </tr>\n",
       "    <tr>\n",
       "      <th>5582</th>\n",
       "      <td>2.86</td>\n",
       "      <td>320467.0</td>\n",
       "      <td>0</td>\n",
       "      <td>Vermont</td>\n",
       "      <td>Cris Ericson</td>\n",
       "      <td>2016</td>\n",
       "      <td>0</td>\n",
       "      <td>T</td>\n",
       "      <td>Cris</td>\n",
       "      <td>0.000000</td>\n",
       "      <td>0.00</td>\n",
       "    </tr>\n",
       "    <tr>\n",
       "      <th>5583</th>\n",
       "      <td>1.01</td>\n",
       "      <td>320467.0</td>\n",
       "      <td>0</td>\n",
       "      <td>Vermont</td>\n",
       "      <td>Peter Diamondstone</td>\n",
       "      <td>2016</td>\n",
       "      <td>0</td>\n",
       "      <td>T</td>\n",
       "      <td>Peter</td>\n",
       "      <td>0.000000</td>\n",
       "      <td>0.00</td>\n",
       "    </tr>\n",
       "    <tr>\n",
       "      <th>5584</th>\n",
       "      <td>59.01</td>\n",
       "      <td>3243317.0</td>\n",
       "      <td>1</td>\n",
       "      <td>Washington</td>\n",
       "      <td>Patty Murray</td>\n",
       "      <td>2016</td>\n",
       "      <td>4</td>\n",
       "      <td>D</td>\n",
       "      <td>Patty</td>\n",
       "      <td>0.227273</td>\n",
       "      <td>0.44</td>\n",
       "    </tr>\n",
       "    <tr>\n",
       "      <th>5585</th>\n",
       "      <td>40.99</td>\n",
       "      <td>3243317.0</td>\n",
       "      <td>0</td>\n",
       "      <td>Washington</td>\n",
       "      <td>Chris Vance</td>\n",
       "      <td>2016</td>\n",
       "      <td>0</td>\n",
       "      <td>R</td>\n",
       "      <td>Chris</td>\n",
       "      <td>0.444444</td>\n",
       "      <td>0.54</td>\n",
       "    </tr>\n",
       "    <tr>\n",
       "      <th>5586</th>\n",
       "      <td>50.20</td>\n",
       "      <td>2947345.0</td>\n",
       "      <td>1</td>\n",
       "      <td>Wisconsin</td>\n",
       "      <td>Ron Johnson</td>\n",
       "      <td>2016</td>\n",
       "      <td>1</td>\n",
       "      <td>R</td>\n",
       "      <td>Ron</td>\n",
       "      <td>0.444444</td>\n",
       "      <td>0.54</td>\n",
       "    </tr>\n",
       "    <tr>\n",
       "      <th>5587</th>\n",
       "      <td>46.80</td>\n",
       "      <td>2947345.0</td>\n",
       "      <td>0</td>\n",
       "      <td>Wisconsin</td>\n",
       "      <td>Russ Feingold</td>\n",
       "      <td>2016</td>\n",
       "      <td>0</td>\n",
       "      <td>D</td>\n",
       "      <td>Russ</td>\n",
       "      <td>0.227273</td>\n",
       "      <td>0.44</td>\n",
       "    </tr>\n",
       "  </tbody>\n",
       "</table>\n",
       "</div>"
      ],
      "text/plain": [
       "          %    Turnout  Incumb_Y           State            Cln_name  Year  \\\n",
       "5573  60.57  2049893.0         1  South_Carolina           Tim Scott  2016   \n",
       "5574  36.93  2049893.0         0  South_Carolina        Thomas Dixon  2016   \n",
       "5575   0.09  2049893.0         0  South_Carolina           Write-Ins  2016   \n",
       "5576  71.83   369619.0         1    South_Dakota          John Thune  2016   \n",
       "5577  28.17   369619.0         0    South_Dakota        Jay Williams  2016   \n",
       "5578  68.15  1115608.0         1            Utah            Mike Lee  2016   \n",
       "5579  27.06  1115608.0         0            Utah          Misty Snow  2016   \n",
       "5580  59.99   320467.0         1         Vermont       Patrick Leahy  2016   \n",
       "5581  32.34   320467.0         0         Vermont         Scott Milne  2016   \n",
       "5582   2.86   320467.0         0         Vermont        Cris Ericson  2016   \n",
       "5583   1.01   320467.0         0         Vermont  Peter Diamondstone  2016   \n",
       "5584  59.01  3243317.0         1      Washington        Patty Murray  2016   \n",
       "5585  40.99  3243317.0         0      Washington         Chris Vance  2016   \n",
       "5586  50.20  2947345.0         1       Wisconsin         Ron Johnson  2016   \n",
       "5587  46.80  2947345.0         0       Wisconsin       Russ Feingold  2016   \n",
       "\n",
       "      Terms_in_office Party_enc First_name  Seats_up%  Seats_before%  \n",
       "5573                2         R        Tim   0.444444           0.54  \n",
       "5574                0         D     Thomas   0.227273           0.44  \n",
       "5575                0         T  Write-Ins   0.000000           0.00  \n",
       "5576                2         R       John   0.444444           0.54  \n",
       "5577                0         D        Jay   0.227273           0.44  \n",
       "5578                1         R       Mike   0.444444           0.54  \n",
       "5579                0         D      Misty   0.227273           0.44  \n",
       "5580                7         D    Patrick   0.227273           0.44  \n",
       "5581                0         R      Scott   0.444444           0.54  \n",
       "5582                0         T       Cris   0.000000           0.00  \n",
       "5583                0         T      Peter   0.000000           0.00  \n",
       "5584                4         D      Patty   0.227273           0.44  \n",
       "5585                0         R      Chris   0.444444           0.54  \n",
       "5586                1         R        Ron   0.444444           0.54  \n",
       "5587                0         D       Russ   0.227273           0.44  "
      ]
     },
     "metadata": {},
     "output_type": "display_data"
    },
    {
     "name": "stdout",
     "output_type": "stream",
     "text": [
      "<class 'pandas.core.frame.DataFrame'>\n",
      "RangeIndex: 5588 entries, 0 to 5587\n",
      "Data columns (total 11 columns):\n",
      "%                  5588 non-null float64\n",
      "Turnout            5583 non-null float64\n",
      "Incumb_Y           5588 non-null int64\n",
      "State              5588 non-null object\n",
      "Cln_name           5588 non-null object\n",
      "Year               5588 non-null int64\n",
      "Terms_in_office    5588 non-null int64\n",
      "Party_enc          5588 non-null object\n",
      "First_name         5588 non-null object\n",
      "Seats_up%          5588 non-null float64\n",
      "Seats_before%      5588 non-null float64\n",
      "dtypes: float64(4), int64(3), object(4)\n",
      "memory usage: 480.3+ KB\n"
     ]
    }
   ],
   "source": [
    "display(fin_df.tail(15))\n",
    "fin_df.info()"
   ]
  },
  {
   "cell_type": "markdown",
   "metadata": {
    "heading_collapsed": true
   },
   "source": [
    "## Appendix"
   ]
  },
  {
   "cell_type": "markdown",
   "metadata": {
    "heading_collapsed": true,
    "hidden": true
   },
   "source": [
    "### NA Handling Plan"
   ]
  },
  {
   "cell_type": "markdown",
   "metadata": {
    "heading_collapsed": true,
    "hidden": true
   },
   "source": [
    "#### Removal plan for 'Turnout'"
   ]
  },
  {
   "cell_type": "markdown",
   "metadata": {
    "hidden": true
   },
   "source": [
    "**1928:** MA: 36-39 [1,524,914], PA: 91-97 [3,026,864]\n",
    "\n",
    "**1930:** MA: 42-46 [1,207,011]\n",
    "\n",
    "**1932:** AR: 6-8 [33,980], CO: 16-18 [425,634], NC: 87-88 [706,440]\n",
    "\n",
    "**1934:** TN: 98-100 [308,274]\n",
    "\n",
    "**1936:** MA: 41-50 [1,803,674]\n",
    "\n",
    "**1942:** ID: 13-14 [142,342], RI: 73-74 [238,487] \n",
    "\n",
    "**1952:** MI: 34-39 [2,821,133]\n",
    "\n",
    "**1958:** NC: 59-60 [616,469]\n",
    "\n",
    "**1974:** IA: 45-47 [853,521]"
   ]
  },
  {
   "cell_type": "markdown",
   "metadata": {
    "hidden": true
   },
   "source": [
    "**1976**: UT: 102-103 [514,169]\n",
    "\n",
    "**1980**: OK: 83-87 [1,098,294]\n",
    "\n",
    "**1986**: KY: 45-46 [677,105]\n",
    "\n",
    "**1994**: HI: 20-22 [356,902]\n",
    "\n",
    "**1998**: Just drop the other rows\n",
    "\n",
    "**2000**: CT: 12-15 [1,311,261], MS: 61-65 [944,144], NJ: 80-90 [3,015,662], TN: 106-112 [1,928,613], TX: 113-116 [6,267,964], WV: 127-129 [603,477], WI: 130-135 [2,540,083] \n",
    "\n",
    "**2002**: AR: 7-8 [808,256], NH: 64-66 [444,542], NJ: 67-72 [2,112,604] \n",
    "\n",
    "**2004**: AR: 10-12 [1,039,439], CT: 24-27 [1,424,726]\n",
    "\n",
    "**2006**: Just drop the other rows\n",
    "\n",
    "**2012**: ME: 19-21 [693,787], MN: 34-36 [2,839,572]"
   ]
  },
  {
   "cell_type": "markdown",
   "metadata": {
    "hidden": true
   },
   "source": [
    "* **1928**: MA doesn't report here. PA maybe under 'Totals'\n",
    "* **1930**: MA doesn't report here.\n",
    "* **1932**: AR/CO/NC doesn't report here.\n",
    "* **1934**: TN doesn't report here.\n",
    "* **1936**: MA maybe under 'total'\n",
    "* **1942**: ID/RI doesn't report here.\n",
    "* **1952**: MI doesn't report here.\n",
    "* **1958**: NC doesn't report here.\n",
    "* **1974**: IA doesn't report here."
   ]
  },
  {
   "cell_type": "markdown",
   "metadata": {
    "hidden": true
   },
   "source": [
    "* **1976**: UT doesn't report here.\n",
    "* **1980**: OK doesn't report here.\n",
    "* **1986**: KY doesn't report here.\n",
    "* **1994**: Idx [3,4] need to be dropped. HI doesn't report here.\n",
    "* **1998**: Idx [18-22] need to be dropped.\n",
    "* **2000**: Idx [2-4] need to be dropped. CT/MS/NJ/TN/TX/WV/WI doesn't report here.\n",
    "* **2002**: AR/NH/NJ doesn't report here.\n",
    "* **2004**: AR/CT doesn't report here.\n",
    "* **2006**: Idx [3-6] & [103-107] need to be dropped. \n",
    "* **2012**: ME/MN doesn't report here."
   ]
  },
  {
   "cell_type": "markdown",
   "metadata": {
    "heading_collapsed": true,
    "hidden": true
   },
   "source": [
    "#### Removal plan for 'Candidate'"
   ]
  },
  {
   "cell_type": "markdown",
   "metadata": {
    "hidden": true
   },
   "source": [
    "Only in 1932:\n",
    "* **one** of these idx [30, 31, 32] needs to be changed to: \tDuncan U. Fletcher (Incumbent), Democratic, 1, Florida, 100%\n",
    "* The rest need to be dropped."
   ]
  },
  {
   "cell_type": "markdown",
   "metadata": {
    "heading_collapsed": true,
    "hidden": true
   },
   "source": [
    "#### %"
   ]
  },
  {
   "cell_type": "markdown",
   "metadata": {
    "hidden": true
   },
   "source": [
    "* **1932**: Taken care of in 'Candidate'\n",
    "* **1956**: Idx [68] needs to be changed to: 100%. Idx [69, 70] need to be dropped.\n",
    "* **2012**: Idx [25, 26, 52, 53, 54] needs to be (53.74, 46.19, 58.87, 39.37, 0.50) resp.\n",
    "* **2014**: Idx [91, 92, 93, 94] needs to be (48.82, 47.26, 3.74, 0.18) resp."
   ]
  },
  {
   "cell_type": "markdown",
   "metadata": {
    "heading_collapsed": true,
    "hidden": true
   },
   "source": [
    "#### State"
   ]
  },
  {
   "cell_type": "markdown",
   "metadata": {
    "hidden": true
   },
   "source": [
    "Just forward fill states after all other NAs have been filled or dropped."
   ]
  },
  {
   "cell_type": "markdown",
   "metadata": {
    "hidden": true
   },
   "source": [
    "**1924**: Idx [0-1] = 'Alabama'\n",
    "\n",
    "**1950**: Idx [0-1] = 'Alabama'\n",
    "\n",
    "**1960**: Idx [0-1] = 'Alabama'\n",
    "\n",
    "**1962**: Idx [0-1] = 'Alabama'\n",
    "\n",
    "**1966**: Idx [0-3] = 'Alabama'\n",
    "\n",
    "**1992**: Idx [0-3] = 'Alabama'; Idx [4-9] DROP"
   ]
  }
 ],
 "metadata": {
  "kernelspec": {
   "display_name": "Python 3",
   "language": "python",
   "name": "python3"
  },
  "language_info": {
   "codemirror_mode": {
    "name": "ipython",
    "version": 3
   },
   "file_extension": ".py",
   "mimetype": "text/x-python",
   "name": "python",
   "nbconvert_exporter": "python",
   "pygments_lexer": "ipython3",
   "version": "3.6.6"
  },
  "toc": {
   "base_numbering": 1,
   "nav_menu": {},
   "number_sections": true,
   "sideBar": true,
   "skip_h1_title": false,
   "title_cell": "Table of Contents",
   "title_sidebar": "Contents",
   "toc_cell": false,
   "toc_position": {},
   "toc_section_display": true,
   "toc_window_display": false
  },
  "varInspector": {
   "cols": {
    "lenName": 16,
    "lenType": 16,
    "lenVar": 40
   },
   "kernels_config": {
    "python": {
     "delete_cmd_postfix": "",
     "delete_cmd_prefix": "del ",
     "library": "var_list.py",
     "varRefreshCmd": "print(var_dic_list())"
    },
    "r": {
     "delete_cmd_postfix": ") ",
     "delete_cmd_prefix": "rm(",
     "library": "var_list.r",
     "varRefreshCmd": "cat(var_dic_list()) "
    }
   },
   "types_to_exclude": [
    "module",
    "function",
    "builtin_function_or_method",
    "instance",
    "_Feature"
   ],
   "window_display": false
  }
 },
 "nbformat": 4,
 "nbformat_minor": 2
}
